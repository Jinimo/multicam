{
 "cells": [
  {
   "cell_type": "code",
   "execution_count": null,
   "id": "962b7deb",
   "metadata": {
    "colab": {
     "background_save": true
    },
    "id": "b42191ae"
   },
   "outputs": [
    {
     "ename": "FileNotFoundError",
     "evalue": "ignored",
     "output_type": "error",
     "traceback": [
      "\u001b[0;31m---------------------------------------------------------------------------\u001b[0m",
      "\u001b[0;31mFileNotFoundError\u001b[0m                         Traceback (most recent call last)",
      "\u001b[0;32m<ipython-input-1-4e669db58703>\u001b[0m in \u001b[0;36m<module>\u001b[0;34m()\u001b[0m\n\u001b[1;32m      6\u001b[0m \u001b[0;34m\u001b[0m\u001b[0m\n\u001b[1;32m      7\u001b[0m \u001b[0;31m### 한글 표기\u001b[0m\u001b[0;34m\u001b[0m\u001b[0;34m\u001b[0m\u001b[0;34m\u001b[0m\u001b[0m\n\u001b[0;32m----> 8\u001b[0;31m \u001b[0mfont_name\u001b[0m\u001b[0;34m=\u001b[0m\u001b[0mfm\u001b[0m\u001b[0;34m.\u001b[0m\u001b[0mFontProperties\u001b[0m\u001b[0;34m(\u001b[0m\u001b[0mfname\u001b[0m\u001b[0;34m=\u001b[0m\u001b[0;34m\"C:/Windows/Fonts/malgun.ttf\"\u001b[0m\u001b[0;34m)\u001b[0m\u001b[0;34m.\u001b[0m\u001b[0mget_name\u001b[0m\u001b[0;34m(\u001b[0m\u001b[0;34m)\u001b[0m\u001b[0;34m\u001b[0m\u001b[0;34m\u001b[0m\u001b[0m\n\u001b[0m\u001b[1;32m      9\u001b[0m \u001b[0mplt\u001b[0m\u001b[0;34m.\u001b[0m\u001b[0mrc\u001b[0m\u001b[0;34m(\u001b[0m\u001b[0;34m'font'\u001b[0m\u001b[0;34m,\u001b[0m \u001b[0mfamily\u001b[0m\u001b[0;34m=\u001b[0m\u001b[0mfont_name\u001b[0m\u001b[0;34m)\u001b[0m\u001b[0;34m\u001b[0m\u001b[0;34m\u001b[0m\u001b[0m\n\u001b[1;32m     10\u001b[0m \u001b[0;34m\u001b[0m\u001b[0m\n",
      "\u001b[0;32m/usr/local/lib/python3.7/dist-packages/matplotlib/font_manager.py\u001b[0m in \u001b[0;36mget_name\u001b[0;34m(self)\u001b[0m\n\u001b[1;32m    687\u001b[0m         \u001b[0mReturn\u001b[0m \u001b[0mthe\u001b[0m \u001b[0mname\u001b[0m \u001b[0mof\u001b[0m \u001b[0mthe\u001b[0m \u001b[0mfont\u001b[0m \u001b[0mthat\u001b[0m \u001b[0mbest\u001b[0m \u001b[0mmatches\u001b[0m \u001b[0mthe\u001b[0m \u001b[0mfont\u001b[0m \u001b[0mproperties\u001b[0m\u001b[0;34m.\u001b[0m\u001b[0;34m\u001b[0m\u001b[0;34m\u001b[0m\u001b[0m\n\u001b[1;32m    688\u001b[0m         \"\"\"\n\u001b[0;32m--> 689\u001b[0;31m         \u001b[0;32mreturn\u001b[0m \u001b[0mget_font\u001b[0m\u001b[0;34m(\u001b[0m\u001b[0mfindfont\u001b[0m\u001b[0;34m(\u001b[0m\u001b[0mself\u001b[0m\u001b[0;34m)\u001b[0m\u001b[0;34m)\u001b[0m\u001b[0;34m.\u001b[0m\u001b[0mfamily_name\u001b[0m\u001b[0;34m\u001b[0m\u001b[0;34m\u001b[0m\u001b[0m\n\u001b[0m\u001b[1;32m    690\u001b[0m \u001b[0;34m\u001b[0m\u001b[0m\n\u001b[1;32m    691\u001b[0m     \u001b[0;32mdef\u001b[0m \u001b[0mget_style\u001b[0m\u001b[0;34m(\u001b[0m\u001b[0mself\u001b[0m\u001b[0;34m)\u001b[0m\u001b[0;34m:\u001b[0m\u001b[0;34m\u001b[0m\u001b[0;34m\u001b[0m\u001b[0m\n",
      "\u001b[0;32m/usr/local/lib/python3.7/dist-packages/matplotlib/font_manager.py\u001b[0m in \u001b[0;36mget_font\u001b[0;34m(filename, hinting_factor)\u001b[0m\n\u001b[1;32m   1327\u001b[0m         \u001b[0mhinting_factor\u001b[0m \u001b[0;34m=\u001b[0m \u001b[0mrcParams\u001b[0m\u001b[0;34m[\u001b[0m\u001b[0;34m'text.hinting_factor'\u001b[0m\u001b[0;34m]\u001b[0m\u001b[0;34m\u001b[0m\u001b[0;34m\u001b[0m\u001b[0m\n\u001b[1;32m   1328\u001b[0m     return _get_font(os.fspath(filename), hinting_factor,\n\u001b[0;32m-> 1329\u001b[0;31m                      _kerning_factor=rcParams['text.kerning_factor'])\n\u001b[0m\u001b[1;32m   1330\u001b[0m \u001b[0;34m\u001b[0m\u001b[0m\n\u001b[1;32m   1331\u001b[0m \u001b[0;34m\u001b[0m\u001b[0m\n",
      "\u001b[0;31mFileNotFoundError\u001b[0m: [Errno 2] No such file or directory: 'C:/Windows/Fonts/malgun.ttf'"
     ]
    }
   ],
   "source": [
    "import pandas as pd\n",
    "import matplotlib.pyplot as plt\n",
    "import os\n",
    "import matplotlib.font_manager as fm\n",
    "import csv\n",
    "\n",
    "### 한글 표기\n",
    "font_name=fm.FontProperties(fname=\"C:/Windows/Fonts/malgun.ttf\").get_name()\n",
    "plt.rc('font', family=font_name)\n",
    "\n",
    "def Csv_reset(fn):\n",
    "    ### csv 파일 전처리 함수\n",
    "    f = open('./subway/'+fn, encoding='utf-8')\n",
    "    data = csv.reader(f)\n",
    "    # \"사용일자\"', '노선명', '역명', '승차총승객수', '하차총승객수', '등록일자'\n",
    "\n",
    "    next(data)\n",
    "    data_lst = []\n",
    "    for row in data:\n",
    "        data_lst.append(row[:6])\n",
    "\n",
    "    df = pd.DataFrame(data_lst, columns=['사용일자', '노선명', '역명', '승차총승객수', '하차총승객수', '등록일자'])\n",
    "    df.to_csv('./subway/'+fn, encoding='cp949', index=False)\n",
    "    f.close()\n",
    "\n",
    "def file_read():\n",
    "    ### subway 폴더에 있는 모든 파일 하나로 만들기\n",
    "    filePath='./subway/'\n",
    "    fileName=os.listdir(filePath)  # subway 폴더의 모든 파일 및 하위 폴더 정보를 리스트형으로 가져와 저장\n",
    "\n",
    "    df1=pd.DataFrame()\n",
    "\n",
    "    for fn in fileName:\n",
    "        ### try ~ except : 예외처리 구문\n",
    "        #print(fn)\n",
    "        try:   # 정상코드 수행\n",
    "            df2=pd.read_csv(filePath+fn, encoding='cp949')\n",
    "        except: # try 구문에서 에러 발생시 처리하기 위한 구문\n",
    "            Csv_reset(fn)\n",
    "            df2 = pd.read_csv(filePath + fn, encoding='cp949')\n",
    "        # 데이터 한개의 파일로 만들기\n",
    "        df1=pd.concat([df1, df2])\n",
    "\n",
    "    df1=df1.reset_index(drop=True)\n",
    "\n",
    "    return df1\n",
    "\n",
    "def subway_sch1(dfdata, subway_name):\n",
    "    df2=dfdata[dfdata['역명']==subway_name]\n",
    "    #print(df2.info())\n",
    "    df2 = df2.astype({'승차총승객수': 'int64','사용일자':'str'})\n",
    "    df2.plot(x='사용일자', y='승차총승객수')\n",
    "    plt.show()\n",
    "\n",
    "def subway_sch2(dfdata, subway_name):\n",
    "    df2=dfdata[dfdata['역명']==subway_name]\n",
    "    #print(df2.info())\n",
    "    df2 = df2.astype({'승차총승객수': 'int64','사용일자':'str'})\n",
    "    df2=df2.groupby('사용일자')[['승차총승객수','하차총승객수']].sum()\n",
    "    df2.plot()\n",
    "    plt.show()\n",
    "\n",
    "\n",
    "### 사용자 함수 호출 부분\n",
    "df1=file_read()\n",
    "print(df1.head())\n",
    "print(df1.tail())\n",
    "\n",
    "print(df1.dtypes)\n",
    "\n",
    "subway_name=input('조회역 입력:')\n",
    "subway_sch(df1, subway_name)"
   ]
  },
  {
   "cell_type": "code",
   "execution_count": null,
   "id": "f3387629",
   "metadata": {
    "id": "4b6761f7"
   },
   "outputs": [],
   "source": []
  }
 ],
 "metadata": {
  "colab": {
   "name": "2. 서울시 승하차 데이터.ipynb",
   "version": ""
  },
  "kernelspec": {
   "display_name": "Python 3 (ipykernel)",
   "language": "python",
   "name": "python3"
  },
  "language_info": {
   "codemirror_mode": {
    "name": "ipython",
    "version": 3
   },
   "file_extension": ".py",
   "mimetype": "text/x-python",
   "name": "python",
   "nbconvert_exporter": "python",
   "pygments_lexer": "ipython3",
   "version": "3.9.7"
  }
 },
 "nbformat": 4,
 "nbformat_minor": 5
}
