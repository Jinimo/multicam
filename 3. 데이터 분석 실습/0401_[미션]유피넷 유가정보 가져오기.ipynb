{
 "cells": [
  {
   "cell_type": "markdown",
   "id": "78786543",
   "metadata": {},
   "source": [
    "# [미션] 0401 유가정보 셀레니움 \n",
    "- 오피넷 : https://www.opinet.co.kr/user/main/mainView.do\n",
    "- 참고 : https://muscleking3426.tistory.com/43\n"
   ]
  },
  {
   "cell_type": "code",
   "execution_count": 10,
   "id": "341d5cf7",
   "metadata": {},
   "outputs": [],
   "source": [
    "from selenium.webdriver import Chrome \n",
    "from selenium.webdriver.common.by import By\n",
    "\n",
    "\n",
    "import time\n",
    "from bs4 import BeautifulSoup as bs \n",
    "import pandas as pd"
   ]
  },
  {
   "cell_type": "code",
   "execution_count": 5,
   "id": "3c232975",
   "metadata": {},
   "outputs": [],
   "source": [
    "#! pip install selenium"
   ]
  },
  {
   "cell_type": "code",
   "execution_count": 205,
   "id": "c92e187f",
   "metadata": {},
   "outputs": [
    {
     "name": "stderr",
     "output_type": "stream",
     "text": [
      "/var/folders/3x/ck_8z3cd6r510s7t3t_g1nzm0000gn/T/ipykernel_15610/176644919.py:1: DeprecationWarning: executable_path has been deprecated, please pass in a Service object\n",
      "  driver = Chrome(\"/Users/hyunjinkim/Desktop/multi/chromedriver\")\n"
     ]
    }
   ],
   "source": [
    "driver = Chrome(\"/Users/hyunjinkim/Desktop/multi/chromedriver\")\n",
    "# URL (오피넷 > 싼주유소 찾기) \n",
    "url ='https://www.opinet.co.kr/searRgSelect.do'\n",
    "driver.get(url)\n",
    "time.sleep(2)\n",
    "driver.get(url) # 사이트 바로 안나와서 한번 더 해줌 \n",
    "\n",
    "# HTML\n",
    "html = driver.page_source\n",
    "# HTML bs\n",
    "soup = bs(html, \"html.parser\") #.text\n"
   ]
  },
  {
   "cell_type": "code",
   "execution_count": 206,
   "id": "c109dc2a",
   "metadata": {},
   "outputs": [
    {
     "name": "stdout",
     "output_type": "stream",
     "text": [
      "['서울특별시', '부산광역시', '대구광역시', '인천광역시', '광주광역시', '대전광역시', '울산광역시', '세종특별자치시', '경기도', '강원도', '충청북도', '충청남도', '전라북도', '전라남도', '경상북도', '경상남도', '제주특별자치도']\n"
     ]
    }
   ],
   "source": [
    "# 시/도 데이터 리스트로 뽑기\n",
    "\n",
    "tmp = driver.find_elements(By.CSS_SELECTOR, '#SIDO_NM0 > option ')\n",
    "\n",
    "#sidos = []\n",
    "#for option in tmp:\n",
    "#    if option.get_attribute('value'):\n",
    "#        sidos.append(option.get_attribute('value'))\n",
    "\n",
    "\n",
    "sidos = [option.get_attribute('value') for option in tmp if option.get_attribute('value') ]\n",
    "        \n",
    "print(sidos)\n",
    "    "
   ]
  },
  {
   "cell_type": "code",
   "execution_count": 48,
   "id": "556aa908",
   "metadata": {},
   "outputs": [
    {
     "name": "stdout",
     "output_type": "stream",
     "text": [
      "[]\n"
     ]
    }
   ],
   "source": [
    "# 시/군/구 데이터 리스트로 뽑기 ( 시/도 먼저 뽑아야 해당하는 시/군/구 데이터 뽑기 가능 )\n",
    "\n",
    "#tmp2 = driver.find_elements(By.CSS_SELECTOR, '#SIGUNGU_NM0 > option ')\n",
    "\n",
    "#sigungus = []\n",
    "#for option2 in tmp2:\n",
    "#    if option2.get_attribute('value'):\n",
    "#        sidos.append(option2.get_attribute('value'))\n",
    "\n",
    "\n",
    "#sigungus = [option.get_attribute('value') for option in tmp2 if option.get_attribute('value') ]\n",
    "        \n",
    "#print(sigungus)"
   ]
  },
  {
   "cell_type": "code",
   "execution_count": 239,
   "id": "cbf03a13",
   "metadata": {},
   "outputs": [],
   "source": [
    "# 서울시 시/군/구 데이터 뽑기\n",
    "#find = ['0:1', '1:2', '4:5',' 6:7' ]\n",
    "\n",
    "def sigungu_d(a):\n",
    "    for sido in sidos:\n",
    "        sido = sidos[a]\n",
    "        sido_sel =  driver.find_element(By.ID, 'SIDO_NM0')\n",
    "        sido_sel.send_keys(sido)\n",
    "        time.sleep(3)\n",
    "\n",
    "        ssgs = driver.find_elements(By.CSS_SELECTOR, '#SIGUNGU_NM0 > option ')\n",
    "        sigungus = [option.get_attribute('value') for option in ssgs if option.get_attribute('value') ]\n",
    "        \n",
    "        print(sigungus)\n",
    "        break\n",
    "    return sigungus\n",
    "        \n",
    "        \n",
    "    "
   ]
  },
  {
   "cell_type": "code",
   "execution_count": 167,
   "id": "e03e6f51",
   "metadata": {},
   "outputs": [
    {
     "name": "stdout",
     "output_type": "stream",
     "text": [
      "['서울특별시', '부산광역시', '대구광역시', '인천광역시', '광주광역시', '대전광역시', '울산광역시', '세종특별자치시', '경기도', '강원도', '충청북도', '충청남도', '전라북도', '전라남도', '경상북도', '경상남도', '제주특별자치도']\n"
     ]
    }
   ],
   "source": [
    "print(sidos)"
   ]
  },
  {
   "cell_type": "code",
   "execution_count": 242,
   "id": "f5e3a281",
   "metadata": {},
   "outputs": [
    {
     "name": "stdout",
     "output_type": "stream",
     "text": [
      "['강남구', '강동구', '강북구', '강서구', '관악구', '광진구', '구로구', '금천구', '노원구', '도봉구', '동대문구', '동작구', '마포구', '서대문구', '서초구', '성동구', '성북구', '송파구', '양천구', '영등포구', '용산구', '은평구', '종로구', '중구', '중랑구']\n",
      "['강서구', '금정구', '기장군', '남구', '동구', '동래구', '부산진구', '북구', '사상구', '사하구', '서구', '수영구', '연제구', '영도구', '중구', '해운대구']\n",
      "['대덕구', '동구', '서구', '유성구', '중구']\n",
      "['광산구', '남구', '동구', '북구', '서구']\n",
      "['강남구', '강동구', '강북구', '강서구', '관악구', '광진구', '구로구', '금천구', '노원구', '도봉구', '동대문구', '동작구', '마포구', '서대문구', '서초구', '성동구', '성북구', '송파구', '양천구', '영등포구', '용산구', '은평구', '종로구', '중구', '중랑구'] ['강서구', '금정구', '기장군', '남구', '동구', '동래구', '부산진구', '북구', '사상구', '사하구', '서구', '수영구', '연제구', '영도구', '중구', '해운대구'] ['대덕구', '동구', '서구', '유성구', '중구'] ['광산구', '남구', '동구', '북구', '서구']\n"
     ]
    }
   ],
   "source": [
    "서울 = sigungu_d(0)\n",
    "부산 = sigungu_d(1) \n",
    "대전 = sigungu_d(5)\n",
    "광주 = sigungu_d(4) \n",
    "\n",
    "print(서울,부산,대전,광주)\n"
   ]
  },
  {
   "cell_type": "code",
   "execution_count": 192,
   "id": "74e3e293",
   "metadata": {},
   "outputs": [
    {
     "name": "stdout",
     "output_type": "stream",
     "text": [
      "['강남구', '강동구', '강북구', '강서구', '관악구', '광진구', '구로구', '금천구', '노원구', '도봉구', '동대문구', '동작구', '마포구', '서대문구', '서초구', '성동구', '성북구', '송파구', '양천구', '영등포구', '용산구', '은평구', '종로구', '중구', '중랑구']\n"
     ]
    },
    {
     "data": {
      "text/plain": [
       "'강남구'"
      ]
     },
     "execution_count": 192,
     "metadata": {},
     "output_type": "execute_result"
    }
   ],
   "source": [
    "# 서울\n",
    "area = sigungu_d(0) \n",
    "\n",
    "for s in area:\n",
    "            sig_sel = driver.find_element_by_id('SIGUNGU_NM0')\n",
    "            sig_sel.send_keys( s )\n",
    "            time.sleep(2)\n",
    "            # 엑셀 파일 저장 \n",
    "            #driver.find_element(By.CSS_SELECTOR, '#glopopd_excel').click()\n",
    "            driver.find_element_by_id('glopopd_excel').click()\n",
    "            time.sleep(2)\n",
    "         "
   ]
  },
  {
   "cell_type": "code",
   "execution_count": 244,
   "id": "cfc0d5d9",
   "metadata": {},
   "outputs": [
    {
     "name": "stdout",
     "output_type": "stream",
     "text": [
      "['강서구', '금정구', '기장군', '남구', '동구', '동래구', '부산진구', '북구', '사상구', '사하구', '서구', '수영구', '연제구', '영도구', '중구', '해운대구']\n"
     ]
    },
    {
     "name": "stderr",
     "output_type": "stream",
     "text": [
      "/var/folders/3x/ck_8z3cd6r510s7t3t_g1nzm0000gn/T/ipykernel_15610/2940854900.py:6: DeprecationWarning: find_element_by_* commands are deprecated. Please use find_element() instead\n",
      "  sig_sel = driver.find_element_by_id('SIGUNGU_NM0')\n",
      "/var/folders/3x/ck_8z3cd6r510s7t3t_g1nzm0000gn/T/ipykernel_15610/2940854900.py:11: DeprecationWarning: find_element_by_* commands are deprecated. Please use find_element() instead\n",
      "  driver.find_element_by_id('glopopd_excel').click()\n"
     ]
    }
   ],
   "source": [
    "# 부산\n",
    "area = sigungu_d(1) \n",
    "\n",
    "for s in area:\n",
    "        sig_sel = driver.find_element_by_id('SIGUNGU_NM0')\n",
    "        sig_sel.send_keys( s )\n",
    "        time.sleep(2)\n",
    "        # 엑셀 파일 저장 \n",
    "        #driver.find_element(By.CSS_SELECTOR, '#glopopd_excel').click()\n",
    "        driver.find_element_by_id('glopopd_excel').click()\n",
    "        time.sleep(2)\n",
    "print('====END====:',len(area))\n"
   ]
  },
  {
   "cell_type": "code",
   "execution_count": 246,
   "id": "b5521d12",
   "metadata": {},
   "outputs": [
    {
     "name": "stdout",
     "output_type": "stream",
     "text": [
      "['광산구', '남구', '동구', '북구', '서구']\n"
     ]
    },
    {
     "name": "stderr",
     "output_type": "stream",
     "text": [
      "/var/folders/3x/ck_8z3cd6r510s7t3t_g1nzm0000gn/T/ipykernel_15610/1138916032.py:5: DeprecationWarning: find_element_by_* commands are deprecated. Please use find_element() instead\n",
      "  sig_sel = driver.find_element_by_id('SIGUNGU_NM0')\n",
      "/var/folders/3x/ck_8z3cd6r510s7t3t_g1nzm0000gn/T/ipykernel_15610/1138916032.py:10: DeprecationWarning: find_element_by_* commands are deprecated. Please use find_element() instead\n",
      "  driver.find_element_by_id('glopopd_excel').click()\n"
     ]
    },
    {
     "name": "stdout",
     "output_type": "stream",
     "text": [
      "====END====: 5\n"
     ]
    }
   ],
   "source": [
    "# \n",
    "area = sigungu_d(4) \n",
    "\n",
    "for s in area:\n",
    "        sig_sel = driver.find_element_by_id('SIGUNGU_NM0')\n",
    "        sig_sel.send_keys( s )\n",
    "        time.sleep(2)\n",
    "        # 엑셀 파일 저장 \n",
    "        #driver.find_element(By.CSS_SELECTOR, '#glopopd_excel').click()\n",
    "        driver.find_element_by_id('glopopd_excel').click()\n",
    "        time.sleep(2)\n",
    "print('====END====:',len(area))\n",
    "        "
   ]
  },
  {
   "cell_type": "code",
   "execution_count": 247,
   "id": "562dd49a",
   "metadata": {},
   "outputs": [
    {
     "name": "stdout",
     "output_type": "stream",
     "text": [
      "['대덕구', '동구', '서구', '유성구', '중구']\n"
     ]
    },
    {
     "name": "stderr",
     "output_type": "stream",
     "text": [
      "/var/folders/3x/ck_8z3cd6r510s7t3t_g1nzm0000gn/T/ipykernel_15610/2931394484.py:5: DeprecationWarning: find_element_by_* commands are deprecated. Please use find_element() instead\n",
      "  sig_sel = driver.find_element_by_id('SIGUNGU_NM0')\n",
      "/var/folders/3x/ck_8z3cd6r510s7t3t_g1nzm0000gn/T/ipykernel_15610/2931394484.py:10: DeprecationWarning: find_element_by_* commands are deprecated. Please use find_element() instead\n",
      "  driver.find_element_by_id('glopopd_excel').click()\n"
     ]
    },
    {
     "name": "stdout",
     "output_type": "stream",
     "text": [
      "====END====: 5\n"
     ]
    }
   ],
   "source": [
    "# \n",
    "area = sigungu_d(5) \n",
    "\n",
    "for s in area:\n",
    "        sig_sel = driver.find_element_by_id('SIGUNGU_NM0')\n",
    "        sig_sel.send_keys( s )\n",
    "        time.sleep(2)\n",
    "        # 엑셀 파일 저장 \n",
    "        #driver.find_element(By.CSS_SELECTOR, '#glopopd_excel').click()\n",
    "        driver.find_element_by_id('glopopd_excel').click()\n",
    "        time.sleep(2)\n",
    "print('====END====:',len(area))       "
   ]
  },
  {
   "cell_type": "code",
   "execution_count": 250,
   "id": "f533590f",
   "metadata": {},
   "outputs": [],
   "source": [
    "# 서울(0) : 1~26\n",
    "# 부산(1) : \n",
    "# 대전(5) : \n",
    "# 광주(4) : "
   ]
  },
  {
   "cell_type": "code",
   "execution_count": 248,
   "id": "7535b56c",
   "metadata": {},
   "outputs": [],
   "source": [
    "#마무리\n",
    "time.sleep(10)\n",
    "driver.close()\n",
    "driver.quit()"
   ]
  },
  {
   "cell_type": "code",
   "execution_count": null,
   "id": "5be4bd47",
   "metadata": {},
   "outputs": [],
   "source": []
  },
  {
   "cell_type": "code",
   "execution_count": null,
   "id": "265d75cc",
   "metadata": {},
   "outputs": [],
   "source": []
  }
 ],
 "metadata": {
  "kernelspec": {
   "display_name": "Python 3 (ipykernel)",
   "language": "python",
   "name": "python3"
  },
  "language_info": {
   "codemirror_mode": {
    "name": "ipython",
    "version": 3
   },
   "file_extension": ".py",
   "mimetype": "text/x-python",
   "name": "python",
   "nbconvert_exporter": "python",
   "pygments_lexer": "ipython3",
   "version": "3.9.7"
  }
 },
 "nbformat": 4,
 "nbformat_minor": 5
}
