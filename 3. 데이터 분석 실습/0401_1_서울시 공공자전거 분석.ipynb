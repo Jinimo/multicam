{
 "cells": [
  {
   "cell_type": "markdown",
   "id": "a9ca43f3",
   "metadata": {
    "id": "a9ca43f3"
   },
   "source": [
    "## 서울시 공공자전거 데이터 구조 확인"
   ]
  },
  {
   "cell_type": "code",
   "execution_count": 1,
   "id": "47201598",
   "metadata": {
    "id": "47201598"
   },
   "outputs": [],
   "source": [
    "#!pip install seaborn"
   ]
  },
  {
   "cell_type": "code",
   "execution_count": 2,
   "id": "0116e042",
   "metadata": {
    "id": "0116e042"
   },
   "outputs": [],
   "source": [
    "import warnings\n",
    "warnings.filterwarnings(\"ignore\")\n",
    "\n",
    "import pandas as pd\n",
    "import platform\n",
    "import numpy as np\n",
    "import matplotlib.pyplot as plt\n",
    "import seaborn as sns"
   ]
  },
  {
   "cell_type": "markdown",
   "id": "d51bacff",
   "metadata": {
    "id": "d51bacff"
   },
   "source": [
    "# 1. 데이터 불러오기\n",
    "- \"서울특별시 공공자전거 이용정보(시간대별)_21.01.csv\" 파일 불러오기: df_b 변수 저장\n",
    "- \"서울시 대여소 정보(21.12월 기준).csv\" 파일 불러오기: df_l 변수 저장\n",
    "- 각 데이터 정보 확인(행/열/데이터 형식)"
   ]
  },
  {
   "cell_type": "code",
   "execution_count": 3,
   "id": "84446a04",
   "metadata": {
    "id": "84446a04",
    "outputId": "b543ad4d-9745-4b19-cefb-3f6539d0bb02"
   },
   "outputs": [
    {
     "name": "stdout",
     "output_type": "stream",
     "text": [
      "<class 'pandas.core.frame.DataFrame'>\n",
      "RangeIndex: 718857 entries, 0 to 718856\n",
      "Data columns (total 12 columns):\n",
      " #   Column  Non-Null Count   Dtype  \n",
      "---  ------  --------------   -----  \n",
      " 0   대여일자    718857 non-null  object \n",
      " 1   대여시간    718857 non-null  int64  \n",
      " 2   대여소번호   718857 non-null  int64  \n",
      " 3   대여소명    718857 non-null  object \n",
      " 4   대여구분코드  718857 non-null  object \n",
      " 5   성별      401235 non-null  object \n",
      " 6   연령대코드   718857 non-null  object \n",
      " 7   이용건수    718857 non-null  int64  \n",
      " 8   운동량     718857 non-null  object \n",
      " 9   탄소량     718857 non-null  object \n",
      " 10  이동거리    718857 non-null  float64\n",
      " 11  사용시간    718857 non-null  int64  \n",
      "dtypes: float64(1), int64(4), object(7)\n",
      "memory usage: 65.8+ MB\n",
      "None \n",
      "\n",
      "<class 'pandas.core.frame.DataFrame'>\n",
      "RangeIndex: 2590 entries, 0 to 2589\n",
      "Data columns (total 10 columns):\n",
      " #   Column      Non-Null Count  Dtype  \n",
      "---  ------      --------------  -----  \n",
      " 0   대여소\n",
      "번호      2586 non-null   float64\n",
      " 1   보관소(대여소)명   2586 non-null   object \n",
      " 2   소재지(위치)     2587 non-null   object \n",
      " 3   Unnamed: 3  2587 non-null   object \n",
      " 4   Unnamed: 4  2587 non-null   object \n",
      " 5   Unnamed: 5  2587 non-null   object \n",
      " 6   설치\n",
      "시기       2586 non-null   object \n",
      " 7   설치형태        1402 non-null   object \n",
      " 8   Unnamed: 8  1189 non-null   object \n",
      " 9   운영\n",
      "방식       2586 non-null   object \n",
      "dtypes: float64(1), object(9)\n",
      "memory usage: 202.5+ KB\n",
      "None\n"
     ]
    }
   ],
   "source": [
    "fname1 = \"c:/pydata/seoul_time/서울특별시 공공자전거 이용정보(시간대별)_21.01.csv\"\n",
    "fname2 = \"c:/pydata/서울시 대여소 정보(21.12월 기준).csv\"\n",
    "\n",
    "# 이용정보 불러오기\n",
    "df_b = pd.read_csv(fname1, encoding='cp949')\n",
    "print(df_b.info(), \"\\n\")\n",
    "\n",
    "# 대여소정보 불러오기\n",
    "df_l = pd.read_csv(fname2, encoding='cp949')\n",
    "print(df_l.info())"
   ]
  },
  {
   "cell_type": "markdown",
   "id": "32c965ee",
   "metadata": {
    "id": "32c965ee"
   },
   "source": [
    "## 2. 대여소 정보 전처리"
   ]
  },
  {
   "cell_type": "code",
   "execution_count": 4,
   "id": "c944b387",
   "metadata": {
    "id": "c944b387",
    "outputId": "24a22040-9aa1-4b4d-f11e-cd818d244543"
   },
   "outputs": [
    {
     "data": {
      "text/html": [
       "<div>\n",
       "<style scoped>\n",
       "    .dataframe tbody tr th:only-of-type {\n",
       "        vertical-align: middle;\n",
       "    }\n",
       "\n",
       "    .dataframe tbody tr th {\n",
       "        vertical-align: top;\n",
       "    }\n",
       "\n",
       "    .dataframe thead th {\n",
       "        text-align: right;\n",
       "    }\n",
       "</style>\n",
       "<table border=\"1\" class=\"dataframe\">\n",
       "  <thead>\n",
       "    <tr style=\"text-align: right;\">\n",
       "      <th></th>\n",
       "      <th>대여소\\n번호</th>\n",
       "      <th>보관소(대여소)명</th>\n",
       "      <th>소재지(위치)</th>\n",
       "      <th>Unnamed: 3</th>\n",
       "      <th>Unnamed: 4</th>\n",
       "      <th>Unnamed: 5</th>\n",
       "      <th>설치\\n시기</th>\n",
       "      <th>설치형태</th>\n",
       "      <th>Unnamed: 8</th>\n",
       "      <th>운영\\n방식</th>\n",
       "    </tr>\n",
       "  </thead>\n",
       "  <tbody>\n",
       "    <tr>\n",
       "      <th>0</th>\n",
       "      <td>NaN</td>\n",
       "      <td>NaN</td>\n",
       "      <td>NaN</td>\n",
       "      <td>NaN</td>\n",
       "      <td>NaN</td>\n",
       "      <td>NaN</td>\n",
       "      <td>NaN</td>\n",
       "      <td>LCD</td>\n",
       "      <td>QR</td>\n",
       "      <td>NaN</td>\n",
       "    </tr>\n",
       "    <tr>\n",
       "      <th>1</th>\n",
       "      <td>NaN</td>\n",
       "      <td>NaN</td>\n",
       "      <td>자치구</td>\n",
       "      <td>상세주소</td>\n",
       "      <td>위도</td>\n",
       "      <td>경도</td>\n",
       "      <td>NaN</td>\n",
       "      <td>NaN</td>\n",
       "      <td>NaN</td>\n",
       "      <td>NaN</td>\n",
       "    </tr>\n",
       "    <tr>\n",
       "      <th>2</th>\n",
       "      <td>NaN</td>\n",
       "      <td>NaN</td>\n",
       "      <td>NaN</td>\n",
       "      <td>NaN</td>\n",
       "      <td>NaN</td>\n",
       "      <td>NaN</td>\n",
       "      <td>NaN</td>\n",
       "      <td>거치\\n대수</td>\n",
       "      <td>거치\\n대수</td>\n",
       "      <td>NaN</td>\n",
       "    </tr>\n",
       "    <tr>\n",
       "      <th>3</th>\n",
       "      <td>NaN</td>\n",
       "      <td>NaN</td>\n",
       "      <td>NaN</td>\n",
       "      <td>NaN</td>\n",
       "      <td>NaN</td>\n",
       "      <td>NaN</td>\n",
       "      <td>NaN</td>\n",
       "      <td>NaN</td>\n",
       "      <td>NaN</td>\n",
       "      <td>NaN</td>\n",
       "    </tr>\n",
       "    <tr>\n",
       "      <th>4</th>\n",
       "      <td>102.0</td>\n",
       "      <td>망원역 1번출구 앞</td>\n",
       "      <td>마포구</td>\n",
       "      <td>서울특별시 마포구 월드컵로 72</td>\n",
       "      <td>37.5556488</td>\n",
       "      <td>126.9106293</td>\n",
       "      <td>2015-09-06</td>\n",
       "      <td>20</td>\n",
       "      <td>NaN</td>\n",
       "      <td>LCD</td>\n",
       "    </tr>\n",
       "  </tbody>\n",
       "</table>\n",
       "</div>"
      ],
      "text/plain": [
       "   대여소\\n번호   보관소(대여소)명 소재지(위치)         Unnamed: 3  Unnamed: 4   Unnamed: 5  \\\n",
       "0      NaN         NaN     NaN                NaN         NaN          NaN   \n",
       "1      NaN         NaN     자치구               상세주소          위도           경도   \n",
       "2      NaN         NaN     NaN                NaN         NaN          NaN   \n",
       "3      NaN         NaN     NaN                NaN         NaN          NaN   \n",
       "4    102.0  망원역 1번출구 앞     마포구  서울특별시 마포구 월드컵로 72  37.5556488  126.9106293   \n",
       "\n",
       "       설치\\n시기    설치형태 Unnamed: 8 운영\\n방식  \n",
       "0         NaN     LCD         QR    NaN  \n",
       "1         NaN     NaN        NaN    NaN  \n",
       "2         NaN  거치\\n대수     거치\\n대수    NaN  \n",
       "3         NaN     NaN        NaN    NaN  \n",
       "4  2015-09-06      20        NaN    LCD  "
      ]
     },
     "metadata": {},
     "output_type": "display_data"
    }
   ],
   "source": [
    "# df_l 데이터 샘플 5개 보기\n",
    "display(df_l.head())"
   ]
  },
  {
   "cell_type": "code",
   "execution_count": 5,
   "id": "10edc84e",
   "metadata": {
    "id": "10edc84e",
    "outputId": "315bfd18-373f-48e0-c841-76aa348fff12",
    "scrolled": true
   },
   "outputs": [
    {
     "data": {
      "text/html": [
       "<div>\n",
       "<style scoped>\n",
       "    .dataframe tbody tr th:only-of-type {\n",
       "        vertical-align: middle;\n",
       "    }\n",
       "\n",
       "    .dataframe tbody tr th {\n",
       "        vertical-align: top;\n",
       "    }\n",
       "\n",
       "    .dataframe thead th {\n",
       "        text-align: right;\n",
       "    }\n",
       "</style>\n",
       "<table border=\"1\" class=\"dataframe\">\n",
       "  <thead>\n",
       "    <tr style=\"text-align: right;\">\n",
       "      <th></th>\n",
       "      <th>대여소번호</th>\n",
       "      <th>대여소명</th>\n",
       "      <th>소재지(자치구)</th>\n",
       "      <th>상세주소</th>\n",
       "      <th>위도</th>\n",
       "      <th>경도</th>\n",
       "      <th>설치시기</th>\n",
       "      <th>설치형태(LCD)</th>\n",
       "      <th>설치형태(QR)</th>\n",
       "      <th>운영방식</th>\n",
       "    </tr>\n",
       "  </thead>\n",
       "  <tbody>\n",
       "    <tr>\n",
       "      <th>0</th>\n",
       "      <td>NaN</td>\n",
       "      <td>NaN</td>\n",
       "      <td>NaN</td>\n",
       "      <td>NaN</td>\n",
       "      <td>NaN</td>\n",
       "      <td>NaN</td>\n",
       "      <td>NaN</td>\n",
       "      <td>LCD</td>\n",
       "      <td>QR</td>\n",
       "      <td>NaN</td>\n",
       "    </tr>\n",
       "    <tr>\n",
       "      <th>1</th>\n",
       "      <td>NaN</td>\n",
       "      <td>NaN</td>\n",
       "      <td>자치구</td>\n",
       "      <td>상세주소</td>\n",
       "      <td>위도</td>\n",
       "      <td>경도</td>\n",
       "      <td>NaN</td>\n",
       "      <td>NaN</td>\n",
       "      <td>NaN</td>\n",
       "      <td>NaN</td>\n",
       "    </tr>\n",
       "    <tr>\n",
       "      <th>2</th>\n",
       "      <td>NaN</td>\n",
       "      <td>NaN</td>\n",
       "      <td>NaN</td>\n",
       "      <td>NaN</td>\n",
       "      <td>NaN</td>\n",
       "      <td>NaN</td>\n",
       "      <td>NaN</td>\n",
       "      <td>거치\\n대수</td>\n",
       "      <td>거치\\n대수</td>\n",
       "      <td>NaN</td>\n",
       "    </tr>\n",
       "    <tr>\n",
       "      <th>3</th>\n",
       "      <td>NaN</td>\n",
       "      <td>NaN</td>\n",
       "      <td>NaN</td>\n",
       "      <td>NaN</td>\n",
       "      <td>NaN</td>\n",
       "      <td>NaN</td>\n",
       "      <td>NaN</td>\n",
       "      <td>NaN</td>\n",
       "      <td>NaN</td>\n",
       "      <td>NaN</td>\n",
       "    </tr>\n",
       "    <tr>\n",
       "      <th>4</th>\n",
       "      <td>102.0</td>\n",
       "      <td>망원역 1번출구 앞</td>\n",
       "      <td>마포구</td>\n",
       "      <td>서울특별시 마포구 월드컵로 72</td>\n",
       "      <td>37.5556488</td>\n",
       "      <td>126.9106293</td>\n",
       "      <td>2015-09-06</td>\n",
       "      <td>20</td>\n",
       "      <td>NaN</td>\n",
       "      <td>LCD</td>\n",
       "    </tr>\n",
       "  </tbody>\n",
       "</table>\n",
       "</div>"
      ],
      "text/plain": [
       "   대여소번호        대여소명 소재지(자치구)               상세주소          위도           경도  \\\n",
       "0    NaN         NaN      NaN                NaN         NaN          NaN   \n",
       "1    NaN         NaN      자치구               상세주소          위도           경도   \n",
       "2    NaN         NaN      NaN                NaN         NaN          NaN   \n",
       "3    NaN         NaN      NaN                NaN         NaN          NaN   \n",
       "4  102.0  망원역 1번출구 앞      마포구  서울특별시 마포구 월드컵로 72  37.5556488  126.9106293   \n",
       "\n",
       "         설치시기 설치형태(LCD) 설치형태(QR) 운영방식  \n",
       "0         NaN       LCD       QR  NaN  \n",
       "1         NaN       NaN      NaN  NaN  \n",
       "2         NaN    거치\\n대수   거치\\n대수  NaN  \n",
       "3         NaN       NaN      NaN  NaN  \n",
       "4  2015-09-06        20      NaN  LCD  "
      ]
     },
     "metadata": {},
     "output_type": "display_data"
    }
   ],
   "source": [
    "# df_l 열 이름 정의\n",
    "df_l.columns=['대여소번호','대여소명', '소재지(자치구)', '상세주소', '위도', '경도',\n",
    "              '설치시기', '설치형태(LCD)', '설치형태(QR)', '운영방식']\n",
    "display(df_l.head())"
   ]
  },
  {
   "cell_type": "code",
   "execution_count": 6,
   "id": "f73b31e1",
   "metadata": {
    "id": "f73b31e1",
    "outputId": "7acba272-201f-430f-c980-6e737817723d"
   },
   "outputs": [
    {
     "data": {
      "text/html": [
       "<div>\n",
       "<style scoped>\n",
       "    .dataframe tbody tr th:only-of-type {\n",
       "        vertical-align: middle;\n",
       "    }\n",
       "\n",
       "    .dataframe tbody tr th {\n",
       "        vertical-align: top;\n",
       "    }\n",
       "\n",
       "    .dataframe thead th {\n",
       "        text-align: right;\n",
       "    }\n",
       "</style>\n",
       "<table border=\"1\" class=\"dataframe\">\n",
       "  <thead>\n",
       "    <tr style=\"text-align: right;\">\n",
       "      <th></th>\n",
       "      <th>대여소번호</th>\n",
       "      <th>대여소명</th>\n",
       "      <th>소재지(자치구)</th>\n",
       "      <th>상세주소</th>\n",
       "      <th>위도</th>\n",
       "      <th>경도</th>\n",
       "      <th>설치시기</th>\n",
       "      <th>설치형태(LCD)</th>\n",
       "      <th>설치형태(QR)</th>\n",
       "      <th>운영방식</th>\n",
       "    </tr>\n",
       "  </thead>\n",
       "  <tbody>\n",
       "    <tr>\n",
       "      <th>1</th>\n",
       "      <td>NaN</td>\n",
       "      <td>NaN</td>\n",
       "      <td>자치구</td>\n",
       "      <td>상세주소</td>\n",
       "      <td>위도</td>\n",
       "      <td>경도</td>\n",
       "      <td>NaN</td>\n",
       "      <td>NaN</td>\n",
       "      <td>NaN</td>\n",
       "      <td>NaN</td>\n",
       "    </tr>\n",
       "    <tr>\n",
       "      <th>2</th>\n",
       "      <td>NaN</td>\n",
       "      <td>NaN</td>\n",
       "      <td>NaN</td>\n",
       "      <td>NaN</td>\n",
       "      <td>NaN</td>\n",
       "      <td>NaN</td>\n",
       "      <td>NaN</td>\n",
       "      <td>거치\\n대수</td>\n",
       "      <td>거치\\n대수</td>\n",
       "      <td>NaN</td>\n",
       "    </tr>\n",
       "    <tr>\n",
       "      <th>3</th>\n",
       "      <td>NaN</td>\n",
       "      <td>NaN</td>\n",
       "      <td>NaN</td>\n",
       "      <td>NaN</td>\n",
       "      <td>NaN</td>\n",
       "      <td>NaN</td>\n",
       "      <td>NaN</td>\n",
       "      <td>NaN</td>\n",
       "      <td>NaN</td>\n",
       "      <td>NaN</td>\n",
       "    </tr>\n",
       "    <tr>\n",
       "      <th>4</th>\n",
       "      <td>102.0</td>\n",
       "      <td>망원역 1번출구 앞</td>\n",
       "      <td>마포구</td>\n",
       "      <td>서울특별시 마포구 월드컵로 72</td>\n",
       "      <td>37.5556488</td>\n",
       "      <td>126.9106293</td>\n",
       "      <td>2015-09-06</td>\n",
       "      <td>20</td>\n",
       "      <td>NaN</td>\n",
       "      <td>LCD</td>\n",
       "    </tr>\n",
       "    <tr>\n",
       "      <th>5</th>\n",
       "      <td>103.0</td>\n",
       "      <td>망원역 2번출구 앞</td>\n",
       "      <td>마포구</td>\n",
       "      <td>서울특별시 마포구 월드컵로 79</td>\n",
       "      <td>37.55495071</td>\n",
       "      <td>126.9108353</td>\n",
       "      <td>2015-09-06</td>\n",
       "      <td>14</td>\n",
       "      <td>NaN</td>\n",
       "      <td>LCD</td>\n",
       "    </tr>\n",
       "  </tbody>\n",
       "</table>\n",
       "</div>"
      ],
      "text/plain": [
       "   대여소번호        대여소명 소재지(자치구)               상세주소           위도           경도  \\\n",
       "1    NaN         NaN      자치구               상세주소           위도           경도   \n",
       "2    NaN         NaN      NaN                NaN          NaN          NaN   \n",
       "3    NaN         NaN      NaN                NaN          NaN          NaN   \n",
       "4  102.0  망원역 1번출구 앞      마포구  서울특별시 마포구 월드컵로 72   37.5556488  126.9106293   \n",
       "5  103.0  망원역 2번출구 앞      마포구  서울특별시 마포구 월드컵로 79  37.55495071  126.9108353   \n",
       "\n",
       "         설치시기 설치형태(LCD) 설치형태(QR) 운영방식  \n",
       "1         NaN       NaN      NaN  NaN  \n",
       "2         NaN    거치\\n대수   거치\\n대수  NaN  \n",
       "3         NaN       NaN      NaN  NaN  \n",
       "4  2015-09-06        20      NaN  LCD  \n",
       "5  2015-09-06        14      NaN  LCD  "
      ]
     },
     "metadata": {},
     "output_type": "display_data"
    }
   ],
   "source": [
    "# df_1의 데이터 index 값을 이용해 행 제거\n",
    "df_l.drop(0, inplace=True)\n",
    "display(df_l.head())"
   ]
  },
  {
   "cell_type": "code",
   "execution_count": 7,
   "id": "2dcbeee9",
   "metadata": {
    "id": "2dcbeee9",
    "outputId": "0995aa85-1671-4313-8945-8b1c31ac4c3b"
   },
   "outputs": [
    {
     "data": {
      "text/html": [
       "<div>\n",
       "<style scoped>\n",
       "    .dataframe tbody tr th:only-of-type {\n",
       "        vertical-align: middle;\n",
       "    }\n",
       "\n",
       "    .dataframe tbody tr th {\n",
       "        vertical-align: top;\n",
       "    }\n",
       "\n",
       "    .dataframe thead th {\n",
       "        text-align: right;\n",
       "    }\n",
       "</style>\n",
       "<table border=\"1\" class=\"dataframe\">\n",
       "  <thead>\n",
       "    <tr style=\"text-align: right;\">\n",
       "      <th></th>\n",
       "      <th>대여소번호</th>\n",
       "      <th>대여소명</th>\n",
       "      <th>소재지(자치구)</th>\n",
       "      <th>상세주소</th>\n",
       "      <th>위도</th>\n",
       "      <th>경도</th>\n",
       "      <th>설치시기</th>\n",
       "      <th>설치형태(LCD)</th>\n",
       "      <th>설치형태(QR)</th>\n",
       "      <th>운영방식</th>\n",
       "    </tr>\n",
       "  </thead>\n",
       "  <tbody>\n",
       "    <tr>\n",
       "      <th>4</th>\n",
       "      <td>102.0</td>\n",
       "      <td>망원역 1번출구 앞</td>\n",
       "      <td>마포구</td>\n",
       "      <td>서울특별시 마포구 월드컵로 72</td>\n",
       "      <td>37.5556488</td>\n",
       "      <td>126.9106293</td>\n",
       "      <td>2015-09-06</td>\n",
       "      <td>20</td>\n",
       "      <td>NaN</td>\n",
       "      <td>LCD</td>\n",
       "    </tr>\n",
       "    <tr>\n",
       "      <th>5</th>\n",
       "      <td>103.0</td>\n",
       "      <td>망원역 2번출구 앞</td>\n",
       "      <td>마포구</td>\n",
       "      <td>서울특별시 마포구 월드컵로 79</td>\n",
       "      <td>37.55495071</td>\n",
       "      <td>126.9108353</td>\n",
       "      <td>2015-09-06</td>\n",
       "      <td>14</td>\n",
       "      <td>NaN</td>\n",
       "      <td>LCD</td>\n",
       "    </tr>\n",
       "    <tr>\n",
       "      <th>6</th>\n",
       "      <td>104.0</td>\n",
       "      <td>합정역 1번출구 앞</td>\n",
       "      <td>마포구</td>\n",
       "      <td>서울특별시 마포구 양화로 59</td>\n",
       "      <td>37.55062866</td>\n",
       "      <td>126.9149857</td>\n",
       "      <td>2015-09-06</td>\n",
       "      <td>13</td>\n",
       "      <td>NaN</td>\n",
       "      <td>LCD</td>\n",
       "    </tr>\n",
       "    <tr>\n",
       "      <th>7</th>\n",
       "      <td>105.0</td>\n",
       "      <td>합정역 5번출구 앞</td>\n",
       "      <td>마포구</td>\n",
       "      <td>서울특별시 마포구 양화로 48</td>\n",
       "      <td>37.55000687</td>\n",
       "      <td>126.9148254</td>\n",
       "      <td>2015-09-06</td>\n",
       "      <td>5</td>\n",
       "      <td>NaN</td>\n",
       "      <td>LCD</td>\n",
       "    </tr>\n",
       "    <tr>\n",
       "      <th>8</th>\n",
       "      <td>106.0</td>\n",
       "      <td>합정역 7번출구 앞</td>\n",
       "      <td>마포구</td>\n",
       "      <td>서울특별시 마포구 독막로 4</td>\n",
       "      <td>37.54864502</td>\n",
       "      <td>126.9128265</td>\n",
       "      <td>2015-09-06</td>\n",
       "      <td>10</td>\n",
       "      <td>NaN</td>\n",
       "      <td>LCD</td>\n",
       "    </tr>\n",
       "  </tbody>\n",
       "</table>\n",
       "</div>"
      ],
      "text/plain": [
       "   대여소번호        대여소명 소재지(자치구)               상세주소           위도           경도  \\\n",
       "4  102.0  망원역 1번출구 앞      마포구  서울특별시 마포구 월드컵로 72   37.5556488  126.9106293   \n",
       "5  103.0  망원역 2번출구 앞      마포구  서울특별시 마포구 월드컵로 79  37.55495071  126.9108353   \n",
       "6  104.0  합정역 1번출구 앞      마포구   서울특별시 마포구 양화로 59  37.55062866  126.9149857   \n",
       "7  105.0  합정역 5번출구 앞      마포구   서울특별시 마포구 양화로 48  37.55000687  126.9148254   \n",
       "8  106.0  합정역 7번출구 앞      마포구    서울특별시 마포구 독막로 4  37.54864502  126.9128265   \n",
       "\n",
       "         설치시기 설치형태(LCD) 설치형태(QR) 운영방식  \n",
       "4  2015-09-06        20      NaN  LCD  \n",
       "5  2015-09-06        14      NaN  LCD  \n",
       "6  2015-09-06        13      NaN  LCD  \n",
       "7  2015-09-06         5      NaN  LCD  \n",
       "8  2015-09-06        10      NaN  LCD  "
      ]
     },
     "metadata": {},
     "output_type": "display_data"
    }
   ],
   "source": [
    "df_l.drop([1, 2, 3], inplace=True)\n",
    "display(df_l.head())"
   ]
  },
  {
   "cell_type": "code",
   "execution_count": 8,
   "id": "0a5abb12",
   "metadata": {
    "id": "0a5abb12",
    "outputId": "bdf0ef38-fbdf-44f4-c86d-11b514741956"
   },
   "outputs": [
    {
     "data": {
      "text/html": [
       "<div>\n",
       "<style scoped>\n",
       "    .dataframe tbody tr th:only-of-type {\n",
       "        vertical-align: middle;\n",
       "    }\n",
       "\n",
       "    .dataframe tbody tr th {\n",
       "        vertical-align: top;\n",
       "    }\n",
       "\n",
       "    .dataframe thead th {\n",
       "        text-align: right;\n",
       "    }\n",
       "</style>\n",
       "<table border=\"1\" class=\"dataframe\">\n",
       "  <thead>\n",
       "    <tr style=\"text-align: right;\">\n",
       "      <th></th>\n",
       "      <th>대여소번호</th>\n",
       "      <th>대여소명</th>\n",
       "      <th>소재지(자치구)</th>\n",
       "      <th>상세주소</th>\n",
       "      <th>위도</th>\n",
       "      <th>경도</th>\n",
       "      <th>설치시기</th>\n",
       "      <th>설치형태(LCD)</th>\n",
       "      <th>설치형태(QR)</th>\n",
       "      <th>운영방식</th>\n",
       "    </tr>\n",
       "  </thead>\n",
       "  <tbody>\n",
       "    <tr>\n",
       "      <th>0</th>\n",
       "      <td>102.0</td>\n",
       "      <td>망원역 1번출구 앞</td>\n",
       "      <td>마포구</td>\n",
       "      <td>서울특별시 마포구 월드컵로 72</td>\n",
       "      <td>37.5556488</td>\n",
       "      <td>126.9106293</td>\n",
       "      <td>2015-09-06</td>\n",
       "      <td>20</td>\n",
       "      <td>NaN</td>\n",
       "      <td>LCD</td>\n",
       "    </tr>\n",
       "    <tr>\n",
       "      <th>1</th>\n",
       "      <td>103.0</td>\n",
       "      <td>망원역 2번출구 앞</td>\n",
       "      <td>마포구</td>\n",
       "      <td>서울특별시 마포구 월드컵로 79</td>\n",
       "      <td>37.55495071</td>\n",
       "      <td>126.9108353</td>\n",
       "      <td>2015-09-06</td>\n",
       "      <td>14</td>\n",
       "      <td>NaN</td>\n",
       "      <td>LCD</td>\n",
       "    </tr>\n",
       "    <tr>\n",
       "      <th>2</th>\n",
       "      <td>104.0</td>\n",
       "      <td>합정역 1번출구 앞</td>\n",
       "      <td>마포구</td>\n",
       "      <td>서울특별시 마포구 양화로 59</td>\n",
       "      <td>37.55062866</td>\n",
       "      <td>126.9149857</td>\n",
       "      <td>2015-09-06</td>\n",
       "      <td>13</td>\n",
       "      <td>NaN</td>\n",
       "      <td>LCD</td>\n",
       "    </tr>\n",
       "  </tbody>\n",
       "</table>\n",
       "</div>"
      ],
      "text/plain": [
       "   대여소번호        대여소명 소재지(자치구)               상세주소           위도           경도  \\\n",
       "0  102.0  망원역 1번출구 앞      마포구  서울특별시 마포구 월드컵로 72   37.5556488  126.9106293   \n",
       "1  103.0  망원역 2번출구 앞      마포구  서울특별시 마포구 월드컵로 79  37.55495071  126.9108353   \n",
       "2  104.0  합정역 1번출구 앞      마포구   서울특별시 마포구 양화로 59  37.55062866  126.9149857   \n",
       "\n",
       "         설치시기 설치형태(LCD) 설치형태(QR) 운영방식  \n",
       "0  2015-09-06        20      NaN  LCD  \n",
       "1  2015-09-06        14      NaN  LCD  \n",
       "2  2015-09-06        13      NaN  LCD  "
      ]
     },
     "metadata": {},
     "output_type": "display_data"
    }
   ],
   "source": [
    "# df_l.index 재설정\n",
    "df_l.reset_index(drop=True, inplace=True)\n",
    "display(df_l.head(3))"
   ]
  },
  {
   "cell_type": "code",
   "execution_count": 9,
   "id": "0e70b46c",
   "metadata": {
    "id": "0e70b46c",
    "outputId": "aade317c-974b-4c7b-9d58-84e731750f1b"
   },
   "outputs": [
    {
     "name": "stdout",
     "output_type": "stream",
     "text": [
      "<class 'pandas.core.frame.DataFrame'>\n",
      "RangeIndex: 2586 entries, 0 to 2585\n",
      "Data columns (total 10 columns):\n",
      " #   Column     Non-Null Count  Dtype  \n",
      "---  ------     --------------  -----  \n",
      " 0   대여소번호      2586 non-null   float64\n",
      " 1   대여소명       2586 non-null   object \n",
      " 2   소재지(자치구)   2586 non-null   object \n",
      " 3   상세주소       2586 non-null   object \n",
      " 4   위도         2586 non-null   object \n",
      " 5   경도         2586 non-null   object \n",
      " 6   설치시기       2586 non-null   object \n",
      " 7   설치형태(LCD)  1400 non-null   object \n",
      " 8   설치형태(QR)   1187 non-null   object \n",
      " 9   운영방식       2586 non-null   object \n",
      "dtypes: float64(1), object(9)\n",
      "memory usage: 202.2+ KB\n",
      "None\n"
     ]
    }
   ],
   "source": [
    "print(df_l.info())"
   ]
  },
  {
   "cell_type": "markdown",
   "id": "0ebd1f96",
   "metadata": {
    "id": "0ebd1f96"
   },
   "source": [
    "#### df_l에서 NaN 값 제거하기"
   ]
  },
  {
   "cell_type": "code",
   "execution_count": 10,
   "id": "2c37b560",
   "metadata": {
    "id": "2c37b560",
    "outputId": "bde1657f-5d78-4097-918c-5424e0dc1783"
   },
   "outputs": [
    {
     "name": "stdout",
     "output_type": "stream",
     "text": [
      "대여소번호           0\n",
      "대여소명            0\n",
      "소재지(자치구)        0\n",
      "상세주소            0\n",
      "위도              0\n",
      "경도              0\n",
      "설치시기            0\n",
      "설치형태(LCD)    1186\n",
      "설치형태(QR)     1399\n",
      "운영방식            0\n",
      "dtype: int64\n"
     ]
    }
   ],
   "source": [
    "# 필드(열)별 NaN 갯수 확인\n",
    "print(df_l.isna().sum())"
   ]
  },
  {
   "cell_type": "code",
   "execution_count": 11,
   "id": "802207f9",
   "metadata": {
    "id": "802207f9",
    "outputId": "be4ef3c5-66bc-40ff-b924-731caf510ec5"
   },
   "outputs": [
    {
     "name": "stdout",
     "output_type": "stream",
     "text": [
      "대여소번호        0\n",
      "대여소명         0\n",
      "소재지(자치구)     0\n",
      "상세주소         0\n",
      "위도           0\n",
      "경도           0\n",
      "설치시기         0\n",
      "설치형태(LCD)    0\n",
      "설치형태(QR)     0\n",
      "운영방식         0\n",
      "dtype: int64\n"
     ]
    }
   ],
   "source": [
    "# 모든 nan 값 0으로 변경하기\n",
    "df_l.fillna(0, inplace=True)\n",
    "print(df_l.isna().sum())"
   ]
  },
  {
   "cell_type": "code",
   "execution_count": 12,
   "id": "13cdc6ea",
   "metadata": {
    "id": "13cdc6ea",
    "outputId": "c4a39012-0375-4577-c4b5-e0580fbff9ba"
   },
   "outputs": [
    {
     "name": "stdout",
     "output_type": "stream",
     "text": [
      "대여소번호        float64\n",
      "대여소명          object\n",
      "소재지(자치구)      object\n",
      "상세주소          object\n",
      "위도            object\n",
      "경도            object\n",
      "설치시기          object\n",
      "설치형태(LCD)     object\n",
      "설치형태(QR)      object\n",
      "운영방식          object\n",
      "dtype: object\n"
     ]
    }
   ],
   "source": [
    "# df_l 데이터 형식 확인\n",
    "print(df_l.dtypes)"
   ]
  },
  {
   "cell_type": "code",
   "execution_count": 13,
   "id": "1037d554",
   "metadata": {
    "id": "1037d554",
    "outputId": "95cb1866-78bd-4b4c-932a-e33a988adc22"
   },
   "outputs": [
    {
     "name": "stdout",
     "output_type": "stream",
     "text": [
      "대여소번호          int32\n",
      "대여소명          object\n",
      "소재지(자치구)      object\n",
      "상세주소          object\n",
      "위도           float64\n",
      "경도           float64\n",
      "설치시기          object\n",
      "설치형태(LCD)      int64\n",
      "설치형태(QR)       int64\n",
      "운영방식          object\n",
      "dtype: object\n"
     ]
    }
   ],
   "source": [
    "# 데이터형 변경하기(대여소번호/설치형태(LCD/OR):int, 위도/경도:float)\n",
    "df_l=df_l.astype({'대여소번호':int, \"설치형태(LCD)\":\"int64\", \"설치형태(QR)\":\"int64\", \n",
    "             \"위도\":float, \"경도\":float}) # inplace=True\n",
    "print(df_l.dtypes)"
   ]
  },
  {
   "cell_type": "code",
   "execution_count": 14,
   "id": "a1b1491d",
   "metadata": {
    "id": "a1b1491d",
    "outputId": "f216cdd0-d547-4c18-da48-89d8cc16dacc"
   },
   "outputs": [
    {
     "data": {
      "text/html": [
       "<div>\n",
       "<style scoped>\n",
       "    .dataframe tbody tr th:only-of-type {\n",
       "        vertical-align: middle;\n",
       "    }\n",
       "\n",
       "    .dataframe tbody tr th {\n",
       "        vertical-align: top;\n",
       "    }\n",
       "\n",
       "    .dataframe thead th {\n",
       "        text-align: right;\n",
       "    }\n",
       "</style>\n",
       "<table border=\"1\" class=\"dataframe\">\n",
       "  <thead>\n",
       "    <tr style=\"text-align: right;\">\n",
       "      <th></th>\n",
       "      <th>대여소번호</th>\n",
       "      <th>대여소명</th>\n",
       "      <th>소재지(자치구)</th>\n",
       "      <th>상세주소</th>\n",
       "      <th>위도</th>\n",
       "      <th>경도</th>\n",
       "      <th>설치시기</th>\n",
       "      <th>설치형태(LCD)</th>\n",
       "      <th>설치형태(QR)</th>\n",
       "      <th>운영방식</th>\n",
       "      <th>거치대수</th>\n",
       "    </tr>\n",
       "  </thead>\n",
       "  <tbody>\n",
       "    <tr>\n",
       "      <th>0</th>\n",
       "      <td>102</td>\n",
       "      <td>망원역 1번출구 앞</td>\n",
       "      <td>마포구</td>\n",
       "      <td>서울특별시 마포구 월드컵로 72</td>\n",
       "      <td>37.555649</td>\n",
       "      <td>126.910629</td>\n",
       "      <td>2015-09-06</td>\n",
       "      <td>20</td>\n",
       "      <td>0</td>\n",
       "      <td>LCD</td>\n",
       "      <td>20</td>\n",
       "    </tr>\n",
       "    <tr>\n",
       "      <th>1</th>\n",
       "      <td>103</td>\n",
       "      <td>망원역 2번출구 앞</td>\n",
       "      <td>마포구</td>\n",
       "      <td>서울특별시 마포구 월드컵로 79</td>\n",
       "      <td>37.554951</td>\n",
       "      <td>126.910835</td>\n",
       "      <td>2015-09-06</td>\n",
       "      <td>14</td>\n",
       "      <td>0</td>\n",
       "      <td>LCD</td>\n",
       "      <td>14</td>\n",
       "    </tr>\n",
       "    <tr>\n",
       "      <th>2</th>\n",
       "      <td>104</td>\n",
       "      <td>합정역 1번출구 앞</td>\n",
       "      <td>마포구</td>\n",
       "      <td>서울특별시 마포구 양화로 59</td>\n",
       "      <td>37.550629</td>\n",
       "      <td>126.914986</td>\n",
       "      <td>2015-09-06</td>\n",
       "      <td>13</td>\n",
       "      <td>0</td>\n",
       "      <td>LCD</td>\n",
       "      <td>13</td>\n",
       "    </tr>\n",
       "  </tbody>\n",
       "</table>\n",
       "</div>"
      ],
      "text/plain": [
       "   대여소번호        대여소명 소재지(자치구)               상세주소         위도          경도  \\\n",
       "0    102  망원역 1번출구 앞      마포구  서울특별시 마포구 월드컵로 72  37.555649  126.910629   \n",
       "1    103  망원역 2번출구 앞      마포구  서울특별시 마포구 월드컵로 79  37.554951  126.910835   \n",
       "2    104  합정역 1번출구 앞      마포구   서울특별시 마포구 양화로 59  37.550629  126.914986   \n",
       "\n",
       "         설치시기  설치형태(LCD)  설치형태(QR) 운영방식  거치대수  \n",
       "0  2015-09-06         20         0  LCD    20  \n",
       "1  2015-09-06         14         0  LCD    14  \n",
       "2  2015-09-06         13         0  LCD    13  "
      ]
     },
     "metadata": {},
     "output_type": "display_data"
    }
   ],
   "source": [
    "# '거치대수' 열 추가: LCD + QR\n",
    "df_l['거치대수'] = df_l['설치형태(LCD)'] + df_l['설치형태(QR)']\n",
    "display(df_l.head(3))"
   ]
  },
  {
   "cell_type": "code",
   "execution_count": 15,
   "id": "4c21a5de",
   "metadata": {
    "id": "4c21a5de"
   },
   "outputs": [],
   "source": [
    "# del 명령을 이용해 \"설치형태(LCD)\" 삭제(즉시 적용)\n",
    "del df_l['설치형태(LCD)']"
   ]
  },
  {
   "cell_type": "code",
   "execution_count": 16,
   "id": "36cdb102",
   "metadata": {
    "id": "36cdb102"
   },
   "outputs": [],
   "source": [
    "# drop 함수를 이용해 설치형태(QR)\" 삭제\n",
    "df_l.drop([\"설치형태(QR)\"], axis=1, inplace=True)"
   ]
  },
  {
   "cell_type": "code",
   "execution_count": 17,
   "id": "0d77f8de",
   "metadata": {
    "id": "0d77f8de",
    "outputId": "fb962d75-d343-45e9-be4e-9d99ae0b2304"
   },
   "outputs": [
    {
     "data": {
      "text/plain": [
       "Index(['대여소번호', '대여소명', '소재지(자치구)', '상세주소', '위도', '경도', '설치시기', '운영방식',\n",
       "       '거치대수'],\n",
       "      dtype='object')"
      ]
     },
     "execution_count": 17,
     "metadata": {},
     "output_type": "execute_result"
    }
   ],
   "source": [
    "df_l.columns"
   ]
  },
  {
   "cell_type": "code",
   "execution_count": 18,
   "id": "35d9819f",
   "metadata": {
    "id": "35d9819f",
    "outputId": "2c443172-5811-4752-abb0-9e07b3051602"
   },
   "outputs": [
    {
     "data": {
      "text/html": [
       "<div>\n",
       "<style scoped>\n",
       "    .dataframe tbody tr th:only-of-type {\n",
       "        vertical-align: middle;\n",
       "    }\n",
       "\n",
       "    .dataframe tbody tr th {\n",
       "        vertical-align: top;\n",
       "    }\n",
       "\n",
       "    .dataframe thead th {\n",
       "        text-align: right;\n",
       "    }\n",
       "</style>\n",
       "<table border=\"1\" class=\"dataframe\">\n",
       "  <thead>\n",
       "    <tr style=\"text-align: right;\">\n",
       "      <th></th>\n",
       "      <th>설치시기</th>\n",
       "      <th>대여소번호</th>\n",
       "      <th>소재지(자치구)</th>\n",
       "      <th>대여소명</th>\n",
       "      <th>상세주소</th>\n",
       "      <th>운영방식</th>\n",
       "      <th>거치대수</th>\n",
       "      <th>상세주소</th>\n",
       "      <th>위도</th>\n",
       "      <th>경도</th>\n",
       "    </tr>\n",
       "  </thead>\n",
       "  <tbody>\n",
       "    <tr>\n",
       "      <th>0</th>\n",
       "      <td>2015-09-06</td>\n",
       "      <td>102</td>\n",
       "      <td>마포구</td>\n",
       "      <td>망원역 1번출구 앞</td>\n",
       "      <td>서울특별시 마포구 월드컵로 72</td>\n",
       "      <td>LCD</td>\n",
       "      <td>20</td>\n",
       "      <td>서울특별시 마포구 월드컵로 72</td>\n",
       "      <td>37.555649</td>\n",
       "      <td>126.910629</td>\n",
       "    </tr>\n",
       "    <tr>\n",
       "      <th>1</th>\n",
       "      <td>2015-09-06</td>\n",
       "      <td>103</td>\n",
       "      <td>마포구</td>\n",
       "      <td>망원역 2번출구 앞</td>\n",
       "      <td>서울특별시 마포구 월드컵로 79</td>\n",
       "      <td>LCD</td>\n",
       "      <td>14</td>\n",
       "      <td>서울특별시 마포구 월드컵로 79</td>\n",
       "      <td>37.554951</td>\n",
       "      <td>126.910835</td>\n",
       "    </tr>\n",
       "    <tr>\n",
       "      <th>2</th>\n",
       "      <td>2015-09-06</td>\n",
       "      <td>104</td>\n",
       "      <td>마포구</td>\n",
       "      <td>합정역 1번출구 앞</td>\n",
       "      <td>서울특별시 마포구 양화로 59</td>\n",
       "      <td>LCD</td>\n",
       "      <td>13</td>\n",
       "      <td>서울특별시 마포구 양화로 59</td>\n",
       "      <td>37.550629</td>\n",
       "      <td>126.914986</td>\n",
       "    </tr>\n",
       "  </tbody>\n",
       "</table>\n",
       "</div>"
      ],
      "text/plain": [
       "         설치시기  대여소번호 소재지(자치구)        대여소명               상세주소 운영방식  거치대수  \\\n",
       "0  2015-09-06    102      마포구  망원역 1번출구 앞  서울특별시 마포구 월드컵로 72  LCD    20   \n",
       "1  2015-09-06    103      마포구  망원역 2번출구 앞  서울특별시 마포구 월드컵로 79  LCD    14   \n",
       "2  2015-09-06    104      마포구  합정역 1번출구 앞   서울특별시 마포구 양화로 59  LCD    13   \n",
       "\n",
       "                상세주소         위도          경도  \n",
       "0  서울특별시 마포구 월드컵로 72  37.555649  126.910629  \n",
       "1  서울특별시 마포구 월드컵로 79  37.554951  126.910835  \n",
       "2   서울특별시 마포구 양화로 59  37.550629  126.914986  "
      ]
     },
     "metadata": {},
     "output_type": "display_data"
    }
   ],
   "source": [
    "# df_l에서 열 순서 변경/필요한 열만 출력할때\n",
    "\n",
    "# df_l=df_l[['설치시기','대여소번호', '소재지(자치구)', '대여소명','운영방식',\n",
    "#           '거치대수', '상세주소', '위도', '경도',]]\n",
    "\n",
    "df_l=df_l.iloc[:, [6, 0, 2, 1, 3, 7, 8, 3, 4, 5]]\n",
    "display(df_l.head(3))"
   ]
  },
  {
   "cell_type": "markdown",
   "id": "1d594ead",
   "metadata": {
    "id": "1d594ead"
   },
   "source": [
    "## 3. 1윌 대여정보 전처리(df_b)"
   ]
  },
  {
   "cell_type": "code",
   "execution_count": 19,
   "id": "38437940",
   "metadata": {
    "id": "38437940",
    "outputId": "8007dac6-1476-44d4-dc17-516bd9e0d5de"
   },
   "outputs": [
    {
     "name": "stdout",
     "output_type": "stream",
     "text": [
      "<class 'pandas.core.frame.DataFrame'>\n",
      "RangeIndex: 718857 entries, 0 to 718856\n",
      "Data columns (total 12 columns):\n",
      " #   Column  Non-Null Count   Dtype  \n",
      "---  ------  --------------   -----  \n",
      " 0   대여일자    718857 non-null  object \n",
      " 1   대여시간    718857 non-null  int64  \n",
      " 2   대여소번호   718857 non-null  int64  \n",
      " 3   대여소명    718857 non-null  object \n",
      " 4   대여구분코드  718857 non-null  object \n",
      " 5   성별      401235 non-null  object \n",
      " 6   연령대코드   718857 non-null  object \n",
      " 7   이용건수    718857 non-null  int64  \n",
      " 8   운동량     718857 non-null  object \n",
      " 9   탄소량     718857 non-null  object \n",
      " 10  이동거리    718857 non-null  float64\n",
      " 11  사용시간    718857 non-null  int64  \n",
      "dtypes: float64(1), int64(4), object(7)\n",
      "memory usage: 65.8+ MB\n",
      "None\n"
     ]
    }
   ],
   "source": [
    "# 데이터 정보 확인\n",
    "print(df_b.info())"
   ]
  },
  {
   "cell_type": "code",
   "execution_count": 20,
   "id": "0e29a45f",
   "metadata": {
    "id": "0e29a45f",
    "outputId": "93d62603-82c1-4fd0-d1e6-ace5f68e64f3"
   },
   "outputs": [
    {
     "data": {
      "text/html": [
       "<div>\n",
       "<style scoped>\n",
       "    .dataframe tbody tr th:only-of-type {\n",
       "        vertical-align: middle;\n",
       "    }\n",
       "\n",
       "    .dataframe tbody tr th {\n",
       "        vertical-align: top;\n",
       "    }\n",
       "\n",
       "    .dataframe thead th {\n",
       "        text-align: right;\n",
       "    }\n",
       "</style>\n",
       "<table border=\"1\" class=\"dataframe\">\n",
       "  <thead>\n",
       "    <tr style=\"text-align: right;\">\n",
       "      <th></th>\n",
       "      <th>대여일자</th>\n",
       "      <th>대여시간</th>\n",
       "      <th>대여소번호</th>\n",
       "      <th>대여소명</th>\n",
       "      <th>대여구분코드</th>\n",
       "      <th>성별</th>\n",
       "      <th>연령대코드</th>\n",
       "      <th>이용건수</th>\n",
       "      <th>운동량</th>\n",
       "      <th>탄소량</th>\n",
       "      <th>이동거리</th>\n",
       "      <th>사용시간</th>\n",
       "    </tr>\n",
       "  </thead>\n",
       "  <tbody>\n",
       "    <tr>\n",
       "      <th>0</th>\n",
       "      <td>2021-01-01</td>\n",
       "      <td>0</td>\n",
       "      <td>1347</td>\n",
       "      <td>1347. 길음래미안아파트817동 상가 앞</td>\n",
       "      <td>정기권</td>\n",
       "      <td>NaN</td>\n",
       "      <td>~10대</td>\n",
       "      <td>2</td>\n",
       "      <td>28.90</td>\n",
       "      <td>0.23</td>\n",
       "      <td>992.78</td>\n",
       "      <td>13</td>\n",
       "    </tr>\n",
       "    <tr>\n",
       "      <th>1</th>\n",
       "      <td>2021-01-01</td>\n",
       "      <td>0</td>\n",
       "      <td>1349</td>\n",
       "      <td>1349. 월계2교 버스정류장 앞</td>\n",
       "      <td>정기권</td>\n",
       "      <td>NaN</td>\n",
       "      <td>~10대</td>\n",
       "      <td>1</td>\n",
       "      <td>34.38</td>\n",
       "      <td>0.26</td>\n",
       "      <td>1127.50</td>\n",
       "      <td>10</td>\n",
       "    </tr>\n",
       "    <tr>\n",
       "      <th>2</th>\n",
       "      <td>2021-01-01</td>\n",
       "      <td>0</td>\n",
       "      <td>1168</td>\n",
       "      <td>1168. 마곡엠밸리10단지 앞</td>\n",
       "      <td>정기권</td>\n",
       "      <td>NaN</td>\n",
       "      <td>~10대</td>\n",
       "      <td>1</td>\n",
       "      <td>0.00</td>\n",
       "      <td>0.00</td>\n",
       "      <td>0.00</td>\n",
       "      <td>7</td>\n",
       "    </tr>\n",
       "  </tbody>\n",
       "</table>\n",
       "</div>"
      ],
      "text/plain": [
       "         대여일자  대여시간  대여소번호                     대여소명 대여구분코드   성별 연령대코드  이용건수  \\\n",
       "0  2021-01-01     0   1347  1347. 길음래미안아파트817동 상가 앞    정기권  NaN  ~10대     2   \n",
       "1  2021-01-01     0   1349       1349. 월계2교 버스정류장 앞    정기권  NaN  ~10대     1   \n",
       "2  2021-01-01     0   1168        1168. 마곡엠밸리10단지 앞    정기권  NaN  ~10대     1   \n",
       "\n",
       "     운동량   탄소량     이동거리  사용시간  \n",
       "0  28.90  0.23   992.78    13  \n",
       "1  34.38  0.26  1127.50    10  \n",
       "2   0.00  0.00     0.00     7  "
      ]
     },
     "metadata": {},
     "output_type": "display_data"
    },
    {
     "name": "stdout",
     "output_type": "stream",
     "text": [
      "\n"
     ]
    },
    {
     "data": {
      "text/html": [
       "<div>\n",
       "<style scoped>\n",
       "    .dataframe tbody tr th:only-of-type {\n",
       "        vertical-align: middle;\n",
       "    }\n",
       "\n",
       "    .dataframe tbody tr th {\n",
       "        vertical-align: top;\n",
       "    }\n",
       "\n",
       "    .dataframe thead th {\n",
       "        text-align: right;\n",
       "    }\n",
       "</style>\n",
       "<table border=\"1\" class=\"dataframe\">\n",
       "  <thead>\n",
       "    <tr style=\"text-align: right;\">\n",
       "      <th></th>\n",
       "      <th>대여일자</th>\n",
       "      <th>대여시간</th>\n",
       "      <th>대여소번호</th>\n",
       "      <th>대여소명</th>\n",
       "      <th>대여구분코드</th>\n",
       "      <th>성별</th>\n",
       "      <th>연령대코드</th>\n",
       "      <th>이용건수</th>\n",
       "      <th>운동량</th>\n",
       "      <th>탄소량</th>\n",
       "      <th>이동거리</th>\n",
       "      <th>사용시간</th>\n",
       "    </tr>\n",
       "  </thead>\n",
       "  <tbody>\n",
       "    <tr>\n",
       "      <th>718854</th>\n",
       "      <td>2021-01-31</td>\n",
       "      <td>23</td>\n",
       "      <td>248</td>\n",
       "      <td>248. 초원아파트 앞</td>\n",
       "      <td>단체권</td>\n",
       "      <td>NaN</td>\n",
       "      <td>20대</td>\n",
       "      <td>2</td>\n",
       "      <td>348.43</td>\n",
       "      <td>2.91</td>\n",
       "      <td>12569.64</td>\n",
       "      <td>90</td>\n",
       "    </tr>\n",
       "    <tr>\n",
       "      <th>718855</th>\n",
       "      <td>2021-01-31</td>\n",
       "      <td>23</td>\n",
       "      <td>131</td>\n",
       "      <td>131. 증산2교</td>\n",
       "      <td>단체권</td>\n",
       "      <td>NaN</td>\n",
       "      <td>20대</td>\n",
       "      <td>2</td>\n",
       "      <td>98.10</td>\n",
       "      <td>0.77</td>\n",
       "      <td>3302.87</td>\n",
       "      <td>20</td>\n",
       "    </tr>\n",
       "    <tr>\n",
       "      <th>718856</th>\n",
       "      <td>2021-01-31</td>\n",
       "      <td>23</td>\n",
       "      <td>247</td>\n",
       "      <td>247. 당산역 10번출구 앞</td>\n",
       "      <td>단체권</td>\n",
       "      <td>M</td>\n",
       "      <td>40대</td>\n",
       "      <td>1</td>\n",
       "      <td>223.71</td>\n",
       "      <td>2.02</td>\n",
       "      <td>8691.10</td>\n",
       "      <td>52</td>\n",
       "    </tr>\n",
       "  </tbody>\n",
       "</table>\n",
       "</div>"
      ],
      "text/plain": [
       "              대여일자  대여시간  대여소번호              대여소명 대여구분코드   성별 연령대코드  이용건수  \\\n",
       "718854  2021-01-31    23    248      248. 초원아파트 앞    단체권  NaN   20대     2   \n",
       "718855  2021-01-31    23    131         131. 증산2교    단체권  NaN   20대     2   \n",
       "718856  2021-01-31    23    247  247. 당산역 10번출구 앞    단체권    M   40대     1   \n",
       "\n",
       "           운동량   탄소량      이동거리  사용시간  \n",
       "718854  348.43  2.91  12569.64    90  \n",
       "718855   98.10  0.77   3302.87    20  \n",
       "718856  223.71  2.02   8691.10    52  "
      ]
     },
     "metadata": {},
     "output_type": "display_data"
    }
   ],
   "source": [
    "# 샘플 데이터 확인(위3, 아래3)\n",
    "display(df_b.head(3))\n",
    "print()\n",
    "display(df_b.tail(3))"
   ]
  },
  {
   "cell_type": "code",
   "execution_count": 21,
   "id": "ed73bb82",
   "metadata": {
    "id": "ed73bb82",
    "outputId": "1a18ecf5-ef1c-48d7-f5d0-a88cdf07a248"
   },
   "outputs": [
    {
     "data": {
      "text/html": [
       "<div>\n",
       "<style scoped>\n",
       "    .dataframe tbody tr th:only-of-type {\n",
       "        vertical-align: middle;\n",
       "    }\n",
       "\n",
       "    .dataframe tbody tr th {\n",
       "        vertical-align: top;\n",
       "    }\n",
       "\n",
       "    .dataframe thead th {\n",
       "        text-align: right;\n",
       "    }\n",
       "</style>\n",
       "<table border=\"1\" class=\"dataframe\">\n",
       "  <thead>\n",
       "    <tr style=\"text-align: right;\">\n",
       "      <th></th>\n",
       "      <th>대여일자</th>\n",
       "      <th>대여시간</th>\n",
       "      <th>대여소번호</th>\n",
       "      <th>대여소명</th>\n",
       "      <th>대여구분코드</th>\n",
       "      <th>대여자성별</th>\n",
       "      <th>연령대코드</th>\n",
       "      <th>이용건수</th>\n",
       "      <th>운동량</th>\n",
       "      <th>탄소량</th>\n",
       "      <th>이동거리</th>\n",
       "      <th>사용시간</th>\n",
       "    </tr>\n",
       "  </thead>\n",
       "  <tbody>\n",
       "    <tr>\n",
       "      <th>0</th>\n",
       "      <td>2021-01-01</td>\n",
       "      <td>0</td>\n",
       "      <td>1347</td>\n",
       "      <td>1347. 길음래미안아파트817동 상가 앞</td>\n",
       "      <td>정기권</td>\n",
       "      <td>NaN</td>\n",
       "      <td>~10대</td>\n",
       "      <td>2</td>\n",
       "      <td>28.90</td>\n",
       "      <td>0.23</td>\n",
       "      <td>992.78</td>\n",
       "      <td>13</td>\n",
       "    </tr>\n",
       "    <tr>\n",
       "      <th>1</th>\n",
       "      <td>2021-01-01</td>\n",
       "      <td>0</td>\n",
       "      <td>1349</td>\n",
       "      <td>1349. 월계2교 버스정류장 앞</td>\n",
       "      <td>정기권</td>\n",
       "      <td>NaN</td>\n",
       "      <td>~10대</td>\n",
       "      <td>1</td>\n",
       "      <td>34.38</td>\n",
       "      <td>0.26</td>\n",
       "      <td>1127.50</td>\n",
       "      <td>10</td>\n",
       "    </tr>\n",
       "    <tr>\n",
       "      <th>2</th>\n",
       "      <td>2021-01-01</td>\n",
       "      <td>0</td>\n",
       "      <td>1168</td>\n",
       "      <td>1168. 마곡엠밸리10단지 앞</td>\n",
       "      <td>정기권</td>\n",
       "      <td>NaN</td>\n",
       "      <td>~10대</td>\n",
       "      <td>1</td>\n",
       "      <td>0.00</td>\n",
       "      <td>0.00</td>\n",
       "      <td>0.00</td>\n",
       "      <td>7</td>\n",
       "    </tr>\n",
       "  </tbody>\n",
       "</table>\n",
       "</div>"
      ],
      "text/plain": [
       "         대여일자  대여시간  대여소번호                     대여소명 대여구분코드 대여자성별 연령대코드  이용건수  \\\n",
       "0  2021-01-01     0   1347  1347. 길음래미안아파트817동 상가 앞    정기권   NaN  ~10대     2   \n",
       "1  2021-01-01     0   1349       1349. 월계2교 버스정류장 앞    정기권   NaN  ~10대     1   \n",
       "2  2021-01-01     0   1168        1168. 마곡엠밸리10단지 앞    정기권   NaN  ~10대     1   \n",
       "\n",
       "     운동량   탄소량     이동거리  사용시간  \n",
       "0  28.90  0.23   992.78    13  \n",
       "1  34.38  0.26  1127.50    10  \n",
       "2   0.00  0.00     0.00     7  "
      ]
     },
     "metadata": {},
     "output_type": "display_data"
    }
   ],
   "source": [
    "# \"성별\" 열 이름을 \"대여자성별\"로 변경\n",
    "# df_b.rename(columns={\"성별\":\"대여자성별\"}, inplace=True)\n",
    "df_b.rename(columns={df_b.columns[5]:'대여자성별'}, inplace=True)  # 추천\n",
    "display(df_b.head(3))"
   ]
  },
  {
   "cell_type": "code",
   "execution_count": 22,
   "id": "2fa49c20",
   "metadata": {
    "id": "2fa49c20",
    "outputId": "b758911e-fcc0-41a9-c1e6-089a4fdc502f"
   },
   "outputs": [
    {
     "name": "stdout",
     "output_type": "stream",
     "text": [
      "대여일자       object\n",
      "대여시간        int64\n",
      "대여소번호       int64\n",
      "대여소명       object\n",
      "대여구분코드     object\n",
      "대여자성별      object\n",
      "연령대코드      object\n",
      "이용건수        int64\n",
      "운동량        object\n",
      "탄소량        object\n",
      "이동거리      float64\n",
      "사용시간        int64\n",
      "dtype: object\n"
     ]
    }
   ],
   "source": [
    "# 데이터 타입 확인 및 변경\n",
    "print(df_b.dtypes)"
   ]
  },
  {
   "cell_type": "code",
   "execution_count": 23,
   "id": "67f721a6",
   "metadata": {
    "id": "67f721a6",
    "outputId": "4491b54d-a156-4237-ba6d-c8e23bd5bdc0"
   },
   "outputs": [
    {
     "name": "stdout",
     "output_type": "stream",
     "text": [
      "['28.90' '34.38' '0.00' ... '509.20' '916.66' '492.87']\n"
     ]
    },
    {
     "data": {
      "text/html": [
       "<div>\n",
       "<style scoped>\n",
       "    .dataframe tbody tr th:only-of-type {\n",
       "        vertical-align: middle;\n",
       "    }\n",
       "\n",
       "    .dataframe tbody tr th {\n",
       "        vertical-align: top;\n",
       "    }\n",
       "\n",
       "    .dataframe thead th {\n",
       "        text-align: right;\n",
       "    }\n",
       "</style>\n",
       "<table border=\"1\" class=\"dataframe\">\n",
       "  <thead>\n",
       "    <tr style=\"text-align: right;\">\n",
       "      <th></th>\n",
       "      <th>대여일자</th>\n",
       "      <th>대여시간</th>\n",
       "      <th>대여소번호</th>\n",
       "      <th>대여소명</th>\n",
       "      <th>대여구분코드</th>\n",
       "      <th>대여자성별</th>\n",
       "      <th>연령대코드</th>\n",
       "      <th>이용건수</th>\n",
       "      <th>운동량</th>\n",
       "      <th>탄소량</th>\n",
       "      <th>이동거리</th>\n",
       "      <th>사용시간</th>\n",
       "    </tr>\n",
       "  </thead>\n",
       "  <tbody>\n",
       "    <tr>\n",
       "      <th>57</th>\n",
       "      <td>2021-01-01</td>\n",
       "      <td>0</td>\n",
       "      <td>1946</td>\n",
       "      <td>1946. 구로역 광장</td>\n",
       "      <td>정기권</td>\n",
       "      <td>NaN</td>\n",
       "      <td>20대</td>\n",
       "      <td>1</td>\n",
       "      <td>\\N</td>\n",
       "      <td>\\N</td>\n",
       "      <td>0.0</td>\n",
       "      <td>60</td>\n",
       "    </tr>\n",
       "    <tr>\n",
       "      <th>78</th>\n",
       "      <td>2021-01-01</td>\n",
       "      <td>0</td>\n",
       "      <td>4117</td>\n",
       "      <td>4117. 휘경119안전센터 앞</td>\n",
       "      <td>정기권</td>\n",
       "      <td>NaN</td>\n",
       "      <td>30대</td>\n",
       "      <td>1</td>\n",
       "      <td>\\N</td>\n",
       "      <td>\\N</td>\n",
       "      <td>0.0</td>\n",
       "      <td>52</td>\n",
       "    </tr>\n",
       "    <tr>\n",
       "      <th>240</th>\n",
       "      <td>2021-01-01</td>\n",
       "      <td>0</td>\n",
       "      <td>2169</td>\n",
       "      <td>2169. 봉천역 2번출구</td>\n",
       "      <td>정기권</td>\n",
       "      <td>M</td>\n",
       "      <td>40대</td>\n",
       "      <td>1</td>\n",
       "      <td>\\N</td>\n",
       "      <td>\\N</td>\n",
       "      <td>0.0</td>\n",
       "      <td>10</td>\n",
       "    </tr>\n",
       "    <tr>\n",
       "      <th>311</th>\n",
       "      <td>2021-01-01</td>\n",
       "      <td>0</td>\n",
       "      <td>2702</td>\n",
       "      <td>2702. 마곡 엠밸리2단지</td>\n",
       "      <td>일일권</td>\n",
       "      <td>NaN</td>\n",
       "      <td>20대</td>\n",
       "      <td>1</td>\n",
       "      <td>\\N</td>\n",
       "      <td>\\N</td>\n",
       "      <td>0.0</td>\n",
       "      <td>108</td>\n",
       "    </tr>\n",
       "    <tr>\n",
       "      <th>397</th>\n",
       "      <td>2021-01-01</td>\n",
       "      <td>1</td>\n",
       "      <td>1404</td>\n",
       "      <td>1404. 동일로 지하차도</td>\n",
       "      <td>정기권</td>\n",
       "      <td>NaN</td>\n",
       "      <td>20대</td>\n",
       "      <td>1</td>\n",
       "      <td>\\N</td>\n",
       "      <td>\\N</td>\n",
       "      <td>0.0</td>\n",
       "      <td>30</td>\n",
       "    </tr>\n",
       "  </tbody>\n",
       "</table>\n",
       "</div>"
      ],
      "text/plain": [
       "           대여일자  대여시간  대여소번호               대여소명 대여구분코드 대여자성별 연령대코드  이용건수 운동량  \\\n",
       "57   2021-01-01     0   1946       1946. 구로역 광장    정기권   NaN   20대     1  \\N   \n",
       "78   2021-01-01     0   4117  4117. 휘경119안전센터 앞    정기권   NaN   30대     1  \\N   \n",
       "240  2021-01-01     0   2169     2169. 봉천역 2번출구    정기권     M   40대     1  \\N   \n",
       "311  2021-01-01     0   2702    2702. 마곡 엠밸리2단지    일일권   NaN   20대     1  \\N   \n",
       "397  2021-01-01     1   1404     1404. 동일로 지하차도    정기권   NaN   20대     1  \\N   \n",
       "\n",
       "    탄소량  이동거리  사용시간  \n",
       "57   \\N   0.0    60  \n",
       "78   \\N   0.0    52  \n",
       "240  \\N   0.0    10  \n",
       "311  \\N   0.0   108  \n",
       "397  \\N   0.0    30  "
      ]
     },
     "metadata": {},
     "output_type": "display_data"
    }
   ],
   "source": [
    "## '\\\\N' 오류 데이터 확인 및 수정\n",
    "print(df_b['운동량'].unique())\n",
    "display(df_b.loc[df_b['운동량']=='\\\\N'].head())"
   ]
  },
  {
   "cell_type": "code",
   "execution_count": 24,
   "id": "2ef46217",
   "metadata": {
    "id": "2ef46217",
    "outputId": "bd34fae9-97cb-4fde-93e4-37376bb4a519"
   },
   "outputs": [
    {
     "data": {
      "text/html": [
       "<div>\n",
       "<style scoped>\n",
       "    .dataframe tbody tr th:only-of-type {\n",
       "        vertical-align: middle;\n",
       "    }\n",
       "\n",
       "    .dataframe tbody tr th {\n",
       "        vertical-align: top;\n",
       "    }\n",
       "\n",
       "    .dataframe thead th {\n",
       "        text-align: right;\n",
       "    }\n",
       "</style>\n",
       "<table border=\"1\" class=\"dataframe\">\n",
       "  <thead>\n",
       "    <tr style=\"text-align: right;\">\n",
       "      <th></th>\n",
       "      <th>대여일자</th>\n",
       "      <th>대여시간</th>\n",
       "      <th>대여소번호</th>\n",
       "      <th>대여소명</th>\n",
       "      <th>대여구분코드</th>\n",
       "      <th>대여자성별</th>\n",
       "      <th>연령대코드</th>\n",
       "      <th>이용건수</th>\n",
       "      <th>운동량</th>\n",
       "      <th>탄소량</th>\n",
       "      <th>이동거리</th>\n",
       "      <th>사용시간</th>\n",
       "    </tr>\n",
       "  </thead>\n",
       "  <tbody>\n",
       "  </tbody>\n",
       "</table>\n",
       "</div>"
      ],
      "text/plain": [
       "Empty DataFrame\n",
       "Columns: [대여일자, 대여시간, 대여소번호, 대여소명, 대여구분코드, 대여자성별, 연령대코드, 이용건수, 운동량, 탄소량, 이동거리, 사용시간]\n",
       "Index: []"
      ]
     },
     "metadata": {},
     "output_type": "display_data"
    }
   ],
   "source": [
    "df_b.loc[df_b['운동량']=='\\\\N','운동량'] = \"0\"\n",
    "df_b.loc[df_b['탄소량']=='\\\\N','탄소량'] = \"0\"\n",
    "display(df_b.loc[df_b['탄소량']=='\\\\N'].head())"
   ]
  },
  {
   "cell_type": "code",
   "execution_count": 25,
   "id": "a3d8ba65",
   "metadata": {
    "id": "a3d8ba65",
    "outputId": "80274ecf-cd67-465d-c59d-ffe98fc869ff"
   },
   "outputs": [
    {
     "data": {
      "text/html": [
       "<div>\n",
       "<style scoped>\n",
       "    .dataframe tbody tr th:only-of-type {\n",
       "        vertical-align: middle;\n",
       "    }\n",
       "\n",
       "    .dataframe tbody tr th {\n",
       "        vertical-align: top;\n",
       "    }\n",
       "\n",
       "    .dataframe thead th {\n",
       "        text-align: right;\n",
       "    }\n",
       "</style>\n",
       "<table border=\"1\" class=\"dataframe\">\n",
       "  <thead>\n",
       "    <tr style=\"text-align: right;\">\n",
       "      <th></th>\n",
       "      <th>대여일자</th>\n",
       "      <th>대여시간</th>\n",
       "      <th>대여소번호</th>\n",
       "      <th>대여소명</th>\n",
       "      <th>대여구분코드</th>\n",
       "      <th>대여자성별</th>\n",
       "      <th>연령대코드</th>\n",
       "      <th>이용건수</th>\n",
       "      <th>운동량</th>\n",
       "      <th>탄소량</th>\n",
       "      <th>이동거리</th>\n",
       "      <th>사용시간</th>\n",
       "    </tr>\n",
       "  </thead>\n",
       "  <tbody>\n",
       "    <tr>\n",
       "      <th>0</th>\n",
       "      <td>2021-01-01</td>\n",
       "      <td>0</td>\n",
       "      <td>1347</td>\n",
       "      <td>1347. 길음래미안아파트817동 상가 앞</td>\n",
       "      <td>정기권</td>\n",
       "      <td>NaN</td>\n",
       "      <td>~10대</td>\n",
       "      <td>2</td>\n",
       "      <td>28.90</td>\n",
       "      <td>0.23</td>\n",
       "      <td>992.78</td>\n",
       "      <td>13</td>\n",
       "    </tr>\n",
       "    <tr>\n",
       "      <th>1</th>\n",
       "      <td>2021-01-01</td>\n",
       "      <td>0</td>\n",
       "      <td>1349</td>\n",
       "      <td>1349. 월계2교 버스정류장 앞</td>\n",
       "      <td>정기권</td>\n",
       "      <td>NaN</td>\n",
       "      <td>~10대</td>\n",
       "      <td>1</td>\n",
       "      <td>34.38</td>\n",
       "      <td>0.26</td>\n",
       "      <td>1127.50</td>\n",
       "      <td>10</td>\n",
       "    </tr>\n",
       "    <tr>\n",
       "      <th>2</th>\n",
       "      <td>2021-01-01</td>\n",
       "      <td>0</td>\n",
       "      <td>1168</td>\n",
       "      <td>1168. 마곡엠밸리10단지 앞</td>\n",
       "      <td>정기권</td>\n",
       "      <td>NaN</td>\n",
       "      <td>~10대</td>\n",
       "      <td>1</td>\n",
       "      <td>0.00</td>\n",
       "      <td>0.00</td>\n",
       "      <td>0.00</td>\n",
       "      <td>7</td>\n",
       "    </tr>\n",
       "    <tr>\n",
       "      <th>3</th>\n",
       "      <td>2021-01-01</td>\n",
       "      <td>0</td>\n",
       "      <td>2619</td>\n",
       "      <td>2619. 석촌고분역 4번출구</td>\n",
       "      <td>정기권</td>\n",
       "      <td>NaN</td>\n",
       "      <td>~10대</td>\n",
       "      <td>1</td>\n",
       "      <td>38.75</td>\n",
       "      <td>0.38</td>\n",
       "      <td>1658.34</td>\n",
       "      <td>14</td>\n",
       "    </tr>\n",
       "    <tr>\n",
       "      <th>4</th>\n",
       "      <td>2021-01-01</td>\n",
       "      <td>0</td>\n",
       "      <td>536</td>\n",
       "      <td>536. 행당역 2번출구 앞</td>\n",
       "      <td>정기권</td>\n",
       "      <td>NaN</td>\n",
       "      <td>~10대</td>\n",
       "      <td>1</td>\n",
       "      <td>12.96</td>\n",
       "      <td>0.17</td>\n",
       "      <td>743.88</td>\n",
       "      <td>5</td>\n",
       "    </tr>\n",
       "  </tbody>\n",
       "</table>\n",
       "</div>"
      ],
      "text/plain": [
       "         대여일자  대여시간  대여소번호                     대여소명 대여구분코드 대여자성별 연령대코드  이용건수  \\\n",
       "0  2021-01-01     0   1347  1347. 길음래미안아파트817동 상가 앞    정기권   NaN  ~10대     2   \n",
       "1  2021-01-01     0   1349       1349. 월계2교 버스정류장 앞    정기권   NaN  ~10대     1   \n",
       "2  2021-01-01     0   1168        1168. 마곡엠밸리10단지 앞    정기권   NaN  ~10대     1   \n",
       "3  2021-01-01     0   2619         2619. 석촌고분역 4번출구    정기권   NaN  ~10대     1   \n",
       "4  2021-01-01     0    536          536. 행당역 2번출구 앞    정기권   NaN  ~10대     1   \n",
       "\n",
       "     운동량   탄소량     이동거리  사용시간  \n",
       "0  28.90  0.23   992.78    13  \n",
       "1  34.38  0.26  1127.50    10  \n",
       "2   0.00  0.00     0.00     7  \n",
       "3  38.75  0.38  1658.34    14  \n",
       "4  12.96  0.17   743.88     5  "
      ]
     },
     "metadata": {},
     "output_type": "display_data"
    },
    {
     "name": "stdout",
     "output_type": "stream",
     "text": [
      "대여일자       object\n",
      "대여시간        int64\n",
      "대여소번호       int64\n",
      "대여소명       object\n",
      "대여구분코드     object\n",
      "대여자성별      object\n",
      "연령대코드      object\n",
      "이용건수        int64\n",
      "운동량       float64\n",
      "탄소량       float64\n",
      "이동거리      float64\n",
      "사용시간        int64\n",
      "dtype: object\n"
     ]
    }
   ],
   "source": [
    "df_b = df_b.astype({'운동량':'float64', '탄소량':float})\n",
    "display(df_b.head())\n",
    "print(df_b.dtypes)"
   ]
  },
  {
   "cell_type": "markdown",
   "id": "b26bbc68",
   "metadata": {
    "id": "b26bbc68"
   },
   "source": [
    "#### 가로/세로의 합 계산(숫자 자료만 계산 가능)\n",
    "- df_b에서 숫자인 데이터만 모으기(int32, int64, float32, float64)"
   ]
  },
  {
   "cell_type": "code",
   "execution_count": 26,
   "id": "108a55cf",
   "metadata": {
    "id": "108a55cf",
    "outputId": "3bfefe58-3960-46c5-cd27-3b2df54a0b99"
   },
   "outputs": [
    {
     "name": "stdout",
     "output_type": "stream",
     "text": [
      "int64\n",
      "int64\n"
     ]
    }
   ],
   "source": [
    "# 특정 필드(열)에 대한 데이터 형식 확인\n",
    "print(df_b['대여시간'].dtypes)\n",
    "print(df_b[df_b.columns[1]].dtype)"
   ]
  },
  {
   "cell_type": "code",
   "execution_count": 27,
   "id": "35e6fd22",
   "metadata": {
    "id": "35e6fd22",
    "outputId": "c874f81f-f71a-4fb6-bc1c-9cd970400e82"
   },
   "outputs": [
    {
     "data": {
      "text/html": [
       "<div>\n",
       "<style scoped>\n",
       "    .dataframe tbody tr th:only-of-type {\n",
       "        vertical-align: middle;\n",
       "    }\n",
       "\n",
       "    .dataframe tbody tr th {\n",
       "        vertical-align: top;\n",
       "    }\n",
       "\n",
       "    .dataframe thead th {\n",
       "        text-align: right;\n",
       "    }\n",
       "</style>\n",
       "<table border=\"1\" class=\"dataframe\">\n",
       "  <thead>\n",
       "    <tr style=\"text-align: right;\">\n",
       "      <th></th>\n",
       "      <th>대여시간</th>\n",
       "      <th>대여소번호</th>\n",
       "      <th>이용건수</th>\n",
       "      <th>운동량</th>\n",
       "      <th>탄소량</th>\n",
       "      <th>이동거리</th>\n",
       "      <th>사용시간</th>\n",
       "    </tr>\n",
       "  </thead>\n",
       "  <tbody>\n",
       "    <tr>\n",
       "      <th>0</th>\n",
       "      <td>0</td>\n",
       "      <td>1347</td>\n",
       "      <td>2</td>\n",
       "      <td>28.90</td>\n",
       "      <td>0.23</td>\n",
       "      <td>992.78</td>\n",
       "      <td>13</td>\n",
       "    </tr>\n",
       "    <tr>\n",
       "      <th>1</th>\n",
       "      <td>0</td>\n",
       "      <td>1349</td>\n",
       "      <td>1</td>\n",
       "      <td>34.38</td>\n",
       "      <td>0.26</td>\n",
       "      <td>1127.50</td>\n",
       "      <td>10</td>\n",
       "    </tr>\n",
       "    <tr>\n",
       "      <th>2</th>\n",
       "      <td>0</td>\n",
       "      <td>1168</td>\n",
       "      <td>1</td>\n",
       "      <td>0.00</td>\n",
       "      <td>0.00</td>\n",
       "      <td>0.00</td>\n",
       "      <td>7</td>\n",
       "    </tr>\n",
       "    <tr>\n",
       "      <th>3</th>\n",
       "      <td>0</td>\n",
       "      <td>2619</td>\n",
       "      <td>1</td>\n",
       "      <td>38.75</td>\n",
       "      <td>0.38</td>\n",
       "      <td>1658.34</td>\n",
       "      <td>14</td>\n",
       "    </tr>\n",
       "    <tr>\n",
       "      <th>4</th>\n",
       "      <td>0</td>\n",
       "      <td>536</td>\n",
       "      <td>1</td>\n",
       "      <td>12.96</td>\n",
       "      <td>0.17</td>\n",
       "      <td>743.88</td>\n",
       "      <td>5</td>\n",
       "    </tr>\n",
       "  </tbody>\n",
       "</table>\n",
       "</div>"
      ],
      "text/plain": [
       "   대여시간  대여소번호  이용건수    운동량   탄소량     이동거리  사용시간\n",
       "0     0   1347     2  28.90  0.23   992.78    13\n",
       "1     0   1349     1  34.38  0.26  1127.50    10\n",
       "2     0   1168     1   0.00  0.00     0.00     7\n",
       "3     0   2619     1  38.75  0.38  1658.34    14\n",
       "4     0    536     1  12.96  0.17   743.88     5"
      ]
     },
     "metadata": {},
     "output_type": "display_data"
    }
   ],
   "source": [
    "# [먼저 해보세요] columns에서 데이터형이 숫자인 컬럼만 모으기 => 데이터 5ro ghkauscnffur\n",
    "# 숫자형: int32, int64, float32, float64 / 1번(박영우)/8번(김민중)에게 커피쿠폰\n",
    "\n",
    "colList=df_b.columns\n",
    "findList=[\"int32\", \"int64\", \"float32\", \"float64\"]\n",
    "\n",
    "# 열 이름 가겨오기\n",
    "tmp =[]\n",
    "for col in colList:\n",
    "    if df_b[col].dtype in findList:\n",
    "        tmp.append(col)\n",
    "        \n",
    "# 한줄쓰기로 만들어 보세요.\n",
    "\n",
    "\n",
    "# 숫자 타임의 데이터 5개 출력\n",
    "display(df_b[tmp].head())"
   ]
  },
  {
   "cell_type": "markdown",
   "id": "56059a48",
   "metadata": {
    "id": "56059a48"
   },
   "source": [
    "####  열/행의 합계 계산"
   ]
  },
  {
   "cell_type": "code",
   "execution_count": 28,
   "id": "b1e92f71",
   "metadata": {
    "id": "b1e92f71",
    "outputId": "3de63ba2-9af1-4497-a141-be0bcfa639ac"
   },
   "outputs": [
    {
     "name": "stdout",
     "output_type": "stream",
     "text": [
      "운동량: 58609153.89 \n",
      "\n",
      "대여시간: 10205645.00\n",
      "대여소번호: 1040423098.00\n",
      "이용건수: 782805.00\n",
      "운동량: 58609153.89\n",
      "탄소량: 505971.60\n",
      "이동거리: 2180934157.28\n",
      "사용시간: 20172901.00\n"
     ]
    }
   ],
   "source": [
    "# 열 함계\n",
    "print(\"운동량: %.2f\"%(df_b['운동량'].sum()), \"\\n\")\n",
    "\n",
    "for col in tmp:\n",
    "    print(\"%s: %.2f\"%(col, df_b[col].sum()))"
   ]
  },
  {
   "cell_type": "code",
   "execution_count": 29,
   "id": "45e6ee3d",
   "metadata": {
    "id": "45e6ee3d",
    "outputId": "ab42415f-2767-4e69-fb5d-ec6672160c09"
   },
   "outputs": [
    {
     "name": "stdout",
     "output_type": "stream",
     "text": [
      "0 2383.91\n",
      "1 2522.1400000000003\n",
      "2 1176.0\n",
      "3 4331.47\n",
      "4 1299.01\n",
      "5 1132.5900000000001\n",
      "6 4450.66\n",
      "7 5612.16\n",
      "8 1050.0\n",
      "9 3730.1799999999994\n"
     ]
    }
   ],
   "source": [
    "# 행 합계\n",
    "for i in df_b.index[:10]:\n",
    "    print(i, df_b.loc[i, tmp].sum())"
   ]
  },
  {
   "cell_type": "code",
   "execution_count": 30,
   "id": "faff7733",
   "metadata": {
    "id": "faff7733",
    "outputId": "8575c2e8-d66f-4d21-dacd-050afcb65998"
   },
   "outputs": [
    {
     "name": "stdout",
     "output_type": "stream",
     "text": [
      "대여시간     1.020564e+07\n",
      "대여소번호    1.040423e+09\n",
      "이용건수     7.828050e+05\n",
      "운동량      5.860915e+07\n",
      "탄소량      5.059716e+05\n",
      "이동거리     2.180934e+09\n",
      "사용시간     2.017290e+07\n",
      "dtype: float64\n",
      "0          2383.91\n",
      "1          2522.14\n",
      "2          1176.00\n",
      "3          4331.47\n",
      "4          1299.01\n",
      "            ...   \n",
      "718852    38715.27\n",
      "718853    23651.48\n",
      "718854    13283.98\n",
      "718855     3577.74\n",
      "718856     9239.83\n",
      "Length: 718857, dtype: float64\n"
     ]
    }
   ],
   "source": [
    "# numpy 모듈을 이용한 합계\n",
    "import numpy as np\n",
    "\n",
    "colSum = np.sum(df_b[tmp], axis=0)\n",
    "rowSum = np.sum(df_b[tmp], axis=1)\n",
    "\n",
    "print(colSum)\n",
    "print(rowSum)"
   ]
  },
  {
   "cell_type": "code",
   "execution_count": 31,
   "id": "55e1488b",
   "metadata": {
    "id": "55e1488b",
    "outputId": "e72a1e55-509d-40e0-cbe4-fd27264f9b7e"
   },
   "outputs": [
    {
     "data": {
      "image/png": "[encoded data removed]",
      "text/plain": [
       "<Figure size 432x288 with 1 Axes>"
      ]
     },
     "metadata": {
      "needs_background": "light"
     },
     "output_type": "display_data"
    }
   ],
   "source": [
    "# 차트로 가장 값이 큰 필드(열)\n",
    "import matplotlib.pyplot as plt\n",
    "import platform\n",
    "from matplotlib import font_manager, rc\n",
    "\n",
    "if platform.system() == \"Darwin\":\n",
    "    rc('font', family='AppleGothic')\n",
    "elif platform.system() == \"Windows\":\n",
    "    fontName=font_manager.FontProperties(fname=\"c:/windows/Fonts/malgun.ttf\").get_name()\n",
    "    rc('font', family=fontName)\n",
    "else:\n",
    "    print(\"시스템 정보를 모를겠어요...미안~~~\")\n",
    "\n",
    "    \n",
    "plt.bar(tmp, colSum)\n",
    "plt.show()"
   ]
  },
  {
   "cell_type": "markdown",
   "id": "7619ad84",
   "metadata": {
    "id": "7619ad84"
   },
   "source": [
    "결측지(결손값)  확인 및 처리"
   ]
  },
  {
   "cell_type": "code",
   "execution_count": 32,
   "id": "9ae149fd",
   "metadata": {
    "id": "9ae149fd",
    "outputId": "86c80fa8-f55c-4d2b-c9af-e53c51f3ba1d"
   },
   "outputs": [
    {
     "name": "stdout",
     "output_type": "stream",
     "text": [
      "대여일자           0\n",
      "대여시간           0\n",
      "대여소번호          0\n",
      "대여소명           0\n",
      "대여구분코드         0\n",
      "대여자성별     317622\n",
      "연령대코드          0\n",
      "이용건수           0\n",
      "운동량            0\n",
      "탄소량            0\n",
      "이동거리           0\n",
      "사용시간           0\n",
      "dtype: int64\n"
     ]
    }
   ],
   "source": [
    "# 결측지 확인\n",
    "#print(df_b.isna().sum(axis=0))\n",
    "print(df_b.isna().sum())   # 열에 대한 결측지 갯수 출력"
   ]
  },
  {
   "cell_type": "code",
   "execution_count": 33,
   "id": "73e71984",
   "metadata": {
    "id": "73e71984",
    "outputId": "f5a3e992-b946-40ab-db5a-5b421d7150b6"
   },
   "outputs": [
    {
     "name": "stdout",
     "output_type": "stream",
     "text": [
      "0         1\n",
      "1         1\n",
      "2         1\n",
      "3         1\n",
      "4         1\n",
      "         ..\n",
      "718852    1\n",
      "718853    1\n",
      "718854    1\n",
      "718855    1\n",
      "718856    0\n",
      "Length: 718857, dtype: int64\n"
     ]
    }
   ],
   "source": [
    "print(df_b.isna().sum(axis=1)) # 행별 결측지 갯수 확인 "
   ]
  },
  {
   "cell_type": "code",
   "execution_count": 34,
   "id": "08ee8a29",
   "metadata": {
    "id": "08ee8a29",
    "outputId": "f31d329c-8bfa-415c-864c-34cbc0f0356a"
   },
   "outputs": [
    {
     "name": "stdout",
     "output_type": "stream",
     "text": [
      "대여일자           0\n",
      "대여시간           0\n",
      "대여소번호          0\n",
      "대여소명           0\n",
      "대여구분코드         0\n",
      "대여자성별     317622\n",
      "연령대코드          0\n",
      "이용건수           0\n",
      "운동량            0\n",
      "탄소량            0\n",
      "이동거리           0\n",
      "사용시간           0\n",
      "dtype: int64 \n",
      "\n",
      "317622\n",
      "317622\n"
     ]
    }
   ],
   "source": [
    "# 결측지 값 출력\n",
    "dfNa=df_b.isna().sum()\n",
    "\n",
    "print(dfNa, \"\\n\")   # 전체\n",
    "print(dfNa.loc[\"대여자성별\"]) # 특정 값에 대한 출력(index 값 이용)\n",
    "print(dfNa[5])"
   ]
  },
  {
   "cell_type": "code",
   "execution_count": 35,
   "id": "65dbadba",
   "metadata": {
    "id": "65dbadba",
    "outputId": "d8599cff-8706-43f0-f084-705fb56a6663"
   },
   "outputs": [
    {
     "name": "stdout",
     "output_type": "stream",
     "text": [
      "0.4418430925761313\n"
     ]
    }
   ],
   "source": [
    "# 결측지 비율 계산(결측지수/전체데이터수)\n",
    "\n",
    "print(dfNa[5]/len(df_b))\n"
   ]
  },
  {
   "cell_type": "code",
   "execution_count": 36,
   "id": "e5a3e6ce",
   "metadata": {
    "id": "e5a3e6ce",
    "outputId": "5334d67d-ed59-492b-fccb-6c0f4f05f52c"
   },
   "outputs": [
    {
     "data": {
      "text/plain": [
       "<AxesSubplot:>"
      ]
     },
     "execution_count": 36,
     "metadata": {},
     "output_type": "execute_result"
    },
    {
     "data": {
      "image/png": "[encoded data removed]",
      "text/plain": [
       "<Figure size 432x288 with 1 Axes>"
      ]
     },
     "metadata": {
      "needs_background": "light"
     },
     "output_type": "display_data"
    }
   ],
   "source": [
    "# 결측지를 이용한 시각화(히트맵을 이용한 시각화)\n",
    "import seaborn as sns   # https://seaborn.pydata.org/\n",
    "\n",
    "sns.heatmap(df_b.isnull(), cbar=False)"
   ]
  },
  {
   "cell_type": "code",
   "execution_count": 37,
   "id": "372f2ea0",
   "metadata": {
    "id": "372f2ea0",
    "outputId": "f8a6d3f2-d8ff-4236-e878-2b62fe6022b6"
   },
   "outputs": [
    {
     "data": {
      "text/plain": [
       "<AxesSubplot:>"
      ]
     },
     "execution_count": 37,
     "metadata": {},
     "output_type": "execute_result"
    },
    {
     "data": {
      "image/png": "[encoded data removed]",
      "text/plain": [
       "<Figure size 432x288 with 2 Axes>"
      ]
     },
     "metadata": {
      "needs_background": "light"
     },
     "output_type": "display_data"
    }
   ],
   "source": [
    "sns.heatmap(df_b.isnull(), cbar=True)"
   ]
  },
  {
   "cell_type": "code",
   "execution_count": 38,
   "id": "158cbf49",
   "metadata": {
    "id": "158cbf49",
    "outputId": "030be342-3047-416c-ab64-ffa7b17d64c1"
   },
   "outputs": [
    {
     "data": {
      "text/plain": [
       "<AxesSubplot:>"
      ]
     },
     "execution_count": 38,
     "metadata": {},
     "output_type": "execute_result"
    },
    {
     "data": {
      "image/png": "[encoded data removed]",
      "text/plain": [
       "<Figure size 432x288 with 1 Axes>"
      ]
     },
     "metadata": {
      "needs_background": "light"
     },
     "output_type": "display_data"
    }
   ],
   "source": [
    "# 대여자성별의 결측지 값을 0 으로 변경후 히트맵 그리기\n",
    "df_b=df_b.fillna(0)\n",
    "\n",
    "sns.heatmap(df_b.isnull(), cbar=False)"
   ]
  },
  {
   "cell_type": "markdown",
   "id": "77fd9eae",
   "metadata": {
    "id": "77fd9eae"
   },
   "source": [
    "#### 데이터 정보 확인"
   ]
  },
  {
   "cell_type": "code",
   "execution_count": 39,
   "id": "c40cfcde",
   "metadata": {
    "id": "c40cfcde",
    "outputId": "b2345674-a131-41da-c9ac-c2bdbe06a0db"
   },
   "outputs": [
    {
     "name": "stdout",
     "output_type": "stream",
     "text": [
      "['정기권' '일일권' '단체권' '일일권(비회원)']\n",
      "['~10대' '20대' '30대' '40대' '50대' '60대' '70대~']\n",
      "[ 0  1  2  3  4  5  6  7  8  9 10 11 12 13 14 15 16 17 18 19 20 21 22 23]\n"
     ]
    }
   ],
   "source": [
    "# 데이터 구성요소 확인\n",
    "print(df_b.대여구분코드.unique())\n",
    "print(df_b['연령대코드'].unique())\n",
    "print(df_b['대여시간'].unique())"
   ]
  },
  {
   "cell_type": "markdown",
   "id": "435f741d",
   "metadata": {
    "id": "435f741d"
   },
   "source": [
    "## 4. 대여소정보/대여정보 하나로 병합하기"
   ]
  },
  {
   "cell_type": "code",
   "execution_count": 40,
   "id": "58ac4568",
   "metadata": {
    "id": "58ac4568",
    "outputId": "40cb6b39-3e7a-4348-979e-d05c8176fe77"
   },
   "outputs": [
    {
     "name": "stdout",
     "output_type": "stream",
     "text": [
      "<class 'pandas.core.frame.DataFrame'>\n",
      "RangeIndex: 2586 entries, 0 to 2585\n",
      "Data columns (total 10 columns):\n",
      " #   Column    Non-Null Count  Dtype  \n",
      "---  ------    --------------  -----  \n",
      " 0   설치시기      2586 non-null   object \n",
      " 1   대여소번호     2586 non-null   int32  \n",
      " 2   소재지(자치구)  2586 non-null   object \n",
      " 3   대여소명      2586 non-null   object \n",
      " 4   상세주소      2586 non-null   object \n",
      " 5   운영방식      2586 non-null   object \n",
      " 6   거치대수      2586 non-null   int64  \n",
      " 7   상세주소      2586 non-null   object \n",
      " 8   위도        2586 non-null   float64\n",
      " 9   경도        2586 non-null   float64\n",
      "dtypes: float64(2), int32(1), int64(1), object(6)\n",
      "memory usage: 192.1+ KB\n",
      "None\n",
      "<class 'pandas.core.frame.DataFrame'>\n",
      "RangeIndex: 718857 entries, 0 to 718856\n",
      "Data columns (total 12 columns):\n",
      " #   Column  Non-Null Count   Dtype  \n",
      "---  ------  --------------   -----  \n",
      " 0   대여일자    718857 non-null  object \n",
      " 1   대여시간    718857 non-null  int64  \n",
      " 2   대여소번호   718857 non-null  int64  \n",
      " 3   대여소명    718857 non-null  object \n",
      " 4   대여구분코드  718857 non-null  object \n",
      " 5   대여자성별   718857 non-null  object \n",
      " 6   연령대코드   718857 non-null  object \n",
      " 7   이용건수    718857 non-null  int64  \n",
      " 8   운동량     718857 non-null  float64\n",
      " 9   탄소량     718857 non-null  float64\n",
      " 10  이동거리    718857 non-null  float64\n",
      " 11  사용시간    718857 non-null  int64  \n",
      "dtypes: float64(3), int64(4), object(5)\n",
      "memory usage: 65.8+ MB\n",
      "None\n"
     ]
    }
   ],
   "source": [
    "print(df_l.info())\n",
    "print(df_b.info())"
   ]
  },
  {
   "cell_type": "code",
   "execution_count": 42,
   "id": "9cfb1803",
   "metadata": {
    "id": "9cfb1803",
    "outputId": "3bd28556-9910-49b1-bbe3-28cea92925d1"
   },
   "outputs": [
    {
     "name": "stdout",
     "output_type": "stream",
     "text": [
      "전체데이터수: 705411\n"
     ]
    },
    {
     "data": {
      "text/html": [
       "<div>\n",
       "<style scoped>\n",
       "    .dataframe tbody tr th:only-of-type {\n",
       "        vertical-align: middle;\n",
       "    }\n",
       "\n",
       "    .dataframe tbody tr th {\n",
       "        vertical-align: top;\n",
       "    }\n",
       "\n",
       "    .dataframe thead th {\n",
       "        text-align: right;\n",
       "    }\n",
       "</style>\n",
       "<table border=\"1\" class=\"dataframe\">\n",
       "  <thead>\n",
       "    <tr style=\"text-align: right;\">\n",
       "      <th></th>\n",
       "      <th>대여소번호</th>\n",
       "      <th>소재지(자치구)</th>\n",
       "      <th>대여소명</th>\n",
       "      <th>운영방식</th>\n",
       "      <th>대여일자</th>\n",
       "      <th>대여시간</th>\n",
       "      <th>대여구분코드</th>\n",
       "      <th>대여자성별</th>\n",
       "      <th>연령대코드</th>\n",
       "      <th>이용건수</th>\n",
       "      <th>운동량</th>\n",
       "      <th>탄소량</th>\n",
       "      <th>이동거리</th>\n",
       "      <th>사용시간</th>\n",
       "    </tr>\n",
       "  </thead>\n",
       "  <tbody>\n",
       "    <tr>\n",
       "      <th>0</th>\n",
       "      <td>102</td>\n",
       "      <td>마포구</td>\n",
       "      <td>망원역 1번출구 앞</td>\n",
       "      <td>LCD</td>\n",
       "      <td>2021-01-01</td>\n",
       "      <td>0</td>\n",
       "      <td>정기권</td>\n",
       "      <td>0</td>\n",
       "      <td>20대</td>\n",
       "      <td>1</td>\n",
       "      <td>0.00</td>\n",
       "      <td>0.00</td>\n",
       "      <td>0.00</td>\n",
       "      <td>6</td>\n",
       "    </tr>\n",
       "    <tr>\n",
       "      <th>1</th>\n",
       "      <td>102</td>\n",
       "      <td>마포구</td>\n",
       "      <td>망원역 1번출구 앞</td>\n",
       "      <td>LCD</td>\n",
       "      <td>2021-01-01</td>\n",
       "      <td>10</td>\n",
       "      <td>정기권</td>\n",
       "      <td>M</td>\n",
       "      <td>40대</td>\n",
       "      <td>1</td>\n",
       "      <td>28.17</td>\n",
       "      <td>0.22</td>\n",
       "      <td>936.08</td>\n",
       "      <td>5</td>\n",
       "    </tr>\n",
       "    <tr>\n",
       "      <th>2</th>\n",
       "      <td>102</td>\n",
       "      <td>마포구</td>\n",
       "      <td>망원역 1번출구 앞</td>\n",
       "      <td>LCD</td>\n",
       "      <td>2021-01-01</td>\n",
       "      <td>11</td>\n",
       "      <td>정기권</td>\n",
       "      <td>M</td>\n",
       "      <td>50대</td>\n",
       "      <td>1</td>\n",
       "      <td>111.81</td>\n",
       "      <td>0.96</td>\n",
       "      <td>4152.22</td>\n",
       "      <td>22</td>\n",
       "    </tr>\n",
       "  </tbody>\n",
       "</table>\n",
       "</div>"
      ],
      "text/plain": [
       "   대여소번호 소재지(자치구)        대여소명 운영방식        대여일자  대여시간 대여구분코드 대여자성별 연령대코드  이용건수  \\\n",
       "0    102      마포구  망원역 1번출구 앞  LCD  2021-01-01     0    정기권     0   20대     1   \n",
       "1    102      마포구  망원역 1번출구 앞  LCD  2021-01-01    10    정기권     M   40대     1   \n",
       "2    102      마포구  망원역 1번출구 앞  LCD  2021-01-01    11    정기권     M   50대     1   \n",
       "\n",
       "      운동량   탄소량     이동거리  사용시간  \n",
       "0    0.00  0.00     0.00     6  \n",
       "1   28.17  0.22   936.08     5  \n",
       "2  111.81  0.96  4152.22    22  "
      ]
     },
     "metadata": {},
     "output_type": "display_data"
    }
   ],
   "source": [
    "# 두 데이터를 \"대여소번호\" 필드를 이용해 열 병합하기\n",
    "# pd.concat() 함수 사용 불가: 행/열 인덱스를 기준으로 병합\n",
    "# pd.merge() 함수 사용 \n",
    "# pd.merge(df_left, df_right, how='inner', on=None)  # how='inner' : 교집합  (구글에서 찾아보세요)\n",
    "\n",
    "df_m = pd.merge(df_l[['대여소번호', '소재지(자치구)', '대여소명', '운영방식']], \n",
    "                df_b[['대여일자', '대여시간', '대여소번호', '대여구분코드', '대여자성별', '연령대코드', \n",
    "                      '이용건수','운동량', '탄소량', '이동거리', '사용시간']], on=\"대여소번호\")   \n",
    "\n",
    "print(\"전체데이터수:\", len(df_m))\n",
    "display(df_m.head(3))"
   ]
  },
  {
   "cell_type": "markdown",
   "id": "d722eddf",
   "metadata": {
    "id": "d722eddf"
   },
   "source": [
    "## 5. 병합 데이터 기초통계 및 이상치 시각화\n",
    "- 기초통계 참조: https://mindscale.kr/course/basic-stat-python/"
   ]
  },
  {
   "cell_type": "code",
   "execution_count": 43,
   "id": "96e40755",
   "metadata": {
    "id": "96e40755",
    "outputId": "67566172-a209-4e46-fffb-8a688cfb28c2"
   },
   "outputs": [
    {
     "data": {
      "text/html": [
       "<div>\n",
       "<style scoped>\n",
       "    .dataframe tbody tr th:only-of-type {\n",
       "        vertical-align: middle;\n",
       "    }\n",
       "\n",
       "    .dataframe tbody tr th {\n",
       "        vertical-align: top;\n",
       "    }\n",
       "\n",
       "    .dataframe thead th {\n",
       "        text-align: right;\n",
       "    }\n",
       "</style>\n",
       "<table border=\"1\" class=\"dataframe\">\n",
       "  <thead>\n",
       "    <tr style=\"text-align: right;\">\n",
       "      <th></th>\n",
       "      <th>대여소번호</th>\n",
       "      <th>대여시간</th>\n",
       "      <th>이용건수</th>\n",
       "      <th>운동량</th>\n",
       "      <th>탄소량</th>\n",
       "      <th>이동거리</th>\n",
       "      <th>사용시간</th>\n",
       "    </tr>\n",
       "  </thead>\n",
       "  <tbody>\n",
       "    <tr>\n",
       "      <th>count</th>\n",
       "      <td>705411.000000</td>\n",
       "      <td>705411.000000</td>\n",
       "      <td>705411.000000</td>\n",
       "      <td>705411.000000</td>\n",
       "      <td>705411.000000</td>\n",
       "      <td>705411.000000</td>\n",
       "      <td>705411.000000</td>\n",
       "    </tr>\n",
       "    <tr>\n",
       "      <th>mean</th>\n",
       "      <td>1450.945995</td>\n",
       "      <td>14.205476</td>\n",
       "      <td>1.088670</td>\n",
       "      <td>81.408178</td>\n",
       "      <td>0.702716</td>\n",
       "      <td>3028.982186</td>\n",
       "      <td>28.001486</td>\n",
       "    </tr>\n",
       "    <tr>\n",
       "      <th>std</th>\n",
       "      <td>1009.398476</td>\n",
       "      <td>5.241979</td>\n",
       "      <td>0.338905</td>\n",
       "      <td>117.408680</td>\n",
       "      <td>0.992709</td>\n",
       "      <td>4278.869104</td>\n",
       "      <td>33.196302</td>\n",
       "    </tr>\n",
       "    <tr>\n",
       "      <th>min</th>\n",
       "      <td>102.000000</td>\n",
       "      <td>0.000000</td>\n",
       "      <td>1.000000</td>\n",
       "      <td>0.000000</td>\n",
       "      <td>0.000000</td>\n",
       "      <td>0.000000</td>\n",
       "      <td>0.000000</td>\n",
       "    </tr>\n",
       "    <tr>\n",
       "      <th>25%</th>\n",
       "      <td>610.000000</td>\n",
       "      <td>11.000000</td>\n",
       "      <td>1.000000</td>\n",
       "      <td>20.670000</td>\n",
       "      <td>0.180000</td>\n",
       "      <td>787.290000</td>\n",
       "      <td>8.000000</td>\n",
       "    </tr>\n",
       "    <tr>\n",
       "      <th>50%</th>\n",
       "      <td>1232.000000</td>\n",
       "      <td>15.000000</td>\n",
       "      <td>1.000000</td>\n",
       "      <td>44.600000</td>\n",
       "      <td>0.390000</td>\n",
       "      <td>1677.140000</td>\n",
       "      <td>16.000000</td>\n",
       "    </tr>\n",
       "    <tr>\n",
       "      <th>75%</th>\n",
       "      <td>2113.000000</td>\n",
       "      <td>18.000000</td>\n",
       "      <td>1.000000</td>\n",
       "      <td>95.260000</td>\n",
       "      <td>0.830000</td>\n",
       "      <td>3560.845000</td>\n",
       "      <td>36.000000</td>\n",
       "    </tr>\n",
       "    <tr>\n",
       "      <th>max</th>\n",
       "      <td>4791.000000</td>\n",
       "      <td>23.000000</td>\n",
       "      <td>14.000000</td>\n",
       "      <td>8621.750000</td>\n",
       "      <td>57.630000</td>\n",
       "      <td>248420.000000</td>\n",
       "      <td>1753.000000</td>\n",
       "    </tr>\n",
       "  </tbody>\n",
       "</table>\n",
       "</div>"
      ],
      "text/plain": [
       "               대여소번호           대여시간           이용건수            운동량  \\\n",
       "count  705411.000000  705411.000000  705411.000000  705411.000000   \n",
       "mean     1450.945995      14.205476       1.088670      81.408178   \n",
       "std      1009.398476       5.241979       0.338905     117.408680   \n",
       "min       102.000000       0.000000       1.000000       0.000000   \n",
       "25%       610.000000      11.000000       1.000000      20.670000   \n",
       "50%      1232.000000      15.000000       1.000000      44.600000   \n",
       "75%      2113.000000      18.000000       1.000000      95.260000   \n",
       "max      4791.000000      23.000000      14.000000    8621.750000   \n",
       "\n",
       "                 탄소량           이동거리           사용시간  \n",
       "count  705411.000000  705411.000000  705411.000000  \n",
       "mean        0.702716    3028.982186      28.001486  \n",
       "std         0.992709    4278.869104      33.196302  \n",
       "min         0.000000       0.000000       0.000000  \n",
       "25%         0.180000     787.290000       8.000000  \n",
       "50%         0.390000    1677.140000      16.000000  \n",
       "75%         0.830000    3560.845000      36.000000  \n",
       "max        57.630000  248420.000000    1753.000000  "
      ]
     },
     "metadata": {},
     "output_type": "display_data"
    }
   ],
   "source": [
    "# df_m의 통계적 개요 확인(교재3:82p~88p)\n",
    "# df_m.describe(): 데이터에서 숫자형 데이터에 대하여 기초통계 개요(대표값) 출력\n",
    "display(df_m.describe())"
   ]
  },
  {
   "cell_type": "code",
   "execution_count": 44,
   "id": "d82de818",
   "metadata": {
    "id": "d82de818",
    "outputId": "b62e75a2-395c-46da-dad4-9abb5d61d79f"
   },
   "outputs": [
    {
     "name": "stdout",
     "output_type": "stream",
     "text": [
      "계산 분산: 27.478307380318174\n",
      "numpy분산: 27.478307380342763\n",
      "모집단에 표준편차: 5.241975522674459\n",
      "모집단에 표준편차: 5.241975522674459\n"
     ]
    }
   ],
   "source": [
    "# 모집단에 의한 분산/표준편차\n",
    "numData=df_m['대여시간']\n",
    "\n",
    "# 평균 계산 = 전체함계 / 전체데이터갯수\n",
    "data_m = np.sum(numData)/len(numData)\n",
    "\n",
    "# 분산 계산 = ((numData[0]-평균)**2 + (numData[1]-평균)**2 + ...) / 전체데이터갯수\n",
    "vsum = 0\n",
    "for v in numData:\n",
    "    vsum += (v - data_m)**2\n",
    "\n",
    "var = vsum / len(numData)\n",
    "\n",
    "print(\"계산 분산:\", var)\n",
    "print(\"numpy분산:\", np.var(numData))\n",
    "\n",
    "import math\n",
    "print(\"모집단에 표준편차:\", var**(1/2))\n",
    "print(\"모집단에 표준편차:\", math.sqrt(var))"
   ]
  },
  {
   "cell_type": "code",
   "execution_count": 45,
   "id": "853b3c56",
   "metadata": {
    "id": "853b3c56",
    "outputId": "77d0db1b-2eeb-4854-a53e-58354614d7fb"
   },
   "outputs": [
    {
     "name": "stdout",
     "output_type": "stream",
     "text": [
      "계산 분산: 27.478346333986792\n",
      "모집단에 표준편차: 5.241979238225461\n",
      "모집단에 표준편차: 5.241979238227807\n"
     ]
    }
   ],
   "source": [
    "# 표본에 의한 분산/표준편차\n",
    "numData=df_m['대여시간']\n",
    "\n",
    "# 평균 계산 = 전체함계 / 전체데이터갯수\n",
    "data_m = np.sum(numData)/len(numData)\n",
    "\n",
    "# 분산 계산 = ((numData[0]-평균)**2 + (numData[1]-평균)**2 + ...) / 전체데이터갯수\n",
    "vsum = 0\n",
    "for v in numData:\n",
    "    vsum += (v - data_m)**2\n",
    "\n",
    "var = vsum / (len(numData)-1)\n",
    "\n",
    "print(\"계산 분산:\", var)\n",
    "\n",
    "print(\"모집단에 표준편차:\", math.sqrt(var))\n",
    "print(\"모집단에 표준편차:\", df_m['대여시간'].std())"
   ]
  },
  {
   "cell_type": "code",
   "execution_count": 46,
   "id": "2b5806dc",
   "metadata": {
    "id": "2b5806dc",
    "outputId": "2bbd2c3e-5b0e-4366-a114-ee43d81057f0"
   },
   "outputs": [
    {
     "name": "stdout",
     "output_type": "stream",
     "text": [
      "5.241979238227807\n",
      "5.241975522676805\n"
     ]
    }
   ],
   "source": [
    "# '대여시간'에 대한 표준편차 계산(참조: https://tinyurl.com/y84cgu53)\n",
    "print(df_m['대여시간'].std())      # pandsa => 표본에 대한 표준편차\n",
    "print(np.std(df_m['대여시간']))    # numpy => 모집단에 대한 표준편차"
   ]
  },
  {
   "cell_type": "code",
   "execution_count": 47,
   "id": "bd0480c4",
   "metadata": {
    "id": "bd0480c4",
    "outputId": "e4862558-871a-4a2d-8df8-1426fe274c4a"
   },
   "outputs": [
    {
     "data": {
      "text/html": [
       "<div>\n",
       "<style scoped>\n",
       "    .dataframe tbody tr th:only-of-type {\n",
       "        vertical-align: middle;\n",
       "    }\n",
       "\n",
       "    .dataframe tbody tr th {\n",
       "        vertical-align: top;\n",
       "    }\n",
       "\n",
       "    .dataframe thead th {\n",
       "        text-align: right;\n",
       "    }\n",
       "</style>\n",
       "<table border=\"1\" class=\"dataframe\">\n",
       "  <thead>\n",
       "    <tr style=\"text-align: right;\">\n",
       "      <th></th>\n",
       "      <th>대여소번호</th>\n",
       "      <th>소재지(자치구)</th>\n",
       "      <th>대여소명</th>\n",
       "      <th>운영방식</th>\n",
       "      <th>대여일자</th>\n",
       "      <th>대여시간</th>\n",
       "      <th>대여구분코드</th>\n",
       "      <th>대여자성별</th>\n",
       "      <th>연령대코드</th>\n",
       "      <th>이용건수</th>\n",
       "      <th>운동량</th>\n",
       "      <th>탄소량</th>\n",
       "      <th>이동거리</th>\n",
       "      <th>사용시간</th>\n",
       "    </tr>\n",
       "  </thead>\n",
       "  <tbody>\n",
       "    <tr>\n",
       "      <th>326173</th>\n",
       "      <td>1163</td>\n",
       "      <td>강서구</td>\n",
       "      <td>방화동강서기동대앞</td>\n",
       "      <td>LCD</td>\n",
       "      <td>2021-01-29</td>\n",
       "      <td>16</td>\n",
       "      <td>정기권</td>\n",
       "      <td>F</td>\n",
       "      <td>50대</td>\n",
       "      <td>1</td>\n",
       "      <td>5902.46</td>\n",
       "      <td>57.63</td>\n",
       "      <td>248420.0</td>\n",
       "      <td>8</td>\n",
       "    </tr>\n",
       "  </tbody>\n",
       "</table>\n",
       "</div>"
      ],
      "text/plain": [
       "        대여소번호 소재지(자치구)       대여소명 운영방식        대여일자  대여시간 대여구분코드 대여자성별 연령대코드  \\\n",
       "326173   1163      강서구  방화동강서기동대앞  LCD  2021-01-29    16    정기권     F   50대   \n",
       "\n",
       "        이용건수      운동량    탄소량      이동거리  사용시간  \n",
       "326173     1  5902.46  57.63  248420.0     8  "
      ]
     },
     "metadata": {},
     "output_type": "display_data"
    }
   ],
   "source": [
    "## \"이동거리\"이 가장 큰 데이터 출력\n",
    "display(df_m[df_m['이동거리'] == df_m['이동거리'].max()])"
   ]
  },
  {
   "cell_type": "markdown",
   "id": "3ea3f79a",
   "metadata": {
    "id": "3ea3f79a"
   },
   "source": [
    "### [미션] 기초통계 구하기(최소값, 평균, 최대값, 표준편차), \n",
    "- 대상('운동량','탄소량','사용시간', '이동거리')\n",
    "- 출력 내용 \n",
    " * 사용시간: 최소값, 최대값, 평균값, 표준편차\n",
    " * 이동거리: 최소값, 최대값, 평균값, 표준편차\n",
    "\n"
   ]
  },
  {
   "cell_type": "code",
   "execution_count": 48,
   "id": "b682acc7",
   "metadata": {
    "id": "b682acc7",
    "outputId": "1d56f772-d335-4982-95c5-6c23fee56564"
   },
   "outputs": [
    {
     "name": "stdout",
     "output_type": "stream",
     "text": [
      "운동량: 0.0/8621.75/81.40817829605719/117.40868044318691\n",
      "탄소량: 0.0/57.63/0.7027155374668101/0.9927093133467316\n",
      "사용시간: 0/1753/28.001485658715275/33.19630174050385\n",
      "이동거리: 0.0/248420.0/3028.9821860447314/4278.86910446053\n"
     ]
    }
   ],
   "source": [
    "colList=['운동량','탄소량','사용시간', '이동거리']\n",
    "\n",
    "for col in colList:\n",
    "    print(f'{col}: {df_m[col].min()}/{df_m[col].max()}/{df_m[col].mean()}/{df_m[col].std()}')"
   ]
  },
  {
   "cell_type": "code",
   "execution_count": 49,
   "id": "86ad90d7",
   "metadata": {
    "id": "86ad90d7",
    "outputId": "96af89d0-76e9-4e5e-d746-11f2ffa5fbf8"
   },
   "outputs": [
    {
     "data": {
      "text/html": [
       "<div>\n",
       "<style scoped>\n",
       "    .dataframe tbody tr th:only-of-type {\n",
       "        vertical-align: middle;\n",
       "    }\n",
       "\n",
       "    .dataframe tbody tr th {\n",
       "        vertical-align: top;\n",
       "    }\n",
       "\n",
       "    .dataframe thead th {\n",
       "        text-align: right;\n",
       "    }\n",
       "</style>\n",
       "<table border=\"1\" class=\"dataframe\">\n",
       "  <thead>\n",
       "    <tr style=\"text-align: right;\">\n",
       "      <th></th>\n",
       "      <th>대여소번호</th>\n",
       "      <th>소재지(자치구)</th>\n",
       "      <th>대여소명</th>\n",
       "      <th>운영방식</th>\n",
       "      <th>대여일자</th>\n",
       "      <th>대여시간</th>\n",
       "      <th>대여구분코드</th>\n",
       "      <th>대여자성별</th>\n",
       "      <th>연령대코드</th>\n",
       "      <th>이용건수</th>\n",
       "      <th>운동량</th>\n",
       "      <th>탄소량</th>\n",
       "      <th>이동거리</th>\n",
       "      <th>사용시간</th>\n",
       "    </tr>\n",
       "  </thead>\n",
       "  <tbody>\n",
       "    <tr>\n",
       "      <th>0</th>\n",
       "      <td>102</td>\n",
       "      <td>마포구</td>\n",
       "      <td>망원역 1번출구 앞</td>\n",
       "      <td>LCD</td>\n",
       "      <td>2021-01-01</td>\n",
       "      <td>0</td>\n",
       "      <td>정기권</td>\n",
       "      <td>0</td>\n",
       "      <td>20대</td>\n",
       "      <td>1</td>\n",
       "      <td>0.0</td>\n",
       "      <td>0.0</td>\n",
       "      <td>0.0</td>\n",
       "      <td>6</td>\n",
       "    </tr>\n",
       "    <tr>\n",
       "      <th>357904</th>\n",
       "      <td>1253</td>\n",
       "      <td>송파구</td>\n",
       "      <td>오금역 3번 출구 뒤</td>\n",
       "      <td>LCD</td>\n",
       "      <td>2021-01-03</td>\n",
       "      <td>13</td>\n",
       "      <td>정기권</td>\n",
       "      <td>0</td>\n",
       "      <td>20대</td>\n",
       "      <td>3</td>\n",
       "      <td>0.0</td>\n",
       "      <td>0.0</td>\n",
       "      <td>0.0</td>\n",
       "      <td>92</td>\n",
       "    </tr>\n",
       "    <tr>\n",
       "      <th>357906</th>\n",
       "      <td>1253</td>\n",
       "      <td>송파구</td>\n",
       "      <td>오금역 3번 출구 뒤</td>\n",
       "      <td>LCD</td>\n",
       "      <td>2021-01-03</td>\n",
       "      <td>13</td>\n",
       "      <td>정기권</td>\n",
       "      <td>M</td>\n",
       "      <td>20대</td>\n",
       "      <td>1</td>\n",
       "      <td>0.0</td>\n",
       "      <td>0.0</td>\n",
       "      <td>0.0</td>\n",
       "      <td>12</td>\n",
       "    </tr>\n",
       "    <tr>\n",
       "      <th>357907</th>\n",
       "      <td>1253</td>\n",
       "      <td>송파구</td>\n",
       "      <td>오금역 3번 출구 뒤</td>\n",
       "      <td>LCD</td>\n",
       "      <td>2021-01-03</td>\n",
       "      <td>18</td>\n",
       "      <td>정기권</td>\n",
       "      <td>M</td>\n",
       "      <td>30대</td>\n",
       "      <td>1</td>\n",
       "      <td>0.0</td>\n",
       "      <td>0.0</td>\n",
       "      <td>0.0</td>\n",
       "      <td>8</td>\n",
       "    </tr>\n",
       "    <tr>\n",
       "      <th>357911</th>\n",
       "      <td>1253</td>\n",
       "      <td>송파구</td>\n",
       "      <td>오금역 3번 출구 뒤</td>\n",
       "      <td>LCD</td>\n",
       "      <td>2021-01-04</td>\n",
       "      <td>19</td>\n",
       "      <td>정기권</td>\n",
       "      <td>0</td>\n",
       "      <td>30대</td>\n",
       "      <td>1</td>\n",
       "      <td>0.0</td>\n",
       "      <td>0.0</td>\n",
       "      <td>0.0</td>\n",
       "      <td>7</td>\n",
       "    </tr>\n",
       "  </tbody>\n",
       "</table>\n",
       "</div>"
      ],
      "text/plain": [
       "        대여소번호 소재지(자치구)         대여소명 운영방식        대여일자  대여시간 대여구분코드 대여자성별 연령대코드  \\\n",
       "0         102      마포구   망원역 1번출구 앞  LCD  2021-01-01     0    정기권     0   20대   \n",
       "357904   1253      송파구  오금역 3번 출구 뒤  LCD  2021-01-03    13    정기권     0   20대   \n",
       "357906   1253      송파구  오금역 3번 출구 뒤  LCD  2021-01-03    13    정기권     M   20대   \n",
       "357907   1253      송파구  오금역 3번 출구 뒤  LCD  2021-01-03    18    정기권     M   30대   \n",
       "357911   1253      송파구  오금역 3번 출구 뒤  LCD  2021-01-04    19    정기권     0   30대   \n",
       "\n",
       "        이용건수  운동량  탄소량  이동거리  사용시간  \n",
       "0          1  0.0  0.0   0.0     6  \n",
       "357904     3  0.0  0.0   0.0    92  \n",
       "357906     1  0.0  0.0   0.0    12  \n",
       "357907     1  0.0  0.0   0.0     8  \n",
       "357911     1  0.0  0.0   0.0     7  "
      ]
     },
     "metadata": {},
     "output_type": "display_data"
    }
   ],
   "source": [
    "# 탄소량을 기준으로 오름차순 정렬\n",
    "display(df_m.sort_values(\"탄소량\", ascending=True).head()) # ascending=True : 기본값"
   ]
  },
  {
   "cell_type": "code",
   "execution_count": 50,
   "id": "8fd99a50",
   "metadata": {
    "id": "8fd99a50",
    "outputId": "8d7f82d0-9407-4cda-a466-97a7b1966062"
   },
   "outputs": [
    {
     "data": {
      "text/html": [
       "<div>\n",
       "<style scoped>\n",
       "    .dataframe tbody tr th:only-of-type {\n",
       "        vertical-align: middle;\n",
       "    }\n",
       "\n",
       "    .dataframe tbody tr th {\n",
       "        vertical-align: top;\n",
       "    }\n",
       "\n",
       "    .dataframe thead th {\n",
       "        text-align: right;\n",
       "    }\n",
       "</style>\n",
       "<table border=\"1\" class=\"dataframe\">\n",
       "  <thead>\n",
       "    <tr style=\"text-align: right;\">\n",
       "      <th></th>\n",
       "      <th>대여소번호</th>\n",
       "      <th>소재지(자치구)</th>\n",
       "      <th>대여소명</th>\n",
       "      <th>운영방식</th>\n",
       "      <th>대여일자</th>\n",
       "      <th>대여시간</th>\n",
       "      <th>대여구분코드</th>\n",
       "      <th>대여자성별</th>\n",
       "      <th>연령대코드</th>\n",
       "      <th>이용건수</th>\n",
       "      <th>운동량</th>\n",
       "      <th>탄소량</th>\n",
       "      <th>이동거리</th>\n",
       "      <th>사용시간</th>\n",
       "    </tr>\n",
       "  </thead>\n",
       "  <tbody>\n",
       "    <tr>\n",
       "      <th>326173</th>\n",
       "      <td>1163</td>\n",
       "      <td>강서구</td>\n",
       "      <td>방화동강서기동대앞</td>\n",
       "      <td>LCD</td>\n",
       "      <td>2021-01-29</td>\n",
       "      <td>16</td>\n",
       "      <td>정기권</td>\n",
       "      <td>F</td>\n",
       "      <td>50대</td>\n",
       "      <td>1</td>\n",
       "      <td>5902.46</td>\n",
       "      <td>57.63</td>\n",
       "      <td>248420.0</td>\n",
       "      <td>8</td>\n",
       "    </tr>\n",
       "    <tr>\n",
       "      <th>332520</th>\n",
       "      <td>1178</td>\n",
       "      <td>강서구</td>\n",
       "      <td>개화산역 2번 출구</td>\n",
       "      <td>LCD</td>\n",
       "      <td>2021-01-18</td>\n",
       "      <td>21</td>\n",
       "      <td>정기권</td>\n",
       "      <td>M</td>\n",
       "      <td>20대</td>\n",
       "      <td>1</td>\n",
       "      <td>6001.74</td>\n",
       "      <td>55.81</td>\n",
       "      <td>240570.0</td>\n",
       "      <td>17</td>\n",
       "    </tr>\n",
       "    <tr>\n",
       "      <th>259255</th>\n",
       "      <td>913</td>\n",
       "      <td>은평구</td>\n",
       "      <td>이마트 은평점</td>\n",
       "      <td>LCD</td>\n",
       "      <td>2021-01-25</td>\n",
       "      <td>17</td>\n",
       "      <td>정기권</td>\n",
       "      <td>F</td>\n",
       "      <td>20대</td>\n",
       "      <td>1</td>\n",
       "      <td>4997.45</td>\n",
       "      <td>55.24</td>\n",
       "      <td>238110.0</td>\n",
       "      <td>70</td>\n",
       "    </tr>\n",
       "    <tr>\n",
       "      <th>301815</th>\n",
       "      <td>1112</td>\n",
       "      <td>강서구</td>\n",
       "      <td>마곡엠밸리4단지 정문</td>\n",
       "      <td>LCD</td>\n",
       "      <td>2021-01-09</td>\n",
       "      <td>17</td>\n",
       "      <td>정기권</td>\n",
       "      <td>0</td>\n",
       "      <td>20대</td>\n",
       "      <td>1</td>\n",
       "      <td>5239.30</td>\n",
       "      <td>54.81</td>\n",
       "      <td>236260.0</td>\n",
       "      <td>8</td>\n",
       "    </tr>\n",
       "    <tr>\n",
       "      <th>491489</th>\n",
       "      <td>1936</td>\n",
       "      <td>구로구</td>\n",
       "      <td>개봉역 1번 출구 자전거보관서쪽</td>\n",
       "      <td>LCD</td>\n",
       "      <td>2021-01-06</td>\n",
       "      <td>9</td>\n",
       "      <td>일일권</td>\n",
       "      <td>M</td>\n",
       "      <td>20대</td>\n",
       "      <td>1</td>\n",
       "      <td>8621.75</td>\n",
       "      <td>53.17</td>\n",
       "      <td>229180.0</td>\n",
       "      <td>55</td>\n",
       "    </tr>\n",
       "  </tbody>\n",
       "</table>\n",
       "</div>"
      ],
      "text/plain": [
       "        대여소번호 소재지(자치구)               대여소명 운영방식        대여일자  대여시간 대여구분코드 대여자성별  \\\n",
       "326173   1163      강서구          방화동강서기동대앞  LCD  2021-01-29    16    정기권     F   \n",
       "332520   1178      강서구         개화산역 2번 출구  LCD  2021-01-18    21    정기권     M   \n",
       "259255    913      은평구            이마트 은평점  LCD  2021-01-25    17    정기권     F   \n",
       "301815   1112      강서구        마곡엠밸리4단지 정문  LCD  2021-01-09    17    정기권     0   \n",
       "491489   1936      구로구  개봉역 1번 출구 자전거보관서쪽  LCD  2021-01-06     9    일일권     M   \n",
       "\n",
       "       연령대코드  이용건수      운동량    탄소량      이동거리  사용시간  \n",
       "326173   50대     1  5902.46  57.63  248420.0     8  \n",
       "332520   20대     1  6001.74  55.81  240570.0    17  \n",
       "259255   20대     1  4997.45  55.24  238110.0    70  \n",
       "301815   20대     1  5239.30  54.81  236260.0     8  \n",
       "491489   20대     1  8621.75  53.17  229180.0    55  "
      ]
     },
     "metadata": {},
     "output_type": "display_data"
    }
   ],
   "source": [
    "# 탄소량을 기준으로 내림차순 정렬\n",
    "display(df_m.sort_values(\"탄소량\", ascending=False).head()) "
   ]
  },
  {
   "cell_type": "code",
   "execution_count": 51,
   "id": "3c2cf338",
   "metadata": {
    "id": "3c2cf338",
    "outputId": "5175f985-96a0-42cd-ad83-b81259155558",
    "scrolled": true
   },
   "outputs": [
    {
     "data": {
      "text/html": [
       "<div>\n",
       "<style scoped>\n",
       "    .dataframe tbody tr th:only-of-type {\n",
       "        vertical-align: middle;\n",
       "    }\n",
       "\n",
       "    .dataframe tbody tr th {\n",
       "        vertical-align: top;\n",
       "    }\n",
       "\n",
       "    .dataframe thead th {\n",
       "        text-align: right;\n",
       "    }\n",
       "</style>\n",
       "<table border=\"1\" class=\"dataframe\">\n",
       "  <thead>\n",
       "    <tr style=\"text-align: right;\">\n",
       "      <th></th>\n",
       "      <th>이동거리</th>\n",
       "    </tr>\n",
       "    <tr>\n",
       "      <th>대여소번호</th>\n",
       "      <th></th>\n",
       "    </tr>\n",
       "  </thead>\n",
       "  <tbody>\n",
       "    <tr>\n",
       "      <th>102</th>\n",
       "      <td>3</td>\n",
       "    </tr>\n",
       "    <tr>\n",
       "      <th>103</th>\n",
       "      <td>2</td>\n",
       "    </tr>\n",
       "    <tr>\n",
       "      <th>104</th>\n",
       "      <td>5</td>\n",
       "    </tr>\n",
       "    <tr>\n",
       "      <th>105</th>\n",
       "      <td>2</td>\n",
       "    </tr>\n",
       "    <tr>\n",
       "      <th>106</th>\n",
       "      <td>6</td>\n",
       "    </tr>\n",
       "    <tr>\n",
       "      <th>...</th>\n",
       "      <td>...</td>\n",
       "    </tr>\n",
       "    <tr>\n",
       "      <th>4710</th>\n",
       "      <td>1</td>\n",
       "    </tr>\n",
       "    <tr>\n",
       "      <th>4711</th>\n",
       "      <td>1</td>\n",
       "    </tr>\n",
       "    <tr>\n",
       "      <th>4753</th>\n",
       "      <td>1</td>\n",
       "    </tr>\n",
       "    <tr>\n",
       "      <th>4784</th>\n",
       "      <td>1</td>\n",
       "    </tr>\n",
       "    <tr>\n",
       "      <th>4791</th>\n",
       "      <td>1</td>\n",
       "    </tr>\n",
       "  </tbody>\n",
       "</table>\n",
       "<p>1124 rows × 1 columns</p>\n",
       "</div>"
      ],
      "text/plain": [
       "       이동거리\n",
       "대여소번호      \n",
       "102       3\n",
       "103       2\n",
       "104       5\n",
       "105       2\n",
       "106       6\n",
       "...     ...\n",
       "4710      1\n",
       "4711      1\n",
       "4753      1\n",
       "4784      1\n",
       "4791      1\n",
       "\n",
       "[1124 rows x 1 columns]"
      ]
     },
     "execution_count": 51,
     "metadata": {},
     "output_type": "execute_result"
    }
   ],
   "source": [
    "## 이동거리가 0이면서 사용시간이 100인 데이터 확인\n",
    "tmp = df_m[(df_m['이동거리'] == 0) & (df_m['사용시간'] > 100)]\n",
    "#print(tmp.info())\n",
    "#tmp['이동거리'].groupby(tmp['대여소번호']).count()\n",
    "tmp.groupby('대여소번호')[['이동거리']].count()"
   ]
  },
  {
   "cell_type": "code",
   "execution_count": 52,
   "id": "1db4b9ac",
   "metadata": {
    "id": "1db4b9ac",
    "outputId": "4ee32f22-4a29-4229-f4af-925c4f832d55",
    "scrolled": true
   },
   "outputs": [
    {
     "data": {
      "text/html": [
       "<div>\n",
       "<style scoped>\n",
       "    .dataframe tbody tr th:only-of-type {\n",
       "        vertical-align: middle;\n",
       "    }\n",
       "\n",
       "    .dataframe tbody tr th {\n",
       "        vertical-align: top;\n",
       "    }\n",
       "\n",
       "    .dataframe thead th {\n",
       "        text-align: right;\n",
       "    }\n",
       "</style>\n",
       "<table border=\"1\" class=\"dataframe\">\n",
       "  <thead>\n",
       "    <tr style=\"text-align: right;\">\n",
       "      <th></th>\n",
       "      <th>대여소번호</th>\n",
       "    </tr>\n",
       "    <tr>\n",
       "      <th>소재지(자치구)</th>\n",
       "      <th></th>\n",
       "    </tr>\n",
       "  </thead>\n",
       "  <tbody>\n",
       "    <tr>\n",
       "      <th>강남구</th>\n",
       "      <td>22066</td>\n",
       "    </tr>\n",
       "    <tr>\n",
       "      <th>강동구</th>\n",
       "      <td>23272</td>\n",
       "    </tr>\n",
       "    <tr>\n",
       "      <th>강북구</th>\n",
       "      <td>14226</td>\n",
       "    </tr>\n",
       "    <tr>\n",
       "      <th>강서구</th>\n",
       "      <td>65146</td>\n",
       "    </tr>\n",
       "    <tr>\n",
       "      <th>관악구</th>\n",
       "      <td>23884</td>\n",
       "    </tr>\n",
       "    <tr>\n",
       "      <th>광진구</th>\n",
       "      <td>32820</td>\n",
       "    </tr>\n",
       "    <tr>\n",
       "      <th>구로구</th>\n",
       "      <td>27721</td>\n",
       "    </tr>\n",
       "    <tr>\n",
       "      <th>금천구</th>\n",
       "      <td>11920</td>\n",
       "    </tr>\n",
       "    <tr>\n",
       "      <th>노원구</th>\n",
       "      <td>36536</td>\n",
       "    </tr>\n",
       "    <tr>\n",
       "      <th>도봉구</th>\n",
       "      <td>15197</td>\n",
       "    </tr>\n",
       "    <tr>\n",
       "      <th>동대문구</th>\n",
       "      <td>29521</td>\n",
       "    </tr>\n",
       "    <tr>\n",
       "      <th>동작구</th>\n",
       "      <td>16617</td>\n",
       "    </tr>\n",
       "    <tr>\n",
       "      <th>마포구</th>\n",
       "      <td>39893</td>\n",
       "    </tr>\n",
       "    <tr>\n",
       "      <th>서대문구</th>\n",
       "      <td>20252</td>\n",
       "    </tr>\n",
       "    <tr>\n",
       "      <th>서초구</th>\n",
       "      <td>26299</td>\n",
       "    </tr>\n",
       "    <tr>\n",
       "      <th>성동구</th>\n",
       "      <td>30415</td>\n",
       "    </tr>\n",
       "    <tr>\n",
       "      <th>성북구</th>\n",
       "      <td>22360</td>\n",
       "    </tr>\n",
       "    <tr>\n",
       "      <th>송파구</th>\n",
       "      <td>47794</td>\n",
       "    </tr>\n",
       "    <tr>\n",
       "      <th>양천구</th>\n",
       "      <td>38117</td>\n",
       "    </tr>\n",
       "    <tr>\n",
       "      <th>영등포구</th>\n",
       "      <td>53852</td>\n",
       "    </tr>\n",
       "    <tr>\n",
       "      <th>용산구</th>\n",
       "      <td>16162</td>\n",
       "    </tr>\n",
       "    <tr>\n",
       "      <th>은평구</th>\n",
       "      <td>23072</td>\n",
       "    </tr>\n",
       "    <tr>\n",
       "      <th>종로구</th>\n",
       "      <td>31558</td>\n",
       "    </tr>\n",
       "    <tr>\n",
       "      <th>중구</th>\n",
       "      <td>16468</td>\n",
       "    </tr>\n",
       "    <tr>\n",
       "      <th>중랑구</th>\n",
       "      <td>20243</td>\n",
       "    </tr>\n",
       "  </tbody>\n",
       "</table>\n",
       "</div>"
      ],
      "text/plain": [
       "          대여소번호\n",
       "소재지(자치구)       \n",
       "강남구       22066\n",
       "강동구       23272\n",
       "강북구       14226\n",
       "강서구       65146\n",
       "관악구       23884\n",
       "광진구       32820\n",
       "구로구       27721\n",
       "금천구       11920\n",
       "노원구       36536\n",
       "도봉구       15197\n",
       "동대문구      29521\n",
       "동작구       16617\n",
       "마포구       39893\n",
       "서대문구      20252\n",
       "서초구       26299\n",
       "성동구       30415\n",
       "성북구       22360\n",
       "송파구       47794\n",
       "양천구       38117\n",
       "영등포구      53852\n",
       "용산구       16162\n",
       "은평구       23072\n",
       "종로구       31558\n",
       "중구        16468\n",
       "중랑구       20243"
      ]
     },
     "execution_count": 52,
     "metadata": {},
     "output_type": "execute_result"
    }
   ],
   "source": [
    "# 자치구별 대여소 설치 갯수 확인\n",
    "df_m.groupby('소재지(자치구)')[['대여소번호']].count() # df 선택 오류"
   ]
  },
  {
   "cell_type": "code",
   "execution_count": 53,
   "id": "8df70094",
   "metadata": {
    "id": "8df70094",
    "outputId": "48dd467c-1acb-4b3c-d0df-f9d63d1365a6",
    "scrolled": true
   },
   "outputs": [
    {
     "data": {
      "text/html": [
       "<div>\n",
       "<style scoped>\n",
       "    .dataframe tbody tr th:only-of-type {\n",
       "        vertical-align: middle;\n",
       "    }\n",
       "\n",
       "    .dataframe tbody tr th {\n",
       "        vertical-align: top;\n",
       "    }\n",
       "\n",
       "    .dataframe thead th {\n",
       "        text-align: right;\n",
       "    }\n",
       "</style>\n",
       "<table border=\"1\" class=\"dataframe\">\n",
       "  <thead>\n",
       "    <tr style=\"text-align: right;\">\n",
       "      <th></th>\n",
       "      <th>설치건수</th>\n",
       "      <th>평균이용건수</th>\n",
       "      <th>평균이동거리</th>\n",
       "      <th>최대이동거리</th>\n",
       "    </tr>\n",
       "    <tr>\n",
       "      <th>소재지(자치구)</th>\n",
       "      <th></th>\n",
       "      <th></th>\n",
       "      <th></th>\n",
       "      <th></th>\n",
       "    </tr>\n",
       "  </thead>\n",
       "  <tbody>\n",
       "    <tr>\n",
       "      <th>강남구</th>\n",
       "      <td>153</td>\n",
       "      <td>1.063763</td>\n",
       "      <td>3929.422903</td>\n",
       "      <td>97690.14</td>\n",
       "    </tr>\n",
       "    <tr>\n",
       "      <th>강동구</th>\n",
       "      <td>117</td>\n",
       "      <td>1.074768</td>\n",
       "      <td>2597.356375</td>\n",
       "      <td>75362.23</td>\n",
       "    </tr>\n",
       "    <tr>\n",
       "      <th>강북구</th>\n",
       "      <td>58</td>\n",
       "      <td>1.064038</td>\n",
       "      <td>2886.535993</td>\n",
       "      <td>57210.00</td>\n",
       "    </tr>\n",
       "    <tr>\n",
       "      <th>강서구</th>\n",
       "      <td>181</td>\n",
       "      <td>1.103107</td>\n",
       "      <td>2377.052902</td>\n",
       "      <td>248420.00</td>\n",
       "    </tr>\n",
       "    <tr>\n",
       "      <th>관악구</th>\n",
       "      <td>76</td>\n",
       "      <td>1.101658</td>\n",
       "      <td>3398.369559</td>\n",
       "      <td>65460.00</td>\n",
       "    </tr>\n",
       "    <tr>\n",
       "      <th>광진구</th>\n",
       "      <td>86</td>\n",
       "      <td>1.104966</td>\n",
       "      <td>2770.209115</td>\n",
       "      <td>84182.62</td>\n",
       "    </tr>\n",
       "    <tr>\n",
       "      <th>구로구</th>\n",
       "      <td>99</td>\n",
       "      <td>1.095740</td>\n",
       "      <td>3436.981742</td>\n",
       "      <td>229180.00</td>\n",
       "    </tr>\n",
       "    <tr>\n",
       "      <th>금천구</th>\n",
       "      <td>72</td>\n",
       "      <td>1.088507</td>\n",
       "      <td>3515.733218</td>\n",
       "      <td>77306.90</td>\n",
       "    </tr>\n",
       "    <tr>\n",
       "      <th>노원구</th>\n",
       "      <td>123</td>\n",
       "      <td>1.085888</td>\n",
       "      <td>2932.522539</td>\n",
       "      <td>80866.77</td>\n",
       "    </tr>\n",
       "    <tr>\n",
       "      <th>도봉구</th>\n",
       "      <td>68</td>\n",
       "      <td>1.056261</td>\n",
       "      <td>3160.201857</td>\n",
       "      <td>67220.00</td>\n",
       "    </tr>\n",
       "    <tr>\n",
       "      <th>동대문구</th>\n",
       "      <td>82</td>\n",
       "      <td>1.081434</td>\n",
       "      <td>2752.819913</td>\n",
       "      <td>80300.10</td>\n",
       "    </tr>\n",
       "    <tr>\n",
       "      <th>동작구</th>\n",
       "      <td>70</td>\n",
       "      <td>1.080881</td>\n",
       "      <td>3537.403472</td>\n",
       "      <td>76730.00</td>\n",
       "    </tr>\n",
       "    <tr>\n",
       "      <th>마포구</th>\n",
       "      <td>117</td>\n",
       "      <td>1.095405</td>\n",
       "      <td>3362.180689</td>\n",
       "      <td>200980.00</td>\n",
       "    </tr>\n",
       "    <tr>\n",
       "      <th>서대문구</th>\n",
       "      <td>75</td>\n",
       "      <td>1.061525</td>\n",
       "      <td>3268.395965</td>\n",
       "      <td>68243.52</td>\n",
       "    </tr>\n",
       "    <tr>\n",
       "      <th>서초구</th>\n",
       "      <td>141</td>\n",
       "      <td>1.072588</td>\n",
       "      <td>3693.931454</td>\n",
       "      <td>75930.00</td>\n",
       "    </tr>\n",
       "    <tr>\n",
       "      <th>성동구</th>\n",
       "      <td>84</td>\n",
       "      <td>1.122735</td>\n",
       "      <td>3523.862974</td>\n",
       "      <td>193753.25</td>\n",
       "    </tr>\n",
       "    <tr>\n",
       "      <th>성북구</th>\n",
       "      <td>77</td>\n",
       "      <td>1.082916</td>\n",
       "      <td>2903.846155</td>\n",
       "      <td>88231.48</td>\n",
       "    </tr>\n",
       "    <tr>\n",
       "      <th>송파구</th>\n",
       "      <td>207</td>\n",
       "      <td>1.089739</td>\n",
       "      <td>3037.569746</td>\n",
       "      <td>67859.63</td>\n",
       "    </tr>\n",
       "    <tr>\n",
       "      <th>양천구</th>\n",
       "      <td>103</td>\n",
       "      <td>1.089724</td>\n",
       "      <td>2731.309219</td>\n",
       "      <td>81987.37</td>\n",
       "    </tr>\n",
       "    <tr>\n",
       "      <th>영등포구</th>\n",
       "      <td>142</td>\n",
       "      <td>1.126718</td>\n",
       "      <td>3186.427522</td>\n",
       "      <td>162273.44</td>\n",
       "    </tr>\n",
       "    <tr>\n",
       "      <th>용산구</th>\n",
       "      <td>83</td>\n",
       "      <td>1.077528</td>\n",
       "      <td>3864.312743</td>\n",
       "      <td>78398.35</td>\n",
       "    </tr>\n",
       "    <tr>\n",
       "      <th>은평구</th>\n",
       "      <td>93</td>\n",
       "      <td>1.066834</td>\n",
       "      <td>3009.773260</td>\n",
       "      <td>238110.00</td>\n",
       "    </tr>\n",
       "    <tr>\n",
       "      <th>종로구</th>\n",
       "      <td>105</td>\n",
       "      <td>1.072692</td>\n",
       "      <td>2136.553144</td>\n",
       "      <td>127510.00</td>\n",
       "    </tr>\n",
       "    <tr>\n",
       "      <th>중구</th>\n",
       "      <td>84</td>\n",
       "      <td>1.060238</td>\n",
       "      <td>2587.694732</td>\n",
       "      <td>71480.00</td>\n",
       "    </tr>\n",
       "    <tr>\n",
       "      <th>중랑구</th>\n",
       "      <td>90</td>\n",
       "      <td>1.063676</td>\n",
       "      <td>2802.397485</td>\n",
       "      <td>56825.06</td>\n",
       "    </tr>\n",
       "  </tbody>\n",
       "</table>\n",
       "</div>"
      ],
      "text/plain": [
       "          설치건수    평균이용건수       평균이동거리     최대이동거리\n",
       "소재지(자치구)                                        \n",
       "강남구        153  1.063763  3929.422903   97690.14\n",
       "강동구        117  1.074768  2597.356375   75362.23\n",
       "강북구         58  1.064038  2886.535993   57210.00\n",
       "강서구        181  1.103107  2377.052902  248420.00\n",
       "관악구         76  1.101658  3398.369559   65460.00\n",
       "광진구         86  1.104966  2770.209115   84182.62\n",
       "구로구         99  1.095740  3436.981742  229180.00\n",
       "금천구         72  1.088507  3515.733218   77306.90\n",
       "노원구        123  1.085888  2932.522539   80866.77\n",
       "도봉구         68  1.056261  3160.201857   67220.00\n",
       "동대문구        82  1.081434  2752.819913   80300.10\n",
       "동작구         70  1.080881  3537.403472   76730.00\n",
       "마포구        117  1.095405  3362.180689  200980.00\n",
       "서대문구        75  1.061525  3268.395965   68243.52\n",
       "서초구        141  1.072588  3693.931454   75930.00\n",
       "성동구         84  1.122735  3523.862974  193753.25\n",
       "성북구         77  1.082916  2903.846155   88231.48\n",
       "송파구        207  1.089739  3037.569746   67859.63\n",
       "양천구        103  1.089724  2731.309219   81987.37\n",
       "영등포구       142  1.126718  3186.427522  162273.44\n",
       "용산구         83  1.077528  3864.312743   78398.35\n",
       "은평구         93  1.066834  3009.773260  238110.00\n",
       "종로구        105  1.072692  2136.553144  127510.00\n",
       "중구          84  1.060238  2587.694732   71480.00\n",
       "중랑구         90  1.063676  2802.397485   56825.06"
      ]
     },
     "metadata": {},
     "output_type": "display_data"
    }
   ],
   "source": [
    "# 자치구별 대요소 설치 건수/평균 이용건수 / 평균 이동거리 / 최대 이동거리\n",
    "# 계산 결과는 하나의 DataFrame으로 구성\n",
    "\n",
    "df_gu = pd.DataFrame()\n",
    "\n",
    "df_gu1=df_l.groupby('소재지(자치구)')[['대여소번호']].count()\n",
    "df_gu = pd.concat([df_gu, df_gu1], ignore_index = True, axis=1)\n",
    "\n",
    "df_gu1=df_m.groupby('소재지(자치구)')[['이용건수']].mean()\n",
    "df_gu = pd.concat([df_gu, df_gu1], ignore_index = True, axis=1)\n",
    "\n",
    "df_gu1=df_m.groupby('소재지(자치구)')[['이동거리']].mean()\n",
    "df_gu = pd.concat([df_gu, df_gu1], ignore_index = True, axis=1)\n",
    "\n",
    "df_gu1=df_m.groupby('소재지(자치구)')[['이동거리']].max()\n",
    "df_gu = pd.concat([df_gu, df_gu1], ignore_index = True, axis=1)\n",
    "\n",
    "df_gu.columns=[\"설치건수\", \"평균이용건수\", '평균이동거리', '최대이동거리']\n",
    "display(df_gu)\n"
   ]
  },
  {
   "cell_type": "markdown",
   "id": "763914f0",
   "metadata": {
    "id": "763914f0"
   },
   "source": [
    "### \"이동거리\" 와 \"탄소량\"의 상관도 확인(df_m)\n",
    "- 상관도: 두 데이터가 서로 영향을 주는 정도 \n",
    "- 상관계수(correlation coefficient): 두 변수가 함께 변하는 정도를 -1 ~ 1 범위의 수로 나타낸 것\n",
    "- 상관이 +인 경우: 두 변수가 같은 방향으로 변화(하나가 증가하면 다른 하나도 증가)\n",
    "- 상관이 -인 경우: 두 변수가 반대 방향으로 변화(하나가 증가하면 다른 하나는 감소)\n"
   ]
  },
  {
   "cell_type": "code",
   "execution_count": 54,
   "id": "d7662da8",
   "metadata": {
    "id": "d7662da8",
    "outputId": "1d187036-144c-49a8-c67d-398fb401609a"
   },
   "outputs": [
    {
     "data": {
      "text/html": [
       "<div>\n",
       "<style scoped>\n",
       "    .dataframe tbody tr th:only-of-type {\n",
       "        vertical-align: middle;\n",
       "    }\n",
       "\n",
       "    .dataframe tbody tr th {\n",
       "        vertical-align: top;\n",
       "    }\n",
       "\n",
       "    .dataframe thead th {\n",
       "        text-align: right;\n",
       "    }\n",
       "</style>\n",
       "<table border=\"1\" class=\"dataframe\">\n",
       "  <thead>\n",
       "    <tr style=\"text-align: right;\">\n",
       "      <th></th>\n",
       "      <th>대여소번호</th>\n",
       "      <th>소재지(자치구)</th>\n",
       "      <th>대여소명</th>\n",
       "      <th>운영방식</th>\n",
       "      <th>대여일자</th>\n",
       "      <th>대여시간</th>\n",
       "      <th>대여구분코드</th>\n",
       "      <th>대여자성별</th>\n",
       "      <th>연령대코드</th>\n",
       "      <th>이용건수</th>\n",
       "      <th>운동량</th>\n",
       "      <th>탄소량</th>\n",
       "      <th>이동거리</th>\n",
       "      <th>사용시간</th>\n",
       "    </tr>\n",
       "  </thead>\n",
       "  <tbody>\n",
       "    <tr>\n",
       "      <th>0</th>\n",
       "      <td>102</td>\n",
       "      <td>마포구</td>\n",
       "      <td>망원역 1번출구 앞</td>\n",
       "      <td>LCD</td>\n",
       "      <td>2021-01-01</td>\n",
       "      <td>0</td>\n",
       "      <td>정기권</td>\n",
       "      <td>0</td>\n",
       "      <td>20대</td>\n",
       "      <td>1</td>\n",
       "      <td>0.00</td>\n",
       "      <td>0.00</td>\n",
       "      <td>0.00</td>\n",
       "      <td>6</td>\n",
       "    </tr>\n",
       "    <tr>\n",
       "      <th>1</th>\n",
       "      <td>102</td>\n",
       "      <td>마포구</td>\n",
       "      <td>망원역 1번출구 앞</td>\n",
       "      <td>LCD</td>\n",
       "      <td>2021-01-01</td>\n",
       "      <td>10</td>\n",
       "      <td>정기권</td>\n",
       "      <td>M</td>\n",
       "      <td>40대</td>\n",
       "      <td>1</td>\n",
       "      <td>28.17</td>\n",
       "      <td>0.22</td>\n",
       "      <td>936.08</td>\n",
       "      <td>5</td>\n",
       "    </tr>\n",
       "    <tr>\n",
       "      <th>2</th>\n",
       "      <td>102</td>\n",
       "      <td>마포구</td>\n",
       "      <td>망원역 1번출구 앞</td>\n",
       "      <td>LCD</td>\n",
       "      <td>2021-01-01</td>\n",
       "      <td>11</td>\n",
       "      <td>정기권</td>\n",
       "      <td>M</td>\n",
       "      <td>50대</td>\n",
       "      <td>1</td>\n",
       "      <td>111.81</td>\n",
       "      <td>0.96</td>\n",
       "      <td>4152.22</td>\n",
       "      <td>22</td>\n",
       "    </tr>\n",
       "    <tr>\n",
       "      <th>3</th>\n",
       "      <td>102</td>\n",
       "      <td>마포구</td>\n",
       "      <td>망원역 1번출구 앞</td>\n",
       "      <td>LCD</td>\n",
       "      <td>2021-01-01</td>\n",
       "      <td>12</td>\n",
       "      <td>정기권</td>\n",
       "      <td>0</td>\n",
       "      <td>50대</td>\n",
       "      <td>1</td>\n",
       "      <td>0.00</td>\n",
       "      <td>0.00</td>\n",
       "      <td>0.00</td>\n",
       "      <td>41</td>\n",
       "    </tr>\n",
       "    <tr>\n",
       "      <th>4</th>\n",
       "      <td>102</td>\n",
       "      <td>마포구</td>\n",
       "      <td>망원역 1번출구 앞</td>\n",
       "      <td>LCD</td>\n",
       "      <td>2021-01-01</td>\n",
       "      <td>12</td>\n",
       "      <td>정기권</td>\n",
       "      <td>F</td>\n",
       "      <td>40대</td>\n",
       "      <td>1</td>\n",
       "      <td>0.00</td>\n",
       "      <td>0.00</td>\n",
       "      <td>0.00</td>\n",
       "      <td>41</td>\n",
       "    </tr>\n",
       "  </tbody>\n",
       "</table>\n",
       "</div>"
      ],
      "text/plain": [
       "   대여소번호 소재지(자치구)        대여소명 운영방식        대여일자  대여시간 대여구분코드 대여자성별 연령대코드  이용건수  \\\n",
       "0    102      마포구  망원역 1번출구 앞  LCD  2021-01-01     0    정기권     0   20대     1   \n",
       "1    102      마포구  망원역 1번출구 앞  LCD  2021-01-01    10    정기권     M   40대     1   \n",
       "2    102      마포구  망원역 1번출구 앞  LCD  2021-01-01    11    정기권     M   50대     1   \n",
       "3    102      마포구  망원역 1번출구 앞  LCD  2021-01-01    12    정기권     0   50대     1   \n",
       "4    102      마포구  망원역 1번출구 앞  LCD  2021-01-01    12    정기권     F   40대     1   \n",
       "\n",
       "      운동량   탄소량     이동거리  사용시간  \n",
       "0    0.00  0.00     0.00     6  \n",
       "1   28.17  0.22   936.08     5  \n",
       "2  111.81  0.96  4152.22    22  \n",
       "3    0.00  0.00     0.00    41  \n",
       "4    0.00  0.00     0.00    41  "
      ]
     },
     "execution_count": 54,
     "metadata": {},
     "output_type": "execute_result"
    }
   ],
   "source": [
    "df_m.head()"
   ]
  },
  {
   "cell_type": "code",
   "execution_count": 55,
   "id": "315edada",
   "metadata": {
    "id": "315edada",
    "outputId": "08cf955b-32ae-48b3-9462-22f7bfa90225"
   },
   "outputs": [
    {
     "data": {
      "text/html": [
       "<div>\n",
       "<style scoped>\n",
       "    .dataframe tbody tr th:only-of-type {\n",
       "        vertical-align: middle;\n",
       "    }\n",
       "\n",
       "    .dataframe tbody tr th {\n",
       "        vertical-align: top;\n",
       "    }\n",
       "\n",
       "    .dataframe thead th {\n",
       "        text-align: right;\n",
       "    }\n",
       "</style>\n",
       "<table border=\"1\" class=\"dataframe\">\n",
       "  <thead>\n",
       "    <tr style=\"text-align: right;\">\n",
       "      <th></th>\n",
       "      <th>대여소번호</th>\n",
       "      <th>대여시간</th>\n",
       "      <th>이용건수</th>\n",
       "      <th>운동량</th>\n",
       "      <th>탄소량</th>\n",
       "      <th>이동거리</th>\n",
       "      <th>사용시간</th>\n",
       "    </tr>\n",
       "  </thead>\n",
       "  <tbody>\n",
       "    <tr>\n",
       "      <th>대여소번호</th>\n",
       "      <td>1.000000</td>\n",
       "      <td>-0.005731</td>\n",
       "      <td>-0.019928</td>\n",
       "      <td>0.003472</td>\n",
       "      <td>0.003103</td>\n",
       "      <td>0.003109</td>\n",
       "      <td>-0.008476</td>\n",
       "    </tr>\n",
       "    <tr>\n",
       "      <th>대여시간</th>\n",
       "      <td>-0.005731</td>\n",
       "      <td>1.000000</td>\n",
       "      <td>0.057254</td>\n",
       "      <td>0.053744</td>\n",
       "      <td>0.057389</td>\n",
       "      <td>0.057396</td>\n",
       "      <td>0.073809</td>\n",
       "    </tr>\n",
       "    <tr>\n",
       "      <th>이용건수</th>\n",
       "      <td>-0.019928</td>\n",
       "      <td>0.057254</td>\n",
       "      <td>1.000000</td>\n",
       "      <td>0.278377</td>\n",
       "      <td>0.292708</td>\n",
       "      <td>0.292701</td>\n",
       "      <td>0.344897</td>\n",
       "    </tr>\n",
       "    <tr>\n",
       "      <th>운동량</th>\n",
       "      <td>0.003472</td>\n",
       "      <td>0.053744</td>\n",
       "      <td>0.278377</td>\n",
       "      <td>1.000000</td>\n",
       "      <td>0.974993</td>\n",
       "      <td>0.974996</td>\n",
       "      <td>0.641949</td>\n",
       "    </tr>\n",
       "    <tr>\n",
       "      <th>탄소량</th>\n",
       "      <td>0.003103</td>\n",
       "      <td>0.057389</td>\n",
       "      <td>0.292708</td>\n",
       "      <td>0.974993</td>\n",
       "      <td>1.000000</td>\n",
       "      <td>0.999996</td>\n",
       "      <td>0.668347</td>\n",
       "    </tr>\n",
       "    <tr>\n",
       "      <th>이동거리</th>\n",
       "      <td>0.003109</td>\n",
       "      <td>0.057396</td>\n",
       "      <td>0.292701</td>\n",
       "      <td>0.974996</td>\n",
       "      <td>0.999996</td>\n",
       "      <td>1.000000</td>\n",
       "      <td>0.668350</td>\n",
       "    </tr>\n",
       "    <tr>\n",
       "      <th>사용시간</th>\n",
       "      <td>-0.008476</td>\n",
       "      <td>0.073809</td>\n",
       "      <td>0.344897</td>\n",
       "      <td>0.641949</td>\n",
       "      <td>0.668347</td>\n",
       "      <td>0.668350</td>\n",
       "      <td>1.000000</td>\n",
       "    </tr>\n",
       "  </tbody>\n",
       "</table>\n",
       "</div>"
      ],
      "text/plain": [
       "          대여소번호      대여시간      이용건수       운동량       탄소량      이동거리      사용시간\n",
       "대여소번호  1.000000 -0.005731 -0.019928  0.003472  0.003103  0.003109 -0.008476\n",
       "대여시간  -0.005731  1.000000  0.057254  0.053744  0.057389  0.057396  0.073809\n",
       "이용건수  -0.019928  0.057254  1.000000  0.278377  0.292708  0.292701  0.344897\n",
       "운동량    0.003472  0.053744  0.278377  1.000000  0.974993  0.974996  0.641949\n",
       "탄소량    0.003103  0.057389  0.292708  0.974993  1.000000  0.999996  0.668347\n",
       "이동거리   0.003109  0.057396  0.292701  0.974996  0.999996  1.000000  0.668350\n",
       "사용시간  -0.008476  0.073809  0.344897  0.641949  0.668347  0.668350  1.000000"
      ]
     },
     "execution_count": 55,
     "metadata": {},
     "output_type": "execute_result"
    }
   ],
   "source": [
    "# DataFrame에서 상관도 확인\n",
    "df_m.corr()"
   ]
  },
  {
   "cell_type": "code",
   "execution_count": 56,
   "id": "ecdc1167",
   "metadata": {
    "id": "ecdc1167",
    "outputId": "bfd4dc27-7391-4187-b4d7-b6372b97cd5e"
   },
   "outputs": [
    {
     "data": {
      "text/plain": [
       "array([[1.        , 0.99999595],\n",
       "       [0.99999595, 1.        ]])"
      ]
     },
     "execution_count": 56,
     "metadata": {},
     "output_type": "execute_result"
    }
   ],
   "source": [
    "# 이동거리와 탄소량의 상관도 확인\n",
    "np.corrcoef(df_m['탄소량'], df_m['이동거리'])"
   ]
  },
  {
   "cell_type": "code",
   "execution_count": 57,
   "id": "9ef25e5d",
   "metadata": {
    "id": "9ef25e5d",
    "outputId": "0933a4b4-08b5-4e03-aabe-5da361d213e3"
   },
   "outputs": [
    {
     "name": "stdout",
     "output_type": "stream",
     "text": [
      "<class 'pandas.core.series.Series'>\n",
      "<class 'numpy.ndarray'>\n"
     ]
    }
   ],
   "source": [
    "print(type(df_m['탄소량']))\n",
    "print(type(df_m['탄소량'].values))"
   ]
  },
  {
   "cell_type": "code",
   "execution_count": 58,
   "id": "e984dc3c",
   "metadata": {
    "id": "e984dc3c"
   },
   "outputs": [],
   "source": [
    "# 상관도 시각화\n",
    "# 구글에서 '파이썬 상관도 시각화' 검색후 직접 작성해 보세요\n",
    "# 대상: df_m.corr()\n",
    "\n",
    "\n"
   ]
  },
  {
   "cell_type": "code",
   "execution_count": 59,
   "id": "de0b1d79",
   "metadata": {
    "id": "de0b1d79",
    "outputId": "74d08771-e6b2-401a-fd2f-6c9b7c6bed7c"
   },
   "outputs": [
    {
     "data": {
      "image/png": "[encoded data removed]",
      "text/plain": [
       "<Figure size 720x432 with 1 Axes>"
      ]
     },
     "metadata": {
      "needs_background": "light"
     },
     "output_type": "display_data"
    }
   ],
   "source": [
    "# 이상치 확인/seaborn.boxplot() 시각화 사용\n",
    "# 구글에서 boxplot() 보는 법 검색\n",
    "\n",
    "import matplotlib.pyplot as plt\n",
    "import seaborn as sns\n",
    "\n",
    "plt.figure(figsize=(10, 6))\n",
    "sns.boxplot(x='대여구분코드', y='사용시간', data=df_m)\n",
    "plt.show()"
   ]
  },
  {
   "cell_type": "markdown",
   "id": "2c842e20",
   "metadata": {
    "id": "2c842e20"
   },
   "source": [
    "### [미션] 아래 지시사항에 따라 코드를 작성하시오.\n",
    "- 데이터: df_m"
   ]
  },
  {
   "cell_type": "code",
   "execution_count": null,
   "id": "0bf74977",
   "metadata": {
    "id": "0bf74977"
   },
   "outputs": [],
   "source": [
    "# [미션1] \"대여구분코드\"의 유니크값 확인(for문 사용 / 힘들면 함수 사용)\n"
   ]
  },
  {
   "cell_type": "code",
   "execution_count": null,
   "id": "6b495d47",
   "metadata": {
    "id": "6b495d47"
   },
   "outputs": [],
   "source": [
    "# [미션2] \"대여구분코드\" 별로 자료를 CSV 형식으로 저장.\n"
   ]
  },
  {
   "cell_type": "code",
   "execution_count": null,
   "id": "4976281e",
   "metadata": {
    "id": "4976281e"
   },
   "outputs": [],
   "source": [
    "# [미션3] for문을 이용해 '대여구분코드','대여자성별','연령대코드'의 유니크 한 값 확인하기\n"
   ]
  },
  {
   "cell_type": "code",
   "execution_count": 61,
   "id": "89e95ac3",
   "metadata": {
    "id": "89e95ac3"
   },
   "outputs": [
    {
     "data": {
      "text/html": [
       "<div>\n",
       "<style scoped>\n",
       "    .dataframe tbody tr th:only-of-type {\n",
       "        vertical-align: middle;\n",
       "    }\n",
       "\n",
       "    .dataframe tbody tr th {\n",
       "        vertical-align: top;\n",
       "    }\n",
       "\n",
       "    .dataframe thead th {\n",
       "        text-align: right;\n",
       "    }\n",
       "</style>\n",
       "<table border=\"1\" class=\"dataframe\">\n",
       "  <thead>\n",
       "    <tr style=\"text-align: right;\">\n",
       "      <th></th>\n",
       "      <th>대여소번호</th>\n",
       "      <th>소재지(자치구)</th>\n",
       "      <th>대여소명</th>\n",
       "      <th>운영방식</th>\n",
       "      <th>대여일자</th>\n",
       "      <th>대여시간</th>\n",
       "      <th>대여구분코드</th>\n",
       "      <th>대여자성별</th>\n",
       "      <th>연령대코드</th>\n",
       "      <th>이용건수</th>\n",
       "      <th>운동량</th>\n",
       "      <th>탄소량</th>\n",
       "      <th>이동거리</th>\n",
       "      <th>사용시간</th>\n",
       "      <th>이동거리(km)</th>\n",
       "    </tr>\n",
       "  </thead>\n",
       "  <tbody>\n",
       "    <tr>\n",
       "      <th>0</th>\n",
       "      <td>102</td>\n",
       "      <td>마포구</td>\n",
       "      <td>망원역 1번출구 앞</td>\n",
       "      <td>LCD</td>\n",
       "      <td>2021-01-01</td>\n",
       "      <td>0</td>\n",
       "      <td>정기권</td>\n",
       "      <td>0</td>\n",
       "      <td>20대</td>\n",
       "      <td>1</td>\n",
       "      <td>0.00</td>\n",
       "      <td>0.00</td>\n",
       "      <td>0.00</td>\n",
       "      <td>6</td>\n",
       "      <td>0.0000</td>\n",
       "    </tr>\n",
       "    <tr>\n",
       "      <th>1</th>\n",
       "      <td>102</td>\n",
       "      <td>마포구</td>\n",
       "      <td>망원역 1번출구 앞</td>\n",
       "      <td>LCD</td>\n",
       "      <td>2021-01-01</td>\n",
       "      <td>10</td>\n",
       "      <td>정기권</td>\n",
       "      <td>M</td>\n",
       "      <td>40대</td>\n",
       "      <td>1</td>\n",
       "      <td>28.17</td>\n",
       "      <td>0.22</td>\n",
       "      <td>936.08</td>\n",
       "      <td>5</td>\n",
       "      <td>9.3608</td>\n",
       "    </tr>\n",
       "    <tr>\n",
       "      <th>2</th>\n",
       "      <td>102</td>\n",
       "      <td>마포구</td>\n",
       "      <td>망원역 1번출구 앞</td>\n",
       "      <td>LCD</td>\n",
       "      <td>2021-01-01</td>\n",
       "      <td>11</td>\n",
       "      <td>정기권</td>\n",
       "      <td>M</td>\n",
       "      <td>50대</td>\n",
       "      <td>1</td>\n",
       "      <td>111.81</td>\n",
       "      <td>0.96</td>\n",
       "      <td>4152.22</td>\n",
       "      <td>22</td>\n",
       "      <td>41.5222</td>\n",
       "    </tr>\n",
       "  </tbody>\n",
       "</table>\n",
       "</div>"
      ],
      "text/plain": [
       "   대여소번호 소재지(자치구)        대여소명 운영방식        대여일자  대여시간 대여구분코드 대여자성별 연령대코드  이용건수  \\\n",
       "0    102      마포구  망원역 1번출구 앞  LCD  2021-01-01     0    정기권     0   20대     1   \n",
       "1    102      마포구  망원역 1번출구 앞  LCD  2021-01-01    10    정기권     M   40대     1   \n",
       "2    102      마포구  망원역 1번출구 앞  LCD  2021-01-01    11    정기권     M   50대     1   \n",
       "\n",
       "      운동량   탄소량     이동거리  사용시간  이동거리(km)  \n",
       "0    0.00  0.00     0.00     6    0.0000  \n",
       "1   28.17  0.22   936.08     5    9.3608  \n",
       "2  111.81  0.96  4152.22    22   41.5222  "
      ]
     },
     "execution_count": 61,
     "metadata": {},
     "output_type": "execute_result"
    }
   ],
   "source": [
    "# [미션4] 이동거리 계산해 \"이동거리(Km)\" 필드 추가하기\n",
    "# 이동거리(km) = '이동거리' / 100\n",
    "df_m['이동거리(km)'] = df_m['이동거리'] / 100\n",
    "df_m.head(3)"
   ]
  },
  {
   "cell_type": "code",
   "execution_count": 68,
   "id": "6dbece09",
   "metadata": {
    "id": "6dbece09"
   },
   "outputs": [
    {
     "data": {
      "text/html": [
       "<div>\n",
       "<style scoped>\n",
       "    .dataframe tbody tr th:only-of-type {\n",
       "        vertical-align: middle;\n",
       "    }\n",
       "\n",
       "    .dataframe tbody tr th {\n",
       "        vertical-align: top;\n",
       "    }\n",
       "\n",
       "    .dataframe thead th {\n",
       "        text-align: right;\n",
       "    }\n",
       "</style>\n",
       "<table border=\"1\" class=\"dataframe\">\n",
       "  <thead>\n",
       "    <tr style=\"text-align: right;\">\n",
       "      <th></th>\n",
       "      <th>대여소번호</th>\n",
       "      <th>소재지(자치구)</th>\n",
       "      <th>대여소명</th>\n",
       "      <th>운영방식</th>\n",
       "      <th>대여일자</th>\n",
       "      <th>대여시간</th>\n",
       "      <th>대여구분코드</th>\n",
       "      <th>대여자성별</th>\n",
       "      <th>연령대코드</th>\n",
       "      <th>이용건수</th>\n",
       "      <th>운동량</th>\n",
       "      <th>탄소량</th>\n",
       "      <th>이동거리</th>\n",
       "      <th>사용시간</th>\n",
       "      <th>이동거리(km)</th>\n",
       "      <th>월</th>\n",
       "    </tr>\n",
       "  </thead>\n",
       "  <tbody>\n",
       "    <tr>\n",
       "      <th>0</th>\n",
       "      <td>102</td>\n",
       "      <td>마포구</td>\n",
       "      <td>망원역 1번출구 앞</td>\n",
       "      <td>LCD</td>\n",
       "      <td>2021-01-01</td>\n",
       "      <td>0</td>\n",
       "      <td>정기권</td>\n",
       "      <td>0</td>\n",
       "      <td>20대</td>\n",
       "      <td>1</td>\n",
       "      <td>0.00</td>\n",
       "      <td>0.00</td>\n",
       "      <td>0.00</td>\n",
       "      <td>6</td>\n",
       "      <td>0.0000</td>\n",
       "      <td>01</td>\n",
       "    </tr>\n",
       "    <tr>\n",
       "      <th>1</th>\n",
       "      <td>102</td>\n",
       "      <td>마포구</td>\n",
       "      <td>망원역 1번출구 앞</td>\n",
       "      <td>LCD</td>\n",
       "      <td>2021-01-01</td>\n",
       "      <td>10</td>\n",
       "      <td>정기권</td>\n",
       "      <td>M</td>\n",
       "      <td>40대</td>\n",
       "      <td>1</td>\n",
       "      <td>28.17</td>\n",
       "      <td>0.22</td>\n",
       "      <td>936.08</td>\n",
       "      <td>5</td>\n",
       "      <td>9.3608</td>\n",
       "      <td>01</td>\n",
       "    </tr>\n",
       "    <tr>\n",
       "      <th>2</th>\n",
       "      <td>102</td>\n",
       "      <td>마포구</td>\n",
       "      <td>망원역 1번출구 앞</td>\n",
       "      <td>LCD</td>\n",
       "      <td>2021-01-01</td>\n",
       "      <td>11</td>\n",
       "      <td>정기권</td>\n",
       "      <td>M</td>\n",
       "      <td>50대</td>\n",
       "      <td>1</td>\n",
       "      <td>111.81</td>\n",
       "      <td>0.96</td>\n",
       "      <td>4152.22</td>\n",
       "      <td>22</td>\n",
       "      <td>41.5222</td>\n",
       "      <td>01</td>\n",
       "    </tr>\n",
       "  </tbody>\n",
       "</table>\n",
       "</div>"
      ],
      "text/plain": [
       "   대여소번호 소재지(자치구)        대여소명 운영방식        대여일자  대여시간 대여구분코드 대여자성별 연령대코드  이용건수  \\\n",
       "0    102      마포구  망원역 1번출구 앞  LCD  2021-01-01     0    정기권     0   20대     1   \n",
       "1    102      마포구  망원역 1번출구 앞  LCD  2021-01-01    10    정기권     M   40대     1   \n",
       "2    102      마포구  망원역 1번출구 앞  LCD  2021-01-01    11    정기권     M   50대     1   \n",
       "\n",
       "      운동량   탄소량     이동거리  사용시간  이동거리(km)   월  \n",
       "0    0.00  0.00     0.00     6    0.0000  01  \n",
       "1   28.17  0.22   936.08     5    9.3608  01  \n",
       "2  111.81  0.96  4152.22    22   41.5222  01  "
      ]
     },
     "execution_count": 68,
     "metadata": {},
     "output_type": "execute_result"
    }
   ],
   "source": [
    "# [미션5] 대여일자에서 월만 추출해 '월' 필드 생성(df_m 데이터 사용)\n",
    "df_m['월']=df_m.대여일자.str.split('-').str[1]\n",
    "df_m.head(3)"
   ]
  },
  {
   "cell_type": "code",
   "execution_count": 69,
   "id": "80ee9f22",
   "metadata": {
    "id": "80ee9f22"
   },
   "outputs": [],
   "source": [
    "# [미션6] 이용건수가 10건이상이며 'vip', 그외는 '일반' 으로 '이용등급' 필드 제작\n"
   ]
  },
  {
   "cell_type": "code",
   "execution_count": 74,
   "id": "46207eba",
   "metadata": {
    "id": "46207eba"
   },
   "outputs": [
    {
     "data": {
      "text/plain": [
       "대여소번호                int32\n",
       "소재지(자치구)            object\n",
       "대여소명                object\n",
       "운영방식                object\n",
       "대여일자        datetime64[ns]\n",
       "대여시간                 int64\n",
       "대여구분코드              object\n",
       "대여자성별               object\n",
       "연령대코드               object\n",
       "이용건수                 int64\n",
       "운동량                float64\n",
       "탄소량                float64\n",
       "이동거리               float64\n",
       "사용시간                 int64\n",
       "이동거리(km)           float64\n",
       "월                   object\n",
       "dtype: object"
      ]
     },
     "execution_count": 74,
     "metadata": {},
     "output_type": "execute_result"
    }
   ],
   "source": [
    "#[미션7] 대여일자를 날짜형 데이터로 변경\n",
    "df_m.dtypes\n",
    "df_m['대여일자'] = pd.to_datetime(df_m['대여일자'])\n",
    "df_m.dtypes"
   ]
  },
  {
   "cell_type": "code",
   "execution_count": 78,
   "id": "2R-prGDYKMfY",
   "metadata": {
    "id": "2R-prGDYKMfY"
   },
   "outputs": [
    {
     "data": {
      "text/html": [
       "<div>\n",
       "<style scoped>\n",
       "    .dataframe tbody tr th:only-of-type {\n",
       "        vertical-align: middle;\n",
       "    }\n",
       "\n",
       "    .dataframe tbody tr th {\n",
       "        vertical-align: top;\n",
       "    }\n",
       "\n",
       "    .dataframe thead th {\n",
       "        text-align: right;\n",
       "    }\n",
       "</style>\n",
       "<table border=\"1\" class=\"dataframe\">\n",
       "  <thead>\n",
       "    <tr style=\"text-align: right;\">\n",
       "      <th></th>\n",
       "      <th>대여소번호</th>\n",
       "      <th>소재지(자치구)</th>\n",
       "      <th>대여소명</th>\n",
       "      <th>운영방식</th>\n",
       "      <th>대여일자</th>\n",
       "      <th>대여시간</th>\n",
       "      <th>대여구분코드</th>\n",
       "      <th>대여자성별</th>\n",
       "      <th>연령대코드</th>\n",
       "      <th>이용건수</th>\n",
       "      <th>운동량</th>\n",
       "      <th>탄소량</th>\n",
       "      <th>이동거리</th>\n",
       "      <th>사용시간</th>\n",
       "      <th>이동거리(km)</th>\n",
       "      <th>월</th>\n",
       "      <th>월_함수</th>\n",
       "      <th>요일</th>\n",
       "    </tr>\n",
       "  </thead>\n",
       "  <tbody>\n",
       "    <tr>\n",
       "      <th>0</th>\n",
       "      <td>102</td>\n",
       "      <td>마포구</td>\n",
       "      <td>망원역 1번출구 앞</td>\n",
       "      <td>LCD</td>\n",
       "      <td>2021-01-01</td>\n",
       "      <td>0</td>\n",
       "      <td>정기권</td>\n",
       "      <td>0</td>\n",
       "      <td>20대</td>\n",
       "      <td>1</td>\n",
       "      <td>0.00</td>\n",
       "      <td>0.00</td>\n",
       "      <td>0.00</td>\n",
       "      <td>6</td>\n",
       "      <td>0.0000</td>\n",
       "      <td>01</td>\n",
       "      <td>1</td>\n",
       "      <td>Friday</td>\n",
       "    </tr>\n",
       "    <tr>\n",
       "      <th>1</th>\n",
       "      <td>102</td>\n",
       "      <td>마포구</td>\n",
       "      <td>망원역 1번출구 앞</td>\n",
       "      <td>LCD</td>\n",
       "      <td>2021-01-01</td>\n",
       "      <td>10</td>\n",
       "      <td>정기권</td>\n",
       "      <td>M</td>\n",
       "      <td>40대</td>\n",
       "      <td>1</td>\n",
       "      <td>28.17</td>\n",
       "      <td>0.22</td>\n",
       "      <td>936.08</td>\n",
       "      <td>5</td>\n",
       "      <td>9.3608</td>\n",
       "      <td>01</td>\n",
       "      <td>1</td>\n",
       "      <td>Friday</td>\n",
       "    </tr>\n",
       "    <tr>\n",
       "      <th>2</th>\n",
       "      <td>102</td>\n",
       "      <td>마포구</td>\n",
       "      <td>망원역 1번출구 앞</td>\n",
       "      <td>LCD</td>\n",
       "      <td>2021-01-01</td>\n",
       "      <td>11</td>\n",
       "      <td>정기권</td>\n",
       "      <td>M</td>\n",
       "      <td>50대</td>\n",
       "      <td>1</td>\n",
       "      <td>111.81</td>\n",
       "      <td>0.96</td>\n",
       "      <td>4152.22</td>\n",
       "      <td>22</td>\n",
       "      <td>41.5222</td>\n",
       "      <td>01</td>\n",
       "      <td>1</td>\n",
       "      <td>Friday</td>\n",
       "    </tr>\n",
       "    <tr>\n",
       "      <th>3</th>\n",
       "      <td>102</td>\n",
       "      <td>마포구</td>\n",
       "      <td>망원역 1번출구 앞</td>\n",
       "      <td>LCD</td>\n",
       "      <td>2021-01-01</td>\n",
       "      <td>12</td>\n",
       "      <td>정기권</td>\n",
       "      <td>0</td>\n",
       "      <td>50대</td>\n",
       "      <td>1</td>\n",
       "      <td>0.00</td>\n",
       "      <td>0.00</td>\n",
       "      <td>0.00</td>\n",
       "      <td>41</td>\n",
       "      <td>0.0000</td>\n",
       "      <td>01</td>\n",
       "      <td>1</td>\n",
       "      <td>Friday</td>\n",
       "    </tr>\n",
       "    <tr>\n",
       "      <th>4</th>\n",
       "      <td>102</td>\n",
       "      <td>마포구</td>\n",
       "      <td>망원역 1번출구 앞</td>\n",
       "      <td>LCD</td>\n",
       "      <td>2021-01-01</td>\n",
       "      <td>12</td>\n",
       "      <td>정기권</td>\n",
       "      <td>F</td>\n",
       "      <td>40대</td>\n",
       "      <td>1</td>\n",
       "      <td>0.00</td>\n",
       "      <td>0.00</td>\n",
       "      <td>0.00</td>\n",
       "      <td>41</td>\n",
       "      <td>0.0000</td>\n",
       "      <td>01</td>\n",
       "      <td>1</td>\n",
       "      <td>Friday</td>\n",
       "    </tr>\n",
       "  </tbody>\n",
       "</table>\n",
       "</div>"
      ],
      "text/plain": [
       "   대여소번호 소재지(자치구)        대여소명 운영방식       대여일자  대여시간 대여구분코드 대여자성별 연령대코드  이용건수  \\\n",
       "0    102      마포구  망원역 1번출구 앞  LCD 2021-01-01     0    정기권     0   20대     1   \n",
       "1    102      마포구  망원역 1번출구 앞  LCD 2021-01-01    10    정기권     M   40대     1   \n",
       "2    102      마포구  망원역 1번출구 앞  LCD 2021-01-01    11    정기권     M   50대     1   \n",
       "3    102      마포구  망원역 1번출구 앞  LCD 2021-01-01    12    정기권     0   50대     1   \n",
       "4    102      마포구  망원역 1번출구 앞  LCD 2021-01-01    12    정기권     F   40대     1   \n",
       "\n",
       "      운동량   탄소량     이동거리  사용시간  이동거리(km)   월  월_함수      요일  \n",
       "0    0.00  0.00     0.00     6    0.0000  01     1  Friday  \n",
       "1   28.17  0.22   936.08     5    9.3608  01     1  Friday  \n",
       "2  111.81  0.96  4152.22    22   41.5222  01     1  Friday  \n",
       "3    0.00  0.00     0.00    41    0.0000  01     1  Friday  \n",
       "4    0.00  0.00     0.00    41    0.0000  01     1  Friday  "
      ]
     },
     "execution_count": 78,
     "metadata": {},
     "output_type": "execute_result"
    }
   ],
   "source": [
    "#[미션7] 대여일자를 이용해 '요일', '월' 필드(열) 추가\n",
    "df_m['월_함수'] = df_m['대여일자'].dt.month\n",
    "df_m['요일'] = df_m['대여일자'].dt.day_name()\n",
    "df_m.head()"
   ]
  },
  {
   "cell_type": "code",
   "execution_count": 79,
   "id": "3c2b06a6",
   "metadata": {},
   "outputs": [
    {
     "data": {
      "text/plain": [
       "array(['Friday', 'Saturday', 'Sunday', 'Monday', 'Tuesday', 'Wednesday',\n",
       "       'Thursday'], dtype=object)"
      ]
     },
     "execution_count": 79,
     "metadata": {},
     "output_type": "execute_result"
    }
   ],
   "source": [
    "df_m['요일'].unique()"
   ]
  },
  {
   "cell_type": "code",
   "execution_count": 82,
   "id": "ZfTk1TIPKMlf",
   "metadata": {
    "id": "ZfTk1TIPKMlf"
   },
   "outputs": [
    {
     "data": {
      "text/html": [
       "<div>\n",
       "<style scoped>\n",
       "    .dataframe tbody tr th:only-of-type {\n",
       "        vertical-align: middle;\n",
       "    }\n",
       "\n",
       "    .dataframe tbody tr th {\n",
       "        vertical-align: top;\n",
       "    }\n",
       "\n",
       "    .dataframe thead th {\n",
       "        text-align: right;\n",
       "    }\n",
       "</style>\n",
       "<table border=\"1\" class=\"dataframe\">\n",
       "  <thead>\n",
       "    <tr style=\"text-align: right;\">\n",
       "      <th></th>\n",
       "      <th>대여소번호</th>\n",
       "      <th>소재지(자치구)</th>\n",
       "      <th>대여소명</th>\n",
       "      <th>운영방식</th>\n",
       "      <th>대여일자</th>\n",
       "      <th>대여시간</th>\n",
       "      <th>대여구분코드</th>\n",
       "      <th>대여자성별</th>\n",
       "      <th>연령대코드</th>\n",
       "      <th>이용건수</th>\n",
       "      <th>운동량</th>\n",
       "      <th>탄소량</th>\n",
       "      <th>이동거리</th>\n",
       "      <th>사용시간</th>\n",
       "      <th>이동거리(km)</th>\n",
       "      <th>월</th>\n",
       "      <th>월_함수</th>\n",
       "      <th>요일</th>\n",
       "      <th>주중주말</th>\n",
       "    </tr>\n",
       "  </thead>\n",
       "  <tbody>\n",
       "    <tr>\n",
       "      <th>0</th>\n",
       "      <td>102</td>\n",
       "      <td>마포구</td>\n",
       "      <td>망원역 1번출구 앞</td>\n",
       "      <td>LCD</td>\n",
       "      <td>2021-01-01</td>\n",
       "      <td>0</td>\n",
       "      <td>정기권</td>\n",
       "      <td>0</td>\n",
       "      <td>20대</td>\n",
       "      <td>1</td>\n",
       "      <td>0.00</td>\n",
       "      <td>0.00</td>\n",
       "      <td>0.00</td>\n",
       "      <td>6</td>\n",
       "      <td>0.0000</td>\n",
       "      <td>01</td>\n",
       "      <td>1</td>\n",
       "      <td>Friday</td>\n",
       "      <td>주중</td>\n",
       "    </tr>\n",
       "    <tr>\n",
       "      <th>1</th>\n",
       "      <td>102</td>\n",
       "      <td>마포구</td>\n",
       "      <td>망원역 1번출구 앞</td>\n",
       "      <td>LCD</td>\n",
       "      <td>2021-01-01</td>\n",
       "      <td>10</td>\n",
       "      <td>정기권</td>\n",
       "      <td>M</td>\n",
       "      <td>40대</td>\n",
       "      <td>1</td>\n",
       "      <td>28.17</td>\n",
       "      <td>0.22</td>\n",
       "      <td>936.08</td>\n",
       "      <td>5</td>\n",
       "      <td>9.3608</td>\n",
       "      <td>01</td>\n",
       "      <td>1</td>\n",
       "      <td>Friday</td>\n",
       "      <td>주중</td>\n",
       "    </tr>\n",
       "    <tr>\n",
       "      <th>2</th>\n",
       "      <td>102</td>\n",
       "      <td>마포구</td>\n",
       "      <td>망원역 1번출구 앞</td>\n",
       "      <td>LCD</td>\n",
       "      <td>2021-01-01</td>\n",
       "      <td>11</td>\n",
       "      <td>정기권</td>\n",
       "      <td>M</td>\n",
       "      <td>50대</td>\n",
       "      <td>1</td>\n",
       "      <td>111.81</td>\n",
       "      <td>0.96</td>\n",
       "      <td>4152.22</td>\n",
       "      <td>22</td>\n",
       "      <td>41.5222</td>\n",
       "      <td>01</td>\n",
       "      <td>1</td>\n",
       "      <td>Friday</td>\n",
       "      <td>주중</td>\n",
       "    </tr>\n",
       "    <tr>\n",
       "      <th>3</th>\n",
       "      <td>102</td>\n",
       "      <td>마포구</td>\n",
       "      <td>망원역 1번출구 앞</td>\n",
       "      <td>LCD</td>\n",
       "      <td>2021-01-01</td>\n",
       "      <td>12</td>\n",
       "      <td>정기권</td>\n",
       "      <td>0</td>\n",
       "      <td>50대</td>\n",
       "      <td>1</td>\n",
       "      <td>0.00</td>\n",
       "      <td>0.00</td>\n",
       "      <td>0.00</td>\n",
       "      <td>41</td>\n",
       "      <td>0.0000</td>\n",
       "      <td>01</td>\n",
       "      <td>1</td>\n",
       "      <td>Friday</td>\n",
       "      <td>주중</td>\n",
       "    </tr>\n",
       "    <tr>\n",
       "      <th>4</th>\n",
       "      <td>102</td>\n",
       "      <td>마포구</td>\n",
       "      <td>망원역 1번출구 앞</td>\n",
       "      <td>LCD</td>\n",
       "      <td>2021-01-01</td>\n",
       "      <td>12</td>\n",
       "      <td>정기권</td>\n",
       "      <td>F</td>\n",
       "      <td>40대</td>\n",
       "      <td>1</td>\n",
       "      <td>0.00</td>\n",
       "      <td>0.00</td>\n",
       "      <td>0.00</td>\n",
       "      <td>41</td>\n",
       "      <td>0.0000</td>\n",
       "      <td>01</td>\n",
       "      <td>1</td>\n",
       "      <td>Friday</td>\n",
       "      <td>주중</td>\n",
       "    </tr>\n",
       "  </tbody>\n",
       "</table>\n",
       "</div>"
      ],
      "text/plain": [
       "   대여소번호 소재지(자치구)        대여소명 운영방식       대여일자  대여시간 대여구분코드 대여자성별 연령대코드  이용건수  \\\n",
       "0    102      마포구  망원역 1번출구 앞  LCD 2021-01-01     0    정기권     0   20대     1   \n",
       "1    102      마포구  망원역 1번출구 앞  LCD 2021-01-01    10    정기권     M   40대     1   \n",
       "2    102      마포구  망원역 1번출구 앞  LCD 2021-01-01    11    정기권     M   50대     1   \n",
       "3    102      마포구  망원역 1번출구 앞  LCD 2021-01-01    12    정기권     0   50대     1   \n",
       "4    102      마포구  망원역 1번출구 앞  LCD 2021-01-01    12    정기권     F   40대     1   \n",
       "\n",
       "      운동량   탄소량     이동거리  사용시간  이동거리(km)   월  월_함수      요일 주중주말  \n",
       "0    0.00  0.00     0.00     6    0.0000  01     1  Friday   주중  \n",
       "1   28.17  0.22   936.08     5    9.3608  01     1  Friday   주중  \n",
       "2  111.81  0.96  4152.22    22   41.5222  01     1  Friday   주중  \n",
       "3    0.00  0.00     0.00    41    0.0000  01     1  Friday   주중  \n",
       "4    0.00  0.00     0.00    41    0.0000  01     1  Friday   주중  "
      ]
     },
     "execution_count": 82,
     "metadata": {},
     "output_type": "execute_result"
    }
   ],
   "source": [
    "# 월~금: 주중, 토/일:주말  => '주중주말' 필드 생성\n",
    "\n",
    "#wd = []\n",
    "#for w in df_m['요일']:\n",
    "#    if w == \"Sunday\" or w == 'Saturday':\n",
    "#        wd.append('주말')\n",
    "#    else:\n",
    "#        wd.append('주중')\n",
    "\n",
    "#df_m['주중주말'] = wd\n",
    "\n",
    "df_m['주중주말'] = [\"주말\" if (w == \"Sunday\" or w == 'Saturday') else \"주중\" for w in df_m['요일']]\n",
    "df_m.head()"
   ]
  },
  {
   "cell_type": "markdown",
   "id": "2fd53815",
   "metadata": {},
   "source": [
    "## 데이터 EDA를 위한 시각화"
   ]
  },
  {
   "cell_type": "code",
   "execution_count": 83,
   "id": "bf186c23",
   "metadata": {},
   "outputs": [
    {
     "data": {
      "image/png": "[encoded data removed]",
      "text/plain": [
       "<Figure size 720x720 with 12 Axes>"
      ]
     },
     "metadata": {
      "needs_background": "light"
     },
     "output_type": "display_data"
    }
   ],
   "source": [
    "# 데이터 시각화\n",
    "df_m.hist(figsize=(10, 10))\n",
    "plt.tight_layout()  # 그리프 간격 설정\n",
    "plt.show()"
   ]
  },
  {
   "cell_type": "code",
   "execution_count": 85,
   "id": "f581b89b",
   "metadata": {},
   "outputs": [
    {
     "data": {
      "image/png": "[encoded data removed]",
      "text/plain": [
       "<Figure size 1080x432 with 1 Axes>"
      ]
     },
     "metadata": {
      "needs_background": "light"
     },
     "output_type": "display_data"
    }
   ],
   "source": [
    "# 대여시간을 기준으로 산점도 차트 작성\n",
    "plt.figure(figsize=(15, 6))\n",
    "plt.scatter(df_m.대여소번호, df_m.대여시간)\n",
    "plt.show()"
   ]
  },
  {
   "cell_type": "code",
   "execution_count": 86,
   "id": "594399c2",
   "metadata": {},
   "outputs": [
    {
     "data": {
      "image/png": "[encoded data removed]",
      "text/plain": [
       "<Figure size 1080x432 with 1 Axes>"
      ]
     },
     "metadata": {
      "needs_background": "light"
     },
     "output_type": "display_data"
    }
   ],
   "source": [
    "# 일자별 이용현황 그래프(꺾은선 차트)_기본 데이터 이용\n",
    "plt.figure(figsize=(15, 6))\n",
    "plt.plot(df_m.대여일자, df_m['이용건수'], marker='o')\n",
    "plt.show()"
   ]
  },
  {
   "cell_type": "code",
   "execution_count": 93,
   "id": "c41b6381",
   "metadata": {},
   "outputs": [
    {
     "data": {
      "text/plain": [
       "대여일자\n",
       "2021-01-01    21426\n",
       "2021-01-02    22805\n",
       "2021-01-03    21122\n",
       "2021-01-04    31936\n",
       "2021-01-05    28154\n",
       "Name: 이용건수, dtype: int64"
      ]
     },
     "execution_count": 93,
     "metadata": {},
     "output_type": "execute_result"
    }
   ],
   "source": [
    "# 일자별 이용현황 그래프(꺾은선 차트) => 일자별 집계를 통해 차트 그리기\n",
    "# 일자별 집계\n",
    "# df_m['이용건수'].groupby(df_m['대여일자']).sum()\n",
    "chrat_df=df_m.groupby('대여일자')['이용건수'].sum()\n",
    "chrat_df.head()"
   ]
  },
  {
   "cell_type": "code",
   "execution_count": 95,
   "id": "62eb6522",
   "metadata": {},
   "outputs": [
    {
     "data": {
      "image/png": "[encoded data removed]",
      "text/plain": [
       "<Figure size 1080x432 with 1 Axes>"
      ]
     },
     "metadata": {
      "needs_background": "light"
     },
     "output_type": "display_data"
    }
   ],
   "source": [
    "plt.figure(figsize=(15, 6))\n",
    "plt.plot(chrat_df.index, chrat_df, marker='o')\n",
    "plt.show()"
   ]
  },
  {
   "cell_type": "code",
   "execution_count": 96,
   "id": "7b981834",
   "metadata": {},
   "outputs": [
    {
     "data": {
      "text/html": [
       "<div>\n",
       "<style scoped>\n",
       "    .dataframe tbody tr th:only-of-type {\n",
       "        vertical-align: middle;\n",
       "    }\n",
       "\n",
       "    .dataframe tbody tr th {\n",
       "        vertical-align: top;\n",
       "    }\n",
       "\n",
       "    .dataframe thead th {\n",
       "        text-align: right;\n",
       "    }\n",
       "</style>\n",
       "<table border=\"1\" class=\"dataframe\">\n",
       "  <thead>\n",
       "    <tr style=\"text-align: right;\">\n",
       "      <th></th>\n",
       "      <th>이용건수</th>\n",
       "    </tr>\n",
       "    <tr>\n",
       "      <th>대여일자</th>\n",
       "      <th></th>\n",
       "    </tr>\n",
       "  </thead>\n",
       "  <tbody>\n",
       "    <tr>\n",
       "      <th>2021-01-01</th>\n",
       "      <td>21426</td>\n",
       "    </tr>\n",
       "    <tr>\n",
       "      <th>2021-01-02</th>\n",
       "      <td>22805</td>\n",
       "    </tr>\n",
       "    <tr>\n",
       "      <th>2021-01-03</th>\n",
       "      <td>21122</td>\n",
       "    </tr>\n",
       "    <tr>\n",
       "      <th>2021-01-04</th>\n",
       "      <td>31936</td>\n",
       "    </tr>\n",
       "    <tr>\n",
       "      <th>2021-01-05</th>\n",
       "      <td>28154</td>\n",
       "    </tr>\n",
       "  </tbody>\n",
       "</table>\n",
       "</div>"
      ],
      "text/plain": [
       "             이용건수\n",
       "대여일자             \n",
       "2021-01-01  21426\n",
       "2021-01-02  22805\n",
       "2021-01-03  21122\n",
       "2021-01-04  31936\n",
       "2021-01-05  28154"
      ]
     },
     "execution_count": 96,
     "metadata": {},
     "output_type": "execute_result"
    }
   ],
   "source": [
    "# df_m['이용건수'].groupby(df_m['대여일자']).sum()\n",
    "chrat_df=df_m.groupby('대여일자')[['이용건수']].sum()\n",
    "chrat_df.head()"
   ]
  },
  {
   "cell_type": "code",
   "execution_count": 97,
   "id": "8a81e244",
   "metadata": {},
   "outputs": [
    {
     "data": {
      "image/png": "[encoded data removed]",
      "text/plain": [
       "<Figure size 1080x432 with 1 Axes>"
      ]
     },
     "metadata": {
      "needs_background": "light"
     },
     "output_type": "display_data"
    }
   ],
   "source": [
    "plt.figure(figsize=(15, 6))\n",
    "plt.plot(chrat_df.index, chrat_df.이용건수, marker='o')\n",
    "plt.show()"
   ]
  },
  {
   "cell_type": "code",
   "execution_count": 114,
   "id": "25e6fc41",
   "metadata": {},
   "outputs": [
    {
     "data": {
      "text/html": [
       "<div>\n",
       "<style scoped>\n",
       "    .dataframe tbody tr th:only-of-type {\n",
       "        vertical-align: middle;\n",
       "    }\n",
       "\n",
       "    .dataframe tbody tr th {\n",
       "        vertical-align: top;\n",
       "    }\n",
       "\n",
       "    .dataframe thead th {\n",
       "        text-align: right;\n",
       "    }\n",
       "</style>\n",
       "<table border=\"1\" class=\"dataframe\">\n",
       "  <thead>\n",
       "    <tr style=\"text-align: right;\">\n",
       "      <th></th>\n",
       "      <th>이용건수</th>\n",
       "    </tr>\n",
       "    <tr>\n",
       "      <th>요일</th>\n",
       "      <th></th>\n",
       "    </tr>\n",
       "  </thead>\n",
       "  <tbody>\n",
       "    <tr>\n",
       "      <th>Friday</th>\n",
       "      <td>118188</td>\n",
       "    </tr>\n",
       "    <tr>\n",
       "      <th>Monday</th>\n",
       "      <td>121051</td>\n",
       "    </tr>\n",
       "    <tr>\n",
       "      <th>Saturday</th>\n",
       "      <td>122619</td>\n",
       "    </tr>\n",
       "    <tr>\n",
       "      <th>Sunday</th>\n",
       "      <td>134426</td>\n",
       "    </tr>\n",
       "    <tr>\n",
       "      <th>Thursday</th>\n",
       "      <td>58955</td>\n",
       "    </tr>\n",
       "  </tbody>\n",
       "</table>\n",
       "</div>"
      ],
      "text/plain": [
       "            이용건수\n",
       "요일              \n",
       "Friday    118188\n",
       "Monday    121051\n",
       "Saturday  122619\n",
       "Sunday    134426\n",
       "Thursday   58955"
      ]
     },
     "metadata": {},
     "output_type": "display_data"
    },
    {
     "data": {
      "image/png": "[encoded data removed]",
      "text/plain": [
       "<Figure size 1080x432 with 1 Axes>"
      ]
     },
     "metadata": {
      "needs_background": "light"
     },
     "output_type": "display_data"
    },
    {
     "data": {
      "image/png": "[encoded data removed]",
      "text/plain": [
       "<Figure size 1080x432 with 1 Axes>"
      ]
     },
     "metadata": {
      "needs_background": "light"
     },
     "output_type": "display_data"
    }
   ],
   "source": [
    "# 요일별 이용 건수 그래프로 확인\n",
    "chrat_df=df_m.groupby('요일')[['이용건수']].sum()\n",
    "display(chrat_df.head())\n",
    "\n",
    "plt.figure(figsize=(15, 6))\n",
    "plt.plot(chrat_df.index, chrat_df.이용건수, marker='o')\n",
    "plt.show()\n",
    "\n",
    "plt.figure(figsize=(15, 6))\n",
    "plt.bar(chrat_df.index, chrat_df.이용건수)\n",
    "plt.show()"
   ]
  },
  {
   "cell_type": "code",
   "execution_count": 112,
   "id": "2d389786",
   "metadata": {},
   "outputs": [
    {
     "data": {
      "text/html": [
       "<div>\n",
       "<style scoped>\n",
       "    .dataframe tbody tr th:only-of-type {\n",
       "        vertical-align: middle;\n",
       "    }\n",
       "\n",
       "    .dataframe tbody tr th {\n",
       "        vertical-align: top;\n",
       "    }\n",
       "\n",
       "    .dataframe thead th {\n",
       "        text-align: right;\n",
       "    }\n",
       "</style>\n",
       "<table border=\"1\" class=\"dataframe\">\n",
       "  <thead>\n",
       "    <tr style=\"text-align: right;\">\n",
       "      <th></th>\n",
       "      <th></th>\n",
       "      <th>이용건수</th>\n",
       "    </tr>\n",
       "    <tr>\n",
       "      <th>요일</th>\n",
       "      <th>대여시간</th>\n",
       "      <th></th>\n",
       "    </tr>\n",
       "  </thead>\n",
       "  <tbody>\n",
       "    <tr>\n",
       "      <th rowspan=\"5\" valign=\"top\">Friday</th>\n",
       "      <th>0</th>\n",
       "      <td>1520</td>\n",
       "    </tr>\n",
       "    <tr>\n",
       "      <th>1</th>\n",
       "      <td>1337</td>\n",
       "    </tr>\n",
       "    <tr>\n",
       "      <th>2</th>\n",
       "      <td>938</td>\n",
       "    </tr>\n",
       "    <tr>\n",
       "      <th>3</th>\n",
       "      <td>756</td>\n",
       "    </tr>\n",
       "    <tr>\n",
       "      <th>4</th>\n",
       "      <td>597</td>\n",
       "    </tr>\n",
       "  </tbody>\n",
       "</table>\n",
       "</div>"
      ],
      "text/plain": [
       "             이용건수\n",
       "요일     대여시간      \n",
       "Friday 0     1520\n",
       "       1     1337\n",
       "       2      938\n",
       "       3      756\n",
       "       4      597"
      ]
     },
     "metadata": {},
     "output_type": "display_data"
    },
    {
     "data": {
      "text/html": [
       "<div>\n",
       "<style scoped>\n",
       "    .dataframe tbody tr th:only-of-type {\n",
       "        vertical-align: middle;\n",
       "    }\n",
       "\n",
       "    .dataframe tbody tr th {\n",
       "        vertical-align: top;\n",
       "    }\n",
       "\n",
       "    .dataframe thead th {\n",
       "        text-align: right;\n",
       "    }\n",
       "</style>\n",
       "<table border=\"1\" class=\"dataframe\">\n",
       "  <thead>\n",
       "    <tr style=\"text-align: right;\">\n",
       "      <th></th>\n",
       "      <th>요일</th>\n",
       "      <th>대여시간</th>\n",
       "      <th>이용건수</th>\n",
       "    </tr>\n",
       "  </thead>\n",
       "  <tbody>\n",
       "    <tr>\n",
       "      <th>0</th>\n",
       "      <td>Friday</td>\n",
       "      <td>0</td>\n",
       "      <td>1520</td>\n",
       "    </tr>\n",
       "    <tr>\n",
       "      <th>1</th>\n",
       "      <td>Friday</td>\n",
       "      <td>1</td>\n",
       "      <td>1337</td>\n",
       "    </tr>\n",
       "    <tr>\n",
       "      <th>2</th>\n",
       "      <td>Friday</td>\n",
       "      <td>2</td>\n",
       "      <td>938</td>\n",
       "    </tr>\n",
       "    <tr>\n",
       "      <th>3</th>\n",
       "      <td>Friday</td>\n",
       "      <td>3</td>\n",
       "      <td>756</td>\n",
       "    </tr>\n",
       "    <tr>\n",
       "      <th>4</th>\n",
       "      <td>Friday</td>\n",
       "      <td>4</td>\n",
       "      <td>597</td>\n",
       "    </tr>\n",
       "  </tbody>\n",
       "</table>\n",
       "</div>"
      ],
      "text/plain": [
       "       요일  대여시간  이용건수\n",
       "0  Friday     0  1520\n",
       "1  Friday     1  1337\n",
       "2  Friday     2   938\n",
       "3  Friday     3   756\n",
       "4  Friday     4   597"
      ]
     },
     "metadata": {},
     "output_type": "display_data"
    },
    {
     "data": {
      "text/html": [
       "<div>\n",
       "<style scoped>\n",
       "    .dataframe tbody tr th:only-of-type {\n",
       "        vertical-align: middle;\n",
       "    }\n",
       "\n",
       "    .dataframe tbody tr th {\n",
       "        vertical-align: top;\n",
       "    }\n",
       "\n",
       "    .dataframe thead th {\n",
       "        text-align: right;\n",
       "    }\n",
       "</style>\n",
       "<table border=\"1\" class=\"dataframe\">\n",
       "  <thead>\n",
       "    <tr style=\"text-align: right;\">\n",
       "      <th></th>\n",
       "      <th>요일</th>\n",
       "      <th>대여시간</th>\n",
       "      <th>이용건수</th>\n",
       "    </tr>\n",
       "  </thead>\n",
       "  <tbody>\n",
       "    <tr>\n",
       "      <th>0</th>\n",
       "      <td>Friday</td>\n",
       "      <td>0</td>\n",
       "      <td>1520</td>\n",
       "    </tr>\n",
       "    <tr>\n",
       "      <th>1</th>\n",
       "      <td>Friday</td>\n",
       "      <td>1</td>\n",
       "      <td>1337</td>\n",
       "    </tr>\n",
       "    <tr>\n",
       "      <th>2</th>\n",
       "      <td>Friday</td>\n",
       "      <td>2</td>\n",
       "      <td>938</td>\n",
       "    </tr>\n",
       "    <tr>\n",
       "      <th>3</th>\n",
       "      <td>Friday</td>\n",
       "      <td>3</td>\n",
       "      <td>756</td>\n",
       "    </tr>\n",
       "    <tr>\n",
       "      <th>4</th>\n",
       "      <td>Friday</td>\n",
       "      <td>4</td>\n",
       "      <td>597</td>\n",
       "    </tr>\n",
       "  </tbody>\n",
       "</table>\n",
       "</div>"
      ],
      "text/plain": [
       "       요일  대여시간  이용건수\n",
       "0  Friday     0  1520\n",
       "1  Friday     1  1337\n",
       "2  Friday     2   938\n",
       "3  Friday     3   756\n",
       "4  Friday     4   597"
      ]
     },
     "metadata": {},
     "output_type": "display_data"
    },
    {
     "data": {
      "text/html": [
       "<div>\n",
       "<style scoped>\n",
       "    .dataframe tbody tr th:only-of-type {\n",
       "        vertical-align: middle;\n",
       "    }\n",
       "\n",
       "    .dataframe tbody tr th {\n",
       "        vertical-align: top;\n",
       "    }\n",
       "\n",
       "    .dataframe thead th {\n",
       "        text-align: right;\n",
       "    }\n",
       "</style>\n",
       "<table border=\"1\" class=\"dataframe\">\n",
       "  <thead>\n",
       "    <tr style=\"text-align: right;\">\n",
       "      <th></th>\n",
       "      <th>이용건수</th>\n",
       "    </tr>\n",
       "    <tr>\n",
       "      <th>대여시간</th>\n",
       "      <th></th>\n",
       "    </tr>\n",
       "  </thead>\n",
       "  <tbody>\n",
       "    <tr>\n",
       "      <th>0</th>\n",
       "      <td>2036</td>\n",
       "    </tr>\n",
       "    <tr>\n",
       "      <th>1</th>\n",
       "      <td>1623</td>\n",
       "    </tr>\n",
       "    <tr>\n",
       "      <th>2</th>\n",
       "      <td>1179</td>\n",
       "    </tr>\n",
       "    <tr>\n",
       "      <th>3</th>\n",
       "      <td>771</td>\n",
       "    </tr>\n",
       "    <tr>\n",
       "      <th>4</th>\n",
       "      <td>558</td>\n",
       "    </tr>\n",
       "  </tbody>\n",
       "</table>\n",
       "</div>"
      ],
      "text/plain": [
       "      이용건수\n",
       "대여시간      \n",
       "0     2036\n",
       "1     1623\n",
       "2     1179\n",
       "3      771\n",
       "4      558"
      ]
     },
     "metadata": {},
     "output_type": "display_data"
    },
    {
     "data": {
      "image/png": "[encoded data removed]",
      "text/plain": [
       "<Figure size 1080x432 with 1 Axes>"
      ]
     },
     "metadata": {
      "needs_background": "light"
     },
     "output_type": "display_data"
    }
   ],
   "source": [
    "# 요일별/대여시간에 따른 이용 건수 그래프로 확인 (2개 이상을 groupby할 경우)\n",
    "chrat_df=df_m.groupby(['요일', '대여시간'])[['이용건수']].sum()\n",
    "display(chrat_df.head())\n",
    "\n",
    "chrat_df = chrat_df.reset_index(drop=False)\n",
    "display(chrat_df.head())\n",
    "\n",
    "chrat_df_m = chrat_df[chrat_df['요일']=='Sunday']\n",
    "display(chrat_df.head())\n",
    "\n",
    "chrat_df_m=chrat_df_m.groupby('대여시간')[['이용건수']].sum()\n",
    "display(chrat_df_m.head())\n",
    "\n",
    "plt.figure(figsize=(15, 6))\n",
    "plt.plot(chrat_df_m.index, chrat_df_m.이용건수, marker='o')\n",
    "plt.show()"
   ]
  },
  {
   "cell_type": "code",
   "execution_count": 113,
   "id": "fba6c26e",
   "metadata": {},
   "outputs": [
    {
     "data": {
      "image/png": "[encoded data removed]",
      "text/plain": [
       "<Figure size 1080x432 with 1 Axes>"
      ]
     },
     "metadata": {
      "needs_background": "light"
     },
     "output_type": "display_data"
    }
   ],
   "source": [
    "# 시간대표 막대그래프\n",
    "plt.figure(figsize=(15, 6))\n",
    "plt.bar(chrat_df_m.index, chrat_df_m.이용건수)\n",
    "plt.show()"
   ]
  },
  {
   "cell_type": "code",
   "execution_count": null,
   "id": "d88461db",
   "metadata": {},
   "outputs": [],
   "source": [
    "# 소재지(자치구)별 이용건수 집계 및 막대차트(각자 해봅니다.)\n",
    "\n"
   ]
  },
  {
   "cell_type": "code",
   "execution_count": 116,
   "id": "147e377d",
   "metadata": {},
   "outputs": [
    {
     "data": {
      "text/html": [
       "<div>\n",
       "<style scoped>\n",
       "    .dataframe tbody tr th:only-of-type {\n",
       "        vertical-align: middle;\n",
       "    }\n",
       "\n",
       "    .dataframe tbody tr th {\n",
       "        vertical-align: top;\n",
       "    }\n",
       "\n",
       "    .dataframe thead th {\n",
       "        text-align: right;\n",
       "    }\n",
       "</style>\n",
       "<table border=\"1\" class=\"dataframe\">\n",
       "  <thead>\n",
       "    <tr style=\"text-align: right;\">\n",
       "      <th></th>\n",
       "      <th>이용건수</th>\n",
       "    </tr>\n",
       "    <tr>\n",
       "      <th>요일</th>\n",
       "      <th></th>\n",
       "    </tr>\n",
       "  </thead>\n",
       "  <tbody>\n",
       "    <tr>\n",
       "      <th>Friday</th>\n",
       "      <td>118188</td>\n",
       "    </tr>\n",
       "    <tr>\n",
       "      <th>Monday</th>\n",
       "      <td>121051</td>\n",
       "    </tr>\n",
       "    <tr>\n",
       "      <th>Saturday</th>\n",
       "      <td>122619</td>\n",
       "    </tr>\n",
       "    <tr>\n",
       "      <th>Sunday</th>\n",
       "      <td>134426</td>\n",
       "    </tr>\n",
       "    <tr>\n",
       "      <th>Thursday</th>\n",
       "      <td>58955</td>\n",
       "    </tr>\n",
       "  </tbody>\n",
       "</table>\n",
       "</div>"
      ],
      "text/plain": [
       "            이용건수\n",
       "요일              \n",
       "Friday    118188\n",
       "Monday    121051\n",
       "Saturday  122619\n",
       "Sunday    134426\n",
       "Thursday   58955"
      ]
     },
     "metadata": {},
     "output_type": "display_data"
    },
    {
     "data": {
      "image/png": "[encoded data removed]",
      "text/plain": [
       "<Figure size 1080x432 with 1 Axes>"
      ]
     },
     "metadata": {
      "needs_background": "light"
     },
     "output_type": "display_data"
    }
   ],
   "source": [
    "# 요일별 이용 건수 그래프로 확인\n",
    "chrat_df=df_m.groupby('요일')[['이용건수']].sum()\n",
    "display(chrat_df.head())\n",
    "\n",
    "plt.figure(figsize=(15, 6))\n",
    "plt.bar(chrat_df.index, chrat_df.이용건수)\n",
    "plt.show()"
   ]
  },
  {
   "cell_type": "code",
   "execution_count": 120,
   "id": "1713746f",
   "metadata": {},
   "outputs": [
    {
     "name": "stdout",
     "output_type": "stream",
     "text": [
      "===== 정렬이 되지 않은 상태 ========\n"
     ]
    },
    {
     "data": {
      "text/html": [
       "<div>\n",
       "<style scoped>\n",
       "    .dataframe tbody tr th:only-of-type {\n",
       "        vertical-align: middle;\n",
       "    }\n",
       "\n",
       "    .dataframe tbody tr th {\n",
       "        vertical-align: top;\n",
       "    }\n",
       "\n",
       "    .dataframe thead th {\n",
       "        text-align: right;\n",
       "    }\n",
       "</style>\n",
       "<table border=\"1\" class=\"dataframe\">\n",
       "  <thead>\n",
       "    <tr style=\"text-align: right;\">\n",
       "      <th></th>\n",
       "      <th>이용건수</th>\n",
       "    </tr>\n",
       "    <tr>\n",
       "      <th>요일</th>\n",
       "      <th></th>\n",
       "    </tr>\n",
       "  </thead>\n",
       "  <tbody>\n",
       "    <tr>\n",
       "      <th>Friday</th>\n",
       "      <td>118188</td>\n",
       "    </tr>\n",
       "    <tr>\n",
       "      <th>Monday</th>\n",
       "      <td>121051</td>\n",
       "    </tr>\n",
       "    <tr>\n",
       "      <th>Saturday</th>\n",
       "      <td>122619</td>\n",
       "    </tr>\n",
       "    <tr>\n",
       "      <th>Sunday</th>\n",
       "      <td>134426</td>\n",
       "    </tr>\n",
       "    <tr>\n",
       "      <th>Thursday</th>\n",
       "      <td>58955</td>\n",
       "    </tr>\n",
       "    <tr>\n",
       "      <th>Tuesday</th>\n",
       "      <td>92122</td>\n",
       "    </tr>\n",
       "    <tr>\n",
       "      <th>Wednesday</th>\n",
       "      <td>120599</td>\n",
       "    </tr>\n",
       "  </tbody>\n",
       "</table>\n",
       "</div>"
      ],
      "text/plain": [
       "             이용건수\n",
       "요일               \n",
       "Friday     118188\n",
       "Monday     121051\n",
       "Saturday   122619\n",
       "Sunday     134426\n",
       "Thursday    58955\n",
       "Tuesday     92122\n",
       "Wednesday  120599"
      ]
     },
     "metadata": {},
     "output_type": "display_data"
    },
    {
     "name": "stdout",
     "output_type": "stream",
     "text": [
      "===== 정렬을 한 상태 ========\n"
     ]
    },
    {
     "data": {
      "text/html": [
       "<div>\n",
       "<style scoped>\n",
       "    .dataframe tbody tr th:only-of-type {\n",
       "        vertical-align: middle;\n",
       "    }\n",
       "\n",
       "    .dataframe tbody tr th {\n",
       "        vertical-align: top;\n",
       "    }\n",
       "\n",
       "    .dataframe thead th {\n",
       "        text-align: right;\n",
       "    }\n",
       "</style>\n",
       "<table border=\"1\" class=\"dataframe\">\n",
       "  <thead>\n",
       "    <tr style=\"text-align: right;\">\n",
       "      <th></th>\n",
       "      <th>이용건수</th>\n",
       "    </tr>\n",
       "    <tr>\n",
       "      <th>요일</th>\n",
       "      <th></th>\n",
       "    </tr>\n",
       "  </thead>\n",
       "  <tbody>\n",
       "    <tr>\n",
       "      <th>Monday</th>\n",
       "      <td>121051</td>\n",
       "    </tr>\n",
       "    <tr>\n",
       "      <th>Tuesday</th>\n",
       "      <td>92122</td>\n",
       "    </tr>\n",
       "    <tr>\n",
       "      <th>Wednesday</th>\n",
       "      <td>120599</td>\n",
       "    </tr>\n",
       "    <tr>\n",
       "      <th>Thursday</th>\n",
       "      <td>58955</td>\n",
       "    </tr>\n",
       "    <tr>\n",
       "      <th>Friday</th>\n",
       "      <td>118188</td>\n",
       "    </tr>\n",
       "    <tr>\n",
       "      <th>Saturday</th>\n",
       "      <td>122619</td>\n",
       "    </tr>\n",
       "    <tr>\n",
       "      <th>Sunday</th>\n",
       "      <td>134426</td>\n",
       "    </tr>\n",
       "  </tbody>\n",
       "</table>\n",
       "</div>"
      ],
      "text/plain": [
       "             이용건수\n",
       "요일               \n",
       "Monday     121051\n",
       "Tuesday     92122\n",
       "Wednesday  120599\n",
       "Thursday    58955\n",
       "Friday     118188\n",
       "Saturday   122619\n",
       "Sunday     134426"
      ]
     },
     "metadata": {},
     "output_type": "display_data"
    },
    {
     "name": "stdout",
     "output_type": "stream",
     "text": [
      "\n"
     ]
    },
    {
     "data": {
      "image/png": "[encoded data removed]",
      "text/plain": [
       "<Figure size 1080x432 with 1 Axes>"
      ]
     },
     "metadata": {
      "needs_background": "light"
     },
     "output_type": "display_data"
    }
   ],
   "source": [
    "# 요일을 원하는 순서대로 표현(사용자 정렬)\n",
    "weekDayName=['Monday', 'Tuesday', 'Wednesday', 'Thursday', 'Friday', 'Saturday', 'Sunday']\n",
    "\n",
    "\n",
    "chrat_df=df_m.groupby('요일')[['이용건수']].sum()\n",
    "\n",
    "print(\"===== 정렬이 되지 않은 상태 ========\")\n",
    "display(chrat_df)\n",
    "\n",
    "print(\"===== 정렬을 한 상태 ========\")\n",
    "df_sort = chrat_df.loc[weekDayName]  # groupby 결과에 대하여 index 값의 순서 변경\n",
    "display(df_sort)\n",
    "print()\n",
    "\n",
    "plt.figure(figsize=(15, 6))\n",
    "plt.bar(weekDayName, chrat_df.이용건수)\n",
    "plt.show()\n"
   ]
  },
  {
   "cell_type": "code",
   "execution_count": 122,
   "id": "91502409",
   "metadata": {},
   "outputs": [
    {
     "name": "stdout",
     "output_type": "stream",
     "text": [
      "[121051, 92122, 120599, 58955, 118188, 122619, 134426]\n"
     ]
    },
    {
     "data": {
      "image/png": "[encoded data removed]",
      "text/plain": [
       "<Figure size 1080x432 with 1 Axes>"
      ]
     },
     "metadata": {
      "needs_background": "light"
     },
     "output_type": "display_data"
    }
   ],
   "source": [
    "## 참고: 직접 정렬하는 코드를 제작할 수 있음\n",
    "\n",
    "weekDayName=['Monday', 'Tuesday', 'Wednesday', 'Thursday', 'Friday', 'Saturday', 'Sunday']\n",
    "\n",
    "weekDayValue = []\n",
    "for i in weekDayName:\n",
    "    for j, value in zip(chrat_df.index, chrat_df.이용건수):\n",
    "        if i == j:\n",
    "            weekDayValue.append(value)\n",
    "            \n",
    "print(weekDayValue)\n",
    "\n",
    "plt.figure(figsize=(15, 6))\n",
    "plt.bar(weekDayName, weekDayValue)\n",
    "plt.show()"
   ]
  },
  {
   "cell_type": "code",
   "execution_count": null,
   "id": "25b8fa2f",
   "metadata": {},
   "outputs": [],
   "source": []
  },
  {
   "cell_type": "code",
   "execution_count": null,
   "id": "28ea5586",
   "metadata": {},
   "outputs": [],
   "source": []
  }
 ],
 "metadata": {
  "colab": {
   "collapsed_sections": [
    "b26bbc68",
    "56059a48",
    "77fd9eae",
    "3ea3f79a",
    "763914f0"
   ],
   "name": "1. 서울시 공공자전거 분석.ipynb",
   "provenance": []
  },
  "kernelspec": {
   "display_name": "Python 3 (ipykernel)",
   "language": "python",
   "name": "python3"
  },
  "language_info": {
   "codemirror_mode": {
    "name": "ipython",
    "version": 3
   },
   "file_extension": ".py",
   "mimetype": "text/x-python",
   "name": "python",
   "nbconvert_exporter": "python",
   "pygments_lexer": "ipython3",
   "version": "3.9.7"
  }
 },
 "nbformat": 4,
 "nbformat_minor": 5
}
