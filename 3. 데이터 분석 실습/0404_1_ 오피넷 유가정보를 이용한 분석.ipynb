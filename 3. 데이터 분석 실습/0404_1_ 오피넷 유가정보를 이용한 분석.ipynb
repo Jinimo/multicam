{
 "cells": [
  {
   "cell_type": "markdown",
   "id": "fbcb9f8f",
   "metadata": {},
   "source": [
    "# 오피넷 유가정보를 이용한 분석 \n",
    "- 브랜드별 유류비 분석(어느 브랜드가 저렴한 가격으로 공급하고 있는가?)\n",
    "- 셀프/주유에 따른 분석(셀프 주유소가 일반 주유소보다 가격이 저렴한가?)\n",
    "- 지역별로 유류비 가격 분석 "
   ]
  },
  {
   "cell_type": "markdown",
   "id": "840bd876",
   "metadata": {},
   "source": [
    "## 1. 데이터 불러오기 및 데이터 정리\n",
    "- 크롤링 진행\n",
    "- 하나의 데이터로 만들기"
   ]
  },
  {
   "cell_type": "code",
   "execution_count": 3,
   "id": "8ad0457f",
   "metadata": {},
   "outputs": [
    {
     "data": {
      "text/plain": [
       "51"
      ]
     },
     "execution_count": 3,
     "metadata": {},
     "output_type": "execute_result"
    }
   ],
   "source": [
    "import pandas as pd\n",
    "from glob import glob\n",
    "\n",
    "locFriles = glob('../data/oil_data/지역_위치별*.xls')\n",
    "len(locFriles)"
   ]
  },
  {
   "cell_type": "code",
   "execution_count": 56,
   "id": "bc71b071",
   "metadata": {},
   "outputs": [],
   "source": [
    "import warnings\n",
    "warnings.filterwarnings(action='ignore')\n",
    "# warnings.filterwarnings(action='default')  # 경고메세지 활성화"
   ]
  },
  {
   "cell_type": "code",
   "execution_count": 7,
   "id": "cded48e7",
   "metadata": {},
   "outputs": [
    {
     "data": {
      "text/html": [
       "<div>\n",
       "<style scoped>\n",
       "    .dataframe tbody tr th:only-of-type {\n",
       "        vertical-align: middle;\n",
       "    }\n",
       "\n",
       "    .dataframe tbody tr th {\n",
       "        vertical-align: top;\n",
       "    }\n",
       "\n",
       "    .dataframe thead th {\n",
       "        text-align: right;\n",
       "    }\n",
       "</style>\n",
       "<table border=\"1\" class=\"dataframe\">\n",
       "  <thead>\n",
       "    <tr style=\"text-align: right;\">\n",
       "      <th></th>\n",
       "      <th>지역_위치별(주유소)</th>\n",
       "      <th>Unnamed: 1</th>\n",
       "      <th>Unnamed: 2</th>\n",
       "      <th>Unnamed: 3</th>\n",
       "      <th>Unnamed: 4</th>\n",
       "      <th>Unnamed: 5</th>\n",
       "      <th>Unnamed: 6</th>\n",
       "      <th>Unnamed: 7</th>\n",
       "      <th>Unnamed: 8</th>\n",
       "      <th>Unnamed: 9</th>\n",
       "    </tr>\n",
       "  </thead>\n",
       "  <tbody>\n",
       "    <tr>\n",
       "      <th>0</th>\n",
       "      <td>NaN</td>\n",
       "      <td>NaN</td>\n",
       "      <td>NaN</td>\n",
       "      <td>NaN</td>\n",
       "      <td>NaN</td>\n",
       "      <td>NaN</td>\n",
       "      <td>NaN</td>\n",
       "      <td>NaN</td>\n",
       "      <td>NaN</td>\n",
       "      <td>(단위 : 원/리터)</td>\n",
       "    </tr>\n",
       "    <tr>\n",
       "      <th>1</th>\n",
       "      <td>지역</td>\n",
       "      <td>상호</td>\n",
       "      <td>주소</td>\n",
       "      <td>상표</td>\n",
       "      <td>전화번호</td>\n",
       "      <td>셀프여부</td>\n",
       "      <td>고급휘발유</td>\n",
       "      <td>휘발유</td>\n",
       "      <td>경유</td>\n",
       "      <td>실내등유</td>\n",
       "    </tr>\n",
       "    <tr>\n",
       "      <th>2</th>\n",
       "      <td>광주광역시</td>\n",
       "      <td>(주)반디석유</td>\n",
       "      <td>광주 북구 하남대로 819 (운암동)</td>\n",
       "      <td>현대오일뱅크</td>\n",
       "      <td>062-523-8301</td>\n",
       "      <td>N</td>\n",
       "      <td>-</td>\n",
       "      <td>1890</td>\n",
       "      <td>1850</td>\n",
       "      <td>-</td>\n",
       "    </tr>\n",
       "    <tr>\n",
       "      <th>3</th>\n",
       "      <td>광주광역시</td>\n",
       "      <td>오치한전주유소</td>\n",
       "      <td>광주 북구 천지인로 91 (오치동)</td>\n",
       "      <td>SK에너지</td>\n",
       "      <td>070-8836-5051</td>\n",
       "      <td>Y</td>\n",
       "      <td>-</td>\n",
       "      <td>1918</td>\n",
       "      <td>1838</td>\n",
       "      <td>-</td>\n",
       "    </tr>\n",
       "    <tr>\n",
       "      <th>4</th>\n",
       "      <td>광주광역시</td>\n",
       "      <td>(주)대창석유직영 운암주유소</td>\n",
       "      <td>광주 북구 북문대로 34 (운암동)</td>\n",
       "      <td>SK에너지</td>\n",
       "      <td>062-525-0716</td>\n",
       "      <td>Y</td>\n",
       "      <td>2150</td>\n",
       "      <td>1920</td>\n",
       "      <td>1860</td>\n",
       "      <td>-</td>\n",
       "    </tr>\n",
       "  </tbody>\n",
       "</table>\n",
       "</div>"
      ],
      "text/plain": [
       "  지역_위치별(주유소)       Unnamed: 1            Unnamed: 2 Unnamed: 3  \\\n",
       "0         NaN              NaN                   NaN        NaN   \n",
       "1          지역               상호                    주소         상표   \n",
       "2       광주광역시          (주)반디석유  광주 북구 하남대로 819 (운암동)     현대오일뱅크   \n",
       "3       광주광역시          오치한전주유소   광주 북구 천지인로 91 (오치동)      SK에너지   \n",
       "4       광주광역시  (주)대창석유직영 운암주유소   광주 북구 북문대로 34 (운암동)      SK에너지   \n",
       "\n",
       "      Unnamed: 4 Unnamed: 5 Unnamed: 6 Unnamed: 7 Unnamed: 8   Unnamed: 9  \n",
       "0            NaN        NaN        NaN        NaN        NaN  (단위 : 원/리터)  \n",
       "1           전화번호       셀프여부      고급휘발유        휘발유         경유         실내등유  \n",
       "2   062-523-8301          N          -       1890       1850            -  \n",
       "3  070-8836-5051          Y          -       1918       1838            -  \n",
       "4   062-525-0716          Y       2150       1920       1860            -  "
      ]
     },
     "execution_count": 7,
     "metadata": {},
     "output_type": "execute_result"
    }
   ],
   "source": [
    "# 데이터 하나만 불러오기 \n",
    "df = pd.read_excel(locFriles[0])\n",
    "df.head()"
   ]
  },
  {
   "cell_type": "code",
   "execution_count": 6,
   "id": "e33983e3",
   "metadata": {},
   "outputs": [],
   "source": [
    "#!pip install xlrd"
   ]
  },
  {
   "cell_type": "code",
   "execution_count": 9,
   "id": "8ad013bb",
   "metadata": {},
   "outputs": [
    {
     "data": {
      "text/html": [
       "<div>\n",
       "<style scoped>\n",
       "    .dataframe tbody tr th:only-of-type {\n",
       "        vertical-align: middle;\n",
       "    }\n",
       "\n",
       "    .dataframe tbody tr th {\n",
       "        vertical-align: top;\n",
       "    }\n",
       "\n",
       "    .dataframe thead th {\n",
       "        text-align: right;\n",
       "    }\n",
       "</style>\n",
       "<table border=\"1\" class=\"dataframe\">\n",
       "  <thead>\n",
       "    <tr style=\"text-align: right;\">\n",
       "      <th></th>\n",
       "      <th>지역</th>\n",
       "      <th>상호</th>\n",
       "      <th>주소</th>\n",
       "      <th>상표</th>\n",
       "      <th>전화번호</th>\n",
       "      <th>셀프여부</th>\n",
       "      <th>고급휘발유</th>\n",
       "      <th>휘발유</th>\n",
       "      <th>경유</th>\n",
       "      <th>실내등유</th>\n",
       "    </tr>\n",
       "  </thead>\n",
       "  <tbody>\n",
       "    <tr>\n",
       "      <th>0</th>\n",
       "      <td>광주광역시</td>\n",
       "      <td>(주)반디석유</td>\n",
       "      <td>광주 북구 하남대로 819 (운암동)</td>\n",
       "      <td>현대오일뱅크</td>\n",
       "      <td>062-523-8301</td>\n",
       "      <td>N</td>\n",
       "      <td>-</td>\n",
       "      <td>1890</td>\n",
       "      <td>1850</td>\n",
       "      <td>-</td>\n",
       "    </tr>\n",
       "    <tr>\n",
       "      <th>1</th>\n",
       "      <td>광주광역시</td>\n",
       "      <td>오치한전주유소</td>\n",
       "      <td>광주 북구 천지인로 91 (오치동)</td>\n",
       "      <td>SK에너지</td>\n",
       "      <td>070-8836-5051</td>\n",
       "      <td>Y</td>\n",
       "      <td>-</td>\n",
       "      <td>1918</td>\n",
       "      <td>1838</td>\n",
       "      <td>-</td>\n",
       "    </tr>\n",
       "    <tr>\n",
       "      <th>2</th>\n",
       "      <td>광주광역시</td>\n",
       "      <td>(주)대창석유직영 운암주유소</td>\n",
       "      <td>광주 북구 북문대로 34 (운암동)</td>\n",
       "      <td>SK에너지</td>\n",
       "      <td>062-525-0716</td>\n",
       "      <td>Y</td>\n",
       "      <td>2150</td>\n",
       "      <td>1920</td>\n",
       "      <td>1860</td>\n",
       "      <td>-</td>\n",
       "    </tr>\n",
       "    <tr>\n",
       "      <th>3</th>\n",
       "      <td>광주광역시</td>\n",
       "      <td>서광주IC주유소</td>\n",
       "      <td>광주 북구 하서로 47 (운암동)</td>\n",
       "      <td>S-OIL</td>\n",
       "      <td>062-514-1372</td>\n",
       "      <td>Y</td>\n",
       "      <td>-</td>\n",
       "      <td>1920</td>\n",
       "      <td>1855</td>\n",
       "      <td>-</td>\n",
       "    </tr>\n",
       "    <tr>\n",
       "      <th>4</th>\n",
       "      <td>광주광역시</td>\n",
       "      <td>자모셀프주유소</td>\n",
       "      <td>광주 북구 우치로 7 (중흥동)</td>\n",
       "      <td>SK에너지</td>\n",
       "      <td>062-513-9951</td>\n",
       "      <td>Y</td>\n",
       "      <td>-</td>\n",
       "      <td>1928</td>\n",
       "      <td>1848</td>\n",
       "      <td>-</td>\n",
       "    </tr>\n",
       "  </tbody>\n",
       "</table>\n",
       "</div>"
      ],
      "text/plain": [
       "      지역               상호                    주소      상표           전화번호 셀프여부  \\\n",
       "0  광주광역시          (주)반디석유  광주 북구 하남대로 819 (운암동)  현대오일뱅크   062-523-8301    N   \n",
       "1  광주광역시          오치한전주유소   광주 북구 천지인로 91 (오치동)   SK에너지  070-8836-5051    Y   \n",
       "2  광주광역시  (주)대창석유직영 운암주유소   광주 북구 북문대로 34 (운암동)   SK에너지   062-525-0716    Y   \n",
       "3  광주광역시         서광주IC주유소    광주 북구 하서로 47 (운암동)   S-OIL   062-514-1372    Y   \n",
       "4  광주광역시          자모셀프주유소     광주 북구 우치로 7 (중흥동)   SK에너지   062-513-9951    Y   \n",
       "\n",
       "  고급휘발유   휘발유    경유 실내등유  \n",
       "0     -  1890  1850    -  \n",
       "1     -  1918  1838    -  \n",
       "2  2150  1920  1860    -  \n",
       "3     -  1920  1855    -  \n",
       "4     -  1928  1848    -  "
      ]
     },
     "execution_count": 9,
     "metadata": {},
     "output_type": "execute_result"
    }
   ],
   "source": [
    "# 위쪽 불필요한 행 X\n",
    "df = pd.read_excel(locFriles[0], header = 2)\n",
    "df.head()"
   ]
  },
  {
   "cell_type": "code",
   "execution_count": 66,
   "id": "49436cae",
   "metadata": {},
   "outputs": [
    {
     "name": "stdout",
     "output_type": "stream",
     "text": [
      "<class 'pandas.core.frame.DataFrame'>\n",
      "RangeIndex: 1344 entries, 0 to 1343\n",
      "Data columns (total 10 columns):\n",
      " #   Column  Non-Null Count  Dtype \n",
      "---  ------  --------------  ----- \n",
      " 0   지역      1344 non-null   object\n",
      " 1   상호      1344 non-null   object\n",
      " 2   주소      1344 non-null   object\n",
      " 3   상표      1344 non-null   object\n",
      " 4   전화번호    1344 non-null   object\n",
      " 5   셀프여부    1344 non-null   object\n",
      " 6   고급휘발유   1344 non-null   object\n",
      " 7   휘발유     1344 non-null   object\n",
      " 8   경유      1344 non-null   object\n",
      " 9   실내등유    1344 non-null   object\n",
      "dtypes: object(10)\n",
      "memory usage: 105.1+ KB\n",
      "None\n"
     ]
    }
   ],
   "source": [
    "# 엑셀 데이터를 일괄 tmp_df에 넣어주고 \n",
    "# 이후 pd.concat() 이용해 열 이름 기준으로 행 추가\n",
    "tmp_df = []\n",
    "for file in locFriles:\n",
    "    tmp = pd.read_excel(file, header = 2)\n",
    "    tmp_df.append(tmp)\n",
    "\n",
    "# 열 이름 기준으로 행 추가\n",
    "df = pd.concat(tmp_df, ignore_index=True) # 리스트에 저장한 데이터 열 추가 (index 재설정 옵션) \n",
    "\n",
    "print(df.info())"
   ]
  },
  {
   "cell_type": "code",
   "execution_count": 67,
   "id": "00d436d2",
   "metadata": {},
   "outputs": [
    {
     "data": {
      "text/html": [
       "<div>\n",
       "<style scoped>\n",
       "    .dataframe tbody tr th:only-of-type {\n",
       "        vertical-align: middle;\n",
       "    }\n",
       "\n",
       "    .dataframe tbody tr th {\n",
       "        vertical-align: top;\n",
       "    }\n",
       "\n",
       "    .dataframe thead th {\n",
       "        text-align: right;\n",
       "    }\n",
       "</style>\n",
       "<table border=\"1\" class=\"dataframe\">\n",
       "  <thead>\n",
       "    <tr style=\"text-align: right;\">\n",
       "      <th></th>\n",
       "      <th>지역</th>\n",
       "      <th>상호</th>\n",
       "      <th>주소</th>\n",
       "      <th>상표</th>\n",
       "      <th>전화번호</th>\n",
       "      <th>셀프여부</th>\n",
       "      <th>고급휘발유</th>\n",
       "      <th>휘발유</th>\n",
       "      <th>경유</th>\n",
       "      <th>실내등유</th>\n",
       "    </tr>\n",
       "  </thead>\n",
       "  <tbody>\n",
       "    <tr>\n",
       "      <th>0</th>\n",
       "      <td>광주광역시</td>\n",
       "      <td>(주)반디석유</td>\n",
       "      <td>광주 북구 하남대로 819 (운암동)</td>\n",
       "      <td>현대오일뱅크</td>\n",
       "      <td>062-523-8301</td>\n",
       "      <td>N</td>\n",
       "      <td>-</td>\n",
       "      <td>1890</td>\n",
       "      <td>1850</td>\n",
       "      <td>-</td>\n",
       "    </tr>\n",
       "    <tr>\n",
       "      <th>1</th>\n",
       "      <td>광주광역시</td>\n",
       "      <td>오치한전주유소</td>\n",
       "      <td>광주 북구 천지인로 91 (오치동)</td>\n",
       "      <td>SK에너지</td>\n",
       "      <td>070-8836-5051</td>\n",
       "      <td>Y</td>\n",
       "      <td>-</td>\n",
       "      <td>1918</td>\n",
       "      <td>1838</td>\n",
       "      <td>-</td>\n",
       "    </tr>\n",
       "    <tr>\n",
       "      <th>2</th>\n",
       "      <td>광주광역시</td>\n",
       "      <td>(주)대창석유직영 운암주유소</td>\n",
       "      <td>광주 북구 북문대로 34 (운암동)</td>\n",
       "      <td>SK에너지</td>\n",
       "      <td>062-525-0716</td>\n",
       "      <td>Y</td>\n",
       "      <td>2150</td>\n",
       "      <td>1920</td>\n",
       "      <td>1860</td>\n",
       "      <td>-</td>\n",
       "    </tr>\n",
       "  </tbody>\n",
       "</table>\n",
       "</div>"
      ],
      "text/plain": [
       "      지역               상호                    주소      상표           전화번호 셀프여부  \\\n",
       "0  광주광역시          (주)반디석유  광주 북구 하남대로 819 (운암동)  현대오일뱅크   062-523-8301    N   \n",
       "1  광주광역시          오치한전주유소   광주 북구 천지인로 91 (오치동)   SK에너지  070-8836-5051    Y   \n",
       "2  광주광역시  (주)대창석유직영 운암주유소   광주 북구 북문대로 34 (운암동)   SK에너지   062-525-0716    Y   \n",
       "\n",
       "  고급휘발유   휘발유    경유 실내등유  \n",
       "0     -  1890  1850    -  \n",
       "1     -  1918  1838    -  \n",
       "2  2150  1920  1860    -  "
      ]
     },
     "metadata": {},
     "output_type": "display_data"
    },
    {
     "data": {
      "text/html": [
       "<div>\n",
       "<style scoped>\n",
       "    .dataframe tbody tr th:only-of-type {\n",
       "        vertical-align: middle;\n",
       "    }\n",
       "\n",
       "    .dataframe tbody tr th {\n",
       "        vertical-align: top;\n",
       "    }\n",
       "\n",
       "    .dataframe thead th {\n",
       "        text-align: right;\n",
       "    }\n",
       "</style>\n",
       "<table border=\"1\" class=\"dataframe\">\n",
       "  <thead>\n",
       "    <tr style=\"text-align: right;\">\n",
       "      <th></th>\n",
       "      <th>지역</th>\n",
       "      <th>상호</th>\n",
       "      <th>주소</th>\n",
       "      <th>상표</th>\n",
       "      <th>전화번호</th>\n",
       "      <th>셀프여부</th>\n",
       "      <th>고급휘발유</th>\n",
       "      <th>휘발유</th>\n",
       "      <th>경유</th>\n",
       "      <th>실내등유</th>\n",
       "    </tr>\n",
       "  </thead>\n",
       "  <tbody>\n",
       "    <tr>\n",
       "      <th>1341</th>\n",
       "      <td>서울특별시</td>\n",
       "      <td>홍능주유소</td>\n",
       "      <td>서울 동대문구 홍릉로 87 (청량리동)</td>\n",
       "      <td>S-OIL</td>\n",
       "      <td>02-966-9190</td>\n",
       "      <td>N</td>\n",
       "      <td>-</td>\n",
       "      <td>2025</td>\n",
       "      <td>1955</td>\n",
       "      <td>1500</td>\n",
       "    </tr>\n",
       "    <tr>\n",
       "      <th>1342</th>\n",
       "      <td>서울특별시</td>\n",
       "      <td>오동나무주유소</td>\n",
       "      <td>서울 동대문구  한천로 81 (답십리동)</td>\n",
       "      <td>S-OIL</td>\n",
       "      <td>02-2247-5132</td>\n",
       "      <td>N</td>\n",
       "      <td>-</td>\n",
       "      <td>2028</td>\n",
       "      <td>1968</td>\n",
       "      <td>1600</td>\n",
       "    </tr>\n",
       "    <tr>\n",
       "      <th>1343</th>\n",
       "      <td>서울특별시</td>\n",
       "      <td>한영주유소 (한화)</td>\n",
       "      <td>서울 동대문구 망우로 38 (휘경동)</td>\n",
       "      <td>현대오일뱅크</td>\n",
       "      <td>02-2214-9890</td>\n",
       "      <td>N</td>\n",
       "      <td>-</td>\n",
       "      <td>2190</td>\n",
       "      <td>2090</td>\n",
       "      <td>1590</td>\n",
       "    </tr>\n",
       "  </tbody>\n",
       "</table>\n",
       "</div>"
      ],
      "text/plain": [
       "         지역          상호                      주소      상표          전화번호 셀프여부  \\\n",
       "1341  서울특별시       홍능주유소   서울 동대문구 홍릉로 87 (청량리동)   S-OIL   02-966-9190    N   \n",
       "1342  서울특별시     오동나무주유소  서울 동대문구  한천로 81 (답십리동)   S-OIL  02-2247-5132    N   \n",
       "1343  서울특별시  한영주유소 (한화)    서울 동대문구 망우로 38 (휘경동)  현대오일뱅크  02-2214-9890    N   \n",
       "\n",
       "     고급휘발유   휘발유    경유  실내등유  \n",
       "1341     -  2025  1955  1500  \n",
       "1342     -  2028  1968  1600  \n",
       "1343     -  2190  2090  1590  "
      ]
     },
     "metadata": {},
     "output_type": "display_data"
    }
   ],
   "source": [
    "display(df.head(3))\n",
    "display(df.tail(3))"
   ]
  },
  {
   "cell_type": "code",
   "execution_count": 17,
   "id": "58039bb9",
   "metadata": {},
   "outputs": [
    {
     "data": {
      "text/plain": [
       "Index(['지역', '상호', '주소', '상표', '전화번호', '셀프여부', '고급휘발유', '휘발유', '경유', '실내등유'], dtype='object')"
      ]
     },
     "execution_count": 17,
     "metadata": {},
     "output_type": "execute_result"
    }
   ],
   "source": [
    "df.columns"
   ]
  },
  {
   "cell_type": "code",
   "execution_count": 68,
   "id": "90303daf",
   "metadata": {},
   "outputs": [
    {
     "data": {
      "text/html": [
       "<div>\n",
       "<style scoped>\n",
       "    .dataframe tbody tr th:only-of-type {\n",
       "        vertical-align: middle;\n",
       "    }\n",
       "\n",
       "    .dataframe tbody tr th {\n",
       "        vertical-align: top;\n",
       "    }\n",
       "\n",
       "    .dataframe thead th {\n",
       "        text-align: right;\n",
       "    }\n",
       "</style>\n",
       "<table border=\"1\" class=\"dataframe\">\n",
       "  <thead>\n",
       "    <tr style=\"text-align: right;\">\n",
       "      <th></th>\n",
       "      <th>시도</th>\n",
       "      <th>상호</th>\n",
       "      <th>주소</th>\n",
       "      <th>가격</th>\n",
       "      <th>셀프</th>\n",
       "      <th>상표</th>\n",
       "    </tr>\n",
       "  </thead>\n",
       "  <tbody>\n",
       "    <tr>\n",
       "      <th>0</th>\n",
       "      <td>광주광역시</td>\n",
       "      <td>(주)반디석유</td>\n",
       "      <td>광주 북구 하남대로 819 (운암동)</td>\n",
       "      <td>1890</td>\n",
       "      <td>N</td>\n",
       "      <td>현대오일뱅크</td>\n",
       "    </tr>\n",
       "    <tr>\n",
       "      <th>1</th>\n",
       "      <td>광주광역시</td>\n",
       "      <td>오치한전주유소</td>\n",
       "      <td>광주 북구 천지인로 91 (오치동)</td>\n",
       "      <td>1918</td>\n",
       "      <td>Y</td>\n",
       "      <td>SK에너지</td>\n",
       "    </tr>\n",
       "    <tr>\n",
       "      <th>2</th>\n",
       "      <td>광주광역시</td>\n",
       "      <td>(주)대창석유직영 운암주유소</td>\n",
       "      <td>광주 북구 북문대로 34 (운암동)</td>\n",
       "      <td>1920</td>\n",
       "      <td>Y</td>\n",
       "      <td>SK에너지</td>\n",
       "    </tr>\n",
       "  </tbody>\n",
       "</table>\n",
       "</div>"
      ],
      "text/plain": [
       "      시도               상호                    주소    가격 셀프      상표\n",
       "0  광주광역시          (주)반디석유  광주 북구 하남대로 819 (운암동)  1890  N  현대오일뱅크\n",
       "1  광주광역시          오치한전주유소   광주 북구 천지인로 91 (오치동)  1918  Y   SK에너지\n",
       "2  광주광역시  (주)대창석유직영 운암주유소   광주 북구 북문대로 34 (운암동)  1920  Y   SK에너지"
      ]
     },
     "execution_count": 68,
     "metadata": {},
     "output_type": "execute_result"
    }
   ],
   "source": [
    "## 필요한 컬럼값만 변수 df_oil에 지정 \n",
    "# 순서/이름 변경 가능 \n",
    "\n",
    "# 데이터 가져오기\n",
    "df_oil = df[['지역', '상호', '주소','휘발유' , '셀프여부', '상표']]\n",
    "#df_oil = df[:, [0,1,2,6,5,3]]\n",
    "\n",
    "# 이름 변경 \n",
    "df_oil.columns = ['시도', '상호', '주소', '가격', '셀프', '상표'] \n",
    " \n",
    "df_oil.head(3)"
   ]
  },
  {
   "cell_type": "code",
   "execution_count": 69,
   "id": "facd46b0",
   "metadata": {},
   "outputs": [
    {
     "data": {
      "text/plain": [
       "array(['북구', '노원구', '동작구', '기장군', '관악구', '서구', '부산진구', '중구', '중랑구', '강서구',\n",
       "       '동구', '남구', '마포구', '금천구', '강북구', '송파구', '사상구', '은평구', '서대문구',\n",
       "       '연제구', '영도구', '서초구', '광산구', '종로구', '사하구', '양천구', '강동구', '영등포구',\n",
       "       '강남구', '성동구', '해운대구', '성북구', '수영구', '용산구', '도봉구', '대덕구', '광역시',\n",
       "       '구로구', '광진구', '동래구', '금정구', '유성구', '동대문구'], dtype=object)"
      ]
     },
     "execution_count": 69,
     "metadata": {},
     "output_type": "execute_result"
    }
   ],
   "source": [
    "## 주소를 이용해 '시군구' 열 추가\n",
    "# .split() 기본값: 공백 기준으로 문자열 자름 \n",
    "\n",
    "df_oil['시군구']= [ addr.split()[1] for addr in df_oil['주소']]\n",
    "df_oil['시군구'].unique()"
   ]
  },
  {
   "cell_type": "code",
   "execution_count": 26,
   "id": "bdfe8c3b",
   "metadata": {},
   "outputs": [
    {
     "data": {
      "text/html": [
       "<div>\n",
       "<style scoped>\n",
       "    .dataframe tbody tr th:only-of-type {\n",
       "        vertical-align: middle;\n",
       "    }\n",
       "\n",
       "    .dataframe tbody tr th {\n",
       "        vertical-align: top;\n",
       "    }\n",
       "\n",
       "    .dataframe thead th {\n",
       "        text-align: right;\n",
       "    }\n",
       "</style>\n",
       "<table border=\"1\" class=\"dataframe\">\n",
       "  <thead>\n",
       "    <tr style=\"text-align: right;\">\n",
       "      <th></th>\n",
       "      <th>시도</th>\n",
       "      <th>상호</th>\n",
       "      <th>주소</th>\n",
       "      <th>가격</th>\n",
       "      <th>셀프</th>\n",
       "      <th>상표</th>\n",
       "      <th>시군구</th>\n",
       "    </tr>\n",
       "  </thead>\n",
       "  <tbody>\n",
       "    <tr>\n",
       "      <th>154</th>\n",
       "      <td>대전광역시</td>\n",
       "      <td>그린주유소</td>\n",
       "      <td>대전 서구 동서대로 953</td>\n",
       "      <td>1937</td>\n",
       "      <td>Y</td>\n",
       "      <td>알뜰주유소</td>\n",
       "      <td>서구</td>\n",
       "    </tr>\n",
       "    <tr>\n",
       "      <th>155</th>\n",
       "      <td>대전광역시</td>\n",
       "      <td>타임셀프주유소</td>\n",
       "      <td>대전 서구 대덕대로 188 (둔산2동)</td>\n",
       "      <td>1954</td>\n",
       "      <td>Y</td>\n",
       "      <td>현대오일뱅크</td>\n",
       "      <td>서구</td>\n",
       "    </tr>\n",
       "    <tr>\n",
       "      <th>156</th>\n",
       "      <td>대전광역시</td>\n",
       "      <td>도마진실주유소</td>\n",
       "      <td>대전 서구 도산로 123</td>\n",
       "      <td>1955</td>\n",
       "      <td>Y</td>\n",
       "      <td>S-OIL</td>\n",
       "      <td>서구</td>\n",
       "    </tr>\n",
       "    <tr>\n",
       "      <th>157</th>\n",
       "      <td>대전광역시</td>\n",
       "      <td>구봉산셀프주유소</td>\n",
       "      <td>대전 서구 구봉로 208</td>\n",
       "      <td>1955</td>\n",
       "      <td>Y</td>\n",
       "      <td>알뜰주유소</td>\n",
       "      <td>서구</td>\n",
       "    </tr>\n",
       "    <tr>\n",
       "      <th>158</th>\n",
       "      <td>대전광역시</td>\n",
       "      <td>굿모닝주유소</td>\n",
       "      <td>대전 서구  계백로 1376 (도마동)</td>\n",
       "      <td>1959</td>\n",
       "      <td>Y</td>\n",
       "      <td>현대오일뱅크</td>\n",
       "      <td>서구</td>\n",
       "    </tr>\n",
       "    <tr>\n",
       "      <th>...</th>\n",
       "      <td>...</td>\n",
       "      <td>...</td>\n",
       "      <td>...</td>\n",
       "      <td>...</td>\n",
       "      <td>...</td>\n",
       "      <td>...</td>\n",
       "      <td>...</td>\n",
       "    </tr>\n",
       "    <tr>\n",
       "      <th>1282</th>\n",
       "      <td>대전광역시</td>\n",
       "      <td>진터벌주유소</td>\n",
       "      <td>대전 유성구 유성대로654번길 168 (봉명동)</td>\n",
       "      <td>2057</td>\n",
       "      <td>N</td>\n",
       "      <td>S-OIL</td>\n",
       "      <td>유성구</td>\n",
       "    </tr>\n",
       "    <tr>\n",
       "      <th>1283</th>\n",
       "      <td>대전광역시</td>\n",
       "      <td>예성주유소</td>\n",
       "      <td>대전광역시 유성구  도안동로 488</td>\n",
       "      <td>2058</td>\n",
       "      <td>Y</td>\n",
       "      <td>SK에너지</td>\n",
       "      <td>유성구</td>\n",
       "    </tr>\n",
       "    <tr>\n",
       "      <th>1284</th>\n",
       "      <td>대전광역시</td>\n",
       "      <td>계룡주유소</td>\n",
       "      <td>대전 유성구 현충원로 177</td>\n",
       "      <td>2195</td>\n",
       "      <td>N</td>\n",
       "      <td>S-OIL</td>\n",
       "      <td>유성구</td>\n",
       "    </tr>\n",
       "    <tr>\n",
       "      <th>1285</th>\n",
       "      <td>대전광역시</td>\n",
       "      <td>(주)상아에너지</td>\n",
       "      <td>대전 유성구 계백로 476 (방동)</td>\n",
       "      <td>-</td>\n",
       "      <td>N</td>\n",
       "      <td>GS칼텍스</td>\n",
       "      <td>유성구</td>\n",
       "    </tr>\n",
       "    <tr>\n",
       "      <th>1286</th>\n",
       "      <td>대전광역시</td>\n",
       "      <td>계명주유소</td>\n",
       "      <td>대전 유성구 현충원로 492</td>\n",
       "      <td>-</td>\n",
       "      <td>N</td>\n",
       "      <td>S-OIL</td>\n",
       "      <td>유성구</td>\n",
       "    </tr>\n",
       "  </tbody>\n",
       "</table>\n",
       "<p>227 rows × 7 columns</p>\n",
       "</div>"
      ],
      "text/plain": [
       "         시도        상호                          주소    가격 셀프      상표  시군구\n",
       "154   대전광역시     그린주유소              대전 서구 동서대로 953  1937  Y   알뜰주유소   서구\n",
       "155   대전광역시   타임셀프주유소       대전 서구 대덕대로 188 (둔산2동)  1954  Y  현대오일뱅크   서구\n",
       "156   대전광역시   도마진실주유소               대전 서구 도산로 123  1955  Y   S-OIL   서구\n",
       "157   대전광역시  구봉산셀프주유소               대전 서구 구봉로 208  1955  Y   알뜰주유소   서구\n",
       "158   대전광역시    굿모닝주유소       대전 서구  계백로 1376 (도마동)  1959  Y  현대오일뱅크   서구\n",
       "...     ...       ...                         ...   ... ..     ...  ...\n",
       "1282  대전광역시    진터벌주유소  대전 유성구 유성대로654번길 168 (봉명동)  2057  N   S-OIL  유성구\n",
       "1283  대전광역시     예성주유소         대전광역시 유성구  도안동로 488  2058  Y   SK에너지  유성구\n",
       "1284  대전광역시     계룡주유소             대전 유성구 현충원로 177  2195  N   S-OIL  유성구\n",
       "1285  대전광역시  (주)상아에너지         대전 유성구 계백로 476 (방동)     -  N   GS칼텍스  유성구\n",
       "1286  대전광역시     계명주유소             대전 유성구 현충원로 492     -  N   S-OIL  유성구\n",
       "\n",
       "[227 rows x 7 columns]"
      ]
     },
     "execution_count": 26,
     "metadata": {},
     "output_type": "execute_result"
    }
   ],
   "source": [
    "# .contains()에 입력한 데이터가 포함된 자료 검색 \n",
    "df_oil[df_oil['시도'].str.contains('대전')]"
   ]
  },
  {
   "cell_type": "code",
   "execution_count": null,
   "id": "0348ccb5",
   "metadata": {},
   "outputs": [],
   "source": []
  },
  {
   "cell_type": "code",
   "execution_count": 27,
   "id": "a3c5c5cb",
   "metadata": {},
   "outputs": [
    {
     "data": {
      "text/html": [
       "<div>\n",
       "<style scoped>\n",
       "    .dataframe tbody tr th:only-of-type {\n",
       "        vertical-align: middle;\n",
       "    }\n",
       "\n",
       "    .dataframe tbody tr th {\n",
       "        vertical-align: top;\n",
       "    }\n",
       "\n",
       "    .dataframe thead th {\n",
       "        text-align: right;\n",
       "    }\n",
       "</style>\n",
       "<table border=\"1\" class=\"dataframe\">\n",
       "  <thead>\n",
       "    <tr style=\"text-align: right;\">\n",
       "      <th></th>\n",
       "      <th>시도</th>\n",
       "      <th>상호</th>\n",
       "      <th>주소</th>\n",
       "      <th>가격</th>\n",
       "      <th>셀프</th>\n",
       "      <th>상표</th>\n",
       "      <th>시군구</th>\n",
       "    </tr>\n",
       "  </thead>\n",
       "  <tbody>\n",
       "    <tr>\n",
       "      <th>1057</th>\n",
       "      <td>대전광역시</td>\n",
       "      <td>도서관주유소</td>\n",
       "      <td>대전 광역시 중구 보문산로 353</td>\n",
       "      <td>1962</td>\n",
       "      <td>Y</td>\n",
       "      <td>현대오일뱅크</td>\n",
       "      <td>광역시</td>\n",
       "    </tr>\n",
       "  </tbody>\n",
       "</table>\n",
       "</div>"
      ],
      "text/plain": [
       "         시도      상호                  주소    가격 셀프      상표  시군구\n",
       "1057  대전광역시  도서관주유소  대전 광역시 중구 보문산로 353  1962  Y  현대오일뱅크  광역시"
      ]
     },
     "execution_count": 27,
     "metadata": {},
     "output_type": "execute_result"
    }
   ],
   "source": [
    "## '시군구' 값이 '광역시'인 데이터 확인 \n",
    "df_oil[df_oil['시군구'] == '광역시']"
   ]
  },
  {
   "cell_type": "code",
   "execution_count": 28,
   "id": "4450573f",
   "metadata": {},
   "outputs": [
    {
     "name": "stderr",
     "output_type": "stream",
     "text": [
      "/var/folders/3x/ck_8z3cd6r510s7t3t_g1nzm0000gn/T/ipykernel_21574/2507141641.py:2: SettingWithCopyWarning: \n",
      "A value is trying to be set on a copy of a slice from a DataFrame\n",
      "\n",
      "See the caveats in the documentation: https://pandas.pydata.org/pandas-docs/stable/user_guide/indexing.html#returning-a-view-versus-a-copy\n",
      "  df_oil.loc[df_oil['시군구']=='광역시', '시군구'] = '중구'\n"
     ]
    },
    {
     "data": {
      "text/plain": [
       "array(['북구', '노원구', '동작구', '기장군', '관악구', '서구', '부산진구', '중구', '중랑구', '강서구',\n",
       "       '동구', '남구', '마포구', '금천구', '강북구', '송파구', '사상구', '은평구', '서대문구',\n",
       "       '연제구', '영도구', '서초구', '광산구', '종로구', '사하구', '양천구', '강동구', '영등포구',\n",
       "       '강남구', '성동구', '해운대구', '성북구', '수영구', '용산구', '도봉구', '대덕구', '구로구',\n",
       "       '광진구', '동래구', '금정구', '유성구', '동대문구'], dtype=object)"
      ]
     },
     "execution_count": 28,
     "metadata": {},
     "output_type": "execute_result"
    }
   ],
   "source": [
    "## '시군구' 값이 '광역시'인 데이터 -> '중구'로 변경 \n",
    "df_oil.loc[df_oil['시군구']=='광역시', '시군구'] = '중구'\n",
    "df_oil['시군구'].unique()"
   ]
  },
  {
   "cell_type": "code",
   "execution_count": 30,
   "id": "99641d0c",
   "metadata": {
    "scrolled": true
   },
   "outputs": [
    {
     "data": {
      "text/html": [
       "<div>\n",
       "<style scoped>\n",
       "    .dataframe tbody tr th:only-of-type {\n",
       "        vertical-align: middle;\n",
       "    }\n",
       "\n",
       "    .dataframe tbody tr th {\n",
       "        vertical-align: top;\n",
       "    }\n",
       "\n",
       "    .dataframe thead th {\n",
       "        text-align: right;\n",
       "    }\n",
       "</style>\n",
       "<table border=\"1\" class=\"dataframe\">\n",
       "  <thead>\n",
       "    <tr style=\"text-align: right;\">\n",
       "      <th></th>\n",
       "      <th>시도</th>\n",
       "      <th>상호</th>\n",
       "      <th>주소</th>\n",
       "      <th>가격</th>\n",
       "      <th>셀프</th>\n",
       "      <th>상표</th>\n",
       "      <th>시군구</th>\n",
       "    </tr>\n",
       "  </thead>\n",
       "  <tbody>\n",
       "  </tbody>\n",
       "</table>\n",
       "</div>"
      ],
      "text/plain": [
       "Empty DataFrame\n",
       "Columns: [시도, 상호, 주소, 가격, 셀프, 상표, 시군구]\n",
       "Index: []"
      ]
     },
     "metadata": {},
     "output_type": "display_data"
    }
   ],
   "source": [
    "# 가격이 '-'로 입력된 데이터 제거 \n",
    "df_oil = df_oil[df_oil['가격'] != '-']\n",
    "\n",
    "# '-'가 포함된 데이터가 있는지 확인\n",
    "display(df_oil[df_oil['가격'] == '-'])"
   ]
  },
  {
   "cell_type": "code",
   "execution_count": 31,
   "id": "f1ab94b2",
   "metadata": {},
   "outputs": [
    {
     "data": {
      "text/plain": [
       "시도     object\n",
       "상호     object\n",
       "주소     object\n",
       "가격     object\n",
       "셀프     object\n",
       "상표     object\n",
       "시군구    object\n",
       "dtype: object"
      ]
     },
     "execution_count": 31,
     "metadata": {},
     "output_type": "execute_result"
    }
   ],
   "source": [
    "## 데이터 타입 확인 \n",
    "df_oil.dtypes"
   ]
  },
  {
   "cell_type": "code",
   "execution_count": 32,
   "id": "c70833cc",
   "metadata": {},
   "outputs": [
    {
     "name": "stdout",
     "output_type": "stream",
     "text": [
      "시도     object\n",
      "상호     object\n",
      "주소     object\n",
      "가격      int64\n",
      "셀프     object\n",
      "상표     object\n",
      "시군구    object\n",
      "dtype: object\n"
     ]
    }
   ],
   "source": [
    "## 가격 필드의 데이터 타입을 int로 변경 (for문)\n",
    "df_oil['가격'] = [int(val) for val in df_oil['가격']]\n",
    "\n",
    "# df_oil = df_oil['가격'].astype({'가격': int}) # 함수사용 \n",
    "\n",
    "print(df_oil.dtypes)"
   ]
  },
  {
   "cell_type": "code",
   "execution_count": 33,
   "id": "6eafb4ef",
   "metadata": {},
   "outputs": [
    {
     "data": {
      "text/plain": [
       "시도     0\n",
       "상호     0\n",
       "주소     0\n",
       "가격     0\n",
       "셀프     0\n",
       "상표     0\n",
       "시군구    0\n",
       "dtype: int64"
      ]
     },
     "execution_count": 33,
     "metadata": {},
     "output_type": "execute_result"
    }
   ],
   "source": [
    "## 데이터에 NaN값이 있는지 확인 \n",
    "df_oil.isna().sum()"
   ]
  },
  {
   "cell_type": "markdown",
   "id": "ea57e7ff",
   "metadata": {},
   "source": [
    "## 2. 데이터 분석하기\n",
    "- 셀프 주유소가 일반 주유소보다 저렴한지 확인\n",
    "- `boxplot`으로 확인 "
   ]
  },
  {
   "cell_type": "code",
   "execution_count": 58,
   "id": "ade1678f",
   "metadata": {},
   "outputs": [],
   "source": [
    "import matplotlib.pyplot as plt\n",
    "import seaborn as sns\n",
    "%matplotlib inline\n",
    "\n",
    "import platform\n",
    "from matplotlib import font_manager, rc\n",
    "\n",
    "if platform.system() == \"Darwin\":\n",
    "    rc('font', family='AppleGothic')\n",
    "    \n",
    "elif platform.system() == \"Windows\":\n",
    "    fontname=font_manager.FontProperties(fname=\"C:/Windows/Fonts/gulim.ttc\").get_name()\n",
    "    rc('font', family = fontname)\n",
    "    \n",
    "else:\n",
    "    print('시스템 포트 설정 오류~~')"
   ]
  },
  {
   "cell_type": "code",
   "execution_count": 59,
   "id": "19852552",
   "metadata": {},
   "outputs": [
    {
     "data": {
      "image/png": "[encoded data removed]",
      "text/plain": [
       "<Figure size 864x576 with 1 Axes>"
      ]
     },
     "metadata": {
      "needs_background": "light"
     },
     "output_type": "display_data"
    }
   ],
   "source": [
    "# 가격에 대한 셀프여부에 따라 boxplot\n",
    "# 보는 방법 참조: https://codedragon.tistory.com/7012\n",
    "\n",
    "df_oil.boxplot(column='가격', by='셀프', figsize=(12, 8))\n",
    "plt.show()"
   ]
  },
  {
   "cell_type": "code",
   "execution_count": 60,
   "id": "8d7014ad",
   "metadata": {},
   "outputs": [
    {
     "data": {
      "image/png": "[encoded data removed]",
      "text/plain": [
       "<Figure size 864x576 with 1 Axes>"
      ]
     },
     "metadata": {
      "needs_background": "light"
     },
     "output_type": "display_data"
    }
   ],
   "source": [
    "# 시도별/seaborn.boxplot 사용\n",
    "plt.figure(figsize=(12, 8))\n",
    "sns.boxplot(x='시도', y='가격', hue='셀프', data=df_oil, palette='Set3')\n",
    "plt.show()"
   ]
  },
  {
   "cell_type": "code",
   "execution_count": 61,
   "id": "f4429d23",
   "metadata": {},
   "outputs": [
    {
     "data": {
      "image/png": "[encoded data removed]",
      "text/plain": [
       "<Figure size 864x576 with 1 Axes>"
      ]
     },
     "metadata": {
      "needs_background": "light"
     },
     "output_type": "display_data"
    }
   ],
   "source": [
    "# 위 차트를 기준하여 광주광역시의 브랜드별 가격 출력\n",
    "tmpDf=df_oil[df_oil['시도']=='광주광역시']\n",
    "\n",
    "plt.figure(figsize=(12, 8))\n",
    "sns.boxplot(x='상표', y='가격', hue='셀프', data=tmpDf, palette='Set3')\n",
    "plt.show()"
   ]
  },
  {
   "cell_type": "code",
   "execution_count": 62,
   "id": "e091c191",
   "metadata": {},
   "outputs": [
    {
     "data": {
      "image/png": "[encoded data removed]",
      "text/plain": [
       "<Figure size 864x576 with 1 Axes>"
      ]
     },
     "metadata": {
      "needs_background": "light"
     },
     "output_type": "display_data"
    }
   ],
   "source": [
    "# 시군구에 따른 셀프/일반 휘발유 값 확인\n",
    "tmpDf=df_oil[df_oil['시도']=='광주광역시']\n",
    "\n",
    "plt.figure(figsize=(12, 8))\n",
    "sns.boxplot(x='시군구', y='가격', hue='셀프', data=tmpDf, palette='Set3')\n",
    "plt.show()"
   ]
  },
  {
   "cell_type": "code",
   "execution_count": 63,
   "id": "55b29321",
   "metadata": {},
   "outputs": [
    {
     "data": {
      "image/png": "[encoded data removed]",
      "text/plain": [
       "<Figure size 864x576 with 1 Axes>"
      ]
     },
     "metadata": {
      "needs_background": "light"
     },
     "output_type": "display_data"
    }
   ],
   "source": [
    "# 시군구에서 상표에 따른 가격\n",
    "tmpDf=df_oil[df_oil['시도']=='광주광역시']\n",
    "\n",
    "plt.figure(figsize=(12, 8))\n",
    "sns.boxplot(x='시군구', y='가격', hue='상표', data=tmpDf, palette='Set3')\n",
    "plt.show()"
   ]
  },
  {
   "cell_type": "code",
   "execution_count": 64,
   "id": "cda90db6",
   "metadata": {},
   "outputs": [
    {
     "data": {
      "image/png": "[encoded data removed]",
      "text/plain": [
       "<Figure size 864x576 with 1 Axes>"
      ]
     },
     "metadata": {
      "needs_background": "light"
     },
     "output_type": "display_data"
    }
   ],
   "source": [
    "# 시군구에서 상표에 따른 가격\n",
    "tmpDf=df_oil[df_oil['시도']=='광주광역시']\n",
    "\n",
    "plt.figure(figsize=(12, 8))\n",
    "sns.boxplot(x='상표', y='가격', data=tmpDf, palette='Set3')\n",
    "sns.swarmplot(x='상표', y='가격', data=tmpDf, color='.6')\n",
    "plt.show()"
   ]
  },
  {
   "cell_type": "markdown",
   "id": "068aeab4",
   "metadata": {},
   "source": [
    "## 3. 서울시 구별 주유 가격 확인 \n",
    "- 서울의 구별 경계위치를 이용한 지도차트 그리기"
   ]
  },
  {
   "cell_type": "code",
   "execution_count": 78,
   "id": "1a0d0858",
   "metadata": {},
   "outputs": [],
   "source": [
    "import folium\n",
    "import json\n",
    "import numpy"
   ]
  },
  {
   "cell_type": "code",
   "execution_count": 79,
   "id": "a3d83985",
   "metadata": {},
   "outputs": [
    {
     "data": {
      "text/html": [
       "<div>\n",
       "<style scoped>\n",
       "    .dataframe tbody tr th:only-of-type {\n",
       "        vertical-align: middle;\n",
       "    }\n",
       "\n",
       "    .dataframe tbody tr th {\n",
       "        vertical-align: top;\n",
       "    }\n",
       "\n",
       "    .dataframe thead th {\n",
       "        text-align: right;\n",
       "    }\n",
       "</style>\n",
       "<table border=\"1\" class=\"dataframe\">\n",
       "  <thead>\n",
       "    <tr style=\"text-align: right;\">\n",
       "      <th></th>\n",
       "      <th>시도</th>\n",
       "      <th>상호</th>\n",
       "      <th>주소</th>\n",
       "      <th>가격</th>\n",
       "      <th>셀프</th>\n",
       "      <th>상표</th>\n",
       "      <th>시군구</th>\n",
       "    </tr>\n",
       "  </thead>\n",
       "  <tbody>\n",
       "    <tr>\n",
       "      <th>70</th>\n",
       "      <td>서울특별시</td>\n",
       "      <td>이엠석유(주)배꽃나라주유소</td>\n",
       "      <td>서울특별시 노원구  화랑로 466 (공릉1동)</td>\n",
       "      <td>1946</td>\n",
       "      <td>Y</td>\n",
       "      <td>GS칼텍스</td>\n",
       "      <td>노원구</td>\n",
       "    </tr>\n",
       "    <tr>\n",
       "      <th>71</th>\n",
       "      <td>서울특별시</td>\n",
       "      <td>화랑대주유소</td>\n",
       "      <td>서울 노원구 화랑로 483</td>\n",
       "      <td>1946</td>\n",
       "      <td>Y</td>\n",
       "      <td>현대오일뱅크</td>\n",
       "      <td>노원구</td>\n",
       "    </tr>\n",
       "    <tr>\n",
       "      <th>72</th>\n",
       "      <td>서울특별시</td>\n",
       "      <td>현대오일뱅크㈜직영 하계주유소</td>\n",
       "      <td>서울 노원구 노원로17길 29 (하계동)</td>\n",
       "      <td>1980</td>\n",
       "      <td>N</td>\n",
       "      <td>현대오일뱅크</td>\n",
       "      <td>노원구</td>\n",
       "    </tr>\n",
       "  </tbody>\n",
       "</table>\n",
       "</div>"
      ],
      "text/plain": [
       "       시도               상호                         주소    가격 셀프      상표  시군구\n",
       "70  서울특별시   이엠석유(주)배꽃나라주유소  서울특별시 노원구  화랑로 466 (공릉1동)  1946  Y   GS칼텍스  노원구\n",
       "71  서울특별시           화랑대주유소             서울 노원구 화랑로 483  1946  Y  현대오일뱅크  노원구\n",
       "72  서울특별시  현대오일뱅크㈜직영 하계주유소     서울 노원구 노원로17길 29 (하계동)  1980  N  현대오일뱅크  노원구"
      ]
     },
     "execution_count": 79,
     "metadata": {},
     "output_type": "execute_result"
    }
   ],
   "source": [
    "df_tmp = df_oil[df_oil[\"시도\"]=='서울특별시']\n",
    "df_tmp.head(3)"
   ]
  },
  {
   "cell_type": "markdown",
   "id": "d2b4f3cf",
   "metadata": {},
   "source": [
    "#### `pivot_table` 함수를 이용해 구별 평균값 계산 "
   ]
  },
  {
   "cell_type": "code",
   "execution_count": 80,
   "id": "eeaa5add",
   "metadata": {},
   "outputs": [
    {
     "data": {
      "text/html": [
       "<div>\n",
       "<style scoped>\n",
       "    .dataframe tbody tr th:only-of-type {\n",
       "        vertical-align: middle;\n",
       "    }\n",
       "\n",
       "    .dataframe tbody tr th {\n",
       "        vertical-align: top;\n",
       "    }\n",
       "\n",
       "    .dataframe thead th {\n",
       "        text-align: right;\n",
       "    }\n",
       "</style>\n",
       "<table border=\"1\" class=\"dataframe\">\n",
       "  <thead>\n",
       "    <tr style=\"text-align: right;\">\n",
       "      <th></th>\n",
       "    </tr>\n",
       "    <tr>\n",
       "      <th>시군구</th>\n",
       "    </tr>\n",
       "  </thead>\n",
       "  <tbody>\n",
       "    <tr>\n",
       "      <th>강남구</th>\n",
       "    </tr>\n",
       "    <tr>\n",
       "      <th>강동구</th>\n",
       "    </tr>\n",
       "    <tr>\n",
       "      <th>강북구</th>\n",
       "    </tr>\n",
       "    <tr>\n",
       "      <th>강서구</th>\n",
       "    </tr>\n",
       "    <tr>\n",
       "      <th>관악구</th>\n",
       "    </tr>\n",
       "    <tr>\n",
       "      <th>광진구</th>\n",
       "    </tr>\n",
       "    <tr>\n",
       "      <th>구로구</th>\n",
       "    </tr>\n",
       "    <tr>\n",
       "      <th>금천구</th>\n",
       "    </tr>\n",
       "    <tr>\n",
       "      <th>노원구</th>\n",
       "    </tr>\n",
       "    <tr>\n",
       "      <th>도봉구</th>\n",
       "    </tr>\n",
       "    <tr>\n",
       "      <th>동대문구</th>\n",
       "    </tr>\n",
       "    <tr>\n",
       "      <th>동작구</th>\n",
       "    </tr>\n",
       "    <tr>\n",
       "      <th>마포구</th>\n",
       "    </tr>\n",
       "    <tr>\n",
       "      <th>서대문구</th>\n",
       "    </tr>\n",
       "    <tr>\n",
       "      <th>서초구</th>\n",
       "    </tr>\n",
       "    <tr>\n",
       "      <th>성동구</th>\n",
       "    </tr>\n",
       "    <tr>\n",
       "      <th>성북구</th>\n",
       "    </tr>\n",
       "    <tr>\n",
       "      <th>송파구</th>\n",
       "    </tr>\n",
       "    <tr>\n",
       "      <th>양천구</th>\n",
       "    </tr>\n",
       "    <tr>\n",
       "      <th>영등포구</th>\n",
       "    </tr>\n",
       "    <tr>\n",
       "      <th>용산구</th>\n",
       "    </tr>\n",
       "    <tr>\n",
       "      <th>은평구</th>\n",
       "    </tr>\n",
       "    <tr>\n",
       "      <th>종로구</th>\n",
       "    </tr>\n",
       "    <tr>\n",
       "      <th>중구</th>\n",
       "    </tr>\n",
       "    <tr>\n",
       "      <th>중랑구</th>\n",
       "    </tr>\n",
       "  </tbody>\n",
       "</table>\n",
       "</div>"
      ],
      "text/plain": [
       "Empty DataFrame\n",
       "Columns: []\n",
       "Index: [강남구, 강동구, 강북구, 강서구, 관악구, 광진구, 구로구, 금천구, 노원구, 도봉구, 동대문구, 동작구, 마포구, 서대문구, 서초구, 성동구, 성북구, 송파구, 양천구, 영등포구, 용산구, 은평구, 종로구, 중구, 중랑구]"
      ]
     },
     "execution_count": 80,
     "metadata": {},
     "output_type": "execute_result"
    }
   ],
   "source": [
    "gu_p_df = pd.pivot_table(df_tmp, index=['시군구'], values = ['가격'], aggfunc = numpy.mean)\n",
    "gu_p_df"
   ]
  },
  {
   "cell_type": "code",
   "execution_count": 81,
   "id": "9d6cf407",
   "metadata": {},
   "outputs": [
    {
     "ename": "TypeError",
     "evalue": "sort_values() got an unexpected keyword argument 'accending'",
     "output_type": "error",
     "traceback": [
      "\u001b[0;31m---------------------------------------------------------------------------\u001b[0m",
      "\u001b[0;31mTypeError\u001b[0m                                 Traceback (most recent call last)",
      "Input \u001b[0;32mIn [81]\u001b[0m, in \u001b[0;36m<cell line: 2>\u001b[0;34m()\u001b[0m\n\u001b[1;32m      1\u001b[0m \u001b[38;5;66;03m# 가격 기준으로 내림차순 정렬  (큰값부터 출력)\u001b[39;00m\n\u001b[0;32m----> 2\u001b[0m \u001b[43mgu_p_df\u001b[49m\u001b[38;5;241;43m.\u001b[39;49m\u001b[43msort_values\u001b[49m\u001b[43m(\u001b[49m\u001b[38;5;124;43m'\u001b[39;49m\u001b[38;5;124;43m가격\u001b[39;49m\u001b[38;5;124;43m'\u001b[39;49m\u001b[43m,\u001b[49m\u001b[43m \u001b[49m\u001b[43maccending\u001b[49m\u001b[38;5;241;43m=\u001b[39;49m\u001b[38;5;28;43;01mFalse\u001b[39;49;00m\u001b[43m)\u001b[49m\n",
      "File \u001b[0;32m~/opt/miniconda3/lib/python3.9/site-packages/pandas/util/_decorators.py:311\u001b[0m, in \u001b[0;36mdeprecate_nonkeyword_arguments.<locals>.decorate.<locals>.wrapper\u001b[0;34m(*args, **kwargs)\u001b[0m\n\u001b[1;32m    305\u001b[0m \u001b[38;5;28;01mif\u001b[39;00m \u001b[38;5;28mlen\u001b[39m(args) \u001b[38;5;241m>\u001b[39m num_allow_args:\n\u001b[1;32m    306\u001b[0m     warnings\u001b[38;5;241m.\u001b[39mwarn(\n\u001b[1;32m    307\u001b[0m         msg\u001b[38;5;241m.\u001b[39mformat(arguments\u001b[38;5;241m=\u001b[39marguments),\n\u001b[1;32m    308\u001b[0m         \u001b[38;5;167;01mFutureWarning\u001b[39;00m,\n\u001b[1;32m    309\u001b[0m         stacklevel\u001b[38;5;241m=\u001b[39mstacklevel,\n\u001b[1;32m    310\u001b[0m     )\n\u001b[0;32m--> 311\u001b[0m \u001b[38;5;28;01mreturn\u001b[39;00m \u001b[43mfunc\u001b[49m\u001b[43m(\u001b[49m\u001b[38;5;241;43m*\u001b[39;49m\u001b[43margs\u001b[49m\u001b[43m,\u001b[49m\u001b[43m \u001b[49m\u001b[38;5;241;43m*\u001b[39;49m\u001b[38;5;241;43m*\u001b[39;49m\u001b[43mkwargs\u001b[49m\u001b[43m)\u001b[49m\n",
      "\u001b[0;31mTypeError\u001b[0m: sort_values() got an unexpected keyword argument 'accending'"
     ]
    }
   ],
   "source": [
    "# 가격 기준으로 내림차순 정렬  (큰값부터 출력)\n",
    "gu_p_df.sort_values('가격', accending=False)"
   ]
  },
  {
   "cell_type": "code",
   "execution_count": null,
   "id": "b5e4c1e2",
   "metadata": {},
   "outputs": [],
   "source": []
  }
 ],
 "metadata": {
  "kernelspec": {
   "display_name": "Python 3 (ipykernel)",
   "language": "python",
   "name": "python3"
  },
  "language_info": {
   "codemirror_mode": {
    "name": "ipython",
    "version": 3
   },
   "file_extension": ".py",
   "mimetype": "text/x-python",
   "name": "python",
   "nbconvert_exporter": "python",
   "pygments_lexer": "ipython3",
   "version": "3.9.7"
  }
 },
 "nbformat": 4,
 "nbformat_minor": 5
}
