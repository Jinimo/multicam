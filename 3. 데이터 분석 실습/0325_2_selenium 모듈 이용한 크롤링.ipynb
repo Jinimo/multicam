{
 "cells": [
  {
   "cell_type": "markdown",
   "id": "dbec4573",
   "metadata": {},
   "source": [
    "# selenium 이용한 크롤링\n",
    "- [직장인을 위한 데이터 분석 실무] - p.51 ~\n",
    "- `requests` 진행시 소스를 받아오지 못하는 경우에 사용 "
   ]
  },
  {
   "cell_type": "markdown",
   "id": "cfb175c2",
   "metadata": {},
   "source": [
    "### selenium 이란?\n",
    "- 줄 웹앱을 테스트하는데 사용하는 프레임워크\n",
    "- `webdriver`라는 API를 통해 운영체제에 설치된 크롬 등의 브라우저를 제어\n",
    "- `selenium` module 설치 후 사용 \n",
    "- 사용 브라우저 (Chrome, Edge, ... )에 맞는 webdriver를 다운로드 후 사용 가능\n",
    "- 다운로드 사이트에서 본인이 사용하는 브라우저의 버전 등을 확인 후 사용 \n",
    "- 크롬: https://chromedriver.chromium.org/downloads\n",
    "- Edge: https://developer.microsoft.com/en-us/microsoft-edge/tools/webdriver/- \n",
    "- 파이어폭스:https://github.com/mozilla/geckodriver/releases"
   ]
  },
  {
   "cell_type": "markdown",
   "id": "b9ca0ebc",
   "metadata": {},
   "source": [
    "### Chrome driver 다운 \n",
    "1. 본인 크롬의 크롬 브라우저 버전 확인 (오른쪽 상단 점3개 클릭 -> 도움말 -> Chrome 정보 -> 버전확인)\n",
    "2. 크롬 : https://chromedriver.chromium.org/downloads"
   ]
  },
  {
   "cell_type": "code",
   "execution_count": 14,
   "id": "dd9e45e6",
   "metadata": {},
   "outputs": [],
   "source": [
    "#!pip install selenium\n",
    "from selenium import webdriver\n",
    "from selenium.webdriver.common.keys import Keys\n",
    "\n",
    "import time\n",
    "from bs4 import BeautifulSoup as bs\n",
    "import pandas as pd\n"
   ]
  },
  {
   "cell_type": "code",
   "execution_count": 15,
   "id": "9776a97f",
   "metadata": {},
   "outputs": [
    {
     "data": {
      "text/plain": [
       "'/Users/hyunjinkim/Desktop/multi/0325'"
      ]
     },
     "execution_count": 15,
     "metadata": {},
     "output_type": "execute_result"
    }
   ],
   "source": [
    "import os\n",
    "os.getcwd()"
   ]
  },
  {
   "cell_type": "markdown",
   "id": "d7b7bfcd",
   "metadata": {},
   "source": [
    "#### 네이버 블로그"
   ]
  },
  {
   "cell_type": "code",
   "execution_count": 16,
   "id": "3d55548e",
   "metadata": {},
   "outputs": [
    {
     "name": "stderr",
     "output_type": "stream",
     "text": [
      "/var/folders/3x/ck_8z3cd6r510s7t3t_g1nzm0000gn/T/ipykernel_1012/491792488.py:1: DeprecationWarning: executable_path has been deprecated, please pass in a Service object\n",
      "  driver = webdriver.Chrome(\"/Users/hyunjinkim/Desktop/multi/chromedriver\")\n",
      "/var/folders/3x/ck_8z3cd6r510s7t3t_g1nzm0000gn/T/ipykernel_1012/491792488.py:9: DeprecationWarning: find_elements_by_css_selector is deprecated. Please use find_elements(by=By.CSS_SELECTOR, value=css_selector) instead\n",
      "  txt_soup = driver.find_elements_by_css_selector(\"title\")\n"
     ]
    },
    {
     "data": {
      "text/plain": [
       "[<selenium.webdriver.remote.webelement.WebElement (session=\"cd2fdaccca33461f1c6fd7a49094ee73\", element=\"05506226-4e24-4563-bd05-a4fb396c0141\")>]"
      ]
     },
     "execution_count": 16,
     "metadata": {},
     "output_type": "execute_result"
    }
   ],
   "source": [
    "\n",
    "driver = webdriver.Chrome(\"/Users/hyunjinkim/Desktop/multi/chromedriver\")\n",
    "\n",
    "url = \"https://section.blog.naver.com/Search/Post.naver?pageNo=1&rangeType=ALL&orderBy=sim&keyword=%EA%B5%AD%EB%82%B4%20%EC%97%AC%ED%96%89%EC%A7%80%20%EC%B6%94%EC%B2%9C\"\n",
    "driver.get(url)\n",
    "time.sleep(2)\n",
    "\n",
    "soup = driver.page_source\n",
    "\n",
    "\n",
    "txt_soup = driver.find_elements_by_css_selector(\"title\")\n",
    "txt_soup"
   ]
  },
  {
   "cell_type": "code",
   "execution_count": 41,
   "id": "1880e7e4",
   "metadata": {},
   "outputs": [
    {
     "name": "stderr",
     "output_type": "stream",
     "text": [
      "/var/folders/3x/ck_8z3cd6r510s7t3t_g1nzm0000gn/T/ipykernel_1012/482977011.py:2: DeprecationWarning: executable_path has been deprecated, please pass in a Service object\n",
      "  driver = webdriver.Chrome(\"/Users/hyunjinkim/Desktop/multi/chromedriver\")\n"
     ]
    }
   ],
   "source": [
    "# 크롬 드라이버 실행\n",
    "driver = webdriver.Chrome(\"/Users/hyunjinkim/Desktop/multi/chromedriver\")\n",
    "\n",
    "# URL 접속\n",
    "url = \"https://section.blog.naver.com/Search/Post.naver?pageNo=1&rangeType=ALL&orderBy=sim&keyword=%EA%B5%AD%EB%82%B4%20%EC%97%AC%ED%96%89%EC%A7%80%20%EC%B6%94%EC%B2%9C\"\n",
    "driver.get(url)\n",
    "time.sleep(2) # 페이지가 뜨는 순간 기다리게끔 시간 지연시켜줌  \n",
    "\n",
    "# 웹 페이지의 HTML 다운\n",
    "html = driver.page_source\n",
    "\n",
    "# HTML 문자열 bs로 해석\n",
    "soup = bs(html, \"html.parser\") #.text 안해줘도 됨 \n"
   ]
  },
  {
   "cell_type": "code",
   "execution_count": 43,
   "id": "b3beb04b",
   "metadata": {},
   "outputs": [
    {
     "name": "stdout",
     "output_type": "stream",
     "text": [
      "\n",
      "국내 여행지 추천 여수 오동도 가는법 동백열차, 자전거 비교\n",
      "\n",
      "https://blog.naver.com/wkwmd81/222674036269\n"
     ]
    }
   ],
   "source": [
    "\n",
    "post_soup = soup.find_all(\"div\", class_=\"list_search_post\")         # 포스트 찾기\n",
    "print(post_soup[0].find(\"strong\", class_=\"title_post\").get_text()) # 포스트 제목\n",
    "print(post_soup[0].find(\"a\")[\"href\"])                              # 포스트 하이퍼 링크\n",
    "\n",
    "\n"
   ]
  },
  {
   "cell_type": "code",
   "execution_count": 45,
   "id": "215f7093",
   "metadata": {},
   "outputs": [
    {
     "data": {
      "text/html": [
       "<div>\n",
       "<style scoped>\n",
       "    .dataframe tbody tr th:only-of-type {\n",
       "        vertical-align: middle;\n",
       "    }\n",
       "\n",
       "    .dataframe tbody tr th {\n",
       "        vertical-align: top;\n",
       "    }\n",
       "\n",
       "    .dataframe thead th {\n",
       "        text-align: right;\n",
       "    }\n",
       "</style>\n",
       "<table border=\"1\" class=\"dataframe\">\n",
       "  <thead>\n",
       "    <tr style=\"text-align: right;\">\n",
       "      <th></th>\n",
       "      <th>제목</th>\n",
       "      <th>링크</th>\n",
       "    </tr>\n",
       "  </thead>\n",
       "  <tbody>\n",
       "    <tr>\n",
       "      <th>0</th>\n",
       "      <td>\\n국내 여행지 추천 여수 오동도 가는법 동백열차, 자전거 비교\\n</td>\n",
       "      <td>https://blog.naver.com/wkwmd81/222674036269</td>\n",
       "    </tr>\n",
       "    <tr>\n",
       "      <th>1</th>\n",
       "      <td>\\n국내 여행지 추천 여수 오동도 볼거리 여수동백꽃\\n</td>\n",
       "      <td>https://blog.naver.com/hloveh01/222661399374</td>\n",
       "    </tr>\n",
       "    <tr>\n",
       "      <th>2</th>\n",
       "      <td>\\n2월 국내 여행지 추천 강원도 정동진 해변 일출 여행 해수욕장 우리나라 해안\\n</td>\n",
       "      <td>https://blog.naver.com/tcacyc/222651575998</td>\n",
       "    </tr>\n",
       "    <tr>\n",
       "      <th>3</th>\n",
       "      <td>\\n국내 여행지 추천 단양 가볼만한곳 도담삼봉 석문\\n</td>\n",
       "      <td>https://blog.naver.com/00sweetlove/222605721560</td>\n",
       "    </tr>\n",
       "    <tr>\n",
       "      <th>4</th>\n",
       "      <td>\\n6월 국내여행지 추천, 당진 아그로랜드 수레국화 명소\\n</td>\n",
       "      <td>https://blog.naver.com/invu1657/222388254597</td>\n",
       "    </tr>\n",
       "    <tr>\n",
       "      <th>5</th>\n",
       "      <td>\\n국내 여행지 추천 아이와 경상도 가볼만한곳 합천 영상테마파크\\n</td>\n",
       "      <td>https://blog.naver.com/hp0210/222670926660</td>\n",
       "    </tr>\n",
       "    <tr>\n",
       "      <th>6</th>\n",
       "      <td>\\n국내 여행지 추천 속초 영랑호 호수 위를 걷는 영랑호수윗길\\n</td>\n",
       "      <td>https://blog.naver.com/ontheroad_gh/222651725242</td>\n",
       "    </tr>\n",
       "  </tbody>\n",
       "</table>\n",
       "</div>"
      ],
      "text/plain": [
       "                                               제목  \\\n",
       "0           \\n국내 여행지 추천 여수 오동도 가는법 동백열차, 자전거 비교\\n   \n",
       "1                  \\n국내 여행지 추천 여수 오동도 볼거리 여수동백꽃\\n   \n",
       "2  \\n2월 국내 여행지 추천 강원도 정동진 해변 일출 여행 해수욕장 우리나라 해안\\n   \n",
       "3                  \\n국내 여행지 추천 단양 가볼만한곳 도담삼봉 석문\\n   \n",
       "4               \\n6월 국내여행지 추천, 당진 아그로랜드 수레국화 명소\\n   \n",
       "5           \\n국내 여행지 추천 아이와 경상도 가볼만한곳 합천 영상테마파크\\n   \n",
       "6            \\n국내 여행지 추천 속초 영랑호 호수 위를 걷는 영랑호수윗길\\n   \n",
       "\n",
       "                                                 링크  \n",
       "0       https://blog.naver.com/wkwmd81/222674036269  \n",
       "1      https://blog.naver.com/hloveh01/222661399374  \n",
       "2        https://blog.naver.com/tcacyc/222651575998  \n",
       "3   https://blog.naver.com/00sweetlove/222605721560  \n",
       "4      https://blog.naver.com/invu1657/222388254597  \n",
       "5        https://blog.naver.com/hp0210/222670926660  \n",
       "6  https://blog.naver.com/ontheroad_gh/222651725242  "
      ]
     },
     "execution_count": 45,
     "metadata": {},
     "output_type": "execute_result"
    }
   ],
   "source": [
    "post_soup = soup.find_all(\"div\", class_=\"list_search_post\")    \n",
    "post_list = []\n",
    "for post in post_soup:\n",
    "    title = post.find(\"strong\", class_=\"title_post\").get_text()\n",
    "    href = post.find(\"a\")[\"href\"] \n",
    "    post_list.append({\"제목\":title, \"링크\":href})\n",
    "    \n",
    "# post_list - DataFrame 구조로 바꾸기    \n",
    "df = pd.DataFrame(post_list)\n",
    "df"
   ]
  },
  {
   "cell_type": "code",
   "execution_count": 20,
   "id": "e808a56d",
   "metadata": {},
   "outputs": [
    {
     "data": {
      "text/plain": [
       "Index([], dtype='object')"
      ]
     },
     "execution_count": 20,
     "metadata": {},
     "output_type": "execute_result"
    }
   ],
   "source": [
    "df.index"
   ]
  },
  {
   "cell_type": "code",
   "execution_count": 46,
   "id": "3f5e6c6f",
   "metadata": {},
   "outputs": [
    {
     "name": "stdout",
     "output_type": "stream",
     "text": [
      "http://blog.naver.com//PostView.naver?blogId=wkwmd81&logNo=222674036269&redirect=Dlog&widgetTypeCall=true&directAccess=false\n",
      "http://blog.naver.com//PostView.naver?blogId=hloveh01&logNo=222661399374&redirect=Dlog&widgetTypeCall=true&directAccess=false\n",
      "http://blog.naver.com//PostView.naver?blogId=tcacyc&logNo=222651575998&redirect=Dlog&widgetTypeCall=true&directAccess=false\n",
      "http://blog.naver.com//PostView.naver?blogId=00sweetlove&logNo=222605721560&redirect=Dlog&widgetTypeCall=true&directAccess=false\n",
      "http://blog.naver.com//PostView.naver?blogId=invu1657&logNo=222388254597&redirect=Dlog&widgetTypeCall=true&directAccess=false\n",
      "http://blog.naver.com//PostView.naver?blogId=hp0210&logNo=222670926660&redirect=Dlog&widgetTypeCall=true&directAccess=false\n",
      "http://blog.naver.com//PostView.naver?blogId=ontheroad_gh&logNo=222651725242&redirect=Dlog&widgetTypeCall=true&directAccess=false\n"
     ]
    }
   ],
   "source": [
    "for i in df.index:\n",
    "    driver.get(df.loc[i, \"링크\"])\n",
    "    time.sleep(2)\n",
    "    \n",
    "    html = driver.page_source\n",
    "    soup = bs(html, \"html.parser\")\n",
    "    print(\"http://blog.naver.com/\"+ soup.find(\"iframe\", id=\"mainFrame\")[\"src\"])"
   ]
  },
  {
   "cell_type": "code",
   "execution_count": 50,
   "id": "ed17fea2",
   "metadata": {},
   "outputs": [
    {
     "data": {
      "text/plain": [
       "'\\n\\n\\n\\n\\n국내 여행지 추천 여수 오동도 가는법 동백열차, 자전거 비교\\n\\n\\n\\n \\n\\n\\n\\n\\n\\n\\n\\n\\n\\n\\n\\n\\n\\n\\n봄에 가면 좋을 국내 여행지 중 한 곳인 여수 오동도에 다녀왔습니다. 저는 2월에 다녀왔는데 지금 시즌에 가시면 동백꽃이 가득 피어 있을 것 같아요. 제가 갔을 때는 오동도 곳곳에 동백꽃이 간혹 몇 송이 피어 있는 나무가 있긴 했거든요. 초록의 나무에 빨간 동백꽃이 포인트로 딱! 있는데 너무 예쁘더라고요. 아무래도 봄에 다시 한번 여수 오동도 가야겠어요\\n\\n\\n\\n \\n\\n\\n\\n\\n\\n\\n\\n\\n\\n\\n\\n\\n\\n\\n오동도는 처음 가봤는데 산책하는 길도 좋고 전망대도 예쁘고 예쁜 포토존들도 많아서 너무 좋았어요. 여수 여행 가신다면 꼭 오동도도 함께 다녀오시길 바라요. 포토 포인트랑 볼거리, 가는 법까지 차분하게 정리해 보겠습니다\\n\\n\\n\\n \\n\\n\\n\\n여수 오동도 가는법\\n\\n\\n\\n\\n\\n\\n\\n\\n\\n\\n\\n\\n\\n\\n\\n\\n\\n\\n\\n\\n\\n \\n\\n\\n\\n오동도는 주차장이 따로 있어서 차로 가기에 어렵지 않은 곳이에요. 저는 케이블카를 탑승해서 갔는데 꼭 케이블카 타지 않으셔도 목적지를 오동도로 정하고 가셔도 된답니다. 저는 케이블카 탑승장에서 내려서 산책길을 따라 오동도로 들어갔습니다. \\n\\n\\n\\n \\n\\n\\n\\n\\n\\n\\n\\n\\n\\n\\n\\n\\n\\n\\n섬이지만 도로로 연결되어 있어서 편하게 도보, 자전거, 동백열차 등을 타고 이동할 수 있어요. 사진에 보이는 도로를 걸어서 가면 10분 정도 걸리고 자전거로도 이동 가능해요. 동백열차도 시간 맞춰서 운행하고 있고요. 저는 걸어가기 멀 것 같은 느낌이 들어서 자전거를 대여했는데 다녀와서 보니 자전거로 안 가고 그냥 걸어서 가는 것 추천해요. 생각보다 안 멀거든요.\\n\\n\\n\\n \\n\\n\\n\\n\\n\\n\\n\\n\\n\\n\\n\\n\\n\\n\\n날씨가 너무 좋았던 날이라 풍경이 너무 예쁘네요. 오동도 들어가는 길에 바다를 배경으로 멋진 사진을 가득 담으실 수 있습니다.\\n\\n\\n\\n \\n\\n\\n\\n\\n\\n\\n\\n\\n\\n\\n\\n\\n\\n\\n오동도에 오신 것을 환영합니다.\\n\\n\\n\\n\\n\\n\\n\\n\\n1. 도보 이용하기!\\n\\n\\n\\n\\n\\n\\n\\n\\n\\n\\n\\n\\n\\n\\n\\n\\n\\n\\n\\n이 길이 바로 도보로 걸어갈 수 있는 길입니다. 사진엔 엄청 멀어 보이는데 생각보다 안 멀어요. 게다가 가는 길에 벽화도 너무 예쁘고 바다 풍경이 예술이라 걷는 것 자체가 관광이라는 느낌이 들었어요. 가볍게 산책하시는 거 추천합니다!\\n\\n\\n\\n \\n\\n\\n\\n2. 동백열차\\n\\n\\n\\n\\n\\n\\n\\n\\n\\n\\n\\n\\n\\n\\n\\n\\n\\n\\n\\n동백열차를 이용하면 보다 빠르게 이동할 수 있어요. 사진에 보이는 귀요미 열차를 타고 칙칙폭폭 들어갈 수 있습니다.\\n\\n\\n\\n \\n\\n\\n\\n\\n\\n\\n\\n\\n\\n\\n\\n\\n\\n\\n동백열차는 운행시간이 정해져 있어요. 요일별로 출발시간도 조금씩 다르고요 점심시간도 있더라고요. 저는 점심시간에 걸려서 그냥 자전거를 빌렸는데 다시 한번 강조하지만 그냥 걸어서 가시는 거 추천합니다! 참고로 동백열차 가격은 성인 1,000원, 학생 500원이었습니다.\\n\\n\\n\\n \\n\\n\\n\\n3. 자전거\\n\\n\\n\\n\\n\\n\\n\\n\\n\\n\\n\\n\\n\\n\\n\\n\\n\\n\\n\\n자전거 도로가 별도로 있어서 자전거 도로를 따라 오동도로 들어갈 수도 있습니다. 입구에 자전거 대여점이 있는데 1시간에 5천 원이었어요. 하지만!!! 혹시 자전거 이용하실 분들은 여수랑이라는 어플 깔고 여수랑 자전거 빌리기는 거 추천해요. 서울의 따릉이처럼 여수의 공용 자전거인데 1일 천 원에 자유롭게 이용 가능하거든요. 제가 자전거 타고 오동도 다녀와본 결과 오동도 전망대랑 구석구석 보다 보면 1시간이 살짝 빠듯하거든요. 자전거 빌리실 분들은 여수랑 잊지 마세요!아~ 그리고 아이용 자전거는 여수랑에 없으니 아이 자전거 빌리실 분들은 자전거 대여점 이용하세요 가격은 똑같이 1시간에 5천 원이었고 2인용 자전거도 있었어요.\\n\\n\\n\\n \\n\\n\\n\\n\\n\\n\\n\\n\\n\\n\\n\\n\\n\\n\\n자전거나 도보를 이용해서 길을 따라 쭉 이동하면 넓은 광장이 보입니다. 거북선도 보이더라고요. 인증 사진 남겨야겠죠?\\n\\n\\n\\n \\n\\n\\n\\n\\n\\n\\n\\n\\n\\n\\n\\n\\n\\n\\n요기서도 찰칵!! 여유롭게 둘러보시려면 대략 1시간 30분 정도 코스를 추천합니다.\\n\\n\\n\\n \\n\\n\\n\\n\\n\\n\\n\\n\\n\\n\\n\\n\\n\\n\\n동백열차는 이 광장에서 타고 내릴 수 있어요. 생각보다 타는 분들이 많이 없으시긴 하더라고요. 봄에는 사람들이 더 많아져셔 동백열차도 대기가 생길 것 같기는 해요\\u200b\\n\\n\\n\\n \\n\\n\\n\\n오동도 한려해상 국립공원\\n\\n\\n\\n\\n\\n\\n\\n\\n\\n\\n\\n\\n\\n\\n\\n\\n\\n\\n\\n산책길 입구에 지도가 자세히 나와 있어요. 길이 좀 복잡해 보이긴 하는데 실제로 가보면 복잡한 거 없이 그냥 길 따라 쭉 산책할 수 있어요. 동네 뒷산 느낌의 언덕길을 올라야 하는데 크게 힘든 건 없었던 것 같아요.  꼭 다녀오면 좋을 추천 스팟은 바람골, 용굴, 해돋이 전망지, 오동도등대, 휴게소 등입니다. 이외에도 갯바위나 분수대도 있는데 분수대는 운영하지 않더라고요.\\n\\n\\n\\n \\n\\n\\n\\n\\n\\n\\n\\n\\n\\n\\n\\n\\n\\n\\n산책길을 따라 올라가다 보니 바닥에 떨어져 있는 동백꽃도 보입니다. 실제로 동백꽃을 본건 처음인 것 같은데 너무 예쁘더라고요 ^^ 아이도 소중하게 두 손에~\\n\\n\\n\\n \\n\\n\\n\\n\\n\\n\\n\\n\\n\\n\\n\\n\\n\\n\\n곳곳에 포토존이 많아요. 요즘엔 국내 여행지 유명한 곳들은 포토존이 필수인가 봅니다. 포토존에서 사진 남기시는 거 추천해요!\\n\\n\\n\\n \\n\\n\\n\\n여수 오동도 바람골\\n\\n\\n\\n\\n\\n\\n\\n\\n\\n\\n\\n\\n\\n\\n\\n\\n\\n\\n\\n\\n\\n \\n\\n\\n\\n오동도에서 가장 유명한 포토존이 바로 이곳입니다. 바람골. 이정표가 있는데 계단 아래로 내려가면 사진 찍는 사람들이 보일 거예요. 바람이 지나는 길이라는 뜻일까요? 암튼 바위 사이로 바다가 보이는데 실루엣샷 담으니 너무 예쁘더라고요 ^^\\n\\n\\n\\n \\n\\n\\n\\n\\n\\n\\n\\n\\n\\n\\n\\n\\n\\n\\n용굴의 전설도 있더라고요. 뭔가 심오한 전설이었다는 ㅋ\\n\\n\\n\\n \\n\\n\\n\\n\\n\\n\\n\\n\\n\\n\\n\\n\\n\\n\\n동백꽃 전망대에도 가보았습니다\\n\\n\\n\\n \\n\\n\\n\\n\\n\\n\\n\\n\\n\\n\\n\\n\\n\\n\\n가슴이 뻥 뚫리는 전망을 보실 수 있어요. 여수가 이렇게 좋은 여행지인지 몰랐어요~ 봄에 가면 더더 좋을 것 같은 국내여행지로 추천해요.\\n\\n\\n\\n \\n\\n\\n\\n\\n\\n\\n\\n\\n\\n\\n\\n\\n\\n\\n오동도 등대는 아쉽게도 지금은 문을 닫았어요. 외부만 사진을 담아보았습니다. 등대 옆쪽으로 동백나무에 동백꽃 핀 거 보이시나요? 요기에 있는 동백은 해를 많이 받아서 그런지 조금 많이 피었더라고요.\\n\\n\\n\\n \\n\\n\\n\\n\\n\\n\\n\\n\\n\\n\\n\\n\\n\\n\\n돌아오는 길에도 포토존이 계속해서 등장하더라고요. 커플들이 삼각대 가지고 와서 사진 남기는데 풋풋하더라는.\\n\\n\\n\\n \\n\\n\\n\\n\\n\\n\\n\\n\\n\\n\\n\\n\\n\\n\\n저는 씽이 와 사진을 담아보았습니다. 사진에 보니 정말 커 보이는데 실제로는 아기예요 아직 ㅋ\\n\\n\\n\\n \\n\\n\\n\\n\\n\\n\\n\\n\\n\\n\\n\\n\\n\\n\\n\\n\\n \\n\\n\\n\\n산책하는 코스도 좋고 포토존도 많아서 좋았던 여수 오동도. 여수 여행 가신다면 꼭 다녀오세요케이블카랑 함께 묶어서 다녀오시면 반나절 코스로도 추천하고요!\\n\\n\\n\\n \\n\\n\\n\\n\\n\\n\\n\\n\\n\\n \\n\\n\\n\\n\\n\\n\\n\\n\\n여수 해상 케이블카 할인 크리스탈 후기 여수 가볼만한곳 강추\\n여수 해상 케이블카 할인 크리스탈 후기 여수 가볼만한곳 강추 환상적인 날씨 덕분에 더 즐거웠던 여수 여...\\nblog.naver.com\\n\\n\\n\\n\\n\\n\\n \\n\\n\\n\\n여수 해상 케이블카 포스팅은 요기 있으니 참고하시고요\\n\\n\\n\\n \\n\\n\\n\\n\\n\\n\\n\\n \\n\\n\\n\\n오동도를 담은 영상도 첨부합니다. 걸어서 가는 길에 영상을 담아보았어요. 맘 같아선 자전거 타면서 영상 담고 싶었는데 소심이라 그것 못했네요 ^^\\n\\n\\n\\n \\n\\n\\n\\n\\n\\n\\n\\n\\n\\n\\n\\n\\n\\n\\n다시 가고 싶은 곳이에요~\\n\\n\\n\\n \\n\\n\\n\\n\\n\\n\\n\\n오동도\\n전라남도 여수시 수정동 산1-11\\n\\n\\n\\n\\n\\n \\n\\n\\n\\n\\n\\n\\n\\n\\n\\n\\n\\n\\n\\n\\n\\u200b\\n\\n\\n\\n '"
      ]
     },
     "execution_count": 50,
     "metadata": {},
     "output_type": "execute_result"
    }
   ],
   "source": [
    "import requests\n",
    "\n",
    "html = requests.get(\"http://blog.naver.com/PostView.naver?blogId=wkwmd81&logNo=222674036269&redirect=Dlog&widgetTypeCall=true&directAccess=false\")\n",
    "soup = bs(html.text, \"html.parser\")\n",
    "soup.find(\"div\", class_=\"se-main-container\").get_text()"
   ]
  },
  {
   "cell_type": "markdown",
   "id": "d042f19e",
   "metadata": {},
   "source": [
    "#### 구글 "
   ]
  },
  {
   "cell_type": "code",
   "execution_count": 88,
   "id": "3c350b33",
   "metadata": {
    "scrolled": true
   },
   "outputs": [
    {
     "name": "stderr",
     "output_type": "stream",
     "text": [
      "/var/folders/3x/ck_8z3cd6r510s7t3t_g1nzm0000gn/T/ipykernel_1012/2710093196.py:2: DeprecationWarning: executable_path has been deprecated, please pass in a Service object\n",
      "  driver = webdriver.Chrome(\"/Users/hyunjinkim/Desktop/multi/chromedriver\")\n",
      "/var/folders/3x/ck_8z3cd6r510s7t3t_g1nzm0000gn/T/ipykernel_1012/2710093196.py:5: DeprecationWarning: find_element_by_name is deprecated. Please use find_element(by=By.NAME, value=name) instead\n",
      "  elem = driver.find_element_by_name(\"q\")\n"
     ]
    }
   ],
   "source": [
    "# 드라이브(창)이 떠있는 순간에만 찾을 수 있음 \n",
    "driver = webdriver.Chrome(\"/Users/hyunjinkim/Desktop/multi/chromedriver\")\n",
    "\n",
    "driver.get(\"https://google.com\")\n",
    "elem = driver.find_element_by_name(\"q\")\n",
    "time.sleep(2)\n",
    "elem.clear()\n",
    "time.sleep(2)\n",
    "elem.send_keys(\"국내 여행지\") # 검색어입력: '국내 여행지'\n",
    "\n"
   ]
  },
  {
   "cell_type": "code",
   "execution_count": 54,
   "id": "088dee3c",
   "metadata": {},
   "outputs": [
    {
     "name": "stderr",
     "output_type": "stream",
     "text": [
      "/var/folders/3x/ck_8z3cd6r510s7t3t_g1nzm0000gn/T/ipykernel_1012/3160531977.py:1: DeprecationWarning: find_element_by_xpath is deprecated. Please use find_element(by=By.XPATH, value=xpath) instead\n",
      "  driver.find_element_by_xpath(\"/html/body/div[1]/div[1]/a[2]\").click()\n"
     ]
    }
   ],
   "source": [
    "driver.find_element_by_xpath(\"/html/body/div[1]/div[1]/a[2]\").click()"
   ]
  },
  {
   "attachments": {
    "%EC%85%80%EB%A0%88%EB%8B%88%EC%9B%80%20element%20%EC%82%AC%EC%9A%A9.PNG": {
     "image/png": "[encoded data removed]"
    }
   },
   "cell_type": "markdown",
   "id": "d7e3b733",
   "metadata": {},
   "source": [
    "![%EC%85%80%EB%A0%88%EB%8B%88%EC%9B%80%20element%20%EC%82%AC%EC%9A%A9.PNG](attachment:%EC%85%80%EB%A0%88%EB%8B%88%EC%9B%80%20element%20%EC%82%AC%EC%9A%A9.PNG)"
   ]
  },
  {
   "cell_type": "markdown",
   "id": "7e34cff3",
   "metadata": {},
   "source": [
    "### 네이버 로그인하기"
   ]
  },
  {
   "cell_type": "code",
   "execution_count": 56,
   "id": "604b9925",
   "metadata": {},
   "outputs": [
    {
     "name": "stdout",
     "output_type": "stream",
     "text": [
      "Collecting pyperclip\n",
      "  Downloading pyperclip-1.8.2.tar.gz (20 kB)\n",
      "  Preparing metadata (setup.py) ... \u001b[?25ldone\n",
      "\u001b[?25hBuilding wheels for collected packages: pyperclip\n",
      "  Building wheel for pyperclip (setup.py) ... \u001b[?25ldone\n",
      "\u001b[?25h  Created wheel for pyperclip: filename=pyperclip-1.8.2-py3-none-any.whl size=11137 sha256=69226c0f11fdc619d83758f2d9048fc108d3423d3cd2e5299527f2da213d77b9\n",
      "  Stored in directory: /Users/hyunjinkim/Library/Caches/pip/wheels/0c/09/9e/49e21a6840ef7955b06d47394afef0058f0378c0914e48b8b8\n",
      "Successfully built pyperclip\n",
      "Installing collected packages: pyperclip\n",
      "Successfully installed pyperclip-1.8.2\n",
      "\u001b[33mWARNING: You are using pip version 22.0.3; however, version 22.0.4 is available.\n",
      "You should consider upgrading via the '/Users/hyunjinkim/opt/miniconda3/bin/python -m pip install --upgrade pip' command.\u001b[0m\u001b[33m\n",
      "\u001b[0m"
     ]
    }
   ],
   "source": [
    "#!pip install pyperclip"
   ]
  },
  {
   "cell_type": "code",
   "execution_count": 63,
   "id": "b736faac",
   "metadata": {},
   "outputs": [],
   "source": [
    "from selenium.webdriver import Chrome\n",
    "from selenium.webdriver.common.by import By # 자동으로 웹드라이버 구현하여 사용 \n",
    "from selenium.webdriver.common.keys import Keys\n",
    "from selenium.webdriver.common.action_chains import ActionChains\n",
    "import time\n",
    "import pyperclip\n",
    "\n",
    "\n",
    "\n"
   ]
  },
  {
   "cell_type": "code",
   "execution_count": 83,
   "id": "31d2e0f3",
   "metadata": {},
   "outputs": [
    {
     "name": "stderr",
     "output_type": "stream",
     "text": [
      "/var/folders/3x/ck_8z3cd6r510s7t3t_g1nzm0000gn/T/ipykernel_1012/1148269179.py:1: DeprecationWarning: executable_path has been deprecated, please pass in a Service object\n",
      "  driver = Chrome(\"../chromedriver\") # chromedriver 파일 위치\n"
     ]
    }
   ],
   "source": [
    "driver = Chrome(\"../chromedriver\") # chromedriver 파일 위치\n",
    "driver.get(\"http://naver.com\")"
   ]
  },
  {
   "cell_type": "code",
   "execution_count": 84,
   "id": "5a837f9e",
   "metadata": {},
   "outputs": [],
   "source": [
    "# 네이버 로그인 화면 이동 \n",
    "driver.find_element(By.XPATH, '//*[@id=\"account\"]/a').click()"
   ]
  },
  {
   "cell_type": "code",
   "execution_count": 39,
   "id": "ae0e0ba4",
   "metadata": {},
   "outputs": [],
   "source": [
    "## 너 로봇이니? 뜰 수 있음 \n",
    "\n",
    "# 네이버 로그인 - 아이디 입력\n",
    "driver.find_element(By.NAME,\"id\").clear() # 중복입력 방지\n",
    "driver.find_element(By.NAME,\"id\").send_keys(\"\")  # .send_keys(\"실제 네이버 아이디\")\n",
    "# 네이버 로그인 - 패스워드 입력\n",
    "driver.find_element(By.NAME,\"pw\").clear() # 중복입력 방지\n",
    "driver.find_element(By.NAME,\"pw\").send_keys(\"\") # .send_keys(\"실제 네이버 패스워드\")"
   ]
  },
  {
   "cell_type": "code",
   "execution_count": 86,
   "id": "5d60ffb4",
   "metadata": {},
   "outputs": [],
   "source": [
    "# 네이버 로그인 버튼 클릭\n",
    "driver.find_element(By.XPATH, '//*[@id=\"log.login\"]').click()"
   ]
  },
  {
   "cell_type": "code",
   "execution_count": 85,
   "id": "0add3307",
   "metadata": {},
   "outputs": [],
   "source": [
    "## 회피 \n",
    "id = \"\"\n",
    "pw = \"\"\n",
    "\n",
    "pyperclip.copy(id)\n",
    "driver.find_element(By.NAME,\"id\").clear()\n",
    "driver.find_element(By.NAME, \"id\").send_keys(id)\n",
    "#ActionChains(driver).key_down(Keys.CONTROL).send_keys(\"v\").key_up(Keys.CONTROL).perform()\n",
    "time.sleep(1)\n",
    "\n",
    "pyperclip.copy(pw)\n",
    "driver.find_element(By.NAME,\"pw\").clear()\n",
    "driver.find_element(By.NAME, \"pw\").send_keys(pw)\n",
    "#ActionChains(driver).key_down(Keys.CONTROL).send_keys(\"v\").key_up(Keys.CONTROL).perform()\n",
    "# 맥은 cmd + v\n",
    "time.sleep(1)\n",
    "\n",
    "# 네이버 로그인 버튼 클릭\n",
    "#driver.find_element(By.XPATH, '//*[@id=\"log.login\"]').click()"
   ]
  },
  {
   "cell_type": "code",
   "execution_count": null,
   "id": "279808fb",
   "metadata": {},
   "outputs": [],
   "source": [
    "###### 강사님 ######\n",
    "\n",
    "##회피\n",
    "id=\"\"\n",
    "pw=\"\"\n",
    "\n",
    "pyperclip.copy(id)\n",
    "driver.find_element(By.NAME,\"id\").clear()\n",
    "driver.find_element(By.NAME, \"id\").click()\n",
    "driver.find_element(By.NAME, \"id\").send_keys(Keys.CONTROL, \"v\")\n",
    "#ActionChains(driver).key_down(Keys.CONTROL).send_keys(\"v\").key_up(Keys.CONTROL).perform()\n",
    "time.sleep(1)\n",
    "\n",
    "pyperclip.copy(pw)\n",
    "driver.find_element(By.NAME,\"pw\").clear()\n",
    "driver.find_element(By.NAME, \"pw\").click()\n",
    "driver.find_element(By.NAME, \"pw\").send_keys(Keys.CONTROL, \"v\")\n",
    "#ActionChains(driver).key_down(Keys.CONTROL).send_keys(\"v\").key_up(Keys.CONTROL).perform()\n",
    "time.sleep(1)\n",
    "\n",
    "driver.find_element(By.XPATH, '//*[@id=\"log.login\"]').click()"
   ]
  },
  {
   "cell_type": "code",
   "execution_count": null,
   "id": "e81caaee",
   "metadata": {},
   "outputs": [],
   "source": []
  }
 ],
 "metadata": {
  "kernelspec": {
   "display_name": "Python 3 (ipykernel)",
   "language": "python",
   "name": "python3"
  },
  "language_info": {
   "codemirror_mode": {
    "name": "ipython",
    "version": 3
   },
   "file_extension": ".py",
   "mimetype": "text/x-python",
   "name": "python",
   "nbconvert_exporter": "python",
   "pygments_lexer": "ipython3",
   "version": "3.9.7"
  }
 },
 "nbformat": 4,
 "nbformat_minor": 5
}
