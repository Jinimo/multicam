{
 "cells": [
  {
   "cell_type": "markdown",
   "id": "42425b03",
   "metadata": {},
   "source": [
    "## 대중교통(서울지하철) 데이터 처리 및 시각화\n",
    "- csv 모듈을 이용한 데이터 처리\n",
    "- 데이터: 서울시 공공데이터 검색 => 지하철 유무임 검색 => csv 형식 파일 다운로드"
   ]
  },
  {
   "cell_type": "markdown",
   "id": "4dbd0dfe",
   "metadata": {},
   "source": [
    "#### 1. 데이터 읽어오기 및 데이터 형식 변경\n",
    "- 첫번째행(제목)은 title 변수에 저장\n",
    "- 나머지 데이터는 리스트형으로 변경해 사용"
   ]
  },
  {
   "cell_type": "code",
   "execution_count": 26,
   "id": "cbcfb5df",
   "metadata": {},
   "outputs": [
    {
     "name": "stdout",
     "output_type": "stream",
     "text": [
      "['사용월', '호선명', '지하철역', '유임승차인원', '무임승차인원', '유임하차인원', '무임하차인원', '작업일자']\n",
      "[['202202', '1호선', '종로3가', '335905', '211468', '308127', '197301', '20220303'], ['202202', '1호선', '동대문', '164652', '85659', '152193', '83921', '20220303'], ['202202', '1호선', '서울역', '783814', '129597', '734548', '121859', '20220303'], ['202202', '1호선', '신설동', '209871', '88550', '207172', '85219', '20220303'], ['202202', '1호선', '종각', '583790', '93238', '565882', '87907', '20220303']]\n"
     ]
    }
   ],
   "source": [
    "import csv\n",
    "\n",
    "# 절대경로\n",
    "# f=open(\"c:/pydata/subwayfree.csv\", encoding='cp949')\n",
    "\n",
    "# 상대경로에서 파일 읽어오기\n",
    "f = open(\"./data/subwayfree.csv\")\n",
    "data = csv.reader(f)\n",
    "\n",
    "# 첫행 title에 저장\n",
    "title = next(data)\n",
    "# 나머지 데이터는 리스형으로 변경\n",
    "data = list(data)\n",
    "f.close()\n",
    "\n",
    "print(title)\n",
    "print(data[:5])"
   ]
  },
  {
   "cell_type": "markdown",
   "id": "03751fc1",
   "metadata": {},
   "source": [
    "data의 4번~ 7번까지 ''로 묶인 데이터 => 정수형 데이터로 변경"
   ]
  },
  {
   "cell_type": "code",
   "execution_count": 27,
   "id": "484e5dc6",
   "metadata": {},
   "outputs": [],
   "source": [
    "#!pip install numpy"
   ]
  },
  {
   "cell_type": "code",
   "execution_count": 28,
   "id": "ffd78a4b",
   "metadata": {},
   "outputs": [
    {
     "name": "stdout",
     "output_type": "stream",
     "text": [
      "(56998, 8)\n",
      "2\n"
     ]
    }
   ],
   "source": [
    "# 차원 확인\n",
    "import numpy as np\n",
    "\n",
    "print(np.array(data).shape)   # (행, 열)\n",
    "print(np.array(data).ndim)    # 차원 확인"
   ]
  },
  {
   "cell_type": "code",
   "execution_count": 29,
   "id": "3db0e93b",
   "metadata": {},
   "outputs": [
    {
     "name": "stdout",
     "output_type": "stream",
     "text": [
      "[['202202', '1호선', '종로3가', 335905, 211468, 308127, 197301, '20220303'], ['202202', '1호선', '동대문', 164652, 85659, 152193, 83921, '20220303'], ['202202', '1호선', '서울역', 783814, 129597, 734548, 121859, '20220303'], ['202202', '1호선', '신설동', 209871, 88550, 207172, 85219, '20220303'], ['202202', '1호선', '종각', 583790, 93238, 565882, 87907, '20220303']]\n"
     ]
    }
   ],
   "source": [
    "# 정수형 데이터 변경하기\n",
    "\n",
    "for row in data:\n",
    "    for i in range(3, 7):\n",
    "        row[i] = int(row[i])\n",
    "        \n",
    "print(data[:5]) "
   ]
  },
  {
   "cell_type": "markdown",
   "id": "ba724ada",
   "metadata": {},
   "source": [
    "#### 2. 데이터 분석"
   ]
  },
  {
   "cell_type": "markdown",
   "id": "be8b86a5",
   "metadata": {},
   "source": [
    "유임 승차 비율이 가능 높은 역정보 출력\n",
    "- 비율 = 유임승차인원 / 무인승차인원\n",
    "- 비율 = 유임승차인원 / (유임+무인)승차인원\n",
    "- 비율이 가장 높은 라인/역이름/비율"
   ]
  },
  {
   "cell_type": "code",
   "execution_count": 31,
   "id": "c8c115c3",
   "metadata": {},
   "outputs": [
    {
     "name": "stdout",
     "output_type": "stream",
     "text": [
      "['202202', '1호선', '종로3가', 335905, 211468, 308127, 197301, '20220303'] 0.61\n",
      "['202202', '1호선', '동대문', 164652, 85659, 152193, 83921, '20220303'] 0.66\n",
      "['202202', '1호선', '서울역', 783814, 129597, 734548, 121859, '20220303'] 0.86\n",
      "['202202', '1호선', '종각', 583790, 93238, 565882, 87907, '20220303'] 0.86\n",
      "['202202', '1호선', '시청', 377162, 54426, 384421, 53390, '20220303'] 0.87\n",
      "['202202', '2호선', '잠실(송파구청)', 1383281, 126825, 1351970, 120786, '20220303'] 0.92\n",
      "['202202', '2호선', '삼성(무역센터)', 981108, 81755, 981775, 75105, '20220303'] 0.92\n",
      "['202202', '2호선', '합정', 643930, 48341, 674433, 47883, '20220303'] 0.93\n",
      "['202202', '2호선', '홍대입구', 1235312, 68030, 1265503, 65322, '20220303'] 0.95\n",
      "['202202', '7호선', '상동', 19, 1, 0, 0, '20220303'] 0.95\n",
      "['202202', '경부선', '서울역', 148368, 7191, 44210, 1823, '20220303'] 0.95\n",
      "['202111', '3호선', '충무로', 33, 1, 0, 0, '20211203'] 0.97\n",
      "['202110', '6호선', '연신내', 47, 1, 0, 0, '20211103'] 0.98\n",
      "['201809', '3호선', '충무로', 55, 1, 0, 0, '20181003'] 0.98\n",
      "['201806', '3호선', '충무로', 60, 1, 0, 0, '20180703'] 0.98\n",
      "['201806', '3호선', '충무로', 60, 1, 0, 0, '20180703'] ,  0.98\n"
     ]
    }
   ],
   "source": [
    "# 비율 = 유임승차인원 / 무인승차인원\n",
    "maxs=0\n",
    "rate=0\n",
    "maxlst=[]\n",
    "\n",
    "for row in data:\n",
    "    if row[4] == 0:  # 무인승차 0이면 다음 값으로 이동\n",
    "        continue\n",
    "    rate= row[3] / (row[3] + row[4])\n",
    "    if rate > maxs:\n",
    "        maxs=rate\n",
    "        maxlst=row\n",
    "        print(row, round(maxs, 2))   \n",
    "\n",
    "print(maxlst,\", \" ,round(maxs, 2)) # round(값, 반올림 위치): 값을 입력한 위치에서 반올림"
   ]
  },
  {
   "cell_type": "code",
   "execution_count": 32,
   "id": "7fbcec61",
   "metadata": {},
   "outputs": [
    {
     "name": "stdout",
     "output_type": "stream",
     "text": [
      "역이름:종로3가, 라인:1호선, 비율: 0.61\n",
      "역이름:동대문, 라인:1호선, 비율: 0.66\n",
      "역이름:서울역, 라인:1호선, 비율: 0.86\n",
      "역이름:종각, 라인:1호선, 비율: 0.86\n",
      "역이름:시청, 라인:1호선, 비율: 0.87\n",
      "역이름:잠실(송파구청), 라인:2호선, 비율: 0.92\n",
      "역이름:삼성(무역센터), 라인:2호선, 비율: 0.92\n",
      "역이름:합정, 라인:2호선, 비율: 0.93\n",
      "역이름:홍대입구, 라인:2호선, 비율: 0.95\n",
      "역이름:서울역, 라인:경부선, 비율: 0.95\n",
      "역이름:마곡나루(서울식물원), 라인:공항철도 1호선, 비율: 0.95\n",
      "역이름:마곡나루(서울식물원), 라인:공항철도 1호선, 비율: 0.96\n",
      "역이름:마곡나루, 라인:공항철도 1호선, 비율: 0.96\n",
      "역이름:한양대, 라인:2호선, 비율: 0.96\n",
      "역이름:한양대, 라인:2호선, 비율: 0.96\n",
      "역이름:한양대, 라인:2호선, 비율: 0.96\n",
      "역이름:한양대, 라인:2호선, 비율: 0.96\n",
      "역이름:한양대, 라인:2호선, 비율: 0.96\n"
     ]
    }
   ],
   "source": [
    "## (유임+무임) 값이 10만명 이상인 데이터들 중에서 선택\n",
    "maxs=0\n",
    "rate=0\n",
    "maxlst=[]\n",
    "\n",
    "for row in data:\n",
    "    if row[4] != 0 and (row[3] + row[4]) >= 100000:  \n",
    "        \n",
    "        rate= row[3] / (row[3] + row[4])\n",
    "        \n",
    "        if rate > maxs:\n",
    "            maxs=rate\n",
    "            maxlst=row\n",
    "            print(f\"역이름:{row[2]}, 라인:{row[1]}, 비율: {round(maxs, 2)}\")   \n",
    "\n",
    "print(f\"역이름:{maxlst[2]}, 라인:{maxlst[1]}, 비율: {round(maxs, 2)}\")"
   ]
  },
  {
   "cell_type": "code",
   "execution_count": null,
   "id": "ab245535",
   "metadata": {},
   "outputs": [],
   "source": [
    "# 무료 비율이 높은 역/호선/비율 출력(각자 해보세요.)\n",
    "\n"
   ]
  },
  {
   "cell_type": "markdown",
   "id": "b766a22f",
   "metadata": {},
   "source": [
    "모든 역을 기준으로 유임승자/유임하차/무임승차/무임하차 인원이 가장 많은 역 찾기"
   ]
  },
  {
   "cell_type": "code",
   "execution_count": 40,
   "id": "3b0829e4",
   "metadata": {},
   "outputs": [
    {
     "name": "stdout",
     "output_type": "stream",
     "text": [
      "유임승차 : 사용년월:201501/라인:2호선/역:강남/3266271\n",
      "무임승차 : 사용년월:201501/라인:2호선/역:강남/3353256\n",
      "유임하차 : 사용년월:201607/라인:2호선/역:강남/3265282\n",
      "무임하차 : 사용년월:201901/라인:1호선/역:제기동/400607\n"
     ]
    }
   ],
   "source": [
    "label = [\"유임승차\", \"무임승차\", \"유임하차\", \"무임하차\"]\n",
    "mxstation = [\"\"] * 4  # 빈 데이터 4개 생성 후 리스트로 저장\n",
    "mx=[0] * 4            # 0 으로 채워진 데이터 4개 생성후 리스트로 저장\n",
    "\n",
    "for row in data:\n",
    "    for i in range(3, 7):\n",
    "        if row[i] > mx[i-3]:\n",
    "            mx[i-3] = row[i]\n",
    "            mxstation[i-3] = f\"사용년월:{row[0]}/라인:{row[1]}/역:{row[2]}\"\n",
    "            \n",
    "for i in range(4):\n",
    "    print(f\"{label[i]} : {mxstation[i]}/{mx[i]}\")"
   ]
  },
  {
   "cell_type": "markdown",
   "id": "bd270221",
   "metadata": {},
   "source": [
    "선택한 호선명에  포한된 역에 대해서만 유무임 승하차 비율 계산"
   ]
  },
  {
   "cell_type": "code",
   "execution_count": 41,
   "id": "a2c98077",
   "metadata": {},
   "outputs": [],
   "source": [
    "# 호선명 고유값을 찾아주세요(개별)\n"
   ]
  },
  {
   "cell_type": "code",
   "execution_count": 44,
   "id": "843c61bc",
   "metadata": {},
   "outputs": [
    {
     "name": "stdout",
     "output_type": "stream",
     "text": [
      "호선명을 입력하세요.:2호선\n",
      "\n",
      "호선명: 2호선\n",
      "유임승차 : 사용년월:201501/라인:2호선/역:강남/3266271\n",
      "무임승차 : 사용년월:201501/라인:2호선/역:강남/3353256\n",
      "유임하차 : 사용년월:201607/라인:2호선/역:강남/3265282\n",
      "무임하차 : 사용년월:201912/라인:2호선/역:신림/271159\n"
     ]
    }
   ],
   "source": [
    "label = [\"유임승차\", \"무임승차\", \"유임하차\", \"무임하차\"]\n",
    "mxstation = [\"\"] * 4  # 빈 데이터 4개 생성 후 리스트로 저장\n",
    "mx=[0] * 4            # 0 으로 채워진 데이터 4개 생성후 리스트로 저장\n",
    "staname=input(\"호선명을 입력하세요.:\")\n",
    "\n",
    "for row in data:\n",
    "    for i in range(3, 7):\n",
    "        if row[i] > mx[i-3] and row[1] == staname:\n",
    "            mx[i-3] = row[i]\n",
    "            mxstation[i-3] = f\"사용년월:{row[0]}/라인:{row[1]}/역:{row[2]}\"\n",
    "            \n",
    "print(\"\\n호선명:\", staname)\n",
    "for i in range(4):\n",
    "    print(f\"{label[i]} : {mxstation[i]}/{mx[i]}\")"
   ]
  },
  {
   "cell_type": "code",
   "execution_count": 45,
   "id": "77f9b0dd",
   "metadata": {},
   "outputs": [],
   "source": [
    "# 에러 처리\n",
    "# 호선명 입력시 오류가 발생하면 \"호선명을 잘못 입력하셨습니다.\" \n",
    "# 라는 메세지 전달 후 다시 입력 받기\n",
    "# 개별적으로 작성하세요."
   ]
  },
  {
   "cell_type": "code",
   "execution_count": 42,
   "id": "e5ea2d8b",
   "metadata": {},
   "outputs": [
    {
     "data": {
      "text/plain": [
       "['사용월', '호선명', '지하철역', '유임승차인원', '무임승차인원', '유임하차인원', '무임하차인원', '작업일자']"
      ]
     },
     "execution_count": 42,
     "metadata": {},
     "output_type": "execute_result"
    }
   ],
   "source": [
    "title"
   ]
  },
  {
   "cell_type": "code",
   "execution_count": 48,
   "id": "d123c083",
   "metadata": {},
   "outputs": [
    {
     "name": "stdout",
     "output_type": "stream",
     "text": [
      "호선명을 입력하세요.:호선\n",
      "\n",
      "호선명: 호선\n",
      "유임승차 : 사용년월:201501/라인:2호선/역:강남/3266271\n",
      "무임승차 : 사용년월:201501/라인:2호선/역:강남/3353256\n",
      "유임하차 : 사용년월:201607/라인:2호선/역:강남/3265282\n",
      "무임하차 : 사용년월:201901/라인:1호선/역:제기동/400607\n"
     ]
    }
   ],
   "source": [
    "# 호선명의 일부만 입력해서 관련 정보 출력\n",
    "label = [\"유임승차\", \"무임승차\", \"유임하차\", \"무임하차\"]\n",
    "mxstation = [\"\"] * 4  # 빈 데이터 4개 생성 후 리스트로 저장\n",
    "mx=[0] * 4            # 0 으로 채워진 데이터 4개 생성후 리스트로 저장\n",
    "staname=input(\"호선명을 입력하세요.:\")\n",
    "\n",
    "for row in data:\n",
    "    for i in range(3, 7):\n",
    "        if row[i] > mx[i-3] and staname in row[1]:\n",
    "            mx[i-3] = row[i]\n",
    "            mxstation[i-3] = f\"사용년월:{row[0]}/라인:{row[1]}/역:{row[2]}\"\n",
    "            \n",
    "print(\"\\n호선명:\", staname)\n",
    "for i in range(4):\n",
    "    print(f\"{label[i]} : {mxstation[i]}/{mx[i]}\")"
   ]
  },
  {
   "cell_type": "markdown",
   "id": "f31b007c",
   "metadata": {},
   "source": [
    "각 유/무임승차, 유/무임하차가 각각 가장 많은 날짜의 데이터를 이용해 차트 작성(막대)"
   ]
  },
  {
   "cell_type": "code",
   "execution_count": 51,
   "id": "e7d65b73",
   "metadata": {},
   "outputs": [
    {
     "name": "stdout",
     "output_type": "stream",
     "text": [
      "호선명을 입력하세요.:1\n",
      "\n",
      "호선명: 1\n",
      "유임승차 : ['201501', '1호선', '서울역', 1890411, 1667163, 238403, 220008]/1890411\n",
      "무임승차 : ['201503', '1호선', '서울역', 1880246, 1682965, 251663, 232039]/1682965\n",
      "유임하차 : ['201512', '1호선', '서울역', 1795435, 235606, 1574932, 216587]/1574932\n",
      "무임하차 : ['201901', '1호선', '제기동', 293540, 374571, 288217, 400607]/400607\n"
     ]
    }
   ],
   "source": [
    "label = [\"유임승차\", \"무임승차\", \"유임하차\", \"무임하차\"]\n",
    "mxstation = [\"\"] * 4  # 빈 데이터 4개 생성 후 리스트로 저장\n",
    "mx=[0] * 4            # 0 으로 채워진 데이터 4개 생성후 리스트로 저장\n",
    "staname=input(\"호선명을 입력하세요.:\")\n",
    "\n",
    "for row in data:\n",
    "    for i in range(3, 7):\n",
    "        if row[i] > mx[i-3] and staname in row[1]:\n",
    "            mx[i-3] = row[i]\n",
    "            mxstation[i-3] = row[:-1] \n",
    "            \n",
    "print(\"\\n호선명:\", staname)\n",
    "for i in range(4):\n",
    "    print(f\"{label[i]} : {mxstation[i]}/{mx[i]}\")"
   ]
  },
  {
   "cell_type": "code",
   "execution_count": 49,
   "id": "b3fa7210",
   "metadata": {},
   "outputs": [
    {
     "data": {
      "text/plain": [
       "['202202', '1호선', '동묘앞', 91790, 112019, 99031, 112969, '20220303']"
      ]
     },
     "execution_count": 49,
     "metadata": {},
     "output_type": "execute_result"
    }
   ],
   "source": [
    "data[8]"
   ]
  },
  {
   "cell_type": "code",
   "execution_count": null,
   "id": "fd3ce8a4",
   "metadata": {},
   "outputs": [],
   "source": [
    "유임승차 : [['201501', '1호선', '서울역', 1890411, 1667163, 238403, 220008], ['201503', '1호선', '서울역', 1880246, 1682965, 251663, 232039], ['201512', '1호선', '서울역', 1795435, 235606, 1574932, 216587], ['201901', '1호선', '제기동', 293540, 374571, 288217, 400607]]/1890411"
   ]
  },
  {
   "cell_type": "code",
   "execution_count": null,
   "id": "8a79fac4",
   "metadata": {},
   "outputs": [],
   "source": []
  },
  {
   "cell_type": "code",
   "execution_count": null,
   "id": "92e5607d",
   "metadata": {},
   "outputs": [],
   "source": []
  },
  {
   "cell_type": "code",
   "execution_count": null,
   "id": "f4e50c64",
   "metadata": {},
   "outputs": [],
   "source": []
  }
 ],
 "metadata": {
  "kernelspec": {
   "display_name": "Python 3 (ipykernel)",
   "language": "python",
   "name": "python3"
  },
  "language_info": {
   "codemirror_mode": {
    "name": "ipython",
    "version": 3
   },
   "file_extension": ".py",
   "mimetype": "text/x-python",
   "name": "python",
   "nbconvert_exporter": "python",
   "pygments_lexer": "ipython3",
   "version": "3.9.7"
  }
 },
 "nbformat": 4,
 "nbformat_minor": 5
}
