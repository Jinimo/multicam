{
 "cells": [
  {
   "cell_type": "markdown",
   "id": "1a9a2dcd",
   "metadata": {},
   "source": [
    "## 네이버 블로그 검색 및 내용 가져와 저장하기\n",
    "1. 검색어를 통해 블로그 검색 진행\n",
    "2. 가장 먼저 보이는 블로그의 제목추출 -> 제목 하이퍼링크 추출 \n",
    "3. 세부 내용으로 들어가(클릭시 안으로 들어가는 내용)  텍스트 크롤 진행 \n",
    "4. 최종적으로 저장되는 부분 : 제목/내용 구분해 저장(키워드.txt로 저장) "
   ]
  },
  {
   "cell_type": "code",
   "execution_count": 10,
   "id": "e1cf37e4",
   "metadata": {},
   "outputs": [],
   "source": [
    "# 필요한 모듈 연결\n",
    "import requests\n",
    "from bs4 import BeautifulSoup as bs\n",
    "from urllib.parse import quote\n",
    "import pandas as pd"
   ]
  },
  {
   "cell_type": "code",
   "execution_count": null,
   "id": "d6798429",
   "metadata": {},
   "outputs": [],
   "source": [
    "#import selenium import webdriver"
   ]
  },
  {
   "cell_type": "markdown",
   "id": "40d22b1c",
   "metadata": {},
   "source": [
    "#### 블로그 검색 후 나타나는 첫번쨰 페이지의 제목과 내용 "
   ]
  },
  {
   "cell_type": "code",
   "execution_count": 24,
   "id": "05a02501",
   "metadata": {},
   "outputs": [
    {
     "data": {
      "text/plain": [
       "\n",
       "<!DOCTYPE html>\n",
       "\n",
       "<html lang=\"ko\">\n",
       "<head>\n",
       "<meta content=\"IE=edge\" http-equiv=\"X-UA-Compatible\"/>\n",
       "<base href=\"/home\"/>\n",
       "<meta content=\"noindex,nofollow\" name=\"robots\">\n",
       "<meta content=\"always\" name=\"referrer\"/>\n",
       "<meta content=\"telephone=no\" name=\"format-detection\"/>\n",
       "<link href=\"https://section.blog.naver.com/favicon.ico?3\" rel=\"shortcut icon\" type=\"image/x-icon\"/>\n",
       "<meta content=\"국내여행지 : 네이버 블로그\" property=\"og:title\">\n",
       "<meta content=\"https://blogimgs.pstatic.net/nblog/mylog/post/og_default_image_160610.png\" property=\"og:image\"/>\n",
       "<meta content=\"당신의 모든 기록을 담는 공간\" property=\"og:description\"/>\n",
       "<meta content=\"blog\" property=\"me:feed:serviceId\"/>\n",
       "<meta content=\"text/html; charset=utf-8\" http-equiv=\"Content-Type\"/>\n",
       "<title>네이버 블로그</title>\n",
       "<link charset=\"UTF-8\" href=\"https://ssl.pstatic.net/t.static.blog/section/versioning/section_ngapp-217016336_https.css\" rel=\"stylesheet\" type=\"text/css\"/>\n",
       "<script>\n",
       "        var angularConfig = {\"isDev\":false,\"jeagleEyeDebug\":false};\n",
       "        var readOnlyStatus = {\"isReadOnly\":false,\"startTime\":null,\"endTime\":null,\"reason\":null,\"usageTip\":null,\"maintenanceType\":null,\"maintenancePeriod\":null};\n",
       "        var urlMap = {\"item2\":\"https://item2.naver.com\",\"ad\":\"https://siape.veta.naver.com\",\"id_secret\":\"https://nid.naver.com\",\"likeit\":\"https://blog.like.naver.com\",\"nmobile\":\"https://m.blog.naver.com\",\"admin\":\"https://admin.blog.naver.com\",\"section\":\"https://section.blog.naver.com\",\"blog\":\"https://blog.naver.com\",\"spi\":\"https://ssl.pstatic.net/spi\",\"blogprofilethumb\":\"https://blogpfthumb-phinf.pstatic.net\",\"kin\":\"http://kin.naver.com\",\"help\":\"http://help.naver.com\",\"search\":\"http://search.naver.com\",\"guestbook\":\"https://guestbook.blog.naver.com\",\"sspndpsdk\":\"https://ssl.pstatic.net/tveta/libs/ndpsdk/prod\",\"gn_stndard\":\"https://ssl.pstatic.net/static.gn/templates/gnb_utf8.nhn\",\"sellerBlog\":\"https://seller.blog.naver.com\",\"thumbnail2\":\"https://blogthumb.pstatic.net\",\"lcs\":\"lcs.naver.com\"};\n",
       "        var nsc = \"blog.mainv2\";\n",
       "\n",
       "        // 팝업을 통해서 부모창을 제어하기 위해 필요\n",
       "        // document.domain = 'naver.com';\n",
       "        //튜토리얼 css 가 제대로 동작안해서 필요\n",
       "        var doc = document.documentElement;\n",
       "        doc.setAttribute('data-useragent',navigator.userAgent);\n",
       "        var uploadURL = \"https://upload.blog.naver.com\";\n",
       "    </script>\n",
       "<script charset=\"UTF-8\" src=\"https://ssl.pstatic.net/t.static.blog/section/versioning/NgAppBundle1-1577667733_https.js\" type=\"text/javascript\"></script>\n",
       "<script charset=\"UTF-8\" src=\"https://ssl.pstatic.net/t.static.blog/section/versioning/NgAppBundle2-401359553_https.js\" type=\"text/javascript\"></script>\n",
       "<script charset=\"UTF-8\" src=\"https://ssl.pstatic.net/t.static.blog/section/versioning/NgTemplate-754605827_https.js\" type=\"text/javascript\"></script>\n",
       "</meta></meta></head>\n",
       "<body bg-body-click=\"\">\n",
       "<ui-view autoscroll=\"true\"></ui-view>\n",
       "</body>\n",
       "<script>\n",
       "\n",
       "    if(userAgentUtil.isNotSupportBrowser()){\n",
       "        alert('IE8 이하 브라우저에서는 \"신규버전 보기\"를 제공하지 않습니다.\\n브라우저 업데이트를 부탁드립니다.');\n",
       "        location.href = '/SectionMain.nhn';\n",
       "    }else{\n",
       "        angular.element(document).ready(function() {\n",
       "            angular.bootstrap(document, ['bgApp'], {\n",
       "                strictDi: true\n",
       "            });\n",
       "        });\n",
       "    }\n",
       "\n",
       "</script>\n",
       "<script charset=\"utf-8\" src=\"https://ssl.pstatic.net/tveta/libs/ssp/ssp.web.sdk.js\" type=\"text/javascript\"></script>\n",
       "</html>"
      ]
     },
     "execution_count": 24,
     "metadata": {},
     "output_type": "execute_result"
    }
   ],
   "source": [
    "# 네이버 블로그 검색 - \"국내여행지\"\n",
    "url = \"https://section.blog.naver.com/Search/Post.naver?pageNo=1&rangeType=ALL&orderBy=sim&keyword=국내여행지\"\n",
    "html = requests.get(url)\n",
    "\n",
    "if html.status_code != 200:\n",
    "    exit(\"데이터를 받아오지 못했습니다.\")\n",
    "\n",
    "soup = bs(html.text, \"html.parser\")\n",
    "soup\n",
    "#content > section > div.area_list_search\n",
    "#mail_soup = soup.find_all(\"div\", class_=\"list_search_post\")\n",
    "#mail_soup[0].find_all(\"list_search\", )\n",
    "#content > section > div.area_list_search > div:nth-child(1)\n",
    "#mail_soup"
   ]
  },
  {
   "cell_type": "code",
   "execution_count": null,
   "id": "9a613fcd",
   "metadata": {},
   "outputs": [],
   "source": []
  }
 ],
 "metadata": {
  "kernelspec": {
   "display_name": "Python 3 (ipykernel)",
   "language": "python",
   "name": "python3"
  },
  "language_info": {
   "codemirror_mode": {
    "name": "ipython",
    "version": 3
   },
   "file_extension": ".py",
   "mimetype": "text/x-python",
   "name": "python",
   "nbconvert_exporter": "python",
   "pygments_lexer": "ipython3",
   "version": "3.9.7"
  }
 },
 "nbformat": 4,
 "nbformat_minor": 5
}
