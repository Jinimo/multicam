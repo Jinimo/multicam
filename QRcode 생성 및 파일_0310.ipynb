{
  "nbformat": 4,
  "nbformat_minor": 0,
  "metadata": {
    "colab": {
      "name": "2_QRcode_생성_및_파일.ipynb",
      "provenance": [],
      "collapsed_sections": [],
      "authorship_tag": "ABX9TyN5N0ANg60j/YJGzc9mpgXF",
      "include_colab_link": true
    },
    "kernelspec": {
      "name": "python3",
      "display_name": "Python 3"
    },
    "language_info": {
      "name": "python"
    }
  },
  "cells": [
    {
      "cell_type": "markdown",
      "metadata": {
        "id": "view-in-github",
        "colab_type": "text"
      },
      "source": [
        "<a href=\"https://colab.research.google.com/github/Jinimo/Multi_/blob/main/2022.03/python_QRcode_%EC%83%9D%EC%84%B1_%EB%B0%8F_%ED%8C%8C%EC%9D%BC_0310.ipynb\" target=\"_parent\"><img src=\"https://colab.research.google.com/assets/colab-badge.svg\" alt=\"Open In Colab\"/></a>"
      ]
    },
    {
      "cell_type": "markdown",
      "source": [
        "### QR코드 생성\n",
        "- qrcode 모듈 설치 및 활용\n",
        "  - 설치 코드: !pip install qrcode\n",
        "- 설치 없이 import 실행 \n",
        "  - ModuleNotFoundError: No module named 'qrcode' 에러 발생\n",
        "\n"
      ],
      "metadata": {
        "id": "-MaGefCoA06i"
      }
    },
    {
      "cell_type": "code",
      "source": [
        "# 구글 드라이브 마운트(드라이브 연결)\n",
        "from google.colab import drive\n",
        "drive.mount('/content/drive')"
      ],
      "metadata": {
        "colab": {
          "base_uri": "https://localhost:8080/"
        },
        "id": "tM1RInlPBSJz",
        "outputId": "97b6101a-7547-4cc5-e615-b2f607cc11c6"
      },
      "execution_count": null,
      "outputs": [
        {
          "output_type": "stream",
          "name": "stdout",
          "text": [
            "Mounted at /content/drive\n"
          ]
        }
      ]
    },
    {
      "cell_type": "code",
      "source": [
        "# 작업 디렉토리로 이동\n",
        "%cd/content/drive/MyDrive/multi"
      ],
      "metadata": {
        "colab": {
          "base_uri": "https://localhost:8080/"
        },
        "id": "RZliWF7IBu9Z",
        "outputId": "039fd6f2-2ad3-4492-e40e-e4aa078e2bc3"
      },
      "execution_count": null,
      "outputs": [
        {
          "output_type": "stream",
          "name": "stdout",
          "text": [
            "/content/drive/MyDrive/multi\n"
          ]
        }
      ]
    },
    {
      "cell_type": "code",
      "execution_count": null,
      "metadata": {
        "colab": {
          "base_uri": "https://localhost:8080/"
        },
        "id": "4ADov6RBAOg5",
        "outputId": "39cbb2b7-c796-42d5-b4ea-ae94051172da"
      },
      "outputs": [
        {
          "output_type": "stream",
          "name": "stdout",
          "text": [
            "Requirement already satisfied: qrcode in /usr/local/lib/python3.7/dist-packages (7.3.1)\n"
          ]
        }
      ],
      "source": [
        "!pip install qrcode # 영구적인 설치 X, 매번 실행 해줘야함!"
      ]
    },
    {
      "cell_type": "code",
      "source": [
        "import qrcode\n",
        "\n",
        "qr_data = \"www.naver.com\"\n",
        "qr_img  = qrcode.make(qr_data)\n",
        "\n",
        "qr_img.save(\"./0310/qr_naver.png\")\n",
        "print(type(qr_img))\n",
        "print(qr_img.size)"
      ],
      "metadata": {
        "colab": {
          "base_uri": "https://localhost:8080/"
        },
        "id": "sbs2fEXfB39W",
        "outputId": "b905bb32-7192-416b-a4a7-f543beaf1da7"
      },
      "execution_count": null,
      "outputs": [
        {
          "output_type": "stream",
          "name": "stdout",
          "text": [
            "<class 'qrcode.image.pil.PilImage'>\n",
            "(290, 290)\n"
          ]
        }
      ]
    },
    {
      "cell_type": "markdown",
      "source": [
        "### 파일 읽기/쓰기\n",
        "- 파일 객체 변수 = open(\"경로/파일명\", \"파일 열기 모드\") \n",
        "- r: 읽기 모드 (파일을 읽기만 할 때 사용)\n",
        "- w: 쓰기 모드 (파일에 내용을 쓸 때 사용)\n",
        "- a: 추가모드 (사이트 안 텍스트 파일 읽어보기)"
      ],
      "metadata": {
        "id": "8_Yqz5ESEL9p"
      }
    },
    {
      "cell_type": "markdown",
      "source": [
        "파일 연결"
      ],
      "metadata": {
        "id": "pRlCiRspHLIq"
      }
    },
    {
      "cell_type": "code",
      "source": [
        "f = open(\"./0310/QR_사이트.txt\",\"r\") # 현재 /content/drive/MyDrive/multi에 연결되어 있어!\n",
        "print(f) # 그냥 연결한 상태\n",
        "\n",
        "f.close() # 열린 파일은 무조건 닫아주기!\n",
        "# <_io.TextIOWrapper name='./0310/QR_사이트.txt' mode='r' encoding='UTF-8'>\n",
        "# 구글검색: 인코딩 / 디코딩\n",
        "#  encoding='UTF-8' / 'CP949'"
      ],
      "metadata": {
        "colab": {
          "base_uri": "https://localhost:8080/"
        },
        "id": "aHnqXhBoDbyu",
        "outputId": "d553d51a-8340-4d05-e06d-68558f0d3af0"
      },
      "execution_count": null,
      "outputs": [
        {
          "output_type": "stream",
          "name": "stdout",
          "text": [
            "<_io.TextIOWrapper name='./0310/QR_사이트.txt' mode='r' encoding='UTF-8'>\n"
          ]
        }
      ]
    },
    {
      "cell_type": "markdown",
      "source": [
        ""
      ],
      "metadata": {
        "id": "JSbXHTNrHH_U"
      }
    },
    {
      "cell_type": "markdown",
      "source": [
        "### 연결된 파일 읽어오기\n",
        "- read() : 하나의 문자열로 읽어오기 (한 통으로 읽어옴)\n",
        "- readline() : 한줄만 읽어오기 \n",
        "- readines() : 전체를 줄단위로 읽어오기"
      ],
      "metadata": {
        "id": "x71MJRKoHNgS"
      }
    },
    {
      "cell_type": "code",
      "source": [
        "## qr_사이트.txt 파일 읽어오기 \n",
        "\n",
        "## read()\n",
        "f = open(\"./0310/QR_사이트.txt\",\"r\")\n",
        "\n",
        "txt = f.read()\n",
        "print(txt)\n",
        "\n",
        "f.close() \n",
        "print(\"-\"*30)\n",
        "\n",
        "f = open(\"./0310/QR_사이트.txt\",\"r\")\n",
        "\n",
        "txt = f.read()\n",
        "print(txt[:20])\n",
        "\n",
        "f.close() "
      ],
      "metadata": {
        "colab": {
          "base_uri": "https://localhost:8080/"
        },
        "id": "l-f6r6xBFf6X",
        "outputId": "8a0926d2-65a0-4128-d962-7d6b7e8644dc"
      },
      "execution_count": null,
      "outputs": [
        {
          "output_type": "stream",
          "name": "stdout",
          "text": [
            "www.naver.com\n",
            "www.google.com\n",
            "www.daum.net\n",
            "www.nate.com\n",
            "------------------------------\n",
            "www.naver.com\n",
            "www.go\n"
          ]
        }
      ]
    },
    {
      "cell_type": "code",
      "source": [
        "# 위와 동일한 방법\n",
        "txt = '''\n",
        "www.naver.com\n",
        "www.google.com\n",
        "www.daum.net\n",
        "www.nate.com\n",
        "'''\n",
        "print(txt)"
      ],
      "metadata": {
        "colab": {
          "base_uri": "https://localhost:8080/"
        },
        "id": "q26GfYkgH-IY",
        "outputId": "1d12981d-26d2-4c8c-ae61-4c815f30674f"
      },
      "execution_count": null,
      "outputs": [
        {
          "output_type": "stream",
          "name": "stdout",
          "text": [
            "\n",
            "www.naver.com\n",
            "www.google.com\n",
            "www.daum.net\n",
            "www.nate.com\n",
            "\n"
          ]
        }
      ]
    },
    {
      "cell_type": "code",
      "source": [
        "f = open(\"./0310/QR_사이트.txt\",\"r\")\n",
        "\n",
        "## readline()\n",
        "txt = f.readline()\n",
        "print(txt)\n",
        "txt = f.readline()\n",
        "print(txt)\n",
        "txt = f.readline()\n",
        "print(txt)\n",
        "# 데이터가 없을때 까지 반복적으로 처리해야함\n",
        "# 힌줄 가져옴 -> 다음 한줄 가져옴 -> ... 더이상 읽어올 데이터 없을 떄 까지\n",
        "\n",
        "\n",
        "f.close() "
      ],
      "metadata": {
        "colab": {
          "base_uri": "https://localhost:8080/"
        },
        "id": "IINVSpcHIFxb",
        "outputId": "2e1f6093-86f9-468e-a22b-bc643cd64bce"
      },
      "execution_count": null,
      "outputs": [
        {
          "output_type": "stream",
          "name": "stdout",
          "text": [
            "www.naver.com\n",
            "\n",
            "www.google.com\n",
            "\n",
            "www.daum.net\n",
            "\n"
          ]
        }
      ]
    },
    {
      "cell_type": "code",
      "source": [
        "f = open(\"./0310/QR_사이트.txt\",\"r\")\n",
        "\n",
        "while True:\n",
        "    txt=f.readline()\n",
        "    if not txt:break\n",
        "    print(txt)\n",
        "\n",
        "f.close()  # 파일 닫기"
      ],
      "metadata": {
        "colab": {
          "base_uri": "https://localhost:8080/"
        },
        "id": "OUBqN2MOIRxG",
        "outputId": "bd09ba5a-cbdc-491c-b542-4f9834edb35b"
      },
      "execution_count": null,
      "outputs": [
        {
          "output_type": "stream",
          "name": "stdout",
          "text": [
            "www.naver.com\n",
            "\n",
            "www.google.com\n",
            "\n",
            "www.daum.net\n",
            "\n",
            "www.nate.com\n"
          ]
        }
      ]
    },
    {
      "cell_type": "code",
      "source": [
        "f = open(\"./0310/QR_사이트.txt\",\"r\")\n",
        "\n",
        "txt = f.readlines()\n",
        "print(txt)\n",
        "f.close() \n",
        "# ['www.naver.com\\n', 'www.google.com\\n', 'www.daum.net\\n', 'www.nate.com']\n",
        "# 각 줄을 리스트 형식으로 가져옴\n",
        "# \\n : 엔터키\n",
        "# 데이터들이 \\n 하나씩 끌고 들여옴"
      ],
      "metadata": {
        "colab": {
          "base_uri": "https://localhost:8080/"
        },
        "id": "qDZ1XVFGJFj8",
        "outputId": "e69e68bb-9fb1-4beb-a090-839ce5afe972"
      },
      "execution_count": null,
      "outputs": [
        {
          "output_type": "stream",
          "name": "stdout",
          "text": [
            "['www.naver.com\\n', 'www.google.com\\n', 'www.daum.net\\n', 'www.nate.com']\n"
          ]
        }
      ]
    },
    {
      "cell_type": "code",
      "source": [
        "## QR_사이트.txt 파일 읽어와 각 사이트 별 QR코드 생성하기\n",
        "import qrcode\n",
        "f = open(\"./0310/QR_사이트.txt\",\"r\" ,encoding = \"utf-8\" ) \n",
        "# encoding = \"utf-8\" 생략 가능 ! \n",
        "# 없으면 기본적으로 encoding = \"utf-8\" 의미\n",
        "\n",
        "# 한줄 단위로 불러옴\n",
        "qr_txt = f.readlines()\n",
        "\n",
        "for url in qr_txt:\n",
        "  # url 뒤에 \\n 잘라주기\n",
        "  new_url = url.replace(\"\\n\",\"\") \n",
        "  qr_img = qrcode.make(new_url)\n",
        "  qr_img.save(\"./0310/qr_img/qr_\" + new_url.split(\".\")[1] + \".png\") # .을 기준으로 잘라줌\n",
        "\n",
        "f.close() "
      ],
      "metadata": {
        "id": "p6didui-JVkj"
      },
      "execution_count": null,
      "outputs": []
    },
    {
      "cell_type": "code",
      "source": [
        "## txt 파일 생성 및 기록\n",
        "f = open(\"./0310/writefile.txt\", \"w\") \n",
        "# writefile.txt 새로 만들어짐\n",
        "# w: 기존 동일한 파일 있을 경우 -> 기존 파일 삭제 후 다시 저장\n",
        "\n",
        "f.write(\"안녕하세요.\\n\") \n",
        "f.write(\"파이썬 교육을 받고 있습니다.\\n\") \n",
        "f.write(\"데이터 분석도 교육합니다.\\n\") \n",
        "\n",
        "f.close() \n",
        "\n",
        "## 생성 및 저장한 파일 읽어오기\n",
        "f = open(\"./0310/writefile.txt\", \"r\") \n",
        "txt_lst = f.readlines()\n",
        "print(txt_lst)\n",
        "f.close"
      ],
      "metadata": {
        "colab": {
          "base_uri": "https://localhost:8080/"
        },
        "id": "JzZQfviqOB9e",
        "outputId": "eb345e3f-fe6e-4ab3-ddd8-df5435f66d72"
      },
      "execution_count": null,
      "outputs": [
        {
          "output_type": "stream",
          "name": "stdout",
          "text": [
            "['안녕하세요.\\n', '파이썬 교육을 받고 있습니다.\\n', '데이터 분석도 교육합니다.\\n']\n"
          ]
        },
        {
          "output_type": "execute_result",
          "data": {
            "text/plain": [
              "<function TextIOWrapper.close>"
            ]
          },
          "metadata": {},
          "execution_count": 50
        }
      ]
    },
    {
      "cell_type": "code",
      "source": [
        "## txt 파일 마지막에 새로운 문장 추가하기 : a\n",
        "\n",
        "# 기존 데이터에 추가 : a\n",
        "f = open(\"./0310/writefile.txt\", \"a\") \n",
        "\n",
        "for i in range(5):\n",
        "  txt = \"%d번째 입력입니다(%s.\\n\" %(i,\"추가입력\")\n",
        "  # %d-i / s-추가입력\n",
        "  f.write(txt)\n",
        "f.close\n",
        "\n",
        "# 파일 읽어오기 : r\n",
        "f = open(\"./0310/writefile.txt\", \"r\") \n",
        "txt = f.read()\n",
        "print(txt)\n",
        "f.close"
      ],
      "metadata": {
        "colab": {
          "base_uri": "https://localhost:8080/"
        },
        "id": "d-37jB8TRUe9",
        "outputId": "da9e8b79-7048-439f-8d88-98525600408b"
      },
      "execution_count": null,
      "outputs": [
        {
          "output_type": "stream",
          "name": "stdout",
          "text": [
            "안녕하세요.\n",
            "파이썬 교육을 받고 있습니다.\n",
            "데이터 분석도 교육합니다.\n",
            "0번째 입력입니다(추가입력).\n",
            "1번째 입력입니다(추가입력).\n",
            "2번째 입력입니다(추가입력).\n",
            "3번째 입력입니다(추가입력).\n",
            "4번째 입력입니다(추가입력).\n",
            "0번째 입력입니다(추가입력.\n",
            "1번째 입력입니다(추가입력.\n",
            "2번째 입력입니다(추가입력.\n",
            "3번째 입력입니다(추가입력.\n",
            "4번째 입력입니다(추가입력.\n",
            "0번째 입력입니다(추가입력.\n",
            "1번째 입력입니다(추가입력.\n",
            "2번째 입력입니다(추가입력.\n",
            "3번째 입력입니다(추가입력.\n",
            "4번째 입력입니다(추가입력.\n",
            "\n"
          ]
        },
        {
          "output_type": "execute_result",
          "data": {
            "text/plain": [
              "<function TextIOWrapper.close>"
            ]
          },
          "metadata": {},
          "execution_count": 54
        }
      ]
    },
    {
      "cell_type": "code",
      "source": [
        ""
      ],
      "metadata": {
        "id": "hCB8jnLjT8hp"
      },
      "execution_count": null,
      "outputs": []
    }
  ]
}
