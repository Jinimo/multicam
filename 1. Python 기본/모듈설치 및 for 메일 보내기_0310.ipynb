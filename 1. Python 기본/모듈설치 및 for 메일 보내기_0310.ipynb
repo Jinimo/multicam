{
  "nbformat": 4,
  "nbformat_minor": 0,
  "metadata": {
    "colab": {
      "name": "3_모듈설치_및_for_메일_보내기_0310.ipynb",
      "provenance": [],
      "collapsed_sections": [],
      "authorship_tag": "ABX9TyPlGD5VUQA/lH5aHT3hhenx",
      "include_colab_link": true
    },
    "kernelspec": {
      "name": "python3",
      "display_name": "Python 3"
    },
    "language_info": {
      "name": "python"
    }
  },
  "cells": [
    {
      "cell_type": "markdown",
      "metadata": {
        "id": "view-in-github",
        "colab_type": "text"
      },
      "source": [
        "<a href=\"https://colab.research.google.com/github/Jinimo/Multi_/blob/main/2022.03/python_%EB%AA%A8%EB%93%88%EC%84%A4%EC%B9%98_%EB%B0%8F_for_%EB%A9%94%EC%9D%BC_%EB%B3%B4%EB%82%B4%EA%B8%B0_0310.ipynb\" target=\"_parent\"><img src=\"https://colab.research.google.com/assets/colab-badge.svg\" alt=\"Open In Colab\"/></a>"
      ]
    },
    {
      "cell_type": "markdown",
      "source": [
        "▶메일송수신 이해\n",
        "구글 검색 '메일 송수신'\n",
        "smtp 프로토콜은 각 이메일 주소 마다 다름\n",
        "구글검색 '네이버 smtp'\n",
        "https://help.naver.com/support/contents/contents.help?serviceNo=2342&categoryNo=2288\n",
        "구글검색 '네이트 smtp'\n",
        "http://mail3.nate.com/app/mng/noticeview_unauth/?num=345"
      ],
      "metadata": {
        "id": "ZHORiHDZWM_U"
      }
    },
    {
      "cell_type": "code",
      "source": [
        "## 메일 송수신 하기 위해서 smtplib module / MIMETText module 연결\n",
        "import  smtplib\n",
        "from email.mime.text import MIMEText"
      ],
      "metadata": {
        "id": "ed_E1wT-WL-H"
      },
      "execution_count": null,
      "outputs": []
    },
    {
      "cell_type": "code",
      "source": [
        "import smtplib\n",
        "from email.mime.text import MIMEText\n",
        "\n",
        "############## 메일 내용 ####################################\n",
        "text = \"\"\"\n",
        "연습메일임.\n",
        "\"\"\"\n",
        "############## 받는 사람 메일 정보 \n",
        "recv_email = \"\"   # 받는사람 이메일 주소\n",
        "\n",
        "\n",
        "\n",
        "############## 보내는 메일 정보 \n",
        "send_email = \"\"             # 보내는사람 이메일주소\n",
        "send_pwd = \"\"               # 보내는이메일 주소 비번\n",
        "\n",
        "\n",
        "\n",
        "smtp_name = \"smtp.mail.nate.com\"    # 메일 보내는 주소의 smtp, 이건 각 사이트에서 검색해야함. 또는 구글 검색\n",
        "smtp_port = 587   #네이버 587인데 네이트에도 가능함, 포트번호도 각 메일 사이트에서 찾아야함.\n",
        "\n",
        "\n",
        "\n",
        "msg = MIMEText(text)\n",
        "msg['Subject'] =\"연습1\"\n",
        "msg['From'] = send_email\n",
        "msg['To'] = recv_email\n",
        "print(msg.as_string())\n",
        "\n",
        "\n",
        "#\n",
        "s=smtplib.SMTP( smtp_name , smtp_port )\n",
        "s.starttls()\n",
        "\n",
        "s.login( send_email , send_pwd )\n",
        "s.sendmail( send_email, recv_email, msg.as_string() )\n",
        "s.quit()"
      ],
      "metadata": {
        "id": "qnK3KlmkX8wk"
      },
      "execution_count": null,
      "outputs": []
    },
    {
      "cell_type": "code",
      "source": [
        "import smtplib\n",
        "from email.mime.text import MIMEText\n",
        "\n",
        "## 메일 내용 입력 ## \n",
        "txt = '''\n",
        "연습용 메일입니다.\n",
        "메일 보내기\n",
        "'''\n",
        "\n",
        "# 받는 이메일 정보 입력 (메일주소)\n",
        "recv_email = \"sdc36625110@naver.com\"\n",
        "\n",
        "# 보내는 이메일 정보 입력 (메일주소, 패스워드)\n",
        "send_email = \"sdc36625110@naver.com\"\n",
        "send_pwd = \"\"\n",
        "\n",
        "smtp_name = \"smtp.naver.com\" \n",
        "smtp_port = 587\n",
        "\n",
        "msg = MIMEText(txt) \n",
        "msg['Subject'] =\"연습1\"   # 제목\n",
        "msg['From'] = send_email #\n",
        "msg['To'] = recv_email   #\n",
        "print(msg.as_string())\n",
        "\n",
        "## 메일 보내기\n",
        "s = smtplib.SMTP(smtp_name , smtp_port )\n",
        "s.starttls()\n",
        "\n",
        "s.login( send_email , send_pwd )\n",
        "s.sendmail( send_email, recv_email, msg.as_string() )\n",
        "s.quit()\n",
        "print(\"메일발송 완료\")"
      ],
      "metadata": {
        "colab": {
          "base_uri": "https://localhost:8080/",
          "height": 818
        },
        "id": "oHky_zgkXmsr",
        "outputId": "d55be27b-edca-4282-c1b1-d516a792cb11"
      },
      "execution_count": null,
      "outputs": [
        {
          "output_type": "stream",
          "name": "stdout",
          "text": [
            "Content-Type: text/plain; charset=\"utf-8\"\n",
            "MIME-Version: 1.0\n",
            "Content-Transfer-Encoding: base64\n",
            "Subject: =?utf-8?b?7Jew7Iq1MQ==?=\n",
            "From: sdc36625110@naver.com\n",
            "To: sdc36625110@naver.com\n",
            "\n",
            "CuyXsOyKteyaqSDrqZTsnbzsnoXri4jri6QuCuuplOydvCDrs7TrgrTquLAK\n",
            "\n"
          ]
        },
        {
          "output_type": "error",
          "ename": "SMTPAuthenticationError",
          "evalue": "ignored",
          "traceback": [
            "\u001b[0;31m---------------------------------------------------------------------------\u001b[0m",
            "\u001b[0;31mSMTPAuthenticationError\u001b[0m                   Traceback (most recent call last)",
            "\u001b[0;32m<ipython-input-16-b1be1f2b27b1>\u001b[0m in \u001b[0;36m<module>\u001b[0;34m()\u001b[0m\n\u001b[1;32m     28\u001b[0m \u001b[0ms\u001b[0m\u001b[0;34m.\u001b[0m\u001b[0mstarttls\u001b[0m\u001b[0;34m(\u001b[0m\u001b[0;34m)\u001b[0m\u001b[0;34m\u001b[0m\u001b[0;34m\u001b[0m\u001b[0m\n\u001b[1;32m     29\u001b[0m \u001b[0;34m\u001b[0m\u001b[0m\n\u001b[0;32m---> 30\u001b[0;31m \u001b[0ms\u001b[0m\u001b[0;34m.\u001b[0m\u001b[0mlogin\u001b[0m\u001b[0;34m(\u001b[0m \u001b[0msend_email\u001b[0m \u001b[0;34m,\u001b[0m \u001b[0msend_pwd\u001b[0m \u001b[0;34m)\u001b[0m\u001b[0;34m\u001b[0m\u001b[0;34m\u001b[0m\u001b[0m\n\u001b[0m\u001b[1;32m     31\u001b[0m \u001b[0ms\u001b[0m\u001b[0;34m.\u001b[0m\u001b[0msendmail\u001b[0m\u001b[0;34m(\u001b[0m \u001b[0msend_email\u001b[0m\u001b[0;34m,\u001b[0m \u001b[0mrecv_email\u001b[0m\u001b[0;34m,\u001b[0m \u001b[0mmsg\u001b[0m\u001b[0;34m.\u001b[0m\u001b[0mas_string\u001b[0m\u001b[0;34m(\u001b[0m\u001b[0;34m)\u001b[0m \u001b[0;34m)\u001b[0m\u001b[0;34m\u001b[0m\u001b[0;34m\u001b[0m\u001b[0m\n\u001b[1;32m     32\u001b[0m \u001b[0ms\u001b[0m\u001b[0;34m.\u001b[0m\u001b[0mquit\u001b[0m\u001b[0;34m(\u001b[0m\u001b[0;34m)\u001b[0m\u001b[0;34m\u001b[0m\u001b[0;34m\u001b[0m\u001b[0m\n",
            "\u001b[0;32m/usr/lib/python3.7/smtplib.py\u001b[0m in \u001b[0;36mlogin\u001b[0;34m(self, user, password, initial_response_ok)\u001b[0m\n\u001b[1;32m    733\u001b[0m \u001b[0;34m\u001b[0m\u001b[0m\n\u001b[1;32m    734\u001b[0m         \u001b[0;31m# We could not login successfully.  Return result of last attempt.\u001b[0m\u001b[0;34m\u001b[0m\u001b[0;34m\u001b[0m\u001b[0;34m\u001b[0m\u001b[0m\n\u001b[0;32m--> 735\u001b[0;31m         \u001b[0;32mraise\u001b[0m \u001b[0mlast_exception\u001b[0m\u001b[0;34m\u001b[0m\u001b[0;34m\u001b[0m\u001b[0m\n\u001b[0m\u001b[1;32m    736\u001b[0m \u001b[0;34m\u001b[0m\u001b[0m\n\u001b[1;32m    737\u001b[0m     \u001b[0;32mdef\u001b[0m \u001b[0mstarttls\u001b[0m\u001b[0;34m(\u001b[0m\u001b[0mself\u001b[0m\u001b[0;34m,\u001b[0m \u001b[0mkeyfile\u001b[0m\u001b[0;34m=\u001b[0m\u001b[0;32mNone\u001b[0m\u001b[0;34m,\u001b[0m \u001b[0mcertfile\u001b[0m\u001b[0;34m=\u001b[0m\u001b[0;32mNone\u001b[0m\u001b[0;34m,\u001b[0m \u001b[0mcontext\u001b[0m\u001b[0;34m=\u001b[0m\u001b[0;32mNone\u001b[0m\u001b[0;34m)\u001b[0m\u001b[0;34m:\u001b[0m\u001b[0;34m\u001b[0m\u001b[0;34m\u001b[0m\u001b[0m\n",
            "\u001b[0;32m/usr/lib/python3.7/smtplib.py\u001b[0m in \u001b[0;36mlogin\u001b[0;34m(self, user, password, initial_response_ok)\u001b[0m\n\u001b[1;32m    724\u001b[0m                 (code, resp) = self.auth(\n\u001b[1;32m    725\u001b[0m                     \u001b[0mauthmethod\u001b[0m\u001b[0;34m,\u001b[0m \u001b[0mgetattr\u001b[0m\u001b[0;34m(\u001b[0m\u001b[0mself\u001b[0m\u001b[0;34m,\u001b[0m \u001b[0mmethod_name\u001b[0m\u001b[0;34m)\u001b[0m\u001b[0;34m,\u001b[0m\u001b[0;34m\u001b[0m\u001b[0;34m\u001b[0m\u001b[0m\n\u001b[0;32m--> 726\u001b[0;31m                     initial_response_ok=initial_response_ok)\n\u001b[0m\u001b[1;32m    727\u001b[0m                 \u001b[0;31m# 235 == 'Authentication successful'\u001b[0m\u001b[0;34m\u001b[0m\u001b[0;34m\u001b[0m\u001b[0;34m\u001b[0m\u001b[0m\n\u001b[1;32m    728\u001b[0m                 \u001b[0;31m# 503 == 'Error: already authenticated'\u001b[0m\u001b[0;34m\u001b[0m\u001b[0;34m\u001b[0m\u001b[0;34m\u001b[0m\u001b[0m\n",
            "\u001b[0;32m/usr/lib/python3.7/smtplib.py\u001b[0m in \u001b[0;36mauth\u001b[0;34m(self, mechanism, authobject, initial_response_ok)\u001b[0m\n\u001b[1;32m    645\u001b[0m         \u001b[0;32mif\u001b[0m \u001b[0mcode\u001b[0m \u001b[0;32min\u001b[0m \u001b[0;34m(\u001b[0m\u001b[0;36m235\u001b[0m\u001b[0;34m,\u001b[0m \u001b[0;36m503\u001b[0m\u001b[0;34m)\u001b[0m\u001b[0;34m:\u001b[0m\u001b[0;34m\u001b[0m\u001b[0;34m\u001b[0m\u001b[0m\n\u001b[1;32m    646\u001b[0m             \u001b[0;32mreturn\u001b[0m \u001b[0;34m(\u001b[0m\u001b[0mcode\u001b[0m\u001b[0;34m,\u001b[0m \u001b[0mresp\u001b[0m\u001b[0;34m)\u001b[0m\u001b[0;34m\u001b[0m\u001b[0;34m\u001b[0m\u001b[0m\n\u001b[0;32m--> 647\u001b[0;31m         \u001b[0;32mraise\u001b[0m \u001b[0mSMTPAuthenticationError\u001b[0m\u001b[0;34m(\u001b[0m\u001b[0mcode\u001b[0m\u001b[0;34m,\u001b[0m \u001b[0mresp\u001b[0m\u001b[0;34m)\u001b[0m\u001b[0;34m\u001b[0m\u001b[0;34m\u001b[0m\u001b[0m\n\u001b[0m\u001b[1;32m    648\u001b[0m \u001b[0;34m\u001b[0m\u001b[0m\n\u001b[1;32m    649\u001b[0m     \u001b[0;32mdef\u001b[0m \u001b[0mauth_cram_md5\u001b[0m\u001b[0;34m(\u001b[0m\u001b[0mself\u001b[0m\u001b[0;34m,\u001b[0m \u001b[0mchallenge\u001b[0m\u001b[0;34m=\u001b[0m\u001b[0;32mNone\u001b[0m\u001b[0;34m)\u001b[0m\u001b[0;34m:\u001b[0m\u001b[0;34m\u001b[0m\u001b[0;34m\u001b[0m\u001b[0m\n",
            "\u001b[0;31mSMTPAuthenticationError\u001b[0m: (535, b'5.7.1 Username and Password not accepted lS89XR4uSYO-e1bkdxX9rQ - nsmtp')"
          ]
        }
      ]
    }
  ]
}
