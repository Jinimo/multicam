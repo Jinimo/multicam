{
  "nbformat": 4,
  "nbformat_minor": 0,
  "metadata": {
    "colab": {
      "name": "3_클래스_0311.ipynb",
      "provenance": [],
      "collapsed_sections": [],
      "authorship_tag": "ABX9TyM37u7ytENI04/hlNmIWYii",
      "include_colab_link": true
    },
    "kernelspec": {
      "name": "python3",
      "display_name": "Python 3"
    },
    "language_info": {
      "name": "python"
    }
  },
  "cells": [
    {
      "cell_type": "markdown",
      "metadata": {
        "id": "view-in-github",
        "colab_type": "text"
      },
      "source": [
        "<a href=\"https://colab.research.google.com/github/Jinimo/Multi_/blob/main/2022.03/class%20%ED%81%B4%EB%9E%98%EC%8A%A4%200311.ipynb\" target=\"_parent\"><img src=\"https://colab.research.google.com/assets/colab-badge.svg\" alt=\"Open In Colab\"/></a>"
      ]
    },
    {
      "cell_type": "markdown",
      "source": [
        "### 클래스(class)\n",
        "- 파이썬 -> 객체지향 프로그래밍 기본\n",
        "- 파일 기본 단위 -> 클래스\n",
        "- https://wikidocs.net/28\n",
        "\n",
        "\n",
        "```\n",
        "clss 클래스명:\n",
        "  cnt=0 # 속성\n",
        "\n",
        "  def __init__ (self, a, b ): # 초기자\n",
        "    *self : 인스턴스 변수\n",
        "    필요작업\n",
        "  def 함수명(self): # 매서드\n",
        "    시행문\n",
        "    return 값\n",
        "```\n",
        "\n"
      ],
      "metadata": {
        "id": "sKa2qo-4Rb5M"
      }
    },
    {
      "cell_type": "markdown",
      "source": [
        "class ex 1"
      ],
      "metadata": {
        "id": "KjDMiuthUiLG"
      }
    },
    {
      "cell_type": "code",
      "source": [
        "## 클래스 연습\n",
        "class myclass():\n",
        "  # cass 변수\n",
        "  cnt = 0 \n",
        "\n",
        "  # 초기지 (세팅)\n",
        "  def __init__(self, 가로, 세로): # self: 인스턴스 변수\n",
        "    self.width = 가로\n",
        "    self.height = 세로\n",
        "    myclass.cnt += 1\n",
        "\n",
        "#########\n",
        "\n",
        "  # 인스턴스 매서드 (class 자신에게 만들어줌, 본인 영향)\n",
        "  def calarea(self): # self는 자기 자신->__init__에서 정의된 내용 가지고 옴\n",
        "    area = self.width * self.height\n",
        "    return area\n",
        "\n",
        "  # 정적 매서드\n",
        "  @staticmethod\n",
        "  def isSquare(rewidth, reheight):\n",
        "    return rewidth == reheight\n",
        "\n",
        "  # 클래스 매서드\n",
        "  @classmethod\n",
        "  def printcnt(cls):\n",
        "    print(cls.cnt)"
      ],
      "metadata": {
        "id": "QGuBDAfmSVNJ"
      },
      "execution_count": null,
      "outputs": []
    },
    {
      "cell_type": "code",
      "source": [
        "cls = myclass(10, 20) \n",
        "print(cls.cnt)    # cnt += 1\n",
        "print(cls.width)  # 10\n",
        "print(cls.height)  # 20\n",
        "print(cls.calarea) # <bound method myclass.calarea of <__main__.myclass object at 0x7f0e1b345790>>\n",
        "\n",
        "print(\"-\"*30)\n",
        "\n",
        "cls1 = myclass(40, 50) \n",
        "print(cls1.cnt)\n",
        "print(cls1.width)\n",
        "print(cls1.height)\n",
        "print(cls1.calarea)"
      ],
      "metadata": {
        "colab": {
          "base_uri": "https://localhost:8080/"
        },
        "id": "V0iORVZPUQRu",
        "outputId": "212ef2ca-7a1b-4757-84ff-32dfe10c410e"
      },
      "execution_count": null,
      "outputs": [
        {
          "output_type": "stream",
          "name": "stdout",
          "text": [
            "1\n",
            "10\n",
            "20\n",
            "<bound method myclass.calarea of <__main__.myclass object at 0x7f0e1b30ae50>>\n",
            "------------------------------\n",
            "2\n",
            "40\n",
            "50\n",
            "<bound method myclass.calarea of <__main__.myclass object at 0x7f0e1b30af50>>\n"
          ]
        }
      ]
    },
    {
      "cell_type": "code",
      "source": [
        "square = myclass.isSquare(10, 10)\n",
        "print(square)"
      ],
      "metadata": {
        "colab": {
          "base_uri": "https://localhost:8080/"
        },
        "id": "gEQbenQ_Uu6r",
        "outputId": "cf4743ba-3498-4e30-a36e-4f865f9c8785"
      },
      "execution_count": null,
      "outputs": [
        {
          "output_type": "stream",
          "name": "stdout",
          "text": [
            "True\n"
          ]
        }
      ]
    },
    {
      "cell_type": "code",
      "source": [
        "cls1 = myclass(10, 10)\n",
        "cls2 = myclass(10, 20)\n",
        "\n",
        "cls1.printcnt()             # 위(클래스 매서드)에서 print(cls.cnt) 미리 정의해줌!\n",
        "print(cls1.isSquare(10, 10))\n",
        "\n",
        "print(\"-\"*30)\n",
        "\n",
        "cls2.printcnt()\n",
        "print(cls1.isSquare(10, 10))\n",
        "\n",
        "print(\"-\"*30)\n",
        "\n",
        "area = cls1.calarea()\n",
        "print(area)"
      ],
      "metadata": {
        "colab": {
          "base_uri": "https://localhost:8080/"
        },
        "id": "UBLrOXEGXTAC",
        "outputId": "16965651-9ed8-4315-b9d1-f00e2ac49294"
      },
      "execution_count": null,
      "outputs": [
        {
          "output_type": "stream",
          "name": "stdout",
          "text": [
            "10\n",
            "True\n",
            "------------------------------\n",
            "10\n",
            "True\n",
            "------------------------------\n",
            "100\n"
          ]
        }
      ]
    },
    {
      "cell_type": "code",
      "source": [
        "print(cls1.height) # cls1 = myclass(10, 10)\n",
        "\n",
        "cls1.height = 25   \n",
        "print(cls1.height)\n",
        "\n",
        "# 고유속성들은 변할 수 X"
      ],
      "metadata": {
        "colab": {
          "base_uri": "https://localhost:8080/"
        },
        "id": "rCaOmhuGYTV5",
        "outputId": "7fee5f47-fa47-47d8-b6ca-aaffc1969c48"
      },
      "execution_count": null,
      "outputs": [
        {
          "output_type": "stream",
          "name": "stdout",
          "text": [
            "10\n",
            "25\n"
          ]
        }
      ]
    },
    {
      "cell_type": "code",
      "source": [
        "print(myclass.cnt) \n",
        "print(cls1.cnt)    # cls1.printcnt() \n",
        "print(cls2.cnt)    # cls2.printcnt()\n",
        "\n",
        "# 고유 값들을 유지시켜줌"
      ],
      "metadata": {
        "colab": {
          "base_uri": "https://localhost:8080/"
        },
        "id": "YlKHMD5zaJKn",
        "outputId": "f30fa257-234e-49af-9cce-5f132f76c1a2"
      },
      "execution_count": null,
      "outputs": [
        {
          "output_type": "stream",
          "name": "stdout",
          "text": [
            "10\n",
            "10\n",
            "10\n"
          ]
        }
      ]
    },
    {
      "cell_type": "markdown",
      "source": [
        "### 실습 \n",
        "- 클래스 생성 \n",
        "  * 객체 생성 시 입력받기 => 이름/ 나이/ 좋아하는 것 \n",
        "  * 입력 정보를 이용해 화면 출력 정보 받기"
      ],
      "metadata": {
        "id": "gGmMzeFbdeXQ"
      }
    },
    {
      "cell_type": "code",
      "source": [
        "### class\n",
        "\n",
        "class Student():\n",
        "  def __init__(self, name, age, like):\n",
        "    self.name = name\n",
        "    self.age = age\n",
        "    self.like = like\n",
        "\n",
        "  def stuinfo(self):\n",
        "    print(f\"이름:{self.name}, 나이:{self.age}, 좋아하는 것:{self.like}\")"
      ],
      "metadata": {
        "id": "FULvRDclbAIP"
      },
      "execution_count": null,
      "outputs": []
    },
    {
      "cell_type": "code",
      "source": [
        "홍길동 = Student(\"홍길동\", 35, \"축구\")\n",
        "김다은 = Student(\"김다은\", 55, \"여행\")\n",
        "\n",
        "홍길동.stuinfo()\n",
        "김다은.stuinfo()"
      ],
      "metadata": {
        "colab": {
          "base_uri": "https://localhost:8080/"
        },
        "id": "3dU4bgv9eNxG",
        "outputId": "3cf62720-108a-4158-bf63-67f03d324f69"
      },
      "execution_count": null,
      "outputs": [
        {
          "output_type": "stream",
          "name": "stdout",
          "text": [
            "이름:홍길동, 나이:35, 좋아하는 것:축구\n",
            "이름:김다은, 나이:55, 좋아하는 것:여행\n"
          ]
        }
      ]
    },
    {
      "cell_type": "code",
      "source": [
        "## 내용 추가 \n",
        "# 기존 클래스 참조하여 만들기\n",
        "class Student_up(Student): \n",
        "  def stuinfo(self):\n",
        "    super().stuinfo()        \n",
        "    # super(): 상위 객체. 위에거 먼저 처리하고 .뒤에 처리하란 뜻 / 기존: stuinfo() \n",
        "    print(f\"이름:{self.name}님 행복한 하루 되세요.\")"
      ],
      "metadata": {
        "id": "FPzlx2TrefJO"
      },
      "execution_count": null,
      "outputs": []
    },
    {
      "cell_type": "code",
      "source": [
        "홍길동 = Student(\"홍길동\", 35, \"축구\")      # 부모 클래스\n",
        "김다은 = Student_up(\"김다은\", 55, \"여행\")   # 부모 클래스에서 정보 받아온 자식 클래스\n",
        "\n",
        "# 부모 클래스:Student / 자식 클래스: Student_up\n",
        "\n",
        "홍길동.stuinfo()\n",
        "print(\"-\"*30)\n",
        "김다은.stuinfo() # 기존 클래스 결과 + 새로운 클래스 결과 "
      ],
      "metadata": {
        "colab": {
          "base_uri": "https://localhost:8080/"
        },
        "id": "2mdRoudTfbV0",
        "outputId": "49404743-b4f2-4547-9e5e-162e7ae8e938"
      },
      "execution_count": null,
      "outputs": [
        {
          "output_type": "stream",
          "name": "stdout",
          "text": [
            "이름:홍길동, 나이:35, 좋아하는 것:축구\n",
            "------------------------------\n",
            "이름:김다은, 나이:55, 좋아하는 것:여행\n",
            "이름:김다은님 행복한 하루 되세요.\n"
          ]
        }
      ]
    },
    {
      "cell_type": "code",
      "source": [
        ""
      ],
      "metadata": {
        "id": "5E9xEAsmffkq"
      },
      "execution_count": null,
      "outputs": []
    }
  ]
}
