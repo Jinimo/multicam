{
  "nbformat": 4,
  "nbformat_minor": 0,
  "metadata": {
    "colab": {
      "name": "1_문법_if-for문_0308.ipynb",
      "provenance": [],
      "collapsed_sections": [],
      "authorship_tag": "ABX9TyMNuQL4Ncivo8TRnz+vEgeb",
      "include_colab_link": true
    },
    "kernelspec": {
      "name": "python3",
      "display_name": "Python 3"
    },
    "language_info": {
      "name": "python"
    }
  },
  "cells": [
    {
      "cell_type": "markdown",
      "metadata": {
        "id": "view-in-github",
        "colab_type": "text"
      },
      "source": [
        "<a href=\"https://colab.research.google.com/github/Jinimo/Multi_/blob/main/2022.03/1_%EB%AC%B8%EB%B2%95_if_for%EB%AC%B8_0308.ipynb\" target=\"_parent\"><img src=\"https://colab.research.google.com/assets/colab-badge.svg\" alt=\"Open In Colab\"/></a>"
      ]
    },
    {
      "cell_type": "code",
      "execution_count": null,
      "metadata": {
        "colab": {
          "base_uri": "https://localhost:8080/"
        },
        "id": "Xwmmg3M6ELji",
        "outputId": "6220c9f5-3385-4d8c-d8b0-41a11fa143c4"
      },
      "outputs": [
        {
          "output_type": "stream",
          "name": "stdout",
          "text": [
            "Mounted at /content/drive\n"
          ]
        }
      ],
      "source": [
        "# 구글 드라이브 마운트(드라이브 연결)\n",
        "from google.colab import drive\n",
        "drive.mount('/content/drive')"
      ]
    },
    {
      "cell_type": "code",
      "source": [
        "# 작업 디렉토리로 이동\n",
        "%cd/content/drive/MyDrive/multi"
      ],
      "metadata": {
        "colab": {
          "base_uri": "https://localhost:8080/"
        },
        "id": "Kc3uJFCbES5C",
        "outputId": "5fa69067-2280-407f-f93d-92139525a17d"
      },
      "execution_count": null,
      "outputs": [
        {
          "output_type": "stream",
          "name": "stdout",
          "text": [
            "/content/drive/MyDrive/multi\n"
          ]
        }
      ]
    },
    {
      "cell_type": "markdown",
      "source": [
        "### 조건문 if\n",
        "- 참조: https://wikidocs.net/20\n",
        "- 형식 1 : if\n",
        "- 형식 2 : if - else\n",
        "- 형식 3 : if - elif \n",
        "\n",
        "\n",
        "\n",
        "\n",
        "\n",
        "\n",
        "\n",
        "\n"
      ],
      "metadata": {
        "id": "9OTQzcRdEfoD"
      }
    },
    {
      "cell_type": "code",
      "source": [
        "# 형식 1\n",
        "\n",
        "# input() : 사용자로부터 데이터를 입력받을 때 사용하는 함수 -> 입력값 모두 문자형 자료\n",
        "\n",
        "# 1. 사용자가 입력한 데이터가 0보다 크면 큰값으로 추출력\n",
        "inData = input(\"숫자를 입력하세요.:\")\n",
        "print(type(inData)) # 입력받은 inData의 데이터 형식 확인 ! \n",
        "# 결과값 : <class 'str'> -> 문자(str) 크기 비교/ 산술연산 X\n",
        "\n",
        "# if inDta > 0:  -> 그냥 이렇게 사용하면 inData가 문자(str)형식 이기 때문에 대소비교 X => 숫자로 바꿔줘야 함! \n",
        "if int(inData) > 0:\n",
        "  print(f\"입력값 {inData}는 0보다 큰 값입니다.\")\n",
        "\n",
        "print('='*10)"
      ],
      "metadata": {
        "colab": {
          "base_uri": "https://localhost:8080/"
        },
        "id": "QzHswnkmEa32",
        "outputId": "99e13154-8c94-47e8-9f30-42dd63274b49"
      },
      "execution_count": null,
      "outputs": [
        {
          "output_type": "stream",
          "name": "stdout",
          "text": [
            "숫자를 입력하세요.:12\n",
            "<class 'str'>\n",
            "입력값 12는 0보다 큰 값입니다.\n",
            "==========\n"
          ]
        }
      ]
    },
    {
      "cell_type": "code",
      "source": [
        "### 형식 3\n",
        "\n",
        "# 사용자가 입력한 데이터가 0보다 크면 큰 값으로 출력\n",
        "# 0보다 작으면 작은 값으로 출력\n",
        "\n",
        "inData = int(input(\"숫자를 입력하세요.:\"))\n",
        "# print(type(inData)) \n",
        "\n",
        "if inData >0:\n",
        "  print(f\"입력값 {inData}는 0보다 큰 값입니다.\")\n",
        "elif inData <0:\n",
        "  print(f\"입력값 {inData}는 0보다 작은 값입니다.\")\n",
        "\n",
        "print('='*10)"
      ],
      "metadata": {
        "colab": {
          "base_uri": "https://localhost:8080/"
        },
        "id": "H1kQNGD1Gkhi",
        "outputId": "9a8e8ecc-a91a-421a-faa2-ccd76fec6d65"
      },
      "execution_count": null,
      "outputs": [
        {
          "output_type": "stream",
          "name": "stdout",
          "text": [
            "숫자를 입력하세요.:12\n",
            "입력값 12는 0보다 큰 값입니다.\n",
            "==========\n"
          ]
        }
      ]
    },
    {
      "cell_type": "code",
      "source": [
        "### 형식 2\n",
        "\n",
        "# 사용자가 입력한 데이터가 0보다 크면 큰 값으로 출력\n",
        "# 0보다 작으면 작은 값으로 출력\n",
        "# 0과 같다면 0과 동일값으로 출력\n",
        "\n",
        "inData = int(input(\"숫자를 입력하세요.:\"))\n",
        "# print(type(inData)) \n",
        "\n",
        "if inData >0:\n",
        "  print(f\"입력값 {inData}는 0보다 큰 값입니다.\")\n",
        "elif inData <0:\n",
        "  print(f\"입력값 {inData}는 0보다 작은 값입니다.\")\n",
        "else:\n",
        "  print(f\"입력값 {inData}는 0과 동일한 값입니다.\")\n",
        "print('='*10)"
      ],
      "metadata": {
        "colab": {
          "base_uri": "https://localhost:8080/"
        },
        "id": "ejyU_sN3IsD6",
        "outputId": "a4d4662a-78e5-45bf-f2b0-167af542dfd4"
      },
      "execution_count": null,
      "outputs": [
        {
          "output_type": "stream",
          "name": "stdout",
          "text": [
            "숫자를 입력하세요.:0\n",
            "입력값 0는 0과 동일한 값입니다.\n",
            "==========\n"
          ]
        }
      ]
    },
    {
      "cell_type": "markdown",
      "source": [
        "### [ 미션 ]\n",
        "- images 폴더 이미지 읽어오기\n",
        "- 해당 이미지에서 강아지/고양이 확인 후 해당 폴더에 저장\n",
        "- 읽어온 이미지에 대한 정보 리스트에 저장하기 (파일명 -> 가로, 세로 크기)\n",
        "\n",
        "```\n",
        "강아지 => dog 폴더\n",
        "고양이 => cat 폴더\n",
        "```\n",
        "\n"
      ],
      "metadata": {
        "id": "sb6WP4L-LL2P"
      }
    },
    {
      "cell_type": "markdown",
      "source": [
        "#### OS 모듈\n",
        "- 정의한 폴더에 있는 파일 및 하위 폴더 정보 가져오기 "
      ],
      "metadata": {
        "id": "qkEXv0dfL18j"
      }
    },
    {
      "cell_type": "code",
      "source": [
        "### OS 모듈 연결\n",
        "\n",
        "import os\n",
        "\n",
        "print(os.listdir(\"./\")) # multi 디렉토리에 결되어있음 \n",
        "print(os.listdir(\"./0308/images/\")) # images 파일의 모든 데이터 리스트로 표시\n",
        "print('-'*20)\n",
        "\n",
        "fnames = os.listdir(\"./0308/images/\")\n",
        "print(fnames)"
      ],
      "metadata": {
        "colab": {
          "base_uri": "https://localhost:8080/"
        },
        "id": "dW9zXmQpJGxP",
        "outputId": "bb653a39-b1a3-4bea-e15a-45bc59d8d5ad"
      },
      "execution_count": null,
      "outputs": [
        {
          "output_type": "stream",
          "name": "stdout",
          "text": [
            "['0307', '0308', 'data']\n",
            "['dog1.jpg', 'dog3.jpg', 'dog2.jpg', 'dog10.jpg', 'dog6.jpg', 'dog4.jpg', 'dog5.jpg', 'dog7.jpg', 'dog9.jpg', 'cat5.jpg', 'cat6.jpg', 'dog8.jpg', 'cat4.jpg', 'cat1.jpg', 'cat3.jpg', 'cat2.jpg']\n",
            "--------------------\n",
            "['dog1.jpg', 'dog3.jpg', 'dog2.jpg', 'dog10.jpg', 'dog6.jpg', 'dog4.jpg', 'dog5.jpg', 'dog7.jpg', 'dog9.jpg', 'cat5.jpg', 'cat6.jpg', 'dog8.jpg', 'cat4.jpg', 'cat1.jpg', 'cat3.jpg', 'cat2.jpg']\n"
          ]
        }
      ]
    },
    {
      "cell_type": "code",
      "source": [
        "# fnames[0][:3] # 결과값: 강 -> 한글 파일이 설치가 안되어 있어 자음단위로 끊김ㅠㅠ\n",
        "\n",
        "fnames[0][:3]  # 결과값: dog\n",
        "fnames[-1][:3] # 결과값: cat\n",
        "\n",
        "fnames[0][:3] == 'dog' #  결과값: True\n",
        "fnames[-1][:3] == 'cat'#  결과값: True"
      ],
      "metadata": {
        "colab": {
          "base_uri": "https://localhost:8080/"
        },
        "id": "FX5pVqQdT59a",
        "outputId": "2696daca-faa5-43cb-a51a-d733ac9649e6"
      },
      "execution_count": null,
      "outputs": [
        {
          "output_type": "execute_result",
          "data": {
            "text/plain": [
              "True"
            ]
          },
          "metadata": {},
          "execution_count": 49
        }
      ]
    },
    {
      "cell_type": "code",
      "source": [
        "### 데이터 파일 하나씩 읽어 들여와 정보 저장하기\n",
        "\n",
        "from PIL import Image \n",
        "\n",
        "# 파일 정보 저장 리스트 변수 생성\n",
        "imgInfo =[] \n",
        "\n",
        "for fname in fnames:\n",
        "  # print(\"./0308/images/\" + fname ) # 파일명 제대로 나오는지 확인 가능\n",
        "  tmp = Image.open( \"./0308/images/\" + fname )\n",
        "  tmpsize = tmp.size # tmpsize(이미지 사이즈)에 튜플 형식으로 저장\n",
        "  # 파일 정보 변수에 저장\n",
        "  imgInfo.append([fname, tmpsize[0], tmpsize[1]]) # 2차원 / [파일 이름 ,가로 사이즈, 세로 사이즈]\n",
        "\n",
        "  # 사이즈 변경하여 dog / cat 사이즈 변경\n",
        "  # 강아지_300*300 , 고양이_250*250\n",
        "  if fname[:3] == 'dog':              # fname의 3번째가 dog라면 \n",
        "    tmpResize = tmp.resize((300,300))\n",
        "  else:                               # 아니면 모두 'cat' \n",
        "    tmpResize = tmp.resize((250,250))\n",
        "\n",
        "  # 변경 이미지 저장 \n",
        "  tmpResize.save( \"./0308/\" + fname[:3] + \"/\" + fname ) # fname[:3] -> dog/cat 자동 선택\n",
        "\n",
        "print(imgInfo)\n",
        "print('==== END ====')"
      ],
      "metadata": {
        "colab": {
          "base_uri": "https://localhost:8080/"
        },
        "id": "Ox6Zd7uJMIJj",
        "outputId": "015c7c4f-5485-4058-a022-a5d62c5f6cc7"
      },
      "execution_count": null,
      "outputs": [
        {
          "output_type": "stream",
          "name": "stdout",
          "text": [
            "[['dog1.jpg', 377, 400], ['dog3.jpg', 433, 400], ['dog2.jpg', 584, 400], ['dog10.jpg', 599, 400], ['dog6.jpg', 533, 400], ['dog4.jpg', 356, 400], ['dog5.jpg', 564, 400], ['dog7.jpg', 537, 400], ['dog9.jpg', 510, 400], ['cat5.jpg', 683, 512], ['cat6.jpg', 600, 375], ['dog8.jpg', 533, 400], ['cat4.jpg', 500, 321], ['cat1.jpg', 683, 512], ['cat3.jpg', 819, 512], ['cat2.jpg', 650, 433]]\n",
            "==== END ====\n"
          ]
        }
      ]
    },
    {
      "cell_type": "code",
      "source": [
        "## 요곤 그냥 위에 코드 확인차 ㅎㅎ\n",
        "for fname in fnames:\n",
        "   print(\"./0308/images/\" + fname ) # 파일명 제대로 나오는지 확인 가능\n",
        "  # tmp = Image.open( \"./0308/images/\" + fname )"
      ],
      "metadata": {
        "colab": {
          "base_uri": "https://localhost:8080/"
        },
        "id": "PWBLILjQOJeI",
        "outputId": "0745519d-f9eb-4a7c-bcd3-8d053d5926ab"
      },
      "execution_count": null,
      "outputs": [
        {
          "output_type": "stream",
          "name": "stdout",
          "text": [
            "./0308/images/dog1.jpg\n",
            "./0308/images/dog3.jpg\n",
            "./0308/images/dog2.jpg\n",
            "./0308/images/dog10.jpg\n",
            "./0308/images/dog6.jpg\n",
            "./0308/images/dog4.jpg\n",
            "./0308/images/dog5.jpg\n",
            "./0308/images/dog7.jpg\n",
            "./0308/images/dog9.jpg\n",
            "./0308/images/cat5.jpg\n",
            "./0308/images/cat6.jpg\n",
            "./0308/images/dog8.jpg\n",
            "./0308/images/cat4.jpg\n",
            "./0308/images/cat1.jpg\n",
            "./0308/images/cat3.jpg\n",
            "./0308/images/cat2.jpg\n"
          ]
        }
      ]
    },
    {
      "cell_type": "markdown",
      "source": [
        "### [ 미션 ]\n",
        "- 리스트형 데이터에서 고유값 찾기\n",
        "- 데이터 : ['사과', '배', '사과', '바나나', '굴', '바나나', '사과', '배', '바나나', '메론']\n",
        "- 주어진 데이터에서 고유값을 찾아 리스트형으로 출력하시오.\n"
      ],
      "metadata": {
        "id": "AzFQu7JRsiSe"
      }
    },
    {
      "cell_type": "markdown",
      "source": [
        "[for/if 사용]\n",
        "1. list 생성\n",
        "2. for문 -> 순차적인 데이터 가져오기\n",
        "3. 가져온 데이터가 생성한 list에 있는지 확인 (있으면 넘어감 / 없으면 추가함)\n",
        "\n",
        "  * 만약 고유값에 해당하는 리스트변수의 길이가 0이면 추가 \n",
        "  * 아니면 다시 확인 후 없으면 추가"
      ],
      "metadata": {
        "id": "2drCodhXtwUZ"
      }
    },
    {
      "cell_type": "code",
      "source": [
        "# 방법 1\n",
        "\n",
        "indata = ['사과', '배', '사과', '바나나', '귤', '바나나', '사과', '배', '바나나', '메론']\n",
        "\n",
        "prnlst = [] # 출력값 -> 빈 리스트 변수 생성\n",
        "\n",
        "# prnlst : 결과값 넣어주기 위한 빈 리스트 \n",
        "# fn : prnlst의 변수 리스트에 하나 하나 들어가는 인수 \n",
        "\n",
        "for fn in indata:      # prn에 사과 들어감 \n",
        "  if len(prnlst) == 0:   \n",
        "    prnlst.append(fn)\n",
        " # len(prnlst): prnlst리스트에 몇개 들어가있는지 확인 \n",
        " # len(prnlst)==0 -> 리스트 안에 아무것도 없는 상태, 처음 상태\n",
        " # \n",
        "\n",
        "  else:\n",
        "    cnt = 0               # 현재 입력한 데이터의 갯수를 확인하기 위한 변수 / cnt (count)\n",
        "    for i in range(len(prnlst)): \n",
        "      # 같으면 1씩 증가\n",
        "      if fn == prnlst[i]:\n",
        "        cnt = cnt + 1     # cnt += 1  랑 같아! \n",
        "    if cnt == 0:        # 하나도 없다는 뜻\n",
        "        prnlst.append(fn) #\n",
        "\n",
        "print(prnlst)"
      ],
      "metadata": {
        "colab": {
          "base_uri": "https://localhost:8080/"
        },
        "id": "Tkcy-eHyY4qU",
        "outputId": "371faa5d-afa8-4de2-ccce-e3278f7f5bc5"
      },
      "execution_count": null,
      "outputs": [
        {
          "output_type": "stream",
          "name": "stdout",
          "text": [
            "['사과', '배', '바나나', '귤', '메론']\n"
          ]
        }
      ]
    },
    {
      "cell_type": "markdown",
      "source": [
        "연산자 in / not in\n",
        "- A in 데이터 : A가 데이터에 포함되어 있으며 True. 없으면 False\n",
        "- A not in 데이터 : A가 데이터 없으면 True, 있으면 False "
      ],
      "metadata": {
        "id": "kLwLjPx21FXC"
      }
    },
    {
      "cell_type": "code",
      "source": [
        "# 방법 2\n",
        "## 위와 동일한 결과값\n",
        "\n",
        "indata = ['사과', '배', '사과', '바나나', '귤', '바나나', '사과', '배', '바나나', '메론']\n",
        "prnlst = []\n",
        "\n",
        "for fn in indata:     \n",
        "  if len(prnlst) == 0:   \n",
        "    prnlst.append(fn)\n",
        "  else:\n",
        "    if fn not in prnlst:\n",
        "      prnlst.append(fn)\n",
        "\n",
        "print(prnlst)"
      ],
      "metadata": {
        "colab": {
          "base_uri": "https://localhost:8080/"
        },
        "id": "k0ILma3Itm0I",
        "outputId": "28ae5d47-3b05-4b57-98c0-8c5532737c8c"
      },
      "execution_count": null,
      "outputs": [
        {
          "output_type": "stream",
          "name": "stdout",
          "text": [
            "['사과', '배', '바나나', '귤', '메론']\n"
          ]
        }
      ]
    },
    {
      "cell_type": "markdown",
      "source": [
        "set() 함수 사용 \n",
        "- 집합 형식으로 제공\n",
        "- https://wikidocs.net/1015"
      ],
      "metadata": {
        "id": "Yrzma__x3B0Z"
      }
    },
    {
      "cell_type": "code",
      "source": [
        "# 방법 3\n",
        "set(indata)\n",
        "print(prnlst)"
      ],
      "metadata": {
        "colab": {
          "base_uri": "https://localhost:8080/"
        },
        "id": "3Vf_PjO907B4",
        "outputId": "65119bfa-9c90-48e6-89b0-4868777756f4"
      },
      "execution_count": null,
      "outputs": [
        {
          "output_type": "stream",
          "name": "stdout",
          "text": [
            "['사과', '배', '바나나', '귤', '메론']\n"
          ]
        }
      ]
    },
    {
      "cell_type": "code",
      "source": [
        "# 방법 4\n",
        "prnlst = list(set(indata))\n",
        "print(prnlst)"
      ],
      "metadata": {
        "colab": {
          "base_uri": "https://localhost:8080/"
        },
        "id": "RcWGY2Du3tW_",
        "outputId": "2cc3729c-b857-4d06-de2d-fe506774f311"
      },
      "execution_count": null,
      "outputs": [
        {
          "output_type": "stream",
          "name": "stdout",
          "text": [
            "['귤', '메론', '바나나', '사과', '배']\n"
          ]
        }
      ]
    },
    {
      "cell_type": "code",
      "source": [
        "# 방법 4\n",
        "indata = ['사과', '배', '사과', '바나나', '귤', '바나나', '사과', '배', '바나나', '메론']\n",
        "\n",
        "for fn not in indata:     \n",
        "  if len(prnlst) == 0:   \n",
        "    prnlst.append(fn)\n",
        "  \n",
        "print(prnlst)"
      ],
      "metadata": {
        "colab": {
          "base_uri": "https://localhost:8080/",
          "height": 134
        },
        "id": "eBdedmq72WTt",
        "outputId": "7a04aa27-9fc3-4557-8b2a-556bdd9d948a"
      },
      "execution_count": null,
      "outputs": [
        {
          "output_type": "error",
          "ename": "SyntaxError",
          "evalue": "ignored",
          "traceback": [
            "\u001b[0;36m  File \u001b[0;32m\"<ipython-input-80-83d93d7e6eeb>\"\u001b[0;36m, line \u001b[0;32m4\u001b[0m\n\u001b[0;31m    for fn not in indata:\u001b[0m\n\u001b[0m             ^\u001b[0m\n\u001b[0;31mSyntaxError\u001b[0m\u001b[0;31m:\u001b[0m invalid syntax\n"
          ]
        }
      ]
    },
    {
      "cell_type": "markdown",
      "source": [
        "### ㅅText 파일에서 사용자가 입력한 단어의 갯수 구하기\n",
        "- count()함수 사용 금지\n",
        "- for와 if를 이용해 count()함수와 동일한 결과 출력\n"
      ],
      "metadata": {
        "id": "UZZ_WYcD7m9U"
      }
    },
    {
      "cell_type": "code",
      "source": [
        "text1 = \"여러분이 그 여정의 주인공입니다. 여러분이 가는 길이 대학의 역사가 되고 여러분이 개척하는 길이 대한민국의 길이 될 것입니다.\"\n",
        "\n",
        "## \"길\" 이라는 단어 갯수 구하기\n",
        "\n",
        "cnt = 0 # 갯수 구하는  변수 생성, 초기값으로 0 세팅\n",
        "\n",
        "for t in text1:\n",
        "  if t == \"길\":\n",
        "    cnt += 1  # cnt = cnt +1 \n",
        "\n",
        "print(cnt)\n",
        "\n",
        "\n"
      ],
      "metadata": {
        "colab": {
          "base_uri": "https://localhost:8080/"
        },
        "id": "qX2Geba67foN",
        "outputId": "4ec6d7fb-cdc6-4b39-88bf-83a6c6b4414a"
      },
      "execution_count": null,
      "outputs": [
        {
          "output_type": "stream",
          "name": "stdout",
          "text": [
            "3\n",
            "0\n"
          ]
        }
      ]
    },
    {
      "cell_type": "markdown",
      "source": [
        "사용자로부터 입력 받은 단어 갯수 구하기"
      ],
      "metadata": {
        "id": "KgeQnlB0-HAA"
      }
    },
    {
      "cell_type": "code",
      "source": [
        "txt = input('단어를 입력해주세요:')\n",
        "cnt = 0\n",
        "\n",
        "for i in range(len(text1)): \n",
        "    if txt == text1[i:i + len(txt)]: \n",
        "            cnt += 1\n",
        "print(cnt)\n",
        "\n",
        "# 찾는 단어 없으면 -> 결과값: 0 \n",
        "\n",
        "# EX) '여러분'의 갯수를 찾고자 한다\n",
        "# text1의 리스트에서 '여러분'의 3글자씩 잘라 3칸씩 이동하며 검색\n",
        "\n",
        "print(text1.count(txt)) # 위의 코드와 같은 결과값"
      ],
      "metadata": {
        "colab": {
          "base_uri": "https://localhost:8080/"
        },
        "id": "D8_p2y0g3pN9",
        "outputId": "65b58c7c-04ee-452b-c207-28b06680c062"
      },
      "execution_count": null,
      "outputs": [
        {
          "output_type": "stream",
          "name": "stdout",
          "text": [
            "단어를 입력해주세요:여러분\n",
            "3\n",
            "3\n"
          ]
        }
      ]
    },
    {
      "cell_type": "markdown",
      "source": [
        " .split() 함수 코드"
      ],
      "metadata": {
        "id": "zVpd_TccCAFm"
      }
    },
    {
      "cell_type": "code",
      "source": [
        "# 공백으로 나누어 출력하기\n",
        "print(text1.split(\" \"))"
      ],
      "metadata": {
        "colab": {
          "base_uri": "https://localhost:8080/"
        },
        "id": "1Cs4WjOl_zMr",
        "outputId": "4e5aeb29-cdab-4adc-8d18-b83e07b9a38e"
      },
      "execution_count": null,
      "outputs": [
        {
          "output_type": "stream",
          "name": "stdout",
          "text": [
            "['여러분이', '그', '여정의', '주인공입니다.', '여러분이', '가는', '길이', '대학의', '역사가', '되고', '여러분이', '개척하는', '길이', '대한민국의', '길이', '될', '것입니다.']\n"
          ]
        }
      ]
    },
    {
      "cell_type": "markdown",
      "source": [
        "text1 = \"여러분이 그 여정의 주인공입니다. 여러분이 가는 길이 대학의 역사가 되고 여러분이 개척하는 길이 대한민국의 길이 될 것입니다.\"\n"
      ],
      "metadata": {
        "id": "l-0-PgQMHqwE"
      }
    },
    {
      "cell_type": "code",
      "source": [
        "# for/if 를 이용해 구현\n",
        "\n",
        "prntxt = [] # 단어 저장 변수\n",
        "tmp = \" \"   # 구분 단어, 자를 단어, 없앨 단어, 기준?\n",
        "word = \"\"   # 각 글자\n",
        "\n",
        "for t in text1:\n",
        "  if tmp != t: # 여기서 tmp는 \" \" 공백이기 떄문에 t(= text1의 첫 글자 \"여\")랑 달라 -> if문 만족\n",
        "    word += t  # if문 만족해서 +t(한 글자씩 이동) \n",
        "  else:        # 한글자씩 이동해서 \" \"이 나온다면 \n",
        "    prntxt.append(word)\n",
        "    word = \"\"  # 초기화 시켜 다음 글자부터 다시 시작\n",
        "# -> 여기까지하면 맨 마지막이 공백이 아니면 그냥 빠져나감\n",
        "# 끝의 '것입니다'까지 표시하려면 아래의 코드 필요\n",
        "if len(word)!= 0:\n",
        "  prntxt.append(word)\n",
        "# -> 맨 마직막에 한번더 넣어줌\n",
        "\n",
        "print(prntxt)\n",
        "print('-'*20)\n",
        "print(text1.split(\" \"))"
      ],
      "metadata": {
        "colab": {
          "base_uri": "https://localhost:8080/"
        },
        "id": "wPd16blEB8Vu",
        "outputId": "477dd814-b6d6-4be8-cfd0-7601dbbf207d"
      },
      "execution_count": null,
      "outputs": [
        {
          "output_type": "stream",
          "name": "stdout",
          "text": [
            "['여러분이', '그', '여정의', '주인공입니다.', '여러분이', '가는', '길이', '대학의', '역사가', '되고', '여러분이', '개척하는', '길이', '대한민국의', '길이', '될', '것입니다.']\n",
            "--------------------\n",
            "['여러분이', '그', '여정의', '주인공입니다.', '여러분이', '가는', '길이', '대학의', '역사가', '되고', '여러분이', '개척하는', '길이', '대한민국의', '길이', '될', '것입니다.']\n"
          ]
        }
      ]
    },
    {
      "cell_type": "code",
      "source": [
        ""
      ],
      "metadata": {
        "id": "thlMqX6PEvZ7"
      },
      "execution_count": null,
      "outputs": []
    }
  ]
}
