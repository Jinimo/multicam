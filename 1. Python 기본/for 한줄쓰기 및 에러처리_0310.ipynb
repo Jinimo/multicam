{
  "nbformat": 4,
  "nbformat_minor": 0,
  "metadata": {
    "colab": {
      "name": "1_for_한줄쓰기_및_에러처0310.ipynb",
      "provenance": [],
      "collapsed_sections": [],
      "authorship_tag": "ABX9TyNTPNnO8GqJ6e1AcWm5LYLQ",
      "include_colab_link": true
    },
    "kernelspec": {
      "name": "python3",
      "display_name": "Python 3"
    },
    "language_info": {
      "name": "python"
    }
  },
  "cells": [
    {
      "cell_type": "markdown",
      "metadata": {
        "id": "view-in-github",
        "colab_type": "text"
      },
      "source": [
        "<a href=\"https://colab.research.google.com/github/Jinimo/Multi_/blob/main/2022.03/python_for_%ED%95%9C%EC%A4%84%EC%93%B0%EA%B8%B0_%EB%B0%8F_%EC%97%90%EB%9F%AC%EC%B2%980310.ipynb\" target=\"_parent\"><img src=\"https://colab.research.google.com/assets/colab-badge.svg\" alt=\"Open In Colab\"/></a>"
      ]
    },
    {
      "cell_type": "code",
      "execution_count": null,
      "metadata": {
        "colab": {
          "base_uri": "https://localhost:8080/"
        },
        "id": "Bo6R-GdsPidd",
        "outputId": "545afc7f-f409-47dd-83d0-cc3fac9a0d12"
      },
      "outputs": [
        {
          "output_type": "stream",
          "name": "stdout",
          "text": [
            "Mounted at /content/drive\n"
          ]
        }
      ],
      "source": [
        "# 구글 드라이브 마운트(드라이브 연결)\n",
        "from google.colab import drive\n",
        "drive.mount('/content/drive')"
      ]
    },
    {
      "cell_type": "code",
      "source": [
        "# 작업 디렉토리로 이동\n",
        "%cd/content/drive/MyDrive/multi"
      ],
      "metadata": {
        "colab": {
          "base_uri": "https://localhost:8080/"
        },
        "id": "j9ZYNH17Put_",
        "outputId": "92bc79bd-f334-4da9-d6ce-05f0e19bb223"
      },
      "execution_count": null,
      "outputs": [
        {
          "output_type": "stream",
          "name": "stdout",
          "text": [
            "/content/drive/MyDrive/multi\n"
          ]
        }
      ]
    },
    {
      "cell_type": "code",
      "source": [
        "# \"연습\" 5번 생성\n",
        "for i in range(5):\n",
        "  print(\"연습\")\n",
        "\n",
        "# 한줄 쓰기 -> 리스트 구조\n",
        "[\"연습\" for i in range(5)]"
      ],
      "metadata": {
        "colab": {
          "base_uri": "https://localhost:8080/"
        },
        "id": "9hhlExw1QSTE",
        "outputId": "f260074c-e5ce-449d-84b3-f48fc1c5e7e5"
      },
      "execution_count": null,
      "outputs": [
        {
          "output_type": "stream",
          "name": "stdout",
          "text": [
            "연습\n",
            "연습\n",
            "연습\n",
            "연습\n",
            "연습\n"
          ]
        },
        {
          "output_type": "execute_result",
          "data": {
            "text/plain": [
              "['연습', '연습', '연습', '연습', '연습']"
            ]
          },
          "metadata": {},
          "execution_count": 5
        }
      ]
    },
    {
      "cell_type": "code",
      "source": [
        "# \"연습\"이란 단어를 5번 생성하는 리스트 구조 변수 만들기\n",
        "\n",
        "# 방법1\n",
        "tmp1 = []\n",
        "for i in range(5):\n",
        "  tmp1.append(\"연습\")\n",
        "\n",
        "# 방법2\n",
        "tmp2 = [\"연습\" for i in range(5)]\n",
        "\n",
        "print(tmp2)\n",
        "print(tmp1)\n"
      ],
      "metadata": {
        "colab": {
          "base_uri": "https://localhost:8080/"
        },
        "id": "2qvg4nF_P3Fl",
        "outputId": "dc4f1c59-d70a-4dbc-9a0f-1a5578763aa1"
      },
      "execution_count": null,
      "outputs": [
        {
          "output_type": "stream",
          "name": "stdout",
          "text": [
            "['연습', '연습', '연습', '연습', '연습']\n",
            "['연습', '연습', '연습', '연습', '연습']\n"
          ]
        }
      ]
    },
    {
      "cell_type": "markdown",
      "source": [
        "#### 이중 for 한줄쓰기\n",
        "- [결과 for 반복문1 for 반복문2]"
      ],
      "metadata": {
        "id": "DwBwA2AyXnvw"
      }
    },
    {
      "cell_type": "code",
      "source": [
        "val = [val, [11, 12, 13]]\n",
        "print(val)"
      ],
      "metadata": {
        "colab": {
          "base_uri": "https://localhost:8080/"
        },
        "id": "hOs418IHRf51",
        "outputId": "55d9b93e-5786-4f3a-c9b3-a5af9274a888"
      },
      "execution_count": null,
      "outputs": [
        {
          "output_type": "stream",
          "name": "stdout",
          "text": [
            "[[1, 2, 3, 4, 5, 6, 7, 8, 9, 10], [11, 12, 13]]\n"
          ]
        }
      ]
    },
    {
      "cell_type": "code",
      "source": [
        "# 한개의 변수로 만들기\n",
        "\n",
        "# 방법 1\n",
        "val_tmp1=[]\n",
        "for i in val:\n",
        "  for j in i: # i -> 첫번쨰 두번쨰 리스트 가져옴\n",
        "    val_tmp1.append(j)\n",
        "\n",
        "print(val_tmp1)\n",
        "print('-'*30)\n",
        "\n",
        "\n",
        "# 방법 2\n",
        "val_tmp2=[j for i in val if j in i ]\n",
        "print(val_tmp2)"
      ],
      "metadata": {
        "colab": {
          "base_uri": "https://localhost:8080/"
        },
        "id": "D40oBJR1YTz6",
        "outputId": "b4ec0271-b529-4d90-a03b-c5cfac6a9bae"
      },
      "execution_count": null,
      "outputs": [
        {
          "output_type": "stream",
          "name": "stdout",
          "text": [
            "[1, 2, 3, 4, 5, 6, 7, 8, 9, 10, 11, 12, 13]\n",
            "------------------------------\n",
            "[13]\n"
          ]
        }
      ]
    },
    {
      "cell_type": "markdown",
      "source": [
        "#### if가 포함된 for 한줄쓰기\n",
        "- [결과 for 반복문]\n",
        "- [결과 for 반복문 if 조건문]\n",
        "\n"
      ],
      "metadata": {
        "id": "95Lct_uUXM_v"
      }
    },
    {
      "cell_type": "code",
      "source": [
        "val = list(range(1,11))\n",
        "print(val)\n",
        "\n",
        "### 홀수인 데이터를 추출하여 별도의 리스트로 만들기\n",
        "odd1 = []\n",
        "for i in val:\n",
        "  if i%2 == 1:     # \bA%B :A를 B로 나누고 남은 나머지(나머지값 계산), // : 몫 계산, / : 일반적인 나누기\n",
        "    odd1.append(i)\n",
        "\n",
        "print(f\"홀수 데이터(기본)): {odd1}\")\n",
        "\n",
        "## 한 줄쓰기로 표현\n",
        "odd2 = [i for i in val if i%2 == 1]\n",
        "print(f\"홀수 데이터(한 줄쓰기): {odd2}\")\n",
        "\n"
      ],
      "metadata": {
        "colab": {
          "base_uri": "https://localhost:8080/"
        },
        "id": "l9iKRXTlQhqv",
        "outputId": "8f710eb8-f4bd-48dc-87da-6936a285c2b7"
      },
      "execution_count": null,
      "outputs": [
        {
          "output_type": "stream",
          "name": "stdout",
          "text": [
            "[1, 2, 3, 4, 5, 6, 7, 8, 9, 10]\n",
            "홀수 데이터(기본)): [1, 3, 5, 7, 9]\n",
            "홀수 데이터(한 줄쓰기): [1, 3, 5, 7, 9]\n"
          ]
        }
      ]
    },
    {
      "cell_type": "markdown",
      "source": [
        "#### for if-else 구조 한줄쓰기\n",
        "- [T결과 if 조건식 else F결과 for 반복문]"
      ],
      "metadata": {
        "id": "1Z7U0dFNZRLX"
      }
    },
    {
      "cell_type": "code",
      "source": [
        "## 리스트 변수에  val의 짝수/홀수 표기 한줄쓰기\n",
        "\n",
        "# 방법 1\n",
        "tmp1=[]\n",
        "for i in val_tmp1: # val 리스트 사용 -> 2차원 \n",
        "  if i%2 == 1:\n",
        "    tmp1.append(\"홀수\")\n",
        "  else:\n",
        "    tmp1.append(\"짝수\")\n",
        "\n",
        "print(tmp1)\n",
        "\n",
        "# 방법 2\n",
        "tmp2=[\"홀수\" if i%2==1 else \"짝수\" for t in val_tmp1]\n",
        "print(tmp2)"
      ],
      "metadata": {
        "colab": {
          "base_uri": "https://localhost:8080/"
        },
        "id": "njggETvZY1Jb",
        "outputId": "bb0ed0c8-5dde-4676-bda9-e08f424a3f2c"
      },
      "execution_count": null,
      "outputs": [
        {
          "output_type": "stream",
          "name": "stdout",
          "text": [
            "['홀수', '짝수', '홀수', '짝수', '홀수', '짝수', '홀수', '짝수', '홀수', '짝수', '홀수', '짝수', '홀수']\n",
            "['홀수', '홀수', '홀수', '홀수', '홀수', '홀수', '홀수', '홀수', '홀수', '홀수', '홀수', '홀수', '홀수']\n"
          ]
        }
      ]
    },
    {
      "cell_type": "markdown",
      "source": [
        "### [미션]\n",
        "- val = 1~10까지 정수형 리스트 생성\n",
        "- va2 = 11~20까지 홀수값만 가지는 리스트 생성 \n",
        "- val = [val1, val2] -> 이중구조\n",
        "- tmp1 일반 for 문으로 작업, 짝수/홀수 표기\n",
        "- tmp2 한줄쓰기 짝수/홀수 표기"
      ],
      "metadata": {
        "id": "047PSKu6blAI"
      }
    },
    {
      "cell_type": "code",
      "source": [
        "val1=list(range(1,11))\n",
        "val2=list(range(11,20,2))\n",
        "val=[val1,val2]\n",
        "# => val = [list(range(1,11)), list(range(11,20,2))]\n",
        "\n",
        "tmp2=[\"홀수\" if j%2==1 else \"짝수\" for i in val for j in i]\n",
        "print(tmp2)\n"
      ],
      "metadata": {
        "colab": {
          "base_uri": "https://localhost:8080/"
        },
        "id": "2RU9G76MZ2_2",
        "outputId": "14dca39c-96a9-40bd-e2f5-9bc0336bb144"
      },
      "execution_count": null,
      "outputs": [
        {
          "output_type": "stream",
          "name": "stdout",
          "text": [
            "['홀수', '짝수', '홀수', '짝수', '홀수', '짝수', '홀수', '짝수', '홀수', '짝수', '홀수', '홀수', '홀수', '홀수', '홀수']\n"
          ]
        }
      ]
    },
    {
      "cell_type": "markdown",
      "source": [
        "#### 에러처리 (오류시 예외처리)\n",
        "- try: 정상~ except: 에러처리"
      ],
      "metadata": {
        "id": "_jthj6cBeZB0"
      }
    },
    {
      "cell_type": "code",
      "source": [
        "print(aaa) # aaa -> 변수 지정 X 때문에 에러 발생"
      ],
      "metadata": {
        "colab": {
          "base_uri": "https://localhost:8080/",
          "height": 169
        },
        "id": "0GgGDTZgeW9M",
        "outputId": "aed035b8-6995-4c8d-fce7-f897b4509343"
      },
      "execution_count": null,
      "outputs": [
        {
          "output_type": "error",
          "ename": "NameError",
          "evalue": "ignored",
          "traceback": [
            "\u001b[0;31m---------------------------------------------------------------------------\u001b[0m",
            "\u001b[0;31mNameError\u001b[0m                                 Traceback (most recent call last)",
            "\u001b[0;32m<ipython-input-47-74dfd42a4c28>\u001b[0m in \u001b[0;36m<module>\u001b[0;34m()\u001b[0m\n\u001b[0;32m----> 1\u001b[0;31m \u001b[0mprint\u001b[0m\u001b[0;34m(\u001b[0m\u001b[0maaa\u001b[0m\u001b[0;34m)\u001b[0m\u001b[0;34m\u001b[0m\u001b[0;34m\u001b[0m\u001b[0m\n\u001b[0m",
            "\u001b[0;31mNameError\u001b[0m: name 'aaa' is not defined"
          ]
        }
      ]
    },
    {
      "cell_type": "code",
      "source": [
        "## 기본 형식 \n",
        "try:                # 생성되어지는 정상적인 코드\n",
        "  print(\"안녕하세요.\") # 에러발생 X \n",
        "  print(aaa)        # 에러발생 O\n",
        "  print(\"반갑습니다.\") # 에러발생 X \n",
        "\n",
        "except:             # 코드에서 에러 발생시 \n",
        "  print(\"에러발생\")\n",
        "\n",
        "# 중간에 에러 발생시 에러코드 밑 정상코드 출력 X\n",
        "# try - except 아무떄나 쓰면 에러 발생했지만 찾지 못함! \n",
        "\n"
      ],
      "metadata": {
        "colab": {
          "base_uri": "https://localhost:8080/"
        },
        "id": "yA2rhhDQecdZ",
        "outputId": "d600e671-a12d-4651-8211-c529746f2cd4"
      },
      "execution_count": null,
      "outputs": [
        {
          "output_type": "stream",
          "name": "stdout",
          "text": [
            "안녕하세요.\n",
            "에러발생\n",
            "에러 무시\n"
          ]
        }
      ]
    },
    {
      "cell_type": "code",
      "source": [
        "## pass 에러 발생시 그냥 넘어감 \n",
        "try:                \n",
        "  print(aaa)         \n",
        "except:             \n",
        "  pass\n",
        "\n",
        "print(\"에러 무시\")"
      ],
      "metadata": {
        "colab": {
          "base_uri": "https://localhost:8080/"
        },
        "id": "tDEf1-jue2T2",
        "outputId": "fd2dd42c-2a52-4e87-d06a-ee699b1adc7c"
      },
      "execution_count": null,
      "outputs": [
        {
          "output_type": "stream",
          "name": "stdout",
          "text": [
            "에러 무시\n"
          ]
        }
      ]
    },
    {
      "cell_type": "code",
      "source": [
        "## 에러 발생에 대한 원인을 메세지로 전달\n",
        "## (즉, 코드 실행시 멈추지 않고 계속 진행)\n",
        "try:\n",
        "  print(aaa)\n",
        "except Exception as e: # Exception: 에러정보 호출하는 키워드 \n",
        "  print(f\"에러발생원인: {e}\")\n",
        "\n",
        "print(\"=== END ===\")"
      ],
      "metadata": {
        "colab": {
          "base_uri": "https://localhost:8080/"
        },
        "id": "t9P_-Uv0gXjW",
        "outputId": "c94b25dd-92ca-4b9a-f853-64735423054d"
      },
      "execution_count": null,
      "outputs": [
        {
          "output_type": "stream",
          "name": "stdout",
          "text": [
            "에러발생원인: name 'aaa' is not defined\n",
            "=== END ===\n"
          ]
        }
      ]
    },
    {
      "cell_type": "code",
      "source": [
        "marks = [20, 30, 40, 50, 60]\n",
        "marks[0]"
      ],
      "metadata": {
        "colab": {
          "base_uri": "https://localhost:8080/"
        },
        "id": "1aqtgrt4hN8U",
        "outputId": "6bfb58f4-328a-46ee-ecb1-b4d2fa9b0943"
      },
      "execution_count": null,
      "outputs": [
        {
          "output_type": "execute_result",
          "data": {
            "text/plain": [
              "20"
            ]
          },
          "metadata": {},
          "execution_count": 62
        }
      ]
    },
    {
      "cell_type": "markdown",
      "source": [
        "### random 모듈\n",
        "- 파이썬에서 난수를 발생시키는 기본 모듈\n",
        "- 참조: https://docs.python.org/ko/3/library/random.html\n",
        "- random 함수\n",
        " * random(): 0 ~ 1 사이의 숫자를 임의로 출력\n",
        " * randrange(시작, 종료): 시작부터 종료값 사이의 숫자를 임의로 발생\n",
        " * randint(a, b): a와 b사이의 정수형 숫자 발생 \n",
        " * shuffle(): 스퀀스 데이터의 순서를 임의로 변경해서 출력\n",
        " * choice(): 스퀀스 데이터들 중 하나를 뽑아 출력\n",
        "\n",
        "\n",
        "\n"
      ],
      "metadata": {
        "id": "kthqKbX1kvnC"
      }
    },
    {
      "cell_type": "code",
      "source": [
        "import random \n",
        "\n",
        "random.random() # 0~1 사이의 임의의 숫자 출력 (float)"
      ],
      "metadata": {
        "colab": {
          "base_uri": "https://localhost:8080/"
        },
        "id": "yefUMV_nipG3",
        "outputId": "9b381e92-193b-4980-81ce-ecb8207f3060"
      },
      "execution_count": null,
      "outputs": [
        {
          "output_type": "execute_result",
          "data": {
            "text/plain": [
              "0.9883551268620724"
            ]
          },
          "metadata": {},
          "execution_count": 64
        }
      ]
    },
    {
      "cell_type": "code",
      "source": [
        "# 설정한 범위(a, b) 사이의 임의의 숫자 출력(int)\n",
        "print(random.randint(1,101))      # step값 지정 불가능 \n",
        "\n",
        "print(random.randrange(1, 46))    # step값 지정 가능 \n",
        "print(random.randrange(1,101, 2)) # 2씩 늘린 값"
      ],
      "metadata": {
        "colab": {
          "base_uri": "https://localhost:8080/"
        },
        "id": "T0w-5XRnlnkZ",
        "outputId": "f8be544b-112e-43c3-9a36-d78f0b3e87c7"
      },
      "execution_count": null,
      "outputs": [
        {
          "output_type": "stream",
          "name": "stdout",
          "text": [
            "58\n",
            "13\n",
            "47\n"
          ]
        }
      ]
    },
    {
      "cell_type": "code",
      "source": [
        "## 스퉌스 데이터 처리\n",
        "tmp=[\"a\", \"b\", \"c\", \"d\", \"e\"]\n",
        "\n",
        "random.shuffle(tmp) # 순서 변경하여 리스트로 나열\n",
        "print(tmp)\n",
        "\n",
        "print(random.choice(tmp)) # tmp 리스트의 임의의 값 하나 추출 "
      ],
      "metadata": {
        "colab": {
          "base_uri": "https://localhost:8080/"
        },
        "id": "Lz1sNZH1mGYD",
        "outputId": "1fb5eb64-8685-4409-a32d-80388e595aa3"
      },
      "execution_count": null,
      "outputs": [
        {
          "output_type": "stream",
          "name": "stdout",
          "text": [
            "['e', 'c', 'd', 'b', 'a']\n",
            "a\n"
          ]
        }
      ]
    },
    {
      "cell_type": "code",
      "source": [
        "메뉴 = [\"라면\", \"김밥\", \"자장면\", \"짬뽕\"]\n",
        "\n",
        "print(random.choice(메뉴))"
      ],
      "metadata": {
        "colab": {
          "base_uri": "https://localhost:8080/"
        },
        "id": "B-pInylXnM2y",
        "outputId": "f895cb76-859d-462e-ea92-a42bcada792a"
      },
      "execution_count": null,
      "outputs": [
        {
          "output_type": "stream",
          "name": "stdout",
          "text": [
            "김밥\n"
          ]
        }
      ]
    },
    {
      "cell_type": "code",
      "source": [
        "num = list(range(1, 46))\n",
        "print(num)\n",
        "print(\"-\"*30)\n",
        "random.sample(num, k=5) # num 리스트 중 5개 랜덤 뽑기"
      ],
      "metadata": {
        "colab": {
          "base_uri": "https://localhost:8080/"
        },
        "id": "9GL1ElA7nxZi",
        "outputId": "8e329bf5-69f8-442d-f0a8-7a8f77b226c1"
      },
      "execution_count": null,
      "outputs": [
        {
          "output_type": "stream",
          "name": "stdout",
          "text": [
            "[1, 2, 3, 4, 5, 6, 7, 8, 9, 10, 11, 12, 13, 14, 15, 16, 17, 18, 19, 20, 21, 22, 23, 24, 25, 26, 27, 28, 29, 30, 31, 32, 33, 34, 35, 36, 37, 38, 39, 40, 41, 42, 43, 44, 45]\n",
            "------------------------------\n"
          ]
        },
        {
          "output_type": "execute_result",
          "data": {
            "text/plain": [
              "[24, 3, 17, 12, 37]"
            ]
          },
          "metadata": {},
          "execution_count": 86
        }
      ]
    },
    {
      "cell_type": "markdown",
      "source": [
        "### 미션 [숫자 맞추기]\n",
        "- 1~100 사이의 임의의 값 생성 후 tmp에 저장\n",
        "- 사용자로부터 1~100 사이값을 입력 받기\n",
        "- 최초 생성된 숫자와 일치할 떄 까지 입력 (while/for)\n",
        "  - 입력값 > tmp : \"다운\" 출력\n",
        "  - 입력값 < tmp : \"업\" 출력\n",
        "  - 입력값 = tmp : \"축하합니다. 00회만에 맞췄습니다.\" 출력\n",
        "  - 정답 맞춘 횟수 계산하여 (00회)안에 넣기\n",
        "  - 만약 문자를 입력하여 오류 발생시 오류 메세지 출력후 다시 입력하도록 하기\n",
        "  -\"에러발생: 숫자 데이터만 입력하세요.\""
      ],
      "metadata": {
        "id": "ndNxMYNcponu"
      }
    },
    {
      "cell_type": "code",
      "source": [
        "### 미션 [숫자 맞추기]\n",
        "\n",
        "# 1~100 사이의 임의의 값 생성 후 tmp에 저장 \n",
        "num = list(range(1, 101))\n",
        "tmp=[]\n",
        "# 사용자로부터 1~100 사이값을 입력 받기\n",
        "for i in num:\n",
        "  print( input(\"숫자를 입력해 주세요:\"))\n",
        "  if i > tmp:\n",
        "    print(\"다운\")\n",
        "  elif i < tmp:\n",
        "    print(\"업\")\n",
        "  else:\n",
        "    print(f\"축하합니다. {n}만에 맞췄습니다.\")\n",
        "\n"
      ],
      "metadata": {
        "colab": {
          "base_uri": "https://localhost:8080/",
          "height": 277
        },
        "id": "goqyPL_Pokak",
        "outputId": "3e003264-8d30-4d9a-a89c-026577b46f43"
      },
      "execution_count": null,
      "outputs": [
        {
          "output_type": "stream",
          "name": "stdout",
          "text": [
            "숫자를 입력해 주세요:2\n",
            "2\n"
          ]
        },
        {
          "output_type": "error",
          "ename": "TypeError",
          "evalue": "ignored",
          "traceback": [
            "\u001b[0;31m---------------------------------------------------------------------------\u001b[0m",
            "\u001b[0;31mTypeError\u001b[0m                                 Traceback (most recent call last)",
            "\u001b[0;32m<ipython-input-104-297435e8c848>\u001b[0m in \u001b[0;36m<module>\u001b[0;34m()\u001b[0m\n\u001b[1;32m      8\u001b[0m   \u001b[0mprint\u001b[0m\u001b[0;34m(\u001b[0m \u001b[0minput\u001b[0m\u001b[0;34m(\u001b[0m\u001b[0;34m\"숫자를 입력해 주세요:\"\u001b[0m\u001b[0;34m)\u001b[0m\u001b[0;34m)\u001b[0m\u001b[0;34m\u001b[0m\u001b[0;34m\u001b[0m\u001b[0m\n\u001b[1;32m      9\u001b[0m \u001b[0;34m\u001b[0m\u001b[0m\n\u001b[0;32m---> 10\u001b[0;31m   \u001b[0;32mif\u001b[0m \u001b[0mi\u001b[0m \u001b[0;34m>\u001b[0m \u001b[0mtmp\u001b[0m\u001b[0;34m:\u001b[0m\u001b[0;34m\u001b[0m\u001b[0;34m\u001b[0m\u001b[0m\n\u001b[0m\u001b[1;32m     11\u001b[0m     \u001b[0mprint\u001b[0m\u001b[0;34m(\u001b[0m\u001b[0;34m\"다운\"\u001b[0m\u001b[0;34m)\u001b[0m\u001b[0;34m\u001b[0m\u001b[0;34m\u001b[0m\u001b[0m\n\u001b[1;32m     12\u001b[0m   \u001b[0;32melif\u001b[0m \u001b[0mi\u001b[0m \u001b[0;34m<\u001b[0m \u001b[0mtmp\u001b[0m\u001b[0;34m:\u001b[0m\u001b[0;34m\u001b[0m\u001b[0;34m\u001b[0m\u001b[0m\n",
            "\u001b[0;31mTypeError\u001b[0m: '>' not supported between instances of 'int' and 'list'"
          ]
        }
      ]
    },
    {
      "cell_type": "code",
      "source": [
        "## 반복문(while)/break\n",
        "# 방법 1\n",
        "import random\n",
        "number = random.randint(1, 100)\n",
        "#print(number)\n",
        "game_count = 1\n",
        "\n",
        "while True:\n",
        "    try:\n",
        "        my_number = int(input(\"1~100 사이의 숫자를 입력하세요:\"))\n",
        "        \n",
        "        if my_number > number:\n",
        "            print(\"다운\")\n",
        "        elif my_number < number:\n",
        "            print(\"업\")\n",
        "        elif my_number == number:\n",
        "            print(f\"축하합니다.{game_count}회 만에 맞췄습니다\")\n",
        "            break\n",
        "        \n",
        "        game_count = game_count + 1\n",
        "    except:\n",
        "        print(\"에러가 발생하였습니다. 숫자를 입력하세요\")\n"
      ],
      "metadata": {
        "colab": {
          "base_uri": "https://localhost:8080/"
        },
        "id": "l_B9Hhukqkwg",
        "outputId": "c396f732-8fdf-4436-8a87-33f704f05aae"
      },
      "execution_count": null,
      "outputs": [
        {
          "output_type": "stream",
          "name": "stdout",
          "text": [
            "1~100 사이의 숫자를 입력하세요:50\n",
            "업\n",
            "1~100 사이의 숫자를 입력하세요:60\n",
            "업\n",
            "1~100 사이의 숫자를 입력하세요:70\n",
            "다운\n",
            "1~100 사이의 숫자를 입력하세요:65\n",
            "축하합니다.4회 만에 맞췄습니다\n"
          ]
        }
      ]
    },
    {
      "cell_type": "code",
      "source": [
        "aa=int(input(\"숫자입력:\"))"
      ],
      "metadata": {
        "colab": {
          "base_uri": "https://localhost:8080/"
        },
        "id": "9GrbX_w3tbcH",
        "outputId": "9cf90c44-4ede-4eb3-9bac-38406ade51d6"
      },
      "execution_count": null,
      "outputs": [
        {
          "name": "stdout",
          "output_type": "stream",
          "text": [
            "숫자입력:1\n"
          ]
        }
      ]
    },
    {
      "cell_type": "code",
      "source": [
        "## 반복문(while)/break/continue\n",
        "# 방법 2\n",
        "import random\n",
        "number = random.randint(1, 100)\n",
        "\n",
        "game_count = 1\n",
        "\n",
        "while True:\n",
        "    try:\n",
        "        my_number = int(input(\"1~100 사이의 숫자를 입력하세요:\"))    \n",
        "    except:\n",
        "        print(\"에러가 발생하였습니다. 숫자를 입력하세요\")\n",
        "        continue   # 반복문의 시작위치로 돌아간다.\n",
        "\n",
        "    if my_number > number:\n",
        "        print(\"다운\")\n",
        "    elif my_number < number:\n",
        "        print(\"업\")\n",
        "    elif my_number == number:\n",
        "        print(f\"축하합니다.{game_count}회 만에 맞췄습니다\")\n",
        "        break  # 반복문을 종료한다.\n",
        "    \n",
        "    game_count = game_count + 1"
      ],
      "metadata": {
        "id": "al9-cOfCth1B"
      },
      "execution_count": null,
      "outputs": []
    }
  ]
}
