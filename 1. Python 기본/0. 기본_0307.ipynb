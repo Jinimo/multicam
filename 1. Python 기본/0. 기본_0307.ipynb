{
  "nbformat": 4,
  "nbformat_minor": 0,
  "metadata": {
    "colab": {
      "name": "0_python기본_-0307.ipynb",
      "provenance": [],
      "collapsed_sections": [],
      "mount_file_id": "1l1WMf6Ha2ptVQzMvnoUpihmCczA-iMuX",
      "authorship_tag": "ABX9TyO4R6aIIePqrM0g6jb+gau0",
      "include_colab_link": true
    },
    "kernelspec": {
      "name": "python3",
      "display_name": "Python 3"
    },
    "language_info": {
      "name": "python"
    }
  },
  "cells": [
    {
      "cell_type": "markdown",
      "metadata": {
        "id": "view-in-github",
        "colab_type": "text"
      },
      "source": [
        "<a href=\"https://colab.research.google.com/github/Jinimo/Multi_/blob/main/0_python%EA%B8%B0%EB%B3%B8__0307.ipynb\" target=\"_parent\"><img src=\"https://colab.research.google.com/assets/colab-badge.svg\" alt=\"Open In Colab\"/></a>"
      ]
    },
    {
      "cell_type": "code",
      "source": [
        "# 구글 드라이브 연결\n",
        "from google.colab import drive\n",
        "drive.mount('/content/drive')"
      ],
      "metadata": {
        "colab": {
          "base_uri": "https://localhost:8080/"
        },
        "id": "gcjYIwG89k_2",
        "outputId": "46e4f4c4-88d5-4ee5-a9ca-13f28e2bc00a"
      },
      "execution_count": null,
      "outputs": [
        {
          "output_type": "stream",
          "name": "stdout",
          "text": [
            "Drive already mounted at /content/drive; to attempt to forcibly remount, call drive.mount(\"/content/drive\", force_remount=True).\n"
          ]
        }
      ]
    },
    {
      "cell_type": "code",
      "execution_count": null,
      "metadata": {
        "colab": {
          "base_uri": "https://localhost:8080/"
        },
        "id": "n4oXUbxZ9hZe",
        "outputId": "413b5198-221d-4951-ef5b-6e415b8c687c"
      },
      "outputs": [
        {
          "output_type": "stream",
          "name": "stdout",
          "text": [
            "/content/drive/MyDrive/multi\n"
          ]
        }
      ],
      "source": [
        "# 작업 폴더로 이동\n",
        "%cd/content/drive/MyDrive/multi "
      ]
    },
    {
      "cell_type": "code",
      "source": [
        "# -> 주석문  : 프로그램에 대한 설명 붙이는 문장.  코드 실행에 영향 X\n",
        "1+2 # 1+2"
      ],
      "metadata": {
        "colab": {
          "base_uri": "https://localhost:8080/"
        },
        "id": "ptDw4fL__znk",
        "outputId": "afd627fd-52b6-43df-edf2-4bc41c4ed37e"
      },
      "execution_count": null,
      "outputs": [
        {
          "output_type": "execute_result",
          "data": {
            "text/plain": [
              "3"
            ]
          },
          "metadata": {},
          "execution_count": 8
        }
      ]
    },
    {
      "cell_type": "code",
      "source": [
        "# print() : 사용자에게 메세지를 전달할 때 사용하는 함수\n",
        "a=2\n",
        "b=3\n",
        "print(\"a=\", a, \"b=\", b)"
      ],
      "metadata": {
        "colab": {
          "base_uri": "https://localhost:8080/"
        },
        "id": "jq1q6fuGAVQU",
        "outputId": "a158c957-6d86-4301-e622-69139abb3b99"
      },
      "execution_count": null,
      "outputs": [
        {
          "output_type": "stream",
          "name": "stdout",
          "text": [
            "a= 2 b= 3\n"
          ]
        }
      ]
    },
    {
      "cell_type": "markdown",
      "source": [
        "### ###-> 설명문 #의 개수에 따라 글자크기 달라짐\n",
        "## ##설명문\n",
        "# #설명문\n",
        "- - 들여쓰기로 코드의 실행 범위 설정\n",
        "\n"
      ],
      "metadata": {
        "id": "RESfix8qC7PP"
      }
    },
    {
      "cell_type": "code",
      "source": [
        "a=3\n",
        "b=2\n",
        "print(a+b)"
      ],
      "metadata": {
        "colab": {
          "base_uri": "https://localhost:8080/"
        },
        "id": "4H0XKBFXAn2O",
        "outputId": "9fde0926-1b45-41a0-8f73-8ccece63e5bf"
      },
      "execution_count": null,
      "outputs": [
        {
          "output_type": "stream",
          "name": "stdout",
          "text": [
            "5\n"
          ]
        }
      ]
    },
    {
      "cell_type": "code",
      "source": [
        "for i in range(10):\n",
        "  print(i)"
      ],
      "metadata": {
        "colab": {
          "base_uri": "https://localhost:8080/"
        },
        "id": "XCCi1LBuBNgQ",
        "outputId": "872ef12e-bf40-468a-e56a-c08930772d99"
      },
      "execution_count": null,
      "outputs": [
        {
          "output_type": "stream",
          "name": "stdout",
          "text": [
            "0\n",
            "1\n",
            "2\n",
            "3\n",
            "4\n",
            "5\n",
            "6\n",
            "7\n",
            "8\n",
            "9\n"
          ]
        }
      ]
    }
  ]
}
