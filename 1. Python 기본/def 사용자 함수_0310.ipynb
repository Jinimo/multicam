{
  "nbformat": 4,
  "nbformat_minor": 0,
  "metadata": {
    "colab": {
      "name": "4_사용자_함수.ipynb",
      "provenance": [],
      "collapsed_sections": [],
      "authorship_tag": "ABX9TyO/vJB8NUz9sPmXUGlZ4IKh",
      "include_colab_link": true
    },
    "kernelspec": {
      "name": "python3",
      "display_name": "Python 3"
    },
    "language_info": {
      "name": "python"
    }
  },
  "cells": [
    {
      "cell_type": "markdown",
      "metadata": {
        "id": "view-in-github",
        "colab_type": "text"
      },
      "source": [
        "<a href=\"https://colab.research.google.com/github/Jinimo/Multi_/blob/main/2022.03/python_%EC%82%AC%EC%9A%A9%EC%9E%90_%ED%95%A8%EC%88%98_def_0310.ipynb\" target=\"_parent\"><img src=\"https://colab.research.google.com/assets/colab-badge.svg\" alt=\"Open In Colab\"/></a>"
      ]
    },
    {
      "cell_type": "markdown",
      "source": [
        "### 사용자 함수\n",
        "- 프로그래밍에서 반복적으로 사용하는 코드를 함수로 정의\n",
        "- 파이썬 함수 구조\n",
        "- https://wikidocs.net/24\n",
        "- 반복적인 내용 함수로 넣어 필요할 때 마다 원하는 결과물로 만들어 줌!"
      ],
      "metadata": {
        "id": "wUDdxSvetDEh"
      }
    },
    {
      "cell_type": "markdown",
      "source": [
        "1. 실행문만 있는 함수"
      ],
      "metadata": {
        "id": "lOHGpld4tSwX"
      }
    },
    {
      "cell_type": "code",
      "source": [
        "## 실행문만 있는 함수\n",
        "\n",
        "# 함수 생성 \n",
        "def prn_hello(name): \n",
        "  print(f\"{name}님 반갑습니다.\")\n",
        "\n",
        "# 함수 호출\n",
        "prn_hello(\"파이썬\") # name 변수에 대입되는 값 / \"파이썬\" -> name\n",
        "\n",
        "print(\"-\"*30)\n",
        "\n",
        "## 인수가 2개인 경우\n",
        "def prn_hello(name, age): \n",
        "  print(f\"{name}님의 나이는 {age}입니다.\")\n",
        "\n",
        "prn_hello(\"파이썬\", 35) # \"파이썬\" -> name / \"35\" -> age"
      ],
      "metadata": {
        "colab": {
          "base_uri": "https://localhost:8080/"
        },
        "id": "SglwYlDatDmP",
        "outputId": "400a102a-e6c8-4188-d294-c279860a766d"
      },
      "execution_count": null,
      "outputs": [
        {
          "output_type": "stream",
          "name": "stdout",
          "text": [
            "파이썬님 반갑습니다.\n",
            "------------------------------\n",
            "파이썬님의 나이는 35입니다.\n"
          ]
        }
      ]
    },
    {
      "cell_type": "markdown",
      "source": [
        "2. 두 수를 입력받아 처리하는 함수\n",
        "\n",
        "- return 결과값 -> 받아주는 대상 꼭 필요! "
      ],
      "metadata": {
        "id": "GmthZ6bGtbpA"
      }
    },
    {
      "cell_type": "code",
      "source": [
        "## 두 수를 입력받아 더하기를 실행하고 결과를 돌려주는 \n",
        "\n",
        "def add(a,b):\n",
        "  tot = a + b\n",
        "  return tot\n",
        "# drf 함수 영역 안에 변수 a, b 존재\n",
        "# 변수 a, b => 지역변수 (함수 내에서만 사용 가능한 변수)\n",
        "\n",
        "\n",
        "## 함수 호출\n",
        "# tot=0 -> 함수안 변수 a,b를 사용하기 위해서 사용해야함\n",
        "add(10,20) \n",
        "# 실제로 넘어온 데이터는 아님\n",
        "\n",
        "ptot = add(10,20)\n",
        "print(ptot) \n",
        "print(f\"함수호출결과: {ptot}\")\n",
        "# print(f\"함수 a: {a} , 함수 b: {b}\") 에러 발생\n",
        "# 여기서 tot출력 X \n",
        "\n",
        "### 함수에서 여러개의 결과값 전달  ###\n",
        "def add1(a,b):\n",
        "  tot = a + b\n",
        "  return a, b, tot\n",
        "pa, pb, ptot = add1(10, 20)\n",
        "print(f\"함수호출결과: {ptot}\")\n",
        "print(f\"함수 a: {pa} , 함수 b: {pb}\")\n",
        "# 필요에 따라 원하는 결과값 여러개 불러 올 수 있다! "
      ],
      "metadata": {
        "colab": {
          "base_uri": "https://localhost:8080/"
        },
        "id": "dw57chwuta4t",
        "outputId": "043b0aa4-79d3-47fa-9e46-6104ba14a7df"
      },
      "execution_count": null,
      "outputs": [
        {
          "output_type": "stream",
          "name": "stdout",
          "text": [
            "30\n",
            "함수호출결과: 30\n",
            "함수호출결과: 30\n",
            "함수 a: 10 , 함수 b: 20\n"
          ]
        }
      ]
    }
  ]
}
