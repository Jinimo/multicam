{
  "nbformat": 4,
  "nbformat_minor": 0,
  "metadata": {
    "colab": {
      "name": "1_python_자료형_0307.ipynb",
      "provenance": [],
      "collapsed_sections": [],
      "history_visible": true,
      "authorship_tag": "ABX9TyN7MEm8kh7HrYW9bEK9taYW",
      "include_colab_link": true
    },
    "kernelspec": {
      "name": "python3",
      "display_name": "Python 3"
    },
    "language_info": {
      "name": "python"
    }
  },
  "cells": [
    {
      "cell_type": "markdown",
      "metadata": {
        "id": "view-in-github",
        "colab_type": "text"
      },
      "source": [
        "<a href=\"https://colab.research.google.com/github/Jinimo/Multi_/blob/main/1_python_%EC%9E%90%EB%A3%8C%ED%98%95_0307.ipynb\" target=\"_parent\"><img src=\"https://colab.research.google.com/assets/colab-badge.svg\" alt=\"Open In Colab\"/></a>"
      ]
    },
    {
      "cell_type": "code",
      "source": [
        "# 구글 드라이브 마운트(드라이브 연결)\n",
        "from google.colab import drive\n",
        "drive.mount('/content/drive')"
      ],
      "metadata": {
        "colab": {
          "base_uri": "https://localhost:8080/"
        },
        "id": "caGxyGUMID0i",
        "outputId": "a89e9ae5-46ea-421e-9687-e764c2120088"
      },
      "execution_count": null,
      "outputs": [
        {
          "output_type": "stream",
          "name": "stdout",
          "text": [
            "Drive already mounted at /content/drive; to attempt to forcibly remount, call drive.mount(\"/content/drive\", force_remount=True).\n"
          ]
        }
      ]
    },
    {
      "cell_type": "code",
      "execution_count": null,
      "metadata": {
        "id": "hWc3FabMG5-t",
        "colab": {
          "base_uri": "https://localhost:8080/"
        },
        "outputId": "7f351b45-4d24-4d42-99b6-a4be8e1df5d2"
      },
      "outputs": [
        {
          "output_type": "stream",
          "name": "stdout",
          "text": [
            "/content/drive/MyDrive/multi\n"
          ]
        }
      ],
      "source": [
        "%cd/content/drive/MyDrive/multi"
      ]
    },
    {
      "cell_type": "code",
      "source": [
        "# 현재 작업중인 디렉토리 위치 확인\n",
        "!pwd"
      ],
      "metadata": {
        "colab": {
          "base_uri": "https://localhost:8080/"
        },
        "id": "4RSITL1gHgyd",
        "outputId": "df3f02b4-808e-4e9e-aee2-897bf73161c7"
      },
      "execution_count": null,
      "outputs": [
        {
          "output_type": "stream",
          "name": "stdout",
          "text": [
            "/content/drive/MyDrive/multi\n"
          ]
        }
      ]
    },
    {
      "cell_type": "markdown",
      "source": [
        "### 변수\n",
        "- 프로그램 내에서 계산시 사용되는 숫자 등을 임시로 메모리 저장하는 공간\n",
        "- 변수의 형식을 정의하지 않고 사용 (python) \n",
        "- 문자(대,소문 구분)\n",
        "- 파이썬 키워드로 변수 X\n",
        "- 데이터 타입 별도 지정 X -> 데이터 들어가면서 바뀜!"
      ],
      "metadata": {
        "id": "MVU6QuAWKRXt"
      }
    },
    {
      "cell_type": "markdown",
      "source": [
        "### 파이썬 데이터 자료형\n",
        "- 숫자형/문자형/리스트형/럭셔리너형  (주로 실무에서 쓰는 내용\n",
        ")\n",
        "\n"
      ],
      "metadata": {
        "id": "CVgU8qBlIqz7"
      }
    },
    {
      "cell_type": "markdown",
      "source": [
        "### 숫자형\n",
        "- 숫자형: 정수/실수/8진수/16진수 (주로 정수int/실수float 형 많이 쓰임)"
      ],
      "metadata": {
        "id": "joVB4_SVJnUI"
      }
    },
    {
      "cell_type": "code",
      "source": [
        "int1 = 123\n",
        "int2 = 12.3\n",
        "float1=12.\n",
        "\n",
        "# type() : 데이터 자료형을 출력\n",
        "print(type(int1)) \n",
        "print(type(int2)) \n",
        "print(type(int1+float1)) \n",
        "# int: 정수형 / float : 실수형\n",
        "# 정수 + 실수 => 실수형"
      ],
      "metadata": {
        "colab": {
          "base_uri": "https://localhost:8080/"
        },
        "id": "zPN7XnsuJ2mh",
        "outputId": "8b8bb686-f6d7-4aad-d359-b3d4efb89f22"
      },
      "execution_count": null,
      "outputs": [
        {
          "output_type": "stream",
          "name": "stdout",
          "text": [
            "<class 'int'>\n",
            "<class 'float'>\n",
            "<class 'float'>\n"
          ]
        }
      ]
    },
    {
      "cell_type": "markdown",
      "source": [
        "### 문자형\n",
        "- \" \" / ' ' 로 묶여 있는 자료\n",
        "- 스퀀시: 데이터들이 일정하게 나열되어 있는 것\n",
        "- 인덱싱 : 문자열의 각 위치를 의미 (번호 부여) -> 왼쪽 시작(0부터 인덱싱) / 오른쪽 시작 (-1부터 인덱싱)\n",
        "- 슬라이싱 : 문자열을 기반으로 , 인덱싱값 가져옴 -> 문자열에서 특정한 문자/단어/문장을 잘라오는 것 (EX: a[0:6])\n",
        "- 문자->숫자: int() / 숫자->문자  flort()\n",
        "\n",
        "\n"
      ],
      "metadata": {
        "id": "qD4l07U_P4yd"
      }
    },
    {
      "cell_type": "code",
      "source": [
        "str1=\"123\"\n",
        "str2='파이썬 데이터 분석'\n",
        "\n",
        "print(type(str1), \"\\n\", type(str2))\n",
        "print(str2+str1) # 문자형 + 기호 : 문자열 연결 연산"
      ],
      "metadata": {
        "colab": {
          "base_uri": "https://localhost:8080/"
        },
        "id": "qyI5Iv7bMx3b",
        "outputId": "47583447-4032-419f-c768-8acd0a828735"
      },
      "execution_count": null,
      "outputs": [
        {
          "output_type": "stream",
          "name": "stdout",
          "text": [
            "<class 'str'> \n",
            " <class 'str'>\n",
            "파이썬 데이터 분석123\n"
          ]
        }
      ]
    },
    {
      "cell_type": "code",
      "source": [
        "# 숫자형 + 문자형 계산 -> 기본적으론 계산 불가능!\n",
        "# print(int1 + str1) \n",
        "\n",
        "# str(value) : 입력된 값을 문자형으로 변경\n",
        "print(str(int1) + str1) \n",
        "\n",
        " # int(value) : 입력된 숫자값을 문자형 값으로 완전한 숫자형(정수)으로 변경\n",
        " # float() : 실수형 숫자 자료로 변경 \n",
        "print(int1 + int(str1)) "
      ],
      "metadata": {
        "colab": {
          "base_uri": "https://localhost:8080/"
        },
        "id": "AaMny63LOKu2",
        "outputId": "4511d3f6-6991-472a-ddf8-cd76ebf5547a"
      },
      "execution_count": null,
      "outputs": [
        {
          "output_type": "stream",
          "name": "stdout",
          "text": [
            "123123\n",
            "246\n"
          ]
        }
      ]
    },
    {
      "cell_type": "markdown",
      "source": [
        "### 인덱싱 / 슬라이싱"
      ],
      "metadata": {
        "id": "MOikmWB0QopO"
      }
    },
    {
      "cell_type": "code",
      "source": [
        "print(str2)\n",
        "print(str2[0]) # 문자 출력시 [] -> 위치의 index(번호) 입력\n",
        "print(str2[4])\n",
        "print(str2[-1]) # = print(str2[9])\n",
        "\n",
        "# 슬라이싱\n",
        "# 여러 문자열 출력: 변수 [시작위치 : 종료위치]\n",
        "print(str2[0:2]) #  \n",
        "print(str2[0:3])\n",
        "print(str2[:3])\n",
        "print(str2[-2:])"
      ],
      "metadata": {
        "colab": {
          "base_uri": "https://localhost:8080/"
        },
        "id": "phkEg_QtQlYb",
        "outputId": "33b58055-3469-46df-d4f5-d0a37920a788"
      },
      "execution_count": null,
      "outputs": [
        {
          "output_type": "stream",
          "name": "stdout",
          "text": [
            "파이썬 데이터 분석\n",
            "파\n",
            "데\n",
            "석\n",
            "파이\n",
            "파이썬\n",
            "파이썬\n",
            "분석\n"
          ]
        }
      ]
    },
    {
      "cell_type": "markdown",
      "source": [
        "### 문자열 관련 함수\n",
        "\n",
        "[이스케이프 코드]\n",
        "\\n 줄 바꾸기\n",
        "\\t"
      ],
      "metadata": {
        "id": "Xw_Abc7tkdlE"
      }
    },
    {
      "cell_type": "code",
      "source": [
        "str1=\"문자 숫자 리스트 문자열 텍스트 정수형\"\n",
        "# str1.count('단어') : 문자열에서 단가가 몇개 있는지 확인 \n",
        "str1.count(\"문자\") # 결과값=2 -> str1에서 \"문자\"포함 단어 2개\n",
        "\n",
        "# find(\"문자\") : 문자열에서 찾는 문자의 위치 출력\n",
        "str1.find(\"문자\") # 결과값=0 -> 0번째에 \"문자\"가 위치함 의미\n",
        "str1.find(\"숫자\") # 결과값=3 -> 3번째에 \"숫자\"가 위치함 의미\n",
        "str1.find(\"문자\", 3)  # 결과값=10 -> 3번째 위치 이후에서 \"문자\" 값 찾아 위치 표시\n",
        "\n",
        "# 마지막 함수의 결과값 출력 => 계산 메모리에서는 마지막 계산 함수 출력. 계산은 단순한 계산! 계산기랑 비슷해\n",
        "# 앞의 함수의 결과값을 출력하기 -> print() 명령 실행 해줘야함 \n",
        "print(str1.find(\"문자\"))\n",
        "print(str1.find(\"문자\", 3)\n",
        ")"
      ],
      "metadata": {
        "colab": {
          "base_uri": "https://localhost:8080/"
        },
        "id": "2NTe70O6ljG0",
        "outputId": "1edcb54a-7ba7-4c32-a956-3ef0624f2ee0"
      },
      "execution_count": null,
      "outputs": [
        {
          "output_type": "stream",
          "name": "stdout",
          "text": [
            "0\n",
            "10\n"
          ]
        }
      ]
    },
    {
      "cell_type": "markdown",
      "source": [
        "### 문자열 (***** 중요해)\n",
        "- .split() -> 특정한 영역 단위로 쪼개야한다 \n",
        "- .join() ->\n",
        "- len() : 데이터의 길이/ 리스트 안 인수 개수 \n",
        "- .replace(\"대상문자\",\"변경문자\") : 데이터 문자열 바꾸기"
      ],
      "metadata": {
        "id": "yml5x--oqBqn"
      }
    },
    {
      "cell_type": "code",
      "source": [
        "# split() : 문자열 나누기\n",
        "str1.split(\" \") # 스페이스바로 나누기\n",
        "# -> 결과값 : ['문자', '숫자', '리스트', '문자열', '텍스트', '정수형'] 띄어쓰기로 나누어짐\n",
        "# 결과값은 화면에 출력하고 끝 -> 저장하기 위해서는 변수 지정 후 출력\n",
        "spstr1=str1.split(\" \") # -> spstr1: 내가 지정한 변수명 \n",
        "print(spstr1) # 리스트화\n",
        "\n",
        "# join() : 문자 사이에 특정 기호 등을 삽입할 경우 사용, 문자열 삽입\n",
        "str2=\"12345\"\n",
        "print(\"-\". join(spstr1)) # \n",
        "print(\"-\". join(str2))\n",
        "\n",
        "# len() : 데이터(문자, 등등) 길이 \n",
        "len(str1) # 결과값: 21\n",
        "\n",
        "# replace(\"대상값\", \"변경값\") : 문자열 바꾸기, 바꿀 대상 문자 -> 바꾸고자 하는 문자로 치환\n",
        "str1.replace(\"문자\", \"숫자\") # -> 결과값: 숫자 숫자 리스트 숫자열 텍스트 정수형\n",
        "# 치환해도 원본은 변경X -> CPU에서 변경됨 \n",
        "# 원본 데이터 바꾸려면 str1에 따로 저장 해줘야함!  "
      ],
      "metadata": {
        "colab": {
          "base_uri": "https://localhost:8080/"
        },
        "id": "1GZi0Kv3oDbA",
        "outputId": "75932ac4-dc97-4fe6-9c15-9d1846d0aaa9"
      },
      "execution_count": null,
      "outputs": [
        {
          "output_type": "stream",
          "name": "stdout",
          "text": [
            "['문자', '숫자', '리스트', '문자열', '텍스트', '정수형']\n",
            "문자-숫자-리스트-문자열-텍스트-정수형\n",
            "1-2-3-4-5\n"
          ]
        },
        {
          "output_type": "execute_result",
          "data": {
            "text/plain": [
              "21"
            ]
          },
          "metadata": {},
          "execution_count": 73
        }
      ]
    },
    {
      "cell_type": "markdown",
      "source": [
        "### 리스트형 (*** 제일 많이 씀) \n",
        "- 복잡형 데이터 구조 , 스퀀시형 (데이터 나열) 구조\n",
        "- 입력시 대괄호([])로 묶어서 입력\n",
        "- 리스트 변수 = [값1, 값2, 값3,...]\n",
        "-인수(값) -> 문자, 숫자, 리스트 ,튜플 ,딕셔너리 등 다양 데이터 형식 가질 수 있음\n",
        "--(리스트-튜플 , 리스트-딕셔너리 형식이 많아!)\n",
        "- 인덱싱 / 슬라이싱\n",
        "\n",
        "=> 파이썬이 사용할 수 있는 모든 데이터를 넣을 수 O\n",
        "- 배열구조 : 하나의 이름안에 여러 데이터 배열\n",
        "- 인수들을 쉽표(,) 단위로 인덱싱 잘라줌\n",
        "- ------\n",
        "- .sort() -> 데이터의 형식이 같아야함!!\n",
        "- .insert() -> 일치하는것이 있으면 뒤에 추가\n",
        "- del 리스트[n] -> 리스트 안 변수의 ~번째인수 삭제 "
      ],
      "metadata": {
        "id": "b5mOy_53Q91r"
      }
    },
    {
      "cell_type": "code",
      "source": [
        "lst1 = [1,2,3,4,5]\n",
        "lst2 = [10,20,\"멀티캠퍼스\", \"파이썬\", [100,200,300]]\n",
        "lst3 = ['김보연', '민창기', '서장동', '이순신','홍길동']\n",
        "\n",
        "print(type(lst1)) # -> 결과값: <class 'list'>\n",
        "print(type(lst2)) # -> 결과값: <class 'list'> \n",
        "\n",
        "# 인덱싱/슬라이싱\n",
        "print(lst2[2]) # -> 결과값: 멀티캠퍼스\n",
        "print(lst2[0:2]) # = print(lst2[:2]) -> 2 전까지의 값 추출\n",
        "print(lst2[-1]) # -> 결과값: [100, 200, 300] 리스트가 하나의 인수이기 때문에 -1번쨰 자리로 추출됨.\n",
        "# 2차원 구조의 데이터 출력\n",
        "print(lst2[-1][1]) # -> 결과값: 200 -1번째 인수([100,200,300]) 리스트 안의 1번째 값\n",
        "\n",
        "# 리스트형 데이터 수정\n",
        "lst2[3] = \"python\" \n",
        "print(lst2) # -> 결과값: [10, 20, '멀티캠퍼스', 'python', [100, 200, 300]]\n",
        "# 원본의 값은 수정되어 없어짐\n",
        "# 위의 str1.replace(\"문자\", \"숫자\") -> 기존값 변경 X \n",
        "# 쉽게 생각하면 등호의 유무 차이?\n",
        "\n",
        "# .append() : 리스트의 가장 끝에 값 추가. 강제로 추가시킴. 필요에 따라 정렬 가능.\n",
        "lst2.append(\"김현진\")\n",
        "print(lst2) # -> 결과값:[10, 20, '멀티캠퍼스', 'python', [100, 200, 300], '김현진']\n",
        "# .sort() : 리스트 정렬 -> 같은 형식이여야 함! \n",
        "# lst2.sort() -> str, int 섞여있어서 오류\n",
        "\n",
        "lst1.sort() # 오름차순 정렬\n",
        "print(lst1) # 숫자 데이터로만 이루어진 리스트 -> 정렬 가능 ! \n",
        "\n",
        "lst3.sort()\n",
        "print(lst3) # 문자 데이터로만 이루어진 리스트 \n",
        "\n",
        "# 객체 .insert(위치,값) : 중간 삽입\n",
        "lst1.insert(0,6)\n",
        "print(lst1)\n",
        "\n",
        "# 객체(변수) 삭제 -> 복구 X\n",
        "del lst2\n",
        "del lst3[2]\n",
        "\n",
        "lst3"
      ],
      "metadata": {
        "colab": {
          "base_uri": "https://localhost:8080/"
        },
        "id": "upsMkutkQ03R",
        "outputId": "cd8ef99e-c533-46fb-d6ed-9cb17cac81d5"
      },
      "execution_count": null,
      "outputs": [
        {
          "output_type": "stream",
          "name": "stdout",
          "text": [
            "<class 'list'>\n",
            "<class 'list'>\n",
            "멀티캠퍼스\n",
            "[10, 20]\n",
            "[100, 200, 300]\n",
            "200\n",
            "[10, 20, '멀티캠퍼스', 'python', [100, 200, 300]]\n",
            "[10, 20, '멀티캠퍼스', 'python', [100, 200, 300], '김현진']\n",
            "[1, 2, 3, 4, 5]\n",
            "['김보연', '민창기', '서장동', '이순신', '홍길동']\n",
            "[6, 1, 2, 3, 4, 5]\n"
          ]
        },
        {
          "output_type": "execute_result",
          "data": {
            "text/plain": [
              "['김보연', '민창기', '이순신', '홍길동']"
            ]
          },
          "metadata": {},
          "execution_count": 129
        }
      ]
    },
    {
      "cell_type": "markdown",
      "source": [
        "### -차원 구조 리스트\n",
        "- 1차원 []\n",
        "- 2차원 [[],[],..]\n",
        "- 3차원 [[[],[]..],[[],[],..]]\n",
        "-(=> 머신러닝, 행렬 계산 등에 꼭 필요!)\n"
      ],
      "metadata": {
        "id": "raatXvCV8iZW"
      }
    },
    {
      "cell_type": "code",
      "source": [
        "# 차원 구조 리스트\n",
        "# 1차원 리스트 []\n",
        "# 2차원 리스트 [[]]\n",
        "lst=[ [1, \"홍길동\", \"남\"], [2, \"이순신\", \"남\"], [3, \"심순이\", \"여\"] ]\n",
        "\n",
        "print(lst)\n",
        "print(lst[0])\n",
        "print(lst[0][1])"
      ],
      "metadata": {
        "colab": {
          "base_uri": "https://localhost:8080/"
        },
        "id": "k6B3J4CuxGES",
        "outputId": "b7d45d91-3768-45c9-ed5f-969c10c7dcb5"
      },
      "execution_count": null,
      "outputs": [
        {
          "output_type": "stream",
          "name": "stdout",
          "text": [
            "[[1, '홍길동', '남'], [2, '이순신', '남'], [3, '심순이', '여']]\n",
            "[1, '홍길동', '남']\n",
            "홍길동\n"
          ]
        }
      ]
    },
    {
      "cell_type": "markdown",
      "source": [
        "### 모듈 설치 및 연결\n",
        "- 모듈 연결 : import 모듈명 as 별명\n",
        "- pandas 모듈 : 2차원 구조의 데이터 관리 \n",
        "- import pandas as pd \n"
      ],
      "metadata": {
        "id": "yNAmwSyoyMsz"
      }
    },
    {
      "cell_type": "code",
      "source": [
        "# !pip install pandas : 모듈 미설치시 사용 \n",
        "import pandas as pd # 모듈 = 라이브러리(저장소) \n",
        "\n",
        "df1 = pd.DataFrame(lst) \n",
        "print(df1)\n",
        "\n",
        "df1 = pd.DataFrame(lst,columns=[\"번호\", \"이름\", \"성별\"])  # columns=[]사용하여 열 이름 변경\n",
        "df1"
      ],
      "metadata": {
        "colab": {
          "base_uri": "https://localhost:8080/",
          "height": 215
        },
        "id": "NA4dANHsyLUN",
        "outputId": "775b10f7-c11b-454d-8b08-2c3a357cc60b"
      },
      "execution_count": null,
      "outputs": [
        {
          "output_type": "stream",
          "name": "stdout",
          "text": [
            "   0    1  2\n",
            "0  1  홍길동  남\n",
            "1  2  이순신  남\n",
            "2  3  심순이  여\n"
          ]
        },
        {
          "output_type": "execute_result",
          "data": {
            "text/html": [
              "\n",
              "  <div id=\"df-17fc979b-f5f4-4c6d-90d8-8978fe3b894d\">\n",
              "    <div class=\"colab-df-container\">\n",
              "      <div>\n",
              "<style scoped>\n",
              "    .dataframe tbody tr th:only-of-type {\n",
              "        vertical-align: middle;\n",
              "    }\n",
              "\n",
              "    .dataframe tbody tr th {\n",
              "        vertical-align: top;\n",
              "    }\n",
              "\n",
              "    .dataframe thead th {\n",
              "        text-align: right;\n",
              "    }\n",
              "</style>\n",
              "<table border=\"1\" class=\"dataframe\">\n",
              "  <thead>\n",
              "    <tr style=\"text-align: right;\">\n",
              "      <th></th>\n",
              "      <th>번호</th>\n",
              "      <th>이름</th>\n",
              "      <th>성별</th>\n",
              "    </tr>\n",
              "  </thead>\n",
              "  <tbody>\n",
              "    <tr>\n",
              "      <th>0</th>\n",
              "      <td>1</td>\n",
              "      <td>홍길동</td>\n",
              "      <td>남</td>\n",
              "    </tr>\n",
              "    <tr>\n",
              "      <th>1</th>\n",
              "      <td>2</td>\n",
              "      <td>이순신</td>\n",
              "      <td>남</td>\n",
              "    </tr>\n",
              "    <tr>\n",
              "      <th>2</th>\n",
              "      <td>3</td>\n",
              "      <td>심순이</td>\n",
              "      <td>여</td>\n",
              "    </tr>\n",
              "  </tbody>\n",
              "</table>\n",
              "</div>\n",
              "      <button class=\"colab-df-convert\" onclick=\"convertToInteractive('df-17fc979b-f5f4-4c6d-90d8-8978fe3b894d')\"\n",
              "              title=\"Convert this dataframe to an interactive table.\"\n",
              "              style=\"display:none;\">\n",
              "        \n",
              "  <svg xmlns=\"http://www.w3.org/2000/svg\" height=\"24px\"viewBox=\"0 0 24 24\"\n",
              "       width=\"24px\">\n",
              "    <path d=\"M0 0h24v24H0V0z\" fill=\"none\"/>\n",
              "    <path d=\"M18.56 5.44l.94 2.06.94-2.06 2.06-.94-2.06-.94-.94-2.06-.94 2.06-2.06.94zm-11 1L8.5 8.5l.94-2.06 2.06-.94-2.06-.94L8.5 2.5l-.94 2.06-2.06.94zm10 10l.94 2.06.94-2.06 2.06-.94-2.06-.94-.94-2.06-.94 2.06-2.06.94z\"/><path d=\"M17.41 7.96l-1.37-1.37c-.4-.4-.92-.59-1.43-.59-.52 0-1.04.2-1.43.59L10.3 9.45l-7.72 7.72c-.78.78-.78 2.05 0 2.83L4 21.41c.39.39.9.59 1.41.59.51 0 1.02-.2 1.41-.59l7.78-7.78 2.81-2.81c.8-.78.8-2.07 0-2.86zM5.41 20L4 18.59l7.72-7.72 1.47 1.35L5.41 20z\"/>\n",
              "  </svg>\n",
              "      </button>\n",
              "      \n",
              "  <style>\n",
              "    .colab-df-container {\n",
              "      display:flex;\n",
              "      flex-wrap:wrap;\n",
              "      gap: 12px;\n",
              "    }\n",
              "\n",
              "    .colab-df-convert {\n",
              "      background-color: #E8F0FE;\n",
              "      border: none;\n",
              "      border-radius: 50%;\n",
              "      cursor: pointer;\n",
              "      display: none;\n",
              "      fill: #1967D2;\n",
              "      height: 32px;\n",
              "      padding: 0 0 0 0;\n",
              "      width: 32px;\n",
              "    }\n",
              "\n",
              "    .colab-df-convert:hover {\n",
              "      background-color: #E2EBFA;\n",
              "      box-shadow: 0px 1px 2px rgba(60, 64, 67, 0.3), 0px 1px 3px 1px rgba(60, 64, 67, 0.15);\n",
              "      fill: #174EA6;\n",
              "    }\n",
              "\n",
              "    [theme=dark] .colab-df-convert {\n",
              "      background-color: #3B4455;\n",
              "      fill: #D2E3FC;\n",
              "    }\n",
              "\n",
              "    [theme=dark] .colab-df-convert:hover {\n",
              "      background-color: #434B5C;\n",
              "      box-shadow: 0px 1px 3px 1px rgba(0, 0, 0, 0.15);\n",
              "      filter: drop-shadow(0px 1px 2px rgba(0, 0, 0, 0.3));\n",
              "      fill: #FFFFFF;\n",
              "    }\n",
              "  </style>\n",
              "\n",
              "      <script>\n",
              "        const buttonEl =\n",
              "          document.querySelector('#df-17fc979b-f5f4-4c6d-90d8-8978fe3b894d button.colab-df-convert');\n",
              "        buttonEl.style.display =\n",
              "          google.colab.kernel.accessAllowed ? 'block' : 'none';\n",
              "\n",
              "        async function convertToInteractive(key) {\n",
              "          const element = document.querySelector('#df-17fc979b-f5f4-4c6d-90d8-8978fe3b894d');\n",
              "          const dataTable =\n",
              "            await google.colab.kernel.invokeFunction('convertToInteractive',\n",
              "                                                     [key], {});\n",
              "          if (!dataTable) return;\n",
              "\n",
              "          const docLinkHtml = 'Like what you see? Visit the ' +\n",
              "            '<a target=\"_blank\" href=https://colab.research.google.com/notebooks/data_table.ipynb>data table notebook</a>'\n",
              "            + ' to learn more about interactive tables.';\n",
              "          element.innerHTML = '';\n",
              "          dataTable['output_type'] = 'display_data';\n",
              "          await google.colab.output.renderOutput(dataTable, element);\n",
              "          const docLink = document.createElement('div');\n",
              "          docLink.innerHTML = docLinkHtml;\n",
              "          element.appendChild(docLink);\n",
              "        }\n",
              "      </script>\n",
              "    </div>\n",
              "  </div>\n",
              "  "
            ],
            "text/plain": [
              "   번호   이름 성별\n",
              "0   1  홍길동  남\n",
              "1   2  이순신  남\n",
              "2   3  심순이  여"
            ]
          },
          "metadata": {},
          "execution_count": 112
        }
      ]
    },
    {
      "cell_type": "markdown",
      "source": [
        "### 튜플형\n",
        "- 리스트형 자료와 도동일 but 수정 불가능\n",
        "- 자료 추가 가능\n",
        "- 변수 = (인수, 인수, 인수, ...)\n",
        "\n",
        "=> 로그인 정보, 등에 사용 "
      ],
      "metadata": {
        "id": "39K11XP8z-JU"
      }
    },
    {
      "cell_type": "code",
      "source": [
        "aa=(10, 20, 30)\n",
        "print(aa[0])\n",
        "# aa[1]=25 # 에러!! 값변경 -> 에러/수정 불가능! "
      ],
      "metadata": {
        "id": "41NhX3Mb0Hru"
      },
      "execution_count": null,
      "outputs": []
    },
    {
      "cell_type": "markdown",
      "source": [
        "### 딕셔너리형\n",
        "- 복합자료형\n",
        "- 입력시 중괄호( {} ) 묶어서 입력\n",
        "- 딕셔너리 변수 = {\"key1\":값1, }\n",
        "- key: \"대표이름\"\n",
        "- 값: key가 가리키는 값, 숫자/문자/리스트/딕셔너리 등 \n",
        "- 키와 값이 1:1 / 키를 주고 리스트로 값들 / 인수의 개수들이 동일해야 함! \n",
        "---------\n",
        "- .keys() 키 이름만 출력\n",
        "- .values() 값 전체 출력 "
      ],
      "metadata": {
        "id": "mpDdzbANrbfX"
      }
    },
    {
      "cell_type": "code",
      "source": [
        "dict1 = {\"번호\":1, \"이름\":\"홍길동\", \"성별\":\"남\", \"국어\":100}\n",
        "dict2 = {\"번호\":[1,2,3,4,5,], \n",
        "         \"이름\":[\"AAA\",\"BBB\", \"CCC\", \"DDD\", \"EEE\" ],\n",
        "         \"성별\":[\"남\",\"여\",\"남\",\"여\",\"남\" ],\n",
        "         \"국어\":[100,95,85,75,80]\n",
        "         }      \n",
        "# 구조 뭐든 상관 없음 \n",
        "# 키값 - 1:1 구조\n",
        "# 키값 - 리스트 구조\n",
        "# 키값 - 리스트 - 키값 구조  \n",
        "\n",
        "print(dict1.keys()) # 키 이름 출력\n",
        "print(dict1.values()) # 값 전체 출력\n",
        "print()\n",
        "print(dict2.keys())\n",
        "print(dict2.values())\n",
        "print()\n",
        "print(dict2[\"이름\"]) # 특정 키에 해당하는 값만 출력"
      ],
      "metadata": {
        "colab": {
          "base_uri": "https://localhost:8080/"
        },
        "id": "YPi7d3W5rdqR",
        "outputId": "953de363-b608-441f-d648-bbd396ecfe3e"
      },
      "execution_count": null,
      "outputs": [
        {
          "output_type": "stream",
          "name": "stdout",
          "text": [
            "dict_keys(['번호', '이름', '성별', '국어'])\n",
            "dict_values([1, '홍길동', '남', 100])\n",
            "\n",
            "dict_keys(['번호', '이름', '성별', '국어'])\n",
            "dict_values([[1, 2, 3, 4, 5], ['AAA', 'BBB', 'CCC', 'DDD', 'EEE'], ['남', '여', '남', '여', '남'], [100, 95, 85, 75, 80]])\n",
            "\n",
            "['AAA', 'BBB', 'CCC', 'DDD', 'EEE']\n"
          ]
        }
      ]
    },
    {
      "cell_type": "code",
      "source": [
        "# pandas를 이용한 데이터 프레임 구조 변경\n",
        "# impot 위에서 해줘서 안해줘도 됨\n",
        "\n",
        "df1 = pd.DataFrame(dict2)\n",
        "df1"
      ],
      "metadata": {
        "colab": {
          "base_uri": "https://localhost:8080/",
          "height": 206
        },
        "id": "-g_3V-rk13se",
        "outputId": "2a10b4d6-9f0b-4750-8c41-6dca34accf00"
      },
      "execution_count": null,
      "outputs": [
        {
          "output_type": "execute_result",
          "data": {
            "text/html": [
              "\n",
              "  <div id=\"df-1790aa43-c1fa-48aa-b90d-7a385c6de6be\">\n",
              "    <div class=\"colab-df-container\">\n",
              "      <div>\n",
              "<style scoped>\n",
              "    .dataframe tbody tr th:only-of-type {\n",
              "        vertical-align: middle;\n",
              "    }\n",
              "\n",
              "    .dataframe tbody tr th {\n",
              "        vertical-align: top;\n",
              "    }\n",
              "\n",
              "    .dataframe thead th {\n",
              "        text-align: right;\n",
              "    }\n",
              "</style>\n",
              "<table border=\"1\" class=\"dataframe\">\n",
              "  <thead>\n",
              "    <tr style=\"text-align: right;\">\n",
              "      <th></th>\n",
              "      <th>번호</th>\n",
              "      <th>이름</th>\n",
              "      <th>성별</th>\n",
              "      <th>국어</th>\n",
              "    </tr>\n",
              "  </thead>\n",
              "  <tbody>\n",
              "    <tr>\n",
              "      <th>0</th>\n",
              "      <td>1</td>\n",
              "      <td>AAA</td>\n",
              "      <td>남</td>\n",
              "      <td>100</td>\n",
              "    </tr>\n",
              "    <tr>\n",
              "      <th>1</th>\n",
              "      <td>2</td>\n",
              "      <td>BBB</td>\n",
              "      <td>여</td>\n",
              "      <td>95</td>\n",
              "    </tr>\n",
              "    <tr>\n",
              "      <th>2</th>\n",
              "      <td>3</td>\n",
              "      <td>CCC</td>\n",
              "      <td>남</td>\n",
              "      <td>85</td>\n",
              "    </tr>\n",
              "    <tr>\n",
              "      <th>3</th>\n",
              "      <td>4</td>\n",
              "      <td>DDD</td>\n",
              "      <td>여</td>\n",
              "      <td>75</td>\n",
              "    </tr>\n",
              "    <tr>\n",
              "      <th>4</th>\n",
              "      <td>5</td>\n",
              "      <td>EEE</td>\n",
              "      <td>남</td>\n",
              "      <td>80</td>\n",
              "    </tr>\n",
              "  </tbody>\n",
              "</table>\n",
              "</div>\n",
              "      <button class=\"colab-df-convert\" onclick=\"convertToInteractive('df-1790aa43-c1fa-48aa-b90d-7a385c6de6be')\"\n",
              "              title=\"Convert this dataframe to an interactive table.\"\n",
              "              style=\"display:none;\">\n",
              "        \n",
              "  <svg xmlns=\"http://www.w3.org/2000/svg\" height=\"24px\"viewBox=\"0 0 24 24\"\n",
              "       width=\"24px\">\n",
              "    <path d=\"M0 0h24v24H0V0z\" fill=\"none\"/>\n",
              "    <path d=\"M18.56 5.44l.94 2.06.94-2.06 2.06-.94-2.06-.94-.94-2.06-.94 2.06-2.06.94zm-11 1L8.5 8.5l.94-2.06 2.06-.94-2.06-.94L8.5 2.5l-.94 2.06-2.06.94zm10 10l.94 2.06.94-2.06 2.06-.94-2.06-.94-.94-2.06-.94 2.06-2.06.94z\"/><path d=\"M17.41 7.96l-1.37-1.37c-.4-.4-.92-.59-1.43-.59-.52 0-1.04.2-1.43.59L10.3 9.45l-7.72 7.72c-.78.78-.78 2.05 0 2.83L4 21.41c.39.39.9.59 1.41.59.51 0 1.02-.2 1.41-.59l7.78-7.78 2.81-2.81c.8-.78.8-2.07 0-2.86zM5.41 20L4 18.59l7.72-7.72 1.47 1.35L5.41 20z\"/>\n",
              "  </svg>\n",
              "      </button>\n",
              "      \n",
              "  <style>\n",
              "    .colab-df-container {\n",
              "      display:flex;\n",
              "      flex-wrap:wrap;\n",
              "      gap: 12px;\n",
              "    }\n",
              "\n",
              "    .colab-df-convert {\n",
              "      background-color: #E8F0FE;\n",
              "      border: none;\n",
              "      border-radius: 50%;\n",
              "      cursor: pointer;\n",
              "      display: none;\n",
              "      fill: #1967D2;\n",
              "      height: 32px;\n",
              "      padding: 0 0 0 0;\n",
              "      width: 32px;\n",
              "    }\n",
              "\n",
              "    .colab-df-convert:hover {\n",
              "      background-color: #E2EBFA;\n",
              "      box-shadow: 0px 1px 2px rgba(60, 64, 67, 0.3), 0px 1px 3px 1px rgba(60, 64, 67, 0.15);\n",
              "      fill: #174EA6;\n",
              "    }\n",
              "\n",
              "    [theme=dark] .colab-df-convert {\n",
              "      background-color: #3B4455;\n",
              "      fill: #D2E3FC;\n",
              "    }\n",
              "\n",
              "    [theme=dark] .colab-df-convert:hover {\n",
              "      background-color: #434B5C;\n",
              "      box-shadow: 0px 1px 3px 1px rgba(0, 0, 0, 0.15);\n",
              "      filter: drop-shadow(0px 1px 2px rgba(0, 0, 0, 0.3));\n",
              "      fill: #FFFFFF;\n",
              "    }\n",
              "  </style>\n",
              "\n",
              "      <script>\n",
              "        const buttonEl =\n",
              "          document.querySelector('#df-1790aa43-c1fa-48aa-b90d-7a385c6de6be button.colab-df-convert');\n",
              "        buttonEl.style.display =\n",
              "          google.colab.kernel.accessAllowed ? 'block' : 'none';\n",
              "\n",
              "        async function convertToInteractive(key) {\n",
              "          const element = document.querySelector('#df-1790aa43-c1fa-48aa-b90d-7a385c6de6be');\n",
              "          const dataTable =\n",
              "            await google.colab.kernel.invokeFunction('convertToInteractive',\n",
              "                                                     [key], {});\n",
              "          if (!dataTable) return;\n",
              "\n",
              "          const docLinkHtml = 'Like what you see? Visit the ' +\n",
              "            '<a target=\"_blank\" href=https://colab.research.google.com/notebooks/data_table.ipynb>data table notebook</a>'\n",
              "            + ' to learn more about interactive tables.';\n",
              "          element.innerHTML = '';\n",
              "          dataTable['output_type'] = 'display_data';\n",
              "          await google.colab.output.renderOutput(dataTable, element);\n",
              "          const docLink = document.createElement('div');\n",
              "          docLink.innerHTML = docLinkHtml;\n",
              "          element.appendChild(docLink);\n",
              "        }\n",
              "      </script>\n",
              "    </div>\n",
              "  </div>\n",
              "  "
            ],
            "text/plain": [
              "   번호   이름 성별   국어\n",
              "0   1  AAA  남  100\n",
              "1   2  BBB  여   95\n",
              "2   3  CCC  남   85\n",
              "3   4  DDD  여   75\n",
              "4   5  EEE  남   80"
            ]
          },
          "metadata": {},
          "execution_count": 119
        }
      ]
    },
    {
      "cell_type": "code",
      "source": [
        ""
      ],
      "metadata": {
        "id": "FVJdAJrzdRAf"
      },
      "execution_count": null,
      "outputs": []
    }
  ]
}
