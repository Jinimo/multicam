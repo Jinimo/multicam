{
  "nbformat": 4,
  "nbformat_minor": 0,
  "metadata": {
    "colab": {
      "name": "2_기본문법_반복문_for_0307.ipynb",
      "provenance": [],
      "collapsed_sections": [],
      "mount_file_id": "1ZbBLJPZrD4PcVaStPt3we_28YoMlC88a",
      "authorship_tag": "ABX9TyNepw1VrhovX41Rb+EdjVzB",
      "include_colab_link": true
    },
    "kernelspec": {
      "name": "python3",
      "display_name": "Python 3"
    },
    "language_info": {
      "name": "python"
    }
  },
  "cells": [
    {
      "cell_type": "markdown",
      "metadata": {
        "id": "view-in-github",
        "colab_type": "text"
      },
      "source": [
        "<a href=\"https://colab.research.google.com/github/Jinimo/Multi_/blob/main/2022.03/2_%EA%B8%B0%EB%B3%B8%EB%AC%B8%EB%B2%95_%EB%B0%98%EB%B3%B5%EB%AC%B8_for_0307.ipynb\" target=\"_parent\"><img src=\"https://colab.research.google.com/assets/colab-badge.svg\" alt=\"Open In Colab\"/></a>"
      ]
    },
    {
      "cell_type": "code",
      "source": [
        "# 구글 드라이브 마운트(드라이브 연결)\n",
        "from google.colab import drive\n",
        "drive.mount('/content/drive')"
      ],
      "metadata": {
        "colab": {
          "base_uri": "https://localhost:8080/"
        },
        "id": "HLNnY2ITKpGe",
        "outputId": "19288f58-0770-4997-dacd-d00bcf8b4e76"
      },
      "execution_count": null,
      "outputs": [
        {
          "output_type": "stream",
          "name": "stdout",
          "text": [
            "Drive already mounted at /content/drive; to attempt to forcibly remount, call drive.mount(\"/content/drive\", force_remount=True).\n"
          ]
        }
      ]
    },
    {
      "cell_type": "code",
      "source": [
        "%cd/content/drive/MyDrive/multi"
      ],
      "metadata": {
        "colab": {
          "base_uri": "https://localhost:8080/"
        },
        "id": "bLnuhIDrEz9r",
        "outputId": "820902bc-c94f-4d5e-8062-5b80044a5673"
      },
      "execution_count": null,
      "outputs": [
        {
          "output_type": "stream",
          "name": "stdout",
          "text": [
            "/content/drive/MyDrive/multi\n"
          ]
        }
      ]
    },
    {
      "cell_type": "markdown",
      "source": [
        "### 반복문 (** for)\n",
        "- 데이터 구조에서 주로 for문 많이 사용\n",
        "- 데이터의 끝을 아는 상황에서 쓰임\n",
        "- for - 유한반복 / while - 무한방법\n",
        "- for 변수 in 갹체명: 실행문 -> 나열형, 스퀀시 구조 객체 (주로 list, tuple) \n",
        "- for i in rnage(): 실행문 -> 숫자 범위가 변수에 들어감, 나열형인데 꼬여있어? \n",
        "- 데이터 많으면 속도의 차이 발생\n",
        "\n",
        "- whle 조건식: -> 만족할때 까지 무한 반복 / 데이터의 끝을 모르는 상황에서 쓰임"
      ],
      "metadata": {
        "id": "a4XpOUDsBwIW"
      }
    },
    {
      "cell_type": "code",
      "source": [
        "name = [\"서정동\", \"김이프\", \"심순이\", \"박찬식\", \"홍순준\"]\n",
        "age = [50, 40, 30, 20, 10]\n",
        "\n",
        "# name 객체 이용한 출력\n",
        "# format() 함수 이용한 출력 \n",
        "print(name[0],\"님! 안녕하세요.\")\n",
        "print(name[1],\"님! 안녕하세요.\")\n",
        "print(name[2],\"님! 안녕하세요.\")\n",
        "print(name[3],\"님! 안녕하세요.\")\n",
        "print(name[4],\"님! 안녕하세요.\")\n",
        "# 데이터 처리가 너무 많아! -> for 문 사용하기"
      ],
      "metadata": {
        "colab": {
          "base_uri": "https://localhost:8080/"
        },
        "id": "0SOmiPNkB9Wu",
        "outputId": "37d03c0a-065c-4351-bd07-feafafb58383"
      },
      "execution_count": null,
      "outputs": [
        {
          "output_type": "stream",
          "name": "stdout",
          "text": [
            "서정동 님! 안녕하세요.\n",
            "김이프 님! 안녕하세요.\n",
            "심순이 님! 안녕하세요.\n",
            "박찬식 님! 안녕하세요.\n",
            "홍순준 님! 안녕하세요.\n"
          ]
        }
      ]
    },
    {
      "cell_type": "code",
      "source": [
        "for nm in name: # name리스트의 값들을 변수 nm으로 지정\n",
        "  print(\"{0}님~ 안녕하세요\".format(nm)) \n",
        "  # 리스트 name에서 0번째 값부터 차례로 출력 \n",
        "\n",
        "print(\"==== END ====\")"
      ],
      "metadata": {
        "colab": {
          "base_uri": "https://localhost:8080/"
        },
        "id": "dZiw5AimFGum",
        "outputId": "eb59dcdc-00fe-4ee9-ec2a-4df8d43b71eb"
      },
      "execution_count": null,
      "outputs": [
        {
          "output_type": "stream",
          "name": "stdout",
          "text": [
            "서정동님~ 안녕하세요\n",
            "김이프님~ 안녕하세요\n",
            "심순이님~ 안녕하세요\n",
            "박찬식님~ 안녕하세요\n",
            "홍순준님~ 안녕하세요\n",
            "==== END ====\n"
          ]
        }
      ]
    },
    {
      "cell_type": "code",
      "source": [
        "print(name[0],\"님의 나이는\", age[0], \"입니다.\")\n",
        "print(\"----------\")\n",
        "\n",
        "print(\"{1}님의 나이는 {0}세입니다.\".format(age[0],name[0]))\n",
        "\n",
        "print(\"----------\")\n",
        "print(f\"{name[0]}님의 나이는 {age[0]}세 입니다.\")\n",
        "print(f\"{name[1]}님의 나이는 {age[1]}세 입니다.\")"
      ],
      "metadata": {
        "colab": {
          "base_uri": "https://localhost:8080/"
        },
        "id": "zZ4DtyYRF_DP",
        "outputId": "738c5e74-d7d6-4ef1-e5c2-c0a91c30411f"
      },
      "execution_count": null,
      "outputs": [
        {
          "output_type": "stream",
          "name": "stdout",
          "text": [
            "서정동 님의 나이는 50 입니다.\n",
            "----------\n",
            "서정동님의 나이는 50세입니다.\n",
            "----------\n",
            "서정동님의 나이는 50세 입니다.\n",
            "김이프님의 나이는 40세 입니다.\n"
          ]
        }
      ]
    },
    {
      "cell_type": "code",
      "source": [
        "# range() 함수 활용\n",
        "# list() : 입력된 데이터를 리스트 구조로 변경 -> 결과값 [, , ,] 형태\n",
        "\n",
        "print(list(range(10))) #0부터 10개의 정수 데이터 생성 , 입력 숫자 -1 한 값에서 종료한다!\n",
        "print(list(range(5, 10))) #0부터 10개의 정수를 생성하고, 5 부터 출력\n",
        "print(list(range(1, 10, 2))) #0부터 10개의 정수를 생성하고, 1부터 2씩 증가하면서 출력\n",
        "# 불연속적인 숫자를 출력할떄 쓰임\n",
        "# 시작값 \n",
        "# 증감 설정 가능 "
      ],
      "metadata": {
        "colab": {
          "base_uri": "https://localhost:8080/"
        },
        "id": "YoHkg3q8EhXL",
        "outputId": "065ba232-5276-44ac-adac-25594873140a"
      },
      "execution_count": null,
      "outputs": [
        {
          "output_type": "stream",
          "name": "stdout",
          "text": [
            "[0, 1, 2, 3, 4, 5, 6, 7, 8, 9]\n",
            "[5, 6, 7, 8, 9]\n",
            "[1, 3, 5, 7, 9]\n"
          ]
        }
      ]
    },
    {
      "cell_type": "code",
      "source": [
        "for i in range(5):\n",
        "  print(f\"{name[i]}님의 나이는 {age[i]}세 입니다.\") \n",
        "  # format ->{} 안 필요한 대상 넣어주기\n",
        "  # .format(A[], B[])\n",
        "  # f\"{A[]} {B[]}\" -> 중괄호 안에 값 직업 입력\n",
        "  # i = 0 0 / i = 1 1 / .../ i = 4 4\n",
        "print(\"=== END ===\") # 들여쓰기 X -> for문의 명령 끝나고 출력\n",
        "\n",
        "print(\"--------------\")\n",
        "\n",
        "for i in range(5):\n",
        "  print(f\"{name[i]}님의 나이는 {age[i]}세 입니다.\")\n",
        "  print(\"=== END ===\") # 들여쓰기 O -> for문 안에 있어서 한 명령 끝날 때 마다 출력됨."
      ],
      "metadata": {
        "colab": {
          "base_uri": "https://localhost:8080/"
        },
        "id": "0_sVbFAeIqE3",
        "outputId": "f4544093-dc16-40eb-cee1-1c2600d9168b"
      },
      "execution_count": null,
      "outputs": [
        {
          "output_type": "stream",
          "name": "stdout",
          "text": [
            "서정동님의 나이는 50세 입니다.\n",
            "김이프님의 나이는 40세 입니다.\n",
            "심순이님의 나이는 30세 입니다.\n",
            "박찬식님의 나이는 20세 입니다.\n",
            "홍순준님의 나이는 10세 입니다.\n",
            "=== END ===\n",
            "--------------\n",
            "서정동님의 나이는 50세 입니다.\n",
            "=== END ===\n",
            "김이프님의 나이는 40세 입니다.\n",
            "=== END ===\n",
            "심순이님의 나이는 30세 입니다.\n",
            "=== END ===\n",
            "박찬식님의 나이는 20세 입니다.\n",
            "=== END ===\n",
            "홍순준님의 나이는 10세 입니다.\n",
            "=== END ===\n"
          ]
        }
      ]
    },
    {
      "cell_type": "code",
      "source": [
        "# len(변수) : 변수의 입력된 데이터 개수 출력  \n",
        "# rang(5) 처럼 ()안에 구체적인 범위의 값 안넣어줘도 됨.\n",
        "\n",
        "print(len(name)) # name 변수 입력된 데이터 개수 출력\n",
        " \n",
        "for i in range(len(name)): # name age 상관 X\n",
        "  print(f\"{name[i]}님의 나이는 {age[i]}세 입니다.\")\n",
        "\n",
        "print(\"=== END ===\")"
      ],
      "metadata": {
        "colab": {
          "base_uri": "https://localhost:8080/"
        },
        "id": "TT-xXDsOHpjh",
        "outputId": "618dd82d-8334-42ea-b046-5035f8a4c709"
      },
      "execution_count": null,
      "outputs": [
        {
          "output_type": "stream",
          "name": "stdout",
          "text": [
            "5\n",
            "서정동님의 나이는 50세 입니다.\n",
            "김이프님의 나이는 40세 입니다.\n",
            "심순이님의 나이는 30세 입니다.\n",
            "박찬식님의 나이는 20세 입니다.\n",
            "홍순준님의 나이는 10세 입니다.\n",
            "=== END ===\n"
          ]
        }
      ]
    },
    {
      "cell_type": "markdown",
      "source": [
        "#### Pillow 이미지 처리 모듈\n",
        "- 참조: https://pillow.readthedocs.io/en/stable/index.html\n",
        "- 특정 모듈 사용시 해당 사이트가서 인스통, 어떤식으로 써야하는지 다양한 모듈 찾아서 사용"
      ],
      "metadata": {
        "id": "UXdRgRa6PV_A"
      }
    },
    {
      "cell_type": "code",
      "source": [
        "# 기본적으로 코랩에는 다 들어가있어. \n",
        "# 오류나는 경우 Pillow 모듈 설치하기 -> !pip install Pillow\n",
        "\n",
        "# 모듈 연결\n",
        "from PIL import Image # PIL. 의 특정 모듈에서 Image만 import 연결\n",
        "\n",
        "# 이미지 열기\n",
        "#상대 경로 -> 위에서 multi 디렉토리 이미 지정 -> ./ 뒤에 디렉토리 적으면 됨 \n",
        "tmp = Image.open('./0307/data/pic1.jpg') \n",
        "# 절대 경로 \n",
        "# tmp = Image.open('/content/drive/MyDrive/multi/0307/data/pic1.jpg')\n",
        "\n",
        "# 이미지 잘 열였는지 이미지 크기(속성) 출력\n",
        "print(tmp.size)"
      ],
      "metadata": {
        "colab": {
          "base_uri": "https://localhost:8080/"
        },
        "id": "cWBP4N7IP6oA",
        "outputId": "98cf4760-20b2-473a-f6f3-74812d4a5965"
      },
      "execution_count": null,
      "outputs": [
        {
          "output_type": "stream",
          "name": "stdout",
          "text": [
            "(512, 271)\n"
          ]
        }
      ]
    },
    {
      "cell_type": "code",
      "source": [
        "tmp = Image.open('./0307/data/pic1.jpg') \n",
        "print(tmp.size)\n",
        "tmp = Image.open('./0307/data/pic2.jpg') \n",
        "print(tmp.size)\n",
        "tmp = Image.open('./0307/data/pic3.jpg') \n",
        "print(tmp.size)"
      ],
      "metadata": {
        "colab": {
          "base_uri": "https://localhost:8080/"
        },
        "id": "pwMet4B1RNVw",
        "outputId": "99656eb6-9ec0-4d82-9c7a-96ab02488f03"
      },
      "execution_count": null,
      "outputs": [
        {
          "output_type": "stream",
          "name": "stdout",
          "text": [
            "(512, 271)\n",
            "(630, 338)\n",
            "(275, 183)\n"
          ]
        }
      ]
    },
    {
      "cell_type": "code",
      "source": [
        "# 파일 개수가 많아진다면? \n",
        "# 변수 리스트 지정 -> for문 사용하기\n",
        "fnames = [\"pic1\",\"pic2\",\"pic3\"]\n",
        "\n",
        "print('./0307/data/' + fnames[0] + '.jpg')\n",
        "\n",
        "print()\n",
        "\n",
        "for fname in fnames:\n",
        "  print('./0307/data/' + fname + '.jpg') # 리스트 fmames의 변수에따라 값 출력\n",
        "\n",
        "print('=== end ===')"
      ],
      "metadata": {
        "colab": {
          "base_uri": "https://localhost:8080/"
        },
        "id": "C-BIwicyUVXG",
        "outputId": "a6b2ef32-84e7-4736-ac0a-88365c908556"
      },
      "execution_count": null,
      "outputs": [
        {
          "output_type": "stream",
          "name": "stdout",
          "text": [
            "./0307/data/pic1.jpg\n",
            "\n",
            "./0307/data/pic1.jpg\n",
            "./0307/data/pic2.jpg\n",
            "./0307/data/pic3.jpg\n",
            "=== end ===\n"
          ]
        }
      ]
    },
    {
      "cell_type": "code",
      "source": [
        "# for문을 이용한 이미지 출력\n",
        "fnames = [\"pic1\",\"pic2\",\"pic3\"]\n",
        "\n",
        "for fname in fnames:\n",
        "  tmp = Image.open('./0307/data/' + fname + '.jpg')\n",
        "  print(tmp.size)\n",
        "\n",
        "print('=== END ===')"
      ],
      "metadata": {
        "colab": {
          "base_uri": "https://localhost:8080/"
        },
        "id": "jWJVwFCFU_x7",
        "outputId": "dd23db85-84f8-423b-e64d-5705828194d7"
      },
      "execution_count": null,
      "outputs": [
        {
          "output_type": "stream",
          "name": "stdout",
          "text": [
            "(512, 271)\n",
            "(630, 338)\n",
            "(275, 183)\n",
            "=== END ===\n"
          ]
        }
      ]
    },
    {
      "cell_type": "code",
      "source": [
        "# 기존 이미지 사이즈를 200*200으로 수정 후 저장 (pic1_200.jpg)\n",
        "fnames = [\"pic1\",\"pic2\",\"pic3\"]\n",
        "\n",
        "tmp = Image.open('./0307/data/' + fnames[0] + '.jpg') # 첫번째 파일 읽어오기\n",
        "print(tmp.size)\n",
        "\n",
        "tmpResize = tmp.resize((200,200)) # 이미지 사이즈 변경\n",
        "tmpResize.save('./0307/data/' + fnames[0] + '._200.jpg') \n",
        "# 여기 출력값으로는 안보이지만 드라이브에 사이즈 변경되어 저장됨.\n",
        "# \n",
        "print('=== End ===')"
      ],
      "metadata": {
        "colab": {
          "base_uri": "https://localhost:8080/"
        },
        "id": "igNdqvBGWnPP",
        "outputId": "09a7cce3-5712-47ee-ed3f-3fa3d17d39bf"
      },
      "execution_count": null,
      "outputs": [
        {
          "output_type": "stream",
          "name": "stdout",
          "text": [
            "(512, 271)\n",
            "=== End ===\n"
          ]
        }
      ]
    },
    {
      "cell_type": "code",
      "source": [
        "# 원본 이미지 사이즈 리스트 변수에 저장 \n",
        "# 전체 이미지 사이즈를 200*200으로 수정 후 저장\n",
        "\n",
        "fnames = [\"pic1\", \"pic2\",\"pic3\"]  # 데이터가 있는 리스트 변수 선언\n",
        "imgsize =[]  # 리스트 형식의 변수 생성 -> 데이터는 없음. 메모리에 영역 만들어줌\n",
        "\n",
        "for fname in fnames:\n",
        "    tmp = Image.open('./0307/data/' + fname + '.jpg')\n",
        "    imgsize.append(tmp.size) # append() -> 변수 끝에 데이터 추가\n",
        "  # append 하기 전에 변수 리스트 만들어줘야 해 !!! \n",
        "  # => 위에 데이터 없는 imgsize =[] 생성 \n",
        "\n",
        "    tmpResize = tmp.resize((200,200)) # 이미지 사이즈 변경\n",
        "    tmpResize.save('./0307/data/' + fname + '._200.jpg') \n",
        "\n",
        "print('-------------')\n",
        "\n",
        "print(imgsize)\n"
      ],
      "metadata": {
        "colab": {
          "base_uri": "https://localhost:8080/"
        },
        "id": "oZF3LoGYXSZq",
        "outputId": "73506895-8572-4c98-9a39-70ea54acff58"
      },
      "execution_count": null,
      "outputs": [
        {
          "output_type": "stream",
          "name": "stdout",
          "text": [
            "-------------\n",
            "[(512, 271), (630, 338), (275, 183)]\n"
          ]
        }
      ]
    },
    {
      "cell_type": "code",
      "source": [
        "import pandas as pd\n",
        "\n",
        "df1=pd.DataFrame(imgsize, columns=[\"가로\", \"세로\"])\n",
        "df1"
      ],
      "metadata": {
        "colab": {
          "base_uri": "https://localhost:8080/",
          "height": 143
        },
        "id": "TFh2gUzzZO7b",
        "outputId": "bfae840b-4688-4112-c2eb-75665528e344"
      },
      "execution_count": null,
      "outputs": [
        {
          "output_type": "execute_result",
          "data": {
            "text/html": [
              "\n",
              "  <div id=\"df-766b0cfc-4a45-4f08-b915-659d295d4325\">\n",
              "    <div class=\"colab-df-container\">\n",
              "      <div>\n",
              "<style scoped>\n",
              "    .dataframe tbody tr th:only-of-type {\n",
              "        vertical-align: middle;\n",
              "    }\n",
              "\n",
              "    .dataframe tbody tr th {\n",
              "        vertical-align: top;\n",
              "    }\n",
              "\n",
              "    .dataframe thead th {\n",
              "        text-align: right;\n",
              "    }\n",
              "</style>\n",
              "<table border=\"1\" class=\"dataframe\">\n",
              "  <thead>\n",
              "    <tr style=\"text-align: right;\">\n",
              "      <th></th>\n",
              "      <th>가로</th>\n",
              "      <th>세로</th>\n",
              "    </tr>\n",
              "  </thead>\n",
              "  <tbody>\n",
              "    <tr>\n",
              "      <th>0</th>\n",
              "      <td>512</td>\n",
              "      <td>271</td>\n",
              "    </tr>\n",
              "    <tr>\n",
              "      <th>1</th>\n",
              "      <td>630</td>\n",
              "      <td>338</td>\n",
              "    </tr>\n",
              "    <tr>\n",
              "      <th>2</th>\n",
              "      <td>275</td>\n",
              "      <td>183</td>\n",
              "    </tr>\n",
              "  </tbody>\n",
              "</table>\n",
              "</div>\n",
              "      <button class=\"colab-df-convert\" onclick=\"convertToInteractive('df-766b0cfc-4a45-4f08-b915-659d295d4325')\"\n",
              "              title=\"Convert this dataframe to an interactive table.\"\n",
              "              style=\"display:none;\">\n",
              "        \n",
              "  <svg xmlns=\"http://www.w3.org/2000/svg\" height=\"24px\"viewBox=\"0 0 24 24\"\n",
              "       width=\"24px\">\n",
              "    <path d=\"M0 0h24v24H0V0z\" fill=\"none\"/>\n",
              "    <path d=\"M18.56 5.44l.94 2.06.94-2.06 2.06-.94-2.06-.94-.94-2.06-.94 2.06-2.06.94zm-11 1L8.5 8.5l.94-2.06 2.06-.94-2.06-.94L8.5 2.5l-.94 2.06-2.06.94zm10 10l.94 2.06.94-2.06 2.06-.94-2.06-.94-.94-2.06-.94 2.06-2.06.94z\"/><path d=\"M17.41 7.96l-1.37-1.37c-.4-.4-.92-.59-1.43-.59-.52 0-1.04.2-1.43.59L10.3 9.45l-7.72 7.72c-.78.78-.78 2.05 0 2.83L4 21.41c.39.39.9.59 1.41.59.51 0 1.02-.2 1.41-.59l7.78-7.78 2.81-2.81c.8-.78.8-2.07 0-2.86zM5.41 20L4 18.59l7.72-7.72 1.47 1.35L5.41 20z\"/>\n",
              "  </svg>\n",
              "      </button>\n",
              "      \n",
              "  <style>\n",
              "    .colab-df-container {\n",
              "      display:flex;\n",
              "      flex-wrap:wrap;\n",
              "      gap: 12px;\n",
              "    }\n",
              "\n",
              "    .colab-df-convert {\n",
              "      background-color: #E8F0FE;\n",
              "      border: none;\n",
              "      border-radius: 50%;\n",
              "      cursor: pointer;\n",
              "      display: none;\n",
              "      fill: #1967D2;\n",
              "      height: 32px;\n",
              "      padding: 0 0 0 0;\n",
              "      width: 32px;\n",
              "    }\n",
              "\n",
              "    .colab-df-convert:hover {\n",
              "      background-color: #E2EBFA;\n",
              "      box-shadow: 0px 1px 2px rgba(60, 64, 67, 0.3), 0px 1px 3px 1px rgba(60, 64, 67, 0.15);\n",
              "      fill: #174EA6;\n",
              "    }\n",
              "\n",
              "    [theme=dark] .colab-df-convert {\n",
              "      background-color: #3B4455;\n",
              "      fill: #D2E3FC;\n",
              "    }\n",
              "\n",
              "    [theme=dark] .colab-df-convert:hover {\n",
              "      background-color: #434B5C;\n",
              "      box-shadow: 0px 1px 3px 1px rgba(0, 0, 0, 0.15);\n",
              "      filter: drop-shadow(0px 1px 2px rgba(0, 0, 0, 0.3));\n",
              "      fill: #FFFFFF;\n",
              "    }\n",
              "  </style>\n",
              "\n",
              "      <script>\n",
              "        const buttonEl =\n",
              "          document.querySelector('#df-766b0cfc-4a45-4f08-b915-659d295d4325 button.colab-df-convert');\n",
              "        buttonEl.style.display =\n",
              "          google.colab.kernel.accessAllowed ? 'block' : 'none';\n",
              "\n",
              "        async function convertToInteractive(key) {\n",
              "          const element = document.querySelector('#df-766b0cfc-4a45-4f08-b915-659d295d4325');\n",
              "          const dataTable =\n",
              "            await google.colab.kernel.invokeFunction('convertToInteractive',\n",
              "                                                     [key], {});\n",
              "          if (!dataTable) return;\n",
              "\n",
              "          const docLinkHtml = 'Like what you see? Visit the ' +\n",
              "            '<a target=\"_blank\" href=https://colab.research.google.com/notebooks/data_table.ipynb>data table notebook</a>'\n",
              "            + ' to learn more about interactive tables.';\n",
              "          element.innerHTML = '';\n",
              "          dataTable['output_type'] = 'display_data';\n",
              "          await google.colab.output.renderOutput(dataTable, element);\n",
              "          const docLink = document.createElement('div');\n",
              "          docLink.innerHTML = docLinkHtml;\n",
              "          element.appendChild(docLink);\n",
              "        }\n",
              "      </script>\n",
              "    </div>\n",
              "  </div>\n",
              "  "
            ],
            "text/plain": [
              "    가로   세로\n",
              "0  512  271\n",
              "1  630  338\n",
              "2  275  183"
            ]
          },
          "metadata": {},
          "execution_count": 104
        }
      ]
    },
    {
      "cell_type": "markdown",
      "source": [
        "###[미션]\n",
        "1. \"/data/image/\" 폴더의 강아지 데이터만 읽어오기(range() 이용)\n",
        "2. 가져온 이미지의 size정보 리스트 변수에 저장하기\n",
        "3. 해당 이미지를 300*300으로 변경후 \"/data/\" 폴더에 저장하기\n",
        "4. 이미지 정보 변수와 pandas 모듈의 DataFrame()을 이용해 DataFrame 구조로 저장 후 출력하기"
      ],
      "metadata": {
        "id": "S3IFt9uAe4Xu"
      }
    },
    {
      "cell_type": "code",
      "source": [
        "from PIL import Image \n",
        "import pandas as pd\n",
        "\n",
        "fname = \"강아지\"\n",
        "imgsize = []\n",
        "\n",
        "for fn in range(1,11):\n",
        "  tmp = Image.open('./0307/data/images/' + fname + str(fn) + '.jpg')\n",
        "  imgsize.append(tmp.size)\n",
        "\n",
        "  tmpResize = tmp.resize((300, 300))\n",
        "  tmpResize.save('./0307/data/' + fname + str(fn) + '.jpg')\n",
        "print('=== END ===')\n",
        "\n",
        "print(imgsize)\n",
        "\n",
        "df1=pd.DataFrame(imgsize, columns=[\"가로\", \"세로\"])\n",
        "df1"
      ],
      "metadata": {
        "colab": {
          "base_uri": "https://localhost:8080/",
          "height": 418
        },
        "id": "pgcHwSYucWH6",
        "outputId": "4eff7581-6d0b-47ae-da56-7578e108a2f5"
      },
      "execution_count": null,
      "outputs": [
        {
          "output_type": "stream",
          "name": "stdout",
          "text": [
            "=== END ===\n",
            "[(377, 400), (584, 400), (433, 400), (356, 400), (564, 400), (533, 400), (537, 400), (533, 400), (510, 400), (599, 400)]\n"
          ]
        },
        {
          "output_type": "execute_result",
          "data": {
            "text/html": [
              "\n",
              "  <div id=\"df-a5b6f29e-74f8-45e1-8055-eb30652efb2a\">\n",
              "    <div class=\"colab-df-container\">\n",
              "      <div>\n",
              "<style scoped>\n",
              "    .dataframe tbody tr th:only-of-type {\n",
              "        vertical-align: middle;\n",
              "    }\n",
              "\n",
              "    .dataframe tbody tr th {\n",
              "        vertical-align: top;\n",
              "    }\n",
              "\n",
              "    .dataframe thead th {\n",
              "        text-align: right;\n",
              "    }\n",
              "</style>\n",
              "<table border=\"1\" class=\"dataframe\">\n",
              "  <thead>\n",
              "    <tr style=\"text-align: right;\">\n",
              "      <th></th>\n",
              "      <th>가로</th>\n",
              "      <th>세로</th>\n",
              "    </tr>\n",
              "  </thead>\n",
              "  <tbody>\n",
              "    <tr>\n",
              "      <th>0</th>\n",
              "      <td>377</td>\n",
              "      <td>400</td>\n",
              "    </tr>\n",
              "    <tr>\n",
              "      <th>1</th>\n",
              "      <td>584</td>\n",
              "      <td>400</td>\n",
              "    </tr>\n",
              "    <tr>\n",
              "      <th>2</th>\n",
              "      <td>433</td>\n",
              "      <td>400</td>\n",
              "    </tr>\n",
              "    <tr>\n",
              "      <th>3</th>\n",
              "      <td>356</td>\n",
              "      <td>400</td>\n",
              "    </tr>\n",
              "    <tr>\n",
              "      <th>4</th>\n",
              "      <td>564</td>\n",
              "      <td>400</td>\n",
              "    </tr>\n",
              "    <tr>\n",
              "      <th>5</th>\n",
              "      <td>533</td>\n",
              "      <td>400</td>\n",
              "    </tr>\n",
              "    <tr>\n",
              "      <th>6</th>\n",
              "      <td>537</td>\n",
              "      <td>400</td>\n",
              "    </tr>\n",
              "    <tr>\n",
              "      <th>7</th>\n",
              "      <td>533</td>\n",
              "      <td>400</td>\n",
              "    </tr>\n",
              "    <tr>\n",
              "      <th>8</th>\n",
              "      <td>510</td>\n",
              "      <td>400</td>\n",
              "    </tr>\n",
              "    <tr>\n",
              "      <th>9</th>\n",
              "      <td>599</td>\n",
              "      <td>400</td>\n",
              "    </tr>\n",
              "  </tbody>\n",
              "</table>\n",
              "</div>\n",
              "      <button class=\"colab-df-convert\" onclick=\"convertToInteractive('df-a5b6f29e-74f8-45e1-8055-eb30652efb2a')\"\n",
              "              title=\"Convert this dataframe to an interactive table.\"\n",
              "              style=\"display:none;\">\n",
              "        \n",
              "  <svg xmlns=\"http://www.w3.org/2000/svg\" height=\"24px\"viewBox=\"0 0 24 24\"\n",
              "       width=\"24px\">\n",
              "    <path d=\"M0 0h24v24H0V0z\" fill=\"none\"/>\n",
              "    <path d=\"M18.56 5.44l.94 2.06.94-2.06 2.06-.94-2.06-.94-.94-2.06-.94 2.06-2.06.94zm-11 1L8.5 8.5l.94-2.06 2.06-.94-2.06-.94L8.5 2.5l-.94 2.06-2.06.94zm10 10l.94 2.06.94-2.06 2.06-.94-2.06-.94-.94-2.06-.94 2.06-2.06.94z\"/><path d=\"M17.41 7.96l-1.37-1.37c-.4-.4-.92-.59-1.43-.59-.52 0-1.04.2-1.43.59L10.3 9.45l-7.72 7.72c-.78.78-.78 2.05 0 2.83L4 21.41c.39.39.9.59 1.41.59.51 0 1.02-.2 1.41-.59l7.78-7.78 2.81-2.81c.8-.78.8-2.07 0-2.86zM5.41 20L4 18.59l7.72-7.72 1.47 1.35L5.41 20z\"/>\n",
              "  </svg>\n",
              "      </button>\n",
              "      \n",
              "  <style>\n",
              "    .colab-df-container {\n",
              "      display:flex;\n",
              "      flex-wrap:wrap;\n",
              "      gap: 12px;\n",
              "    }\n",
              "\n",
              "    .colab-df-convert {\n",
              "      background-color: #E8F0FE;\n",
              "      border: none;\n",
              "      border-radius: 50%;\n",
              "      cursor: pointer;\n",
              "      display: none;\n",
              "      fill: #1967D2;\n",
              "      height: 32px;\n",
              "      padding: 0 0 0 0;\n",
              "      width: 32px;\n",
              "    }\n",
              "\n",
              "    .colab-df-convert:hover {\n",
              "      background-color: #E2EBFA;\n",
              "      box-shadow: 0px 1px 2px rgba(60, 64, 67, 0.3), 0px 1px 3px 1px rgba(60, 64, 67, 0.15);\n",
              "      fill: #174EA6;\n",
              "    }\n",
              "\n",
              "    [theme=dark] .colab-df-convert {\n",
              "      background-color: #3B4455;\n",
              "      fill: #D2E3FC;\n",
              "    }\n",
              "\n",
              "    [theme=dark] .colab-df-convert:hover {\n",
              "      background-color: #434B5C;\n",
              "      box-shadow: 0px 1px 3px 1px rgba(0, 0, 0, 0.15);\n",
              "      filter: drop-shadow(0px 1px 2px rgba(0, 0, 0, 0.3));\n",
              "      fill: #FFFFFF;\n",
              "    }\n",
              "  </style>\n",
              "\n",
              "      <script>\n",
              "        const buttonEl =\n",
              "          document.querySelector('#df-a5b6f29e-74f8-45e1-8055-eb30652efb2a button.colab-df-convert');\n",
              "        buttonEl.style.display =\n",
              "          google.colab.kernel.accessAllowed ? 'block' : 'none';\n",
              "\n",
              "        async function convertToInteractive(key) {\n",
              "          const element = document.querySelector('#df-a5b6f29e-74f8-45e1-8055-eb30652efb2a');\n",
              "          const dataTable =\n",
              "            await google.colab.kernel.invokeFunction('convertToInteractive',\n",
              "                                                     [key], {});\n",
              "          if (!dataTable) return;\n",
              "\n",
              "          const docLinkHtml = 'Like what you see? Visit the ' +\n",
              "            '<a target=\"_blank\" href=https://colab.research.google.com/notebooks/data_table.ipynb>data table notebook</a>'\n",
              "            + ' to learn more about interactive tables.';\n",
              "          element.innerHTML = '';\n",
              "          dataTable['output_type'] = 'display_data';\n",
              "          await google.colab.output.renderOutput(dataTable, element);\n",
              "          const docLink = document.createElement('div');\n",
              "          docLink.innerHTML = docLinkHtml;\n",
              "          element.appendChild(docLink);\n",
              "        }\n",
              "      </script>\n",
              "    </div>\n",
              "  </div>\n",
              "  "
            ],
            "text/plain": [
              "    가로   세로\n",
              "0  377  400\n",
              "1  584  400\n",
              "2  433  400\n",
              "3  356  400\n",
              "4  564  400\n",
              "5  533  400\n",
              "6  537  400\n",
              "7  533  400\n",
              "8  510  400\n",
              "9  599  400"
            ]
          },
          "metadata": {},
          "execution_count": 126
        }
      ]
    },
    {
      "cell_type": "code",
      "source": [
        ""
      ],
      "metadata": {
        "id": "8LqW1JbOiCve"
      },
      "execution_count": null,
      "outputs": []
    }
  ]
}
