{
  "nbformat": 4,
  "nbformat_minor": 0,
  "metadata": {
    "colab": {
      "name": "1_함수_0311.ipynb",
      "provenance": [],
      "collapsed_sections": [],
      "authorship_tag": "ABX9TyO/pttIYDn11U2TxiYfnWnX",
      "include_colab_link": true
    },
    "kernelspec": {
      "name": "python3",
      "display_name": "Python 3"
    },
    "language_info": {
      "name": "python"
    }
  },
  "cells": [
    {
      "cell_type": "markdown",
      "metadata": {
        "id": "view-in-github",
        "colab_type": "text"
      },
      "source": [
        "<a href=\"https://colab.research.google.com/github/Jinimo/Multi_/blob/main/%082022.03/Python%20%7C%20%ED%95%A8%EC%88%98%200311\" target=\"_parent\"><img src=\"https://colab.research.google.com/assets/colab-badge.svg\" alt=\"Open In Colab\"/></a>"
      ]
    },
    {
      "cell_type": "markdown",
      "source": [
        "## 함수 \n",
        "- 함수(function)은 일정한 작엄을 수행하는 코드블럭으로, 보통 반복적으로 계속 사용되는 코드들을 함수로 정의하여 사용하게 된다.\n",
        "- 함수의 기본 구조 \n",
        "  - def 함수명(입력파라미터 인수) \n",
        "    - 문장1\n",
        "    - 문장2\n",
        "    - [return 리턴값]\n",
        "- 인수들의 개수는 호출하는 문장의 개수에 따라 달라짐\n"
      ],
      "metadata": {
        "id": "4GWJ0jzNTaRI"
      }
    },
    {
      "cell_type": "markdown",
      "source": [
        "ex 1"
      ],
      "metadata": {
        "id": "MpYIr07LW0BS"
      }
    },
    {
      "cell_type": "code",
      "execution_count": null,
      "metadata": {
        "colab": {
          "base_uri": "https://localhost:8080/"
        },
        "id": "_YOtjkzMTVvv",
        "outputId": "ec82318d-eb4f-4a87-f728-995a137debd6"
      },
      "outputs": [
        {
          "output_type": "stream",
          "name": "stdout",
          "text": [
            "30\n"
          ]
        }
      ],
      "source": [
        "## 함수 예제\n",
        "def add(a, b): # a, b 두 개의 파라미터를 가지는 함수\n",
        "  tot = a + b\n",
        "  return tot\n",
        "  # print(tot) 화면에 뿌려주기만 하려면 print()\n",
        "\n",
        "total = add(10, 20)\n",
        "print (total)\n",
        "# 파라미터 2개인데 호출시 1개만 호출하면 오류!\n",
        "# 파라미터 2개의 값을 가져와야 함!"
      ]
    },
    {
      "cell_type": "markdown",
      "source": [
        "ex 2\n",
        "- 데이터 타입에 따라 영향을 주는 녀석이 다르다!\n",
        "- immutable 객체 -> int, float, \n",
        "- mutable 객체 -> list, dic (스퀀시 형태) "
      ],
      "metadata": {
        "id": "q8LxBzWQW3KM"
      }
    },
    {
      "cell_type": "code",
      "source": [
        "### 함수 생성 ###\n",
        "def f(i, mylist):    \n",
        "  i += 1            # i = i +1 \n",
        "  mylist.append(0)  # 리스트 변수 받아와 맨 마지막에 0을 넣어줌 \n",
        "\n",
        "###################################\n",
        "\n",
        "### 함수 활용 위한 정의 및 호출 ###\n",
        "# 파라미터가 어디서 요청하는지에 따라 달라짐\n",
        "k = 10\n",
        "lst = [1, 2, 5]\n",
        "\n",
        "f(k, lst)            # k -> 1 / myilst -> lst \n",
        "print(k, \"\\n\", lst)\n",
        "\n",
        "print(\"-\"*30)\n",
        "print(f\"k={k} \\nlst = {lst}\")\n",
        "\n",
        "# 결과값 : k=10 \n",
        "#        lst = [1, 2, 5, 0]\n",
        "# 위에서 k = 10 으로 변화 X\n",
        "# mylist는 뒤에 0 생김  \n",
        "# 파라미터가 어떤 \b구성(타입)에 따라 결과 달라져\n",
        "\n",
        "# 메모리 안에서 k=10\n",
        "# lst = 구조적인 요소\n",
        "# 변형된 값을 k에 따로 넣어주지 않으면 안바뀜\n",
        " "
      ],
      "metadata": {
        "colab": {
          "base_uri": "https://localhost:8080/"
        },
        "id": "f7YV1ZIQVLTG",
        "outputId": "b9f8b376-669a-4aec-a3c4-e4a550236066"
      },
      "execution_count": null,
      "outputs": [
        {
          "output_type": "stream",
          "name": "stdout",
          "text": [
            "10 \n",
            " [1, 2, 5, 0]\n",
            "------------------------------\n",
            "k=10 \n",
            "lst = [1, 2, 5, 0]\n"
          ]
        }
      ]
    },
    {
      "cell_type": "markdown",
      "source": [
        "- 입력 파라미터에 기본값(디폴트) 지정해서 움직임"
      ],
      "metadata": {
        "id": "TqjJ1Wg3ZIVa"
      }
    },
    {
      "cell_type": "code",
      "source": [
        "# 1\n",
        "def cal(a, b, c):\n",
        "  return a * b * c\n",
        "result = cal(10, 20, 1)\n",
        "print(result)\n",
        "print(\"-\"*30)\n",
        "\n",
        "# 2\n",
        "# a, b, c 의 인수 필수로 넣어야 하는데 기본값 지정해 놓으면 인수 2개값만 넣어도 됌\n",
        "# 디폴트값 정의해서 움직임\n",
        "def cal(a, b, c = 1):\n",
        "  return a * b * c\n",
        "result = cal(8, 4)\n",
        "print(result)\n"
      ],
      "metadata": {
        "colab": {
          "base_uri": "https://localhost:8080/"
        },
        "id": "fqau2CVkW_qo",
        "outputId": "23cb903f-1487-4bd3-dd31-f873d996e5a1"
      },
      "execution_count": null,
      "outputs": [
        {
          "output_type": "stream",
          "name": "stdout",
          "text": [
            "200\n",
            "------------------------------\n",
            "32\n"
          ]
        }
      ]
    },
    {
      "cell_type": "markdown",
      "source": [
        "- Named Parameter\n",
        "- 파라미터의 이름으로 호출\n",
        "  * 함수 호출 시 \" 파라미터명 = 파라미터값 \"과 같이 정의"
      ],
      "metadata": {
        "id": "_5OoxGtqaJQu"
      }
    },
    {
      "cell_type": "code",
      "source": [
        "# \n",
        "def report(age, name, score):\n",
        "  print(f\"이름:{name}, 나이:{age}, 점수:{score}\")\n",
        "\n",
        "report(\"서정동\", 50, 85)                       # 함수의 각 인수 위치와 호출 인수의 위치가 다른경우\n",
        "report(name = \"서정동\", age = 50, score = 85)  # 인수를 지정해줘서 위치 달라도 원하는 값 나옴\n"
      ],
      "metadata": {
        "colab": {
          "base_uri": "https://localhost:8080/"
        },
        "id": "oJso67nwZadD",
        "outputId": "7504c081-6744-4690-ed5f-4e279c403553"
      },
      "execution_count": null,
      "outputs": [
        {
          "output_type": "stream",
          "name": "stdout",
          "text": [
            "이름:50, 나이:서정동, 점수:85\n",
            "이름:서정동, 나이:50, 점수:85\n"
          ]
        }
      ]
    },
    {
      "cell_type": "markdown",
      "source": [
        "- 가변길이 파라미터 (0 ~ N개 만큼 닫을 수 있음)\n",
        " * *파라미터명 "
      ],
      "metadata": {
        "id": "_SouenVYb9Tf"
      }
    },
    {
      "cell_type": "code",
      "source": [
        "def total (*nums): # *num -> num 앞에 * 붙여 가변적임을 의미\n",
        "  tot = 0\n",
        "  for n in nums:\n",
        "    tot += n\n",
        "  return tot # 여기서 사용한 tot -> 지역변수 / 리턴해줌과 동시에 사라짐/ 다른공간 \n",
        "\n",
        "# tot와 t는 달라\n",
        "t = total(1, 2, 3) # 정의한 인수는 1개(num)인데? 인수 3개(1, 2, 3)? -> 에러!\n",
        "print(t)\n",
        "\n",
        "t = total(1, 2, 3, 5, 7, 10, 9) \n",
        "print(t)"
      ],
      "metadata": {
        "colab": {
          "base_uri": "https://localhost:8080/"
        },
        "id": "eFPH7ZcabMi6",
        "outputId": "f18a263c-c1db-4a52-c587-e1bdf5b1f151"
      },
      "execution_count": null,
      "outputs": [
        {
          "output_type": "stream",
          "name": "stdout",
          "text": [
            "6\n",
            "37\n"
          ]
        }
      ]
    },
    {
      "cell_type": "code",
      "source": [
        ""
      ],
      "metadata": {
        "id": "I0ihp2RhcsBS"
      },
      "execution_count": null,
      "outputs": []
    }
  ]
}
