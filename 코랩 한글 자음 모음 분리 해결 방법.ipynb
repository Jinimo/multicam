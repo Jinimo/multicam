{
  "nbformat": 4,
  "nbformat_minor": 0,
  "metadata": {
    "colab": {
      "name": "4. 한글자음모음분리 해결방법.ipynb",
      "private_outputs": true,
      "provenance": [],
      "collapsed_sections": [],
      "include_colab_link": true
    },
    "kernelspec": {
      "name": "python3",
      "display_name": "Python 3"
    },
    "language_info": {
      "name": "python"
    }
  },
  "cells": [
    {
      "cell_type": "markdown",
      "metadata": {
        "id": "view-in-github",
        "colab_type": "text"
      },
      "source": [
        "<a href=\"https://colab.research.google.com/github/Jinimo/Multi_/blob/main/2022.03/python_%E1%84%92%E1%85%A1%E1%86%AB%E1%84%80%E1%85%B3%E1%86%AF%E1%84%8C%E1%85%A1%E1%84%8B%E1%85%B3%E1%86%B7%E1%84%86%E1%85%A9%E1%84%8B%E1%85%B3%E1%86%B7%E1%84%87%E1%85%AE%E1%86%AB%E1%84%85%E1%85%B5_%E1%84%92%E1%85%A2%E1%84%80%E1%85%A7%E1%86%AF%E1%84%87%E1%85%A1%E1%86%BC%E1%84%87%E1%85%A5%E1%86%B8.ipynb\" target=\"_parent\"><img src=\"https://colab.research.google.com/assets/colab-badge.svg\" alt=\"Open In Colab\"/></a>"
      ]
    },
    {
      "cell_type": "markdown",
      "source": [
        "### 코랩(리눅스)에서 한글 파일명이 자음과 모음으로 분리되는 현상 해결방법\n",
        "from unicodedata import normalize\n",
        "\n",
        "![image.png](data:image/png;base64,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)"
      ],
      "metadata": {
        "id": "togtc7rzQMhX"
      }
    },
    {
      "cell_type": "markdown",
      "source": [
        "- 파일 생성시 리눅스(맥)에서 사용하는 형식 -> 한글 못불러옴\n",
        "- 자음 모음이 따로따로 놀아 \n",
        "-"
      ],
      "metadata": {
        "id": "ErE49edhNDPI"
      }
    },
    {
      "cell_type": "code",
      "execution_count": null,
      "metadata": {
        "id": "apEOpNERP4O5"
      },
      "outputs": [],
      "source": [
        "# 구글 드라이브 연결\n",
        "from google.colab import drive\n",
        "drive.mount('/content/drive')"
      ]
    },
    {
      "cell_type": "code",
      "source": [
        "# 작업 디렉토리로 이동\n",
        "%cd /content/drive/MyDrive/multi/"
      ],
      "metadata": {
        "id": "juBrPFDEQLRM"
      },
      "execution_count": null,
      "outputs": []
    },
    {
      "cell_type": "code",
      "source": [
        "# os 모듈 연결\n",
        "from unicodedata import normalize # 모듈에 모듈 적용\n",
        "import os\n",
        "\n",
        "fnames=os.listdir(\"./0307/data/images/\")"
      ],
      "metadata": {
        "id": "1EoVbM9aQejp"
      },
      "execution_count": null,
      "outputs": []
    },
    {
      "cell_type": "code",
      "source": [
        "print(fnames[0][:3])\n",
        "print(normalize('NFD', fnames[0])[:3])"
      ],
      "metadata": {
        "id": "np1CyKQOQm3h"
      },
      "execution_count": null,
      "outputs": []
    },
    {
      "cell_type": "code",
      "source": [
        "from unicodedata import normalize\n",
        "import os\n",
        "\n",
        "fnames=os.listdir(\"./0307/data/images/\")\n",
        "new_fnames=[]\n",
        "\n",
        "for fname in fnames:\n",
        "    new_fnames.append(normalize('NFD', fname))\n",
        "\n",
        "print(new_fnames)"
      ],
      "metadata": {
        "id": "XRMvWGbcRz-X"
      },
      "execution_count": null,
      "outputs": []
    },
    {
      "cell_type": "code",
      "source": [
        "print(new_fnames[0][:3])"
      ],
      "metadata": {
        "id": "YMuGsQNrTRqA"
      },
      "execution_count": null,
      "outputs": []
    },
    {
      "cell_type": "code",
      "source": [
        "# 데이터 읽어와 정보 저장하기\n",
        "from PIL import Image\n",
        "import pandas as pd\n",
        "\n",
        "imgInfo=[]  # 파일 정보 저장 리스트 변수 생성\n",
        "\n",
        "for fname in new_fnames:\n",
        "    tmp=Image.open(\"./0307/data/images/\"+fname)\n",
        "    tmpsize=tmp.size   # 이미지 사이즈 튜플 형식으로 저장\n",
        "    # 파일정보 변수에 저장\n",
        "    imgInfo.append([fname, tmpsize[0], tmpsize[1]])\n",
        "\n",
        "    # 강아지/고양이 사이즈 변경(강아지_300*300, 고양이_250*250)\n",
        "    if fname[:3] == \"강아지\":\n",
        "        tmpResize=tmp.resize((300,300))\n",
        "    else:\n",
        "        tmpResize=tmp.resize((250,250))\n",
        "\n",
        "    # 변경 이미지 저장\n",
        "    tmpResize.save(\"./0308/\"+fname[:3]+\"/\"+fname) \n",
        "\n",
        "print(imgInfo)\n",
        "print()\n",
        "print(\"=== END ===\")\n",
        "\n",
        "df1=pd.DataFrame(imgInfo, columns=[\"파일명\", \"가로\", \"세로\"])\n",
        "df1\n"
      ],
      "metadata": {
        "id": "IF4FqDJyTTfv"
      },
      "execution_count": null,
      "outputs": []
    },
    {
      "cell_type": "code",
      "source": [
        "xs"
      ],
      "metadata": {
        "id": "DDvmIKWvV5Sh"
      },
      "execution_count": null,
      "outputs": []
    }
  ]
}
